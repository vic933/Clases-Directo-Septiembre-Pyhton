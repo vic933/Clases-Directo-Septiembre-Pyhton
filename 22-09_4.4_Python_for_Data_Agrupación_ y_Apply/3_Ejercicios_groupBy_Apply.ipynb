{
 "cells": [
  {
   "cell_type": "markdown",
   "id": "dff7e89a",
   "metadata": {},
   "source": [
    "### Ejercicio 1 – Precio promedio por barrio\n",
    "\n",
    "Enunciado:\n",
    "\n",
    "Agrupa por barrio y calcula el precio medio de las viviendas. ¿Qué barrio es el más caro en promedio?"
   ]
  },
  {
   "cell_type": "code",
   "execution_count": null,
   "id": "48c5f4e7",
   "metadata": {},
   "outputs": [],
   "source": [
    "import pandas as pd\n",
    "import numpy as np"
   ]
  },
  {
   "cell_type": "code",
   "execution_count": null,
   "id": "fc5643bc",
   "metadata": {},
   "outputs": [],
   "source": [
    "df=pd.read_csv('Dataset_vivienda_en_Madrid.csv')\n",
    "df.sample(5)"
   ]
  },
  {
   "cell_type": "code",
   "execution_count": null,
   "id": "bee10d5b",
   "metadata": {},
   "outputs": [],
   "source": [
    "df_agrupado=df.groupby(\"barrio\")[\"precio\"].mean().sort_values(ascending=False)\n",
    "df_agrupado"
   ]
  },
  {
   "cell_type": "markdown",
   "id": "0de2e16d",
   "metadata": {},
   "source": [
    "### Ejercicio 2 – Precio medio por metro cuadrado\n",
    "\n",
    "Enunciado:\n",
    "\n",
    "Agrega una nueva columna precio_m2 y calcula el promedio de este valor por barrio. Usa groupby + apply."
   ]
  },
  {
   "cell_type": "code",
   "execution_count": null,
   "id": "df75bef5",
   "metadata": {},
   "outputs": [],
   "source": [
    "df[\"precio_m2\"] = round(df[\"precio\"] / df[\"metros_cuadrados\"])\n",
    "df.head(5)\n"
   ]
  },
  {
   "cell_type": "code",
   "execution_count": null,
   "id": "5f55def4",
   "metadata": {},
   "outputs": [],
   "source": [
    "df.groupby(\"barrio\")[\"precio_m2\"].apply(np.mean).sort_values(ascending=False).round()"
   ]
  },
  {
   "cell_type": "markdown",
   "id": "3639ce93",
   "metadata": {},
   "source": [
    "### Ejercicio 3 – Clasificación por cuartiles de precio\n",
    "\n",
    "Enunciado:\n",
    "\n",
    "Agrupa por barrio, calcula el precio promedio y asigna a cada barrio un cuartil (Q1–Q4) según el valor medio."
   ]
  },
  {
   "cell_type": "code",
   "execution_count": null,
   "id": "ca50f21c",
   "metadata": {},
   "outputs": [],
   "source": [
    "precio_prom = df.groupby(\"barrio\")[\"precio\"].mean()\n",
    "precio_prom\n"
   ]
  },
  {
   "cell_type": "code",
   "execution_count": null,
   "id": "cccafe29",
   "metadata": {},
   "outputs": [],
   "source": [
    "cuartiles = pd.qcut(precio_prom, q=4, labels=[\"Q1\", \"Q2\", \"Q3\", \"Q4\"])\n",
    "cuartiles\n"
   ]
  },
  {
   "cell_type": "code",
   "execution_count": null,
   "id": "424eee66",
   "metadata": {},
   "outputs": [],
   "source": [
    "df['barrio']"
   ]
  },
  {
   "cell_type": "code",
   "execution_count": null,
   "id": "5334b389",
   "metadata": {},
   "outputs": [],
   "source": [
    "df[\"cuartil_barrio\"] = df[\"barrio\"].map(cuartiles)\n"
   ]
  },
  {
   "cell_type": "code",
   "execution_count": null,
   "id": "b4d4a2aa",
   "metadata": {},
   "outputs": [],
   "source": [
    "df.head(5)"
   ]
  },
  {
   "cell_type": "markdown",
   "id": "4097e32c",
   "metadata": {},
   "source": [
    "### Ejercicio 4 – Detectar viviendas “anómalas” en su barrio\n",
    "\n",
    "Enunciado:\n",
    "\n",
    "Una vivienda es “anómala” si su precio se aleja más de 2 desviaciones estándar del promedio de su barrio. Crea una nueva columna que indique esto."
   ]
  },
  {
   "cell_type": "code",
   "execution_count": null,
   "id": "e5bf8bf2",
   "metadata": {},
   "outputs": [],
   "source": [
    "def detectar_anomalias(grupo):\n",
    "    media = grupo[\"precio\"].mean()\n",
    "    std = grupo[\"precio\"].std()\n",
    "    return grupo[\"precio\"].apply(lambda x: abs(x - media) < 2 * std)\n",
    "\n"
   ]
  },
  {
   "cell_type": "code",
   "execution_count": null,
   "id": "7bb6516a",
   "metadata": {},
   "outputs": [],
   "source": [
    "df[\"anomalia\"] = df.groupby(\"barrio\").apply(detectar_anomalias).reset_index(drop=True)\n"
   ]
  },
  {
   "cell_type": "code",
   "execution_count": null,
   "id": "56b29c1c",
   "metadata": {},
   "outputs": [],
   "source": [
    "df_anomalas = df[df[\"anomalia\"] == True]\n",
    "df_anomalas"
   ]
  },
  {
   "cell_type": "markdown",
   "id": "d8c0703d",
   "metadata": {},
   "source": [
    "### Ejercicio 5 – Mapa con folium: precios por color\n",
    "\n",
    "Enunciado:\n",
    "\n",
    "Crea un mapa con folium donde cada vivienda tenga un color según su precio:\n",
    "\n",
    "Verde: <300.000 €\n",
    "\n",
    "Naranja: 300.000–600.000 €\n",
    "\n",
    "Rojo: >600.000 €"
   ]
  },
  {
   "cell_type": "code",
   "execution_count": null,
   "id": "9f228f46",
   "metadata": {},
   "outputs": [],
   "source": [
    "import folium\n",
    "\n",
    "def color_precio(precio):\n",
    "    if precio < 300000:\n",
    "        return \"green\"\n",
    "    elif precio < 600000:\n",
    "        return \"orange\"\n",
    "    else:\n",
    "        return \"red\""
   ]
  },
  {
   "cell_type": "code",
   "execution_count": null,
   "id": "2c587619",
   "metadata": {},
   "outputs": [],
   "source": [
    "mapa = folium.Map(location=[40.4168, -3.7038], zoom_start=12)"
   ]
  },
  {
   "cell_type": "code",
   "execution_count": null,
   "id": "ebd34be3",
   "metadata": {},
   "outputs": [],
   "source": [
    "df.head()"
   ]
  },
  {
   "cell_type": "code",
   "execution_count": null,
   "id": "33590180",
   "metadata": {},
   "outputs": [],
   "source": [
    "for _, fila in df.iterrows():\n",
    "    folium.CircleMarker(\n",
    "        location=[fila['latitud'], fila['longitud']],\n",
    "        radius=5,\n",
    "        color=color_precio(fila['precio']),\n",
    "        fill=True,\n",
    "        fill_opacity=0.6,\n",
    "        popup=f\"Barrio:{fila['barrio']} -Precio: {fila['precio']} € - Habitaciones:{fila['habitaciones']}, - Baños{fila['baños']}\"\n",
    "    ).add_to(mapa)\n",
    "\n",
    "mapa.save(\"mapa_colores_precio.html\")"
   ]
  },
  {
   "cell_type": "markdown",
   "id": "f5aa00b2",
   "metadata": {},
   "source": [
    "### Ejercicio 6 – Mapa de calor de viviendas caras\n",
    "\n",
    "Enunciado:\n",
    "\n",
    "Crea un mapa de calor con folium.plugins.HeatMap que indique la concentración de viviendas con precio superior a 600.000 €."
   ]
  },
  {
   "cell_type": "code",
   "execution_count": null,
   "id": "d493025d",
   "metadata": {},
   "outputs": [],
   "source": [
    "from folium.plugins import HeatMap\n",
    "\n",
    "mapa_calor = folium.Map(location=[40.4168, -3.7038], zoom_start=12)#localiacion madrid"
   ]
  },
  {
   "cell_type": "code",
   "execution_count": null,
   "id": "9106abe8",
   "metadata": {},
   "outputs": [],
   "source": [
    "data_heat = df[df[\"precio\"] > 600000][[\"latitud\", \"longitud\"]].values.tolist()\n",
    "data_heat"
   ]
  },
  {
   "cell_type": "code",
   "execution_count": null,
   "id": "a24a1195",
   "metadata": {},
   "outputs": [],
   "source": [
    "HeatMap(data_heat, radius=15, blur=10).add_to(mapa_calor)\n",
    "mapa_calor.save(\"mapa_calor_viviendas_caras.html\")"
   ]
  },
  {
   "cell_type": "markdown",
   "id": "eecc5c25",
   "metadata": {},
   "source": [
    "### Ejercicio 7 – Vivienda más barata por barrio\n",
    "\n",
    "Enunciado:\n",
    "\n",
    "Encuentra la vivienda más barata de cada barrio (precio mínimo). Muestra su ubicación en un mapa."
   ]
  },
  {
   "cell_type": "code",
   "execution_count": null,
   "id": "466411dc",
   "metadata": {},
   "outputs": [],
   "source": [
    "viviendas_baratas = df.loc[df.groupby(\"barrio\")[\"precio\"].idxmin()]\n",
    "viviendas_baratas\n",
    "\n",
    "\n"
   ]
  },
  {
   "cell_type": "code",
   "execution_count": null,
   "id": "1fd7a82a",
   "metadata": {},
   "outputs": [],
   "source": [
    "mapa_min = folium.Map(location=[40.4168, -3.7038], zoom_start=12)"
   ]
  },
  {
   "cell_type": "code",
   "execution_count": null,
   "id": "6eb75630",
   "metadata": {},
   "outputs": [],
   "source": [
    "for _, row in viviendas_baratas.iterrows():\n",
    "    folium.Marker(\n",
    "        location=[row[\"latitud\"], row[\"longitud\"]],\n",
    "        popup=f\"Barrio:{row['barrio']} -Precio: {row['precio']} € - Habitaciones:{row['habitaciones']}, - Baños{row['baños']}\",\n",
    "        icon=folium.Icon(color=\"blue\", icon=\"home\")\n",
    "    ).add_to(mapa_min)\n",
    "\n"
   ]
  },
  {
   "cell_type": "code",
   "execution_count": null,
   "id": "bbbe61bb",
   "metadata": {},
   "outputs": [],
   "source": [
    "mapa_min.save(\"mapa_viviendas_baratas.html\")"
   ]
  }
 ],
 "metadata": {
  "kernelspec": {
   "display_name": "Python 3",
   "language": "python",
   "name": "python3"
  },
  "language_info": {
   "codemirror_mode": {
    "name": "ipython",
    "version": 3
   },
   "file_extension": ".py",
   "mimetype": "text/x-python",
   "name": "python",
   "nbconvert_exporter": "python",
   "pygments_lexer": "ipython3",
   "version": "3.12.0"
  }
 },
 "nbformat": 4,
 "nbformat_minor": 5
}
