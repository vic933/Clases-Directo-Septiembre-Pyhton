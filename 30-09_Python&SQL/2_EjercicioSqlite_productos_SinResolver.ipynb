{
 "cells": [
  {
   "cell_type": "code",
   "execution_count": 1,
   "metadata": {},
   "outputs": [],
   "source": [
    "import sqlite3\n",
    "from datetime import date "
   ]
  },
  {
   "cell_type": "markdown",
   "metadata": {},
   "source": [
    "---\n",
    "## Paso 1: Crear la Base de Datos y Tablas\n",
    "---\n",
    "#### Conexión a nuestra base de datos:"
   ]
  },
  {
   "cell_type": "code",
   "execution_count": 2,
   "metadata": {},
   "outputs": [],
   "source": [
    "# Crear y conectar a la base de datos SQLite\n",
    "conn = sqlite3.connect('PRODUCTOS.db')\n"
   ]
  },
  {
   "cell_type": "code",
   "execution_count": 3,
   "metadata": {},
   "outputs": [],
   "source": [
    "cursor = conn.cursor()"
   ]
  },
  {
   "cell_type": "code",
   "execution_count": 4,
   "metadata": {},
   "outputs": [],
   "source": [
    "#conn.close() #PAra cerrar la conexion con la BBDD"
   ]
  },
  {
   "cell_type": "markdown",
   "metadata": {},
   "source": [
    "#### Creación de tablas en nuestra base de datos:\n",
    "- **fabricantes:** con información sobre los fabricantes. id_fabricante es clave primaria, nombre, y pais\n",
    "- **categorias:** con las categorías de productos. id_categoria es clave primaria, nombre\n",
    "- **productos:** con detalles de productos. id_productos es clave primaria, nombre,precio,fecha_lanzamiento,fabricante_id,categoria_id\n",
    "- **reseñas:** con las reseñas de clientes. id_reseña es clave primaria,producto_id,puntuacion,comentario,fecha\n",
    "\n",
    "#### **Creación de tablas en nuestra base de datos:** ####\n",
    "- **fabricantes:** con información sobre los fabricantes.\n",
    "- **categorias:** con las categorías de productos.\n",
    "- **productos:** con detalles de productos.\n",
    "- **reseñas:** con las reseñas de clientes.\n",
    "\n",
    "## 📂 Estructura de las Tablas\n",
    "\n",
    "### **1️⃣ Tabla `fabricantes`**\n",
    "Guarda la información de los fabricantes de los productos.\n",
    "\n",
    "| Columna | Tipo de Dato | Descripción y Restricciones |\n",
    "|---------|-------------|----------------------------|\n",
    "| `id` | `INTEGER` | Identificador único del fabricante (`PRIMARY KEY`). |\n",
    "| `nombre` | `TEXT` | Nombre del fabricante (`NOT NULL`). |\n",
    "| `pais` | `TEXT` | País de origen del fabricante (`NOT NULL`). |\n",
    "\n",
    "---\n",
    "\n",
    "### **2️⃣ Tabla `categorias`**\n",
    "Almacena las diferentes categorías en las que se pueden clasificar los productos.\n",
    "\n",
    "| Columna | Tipo de Dato | Descripción y Restricciones |\n",
    "|---------|-------------|----------------------------|\n",
    "| `id` | `INTEGER` | Identificador único de la categoría (`PRIMARY KEY`). |\n",
    "| `nombre` | `TEXT` | Nombre de la categoría (`NOT NULL`). |\n",
    "\n",
    "---\n",
    "\n",
    "### **3️⃣ Tabla `productos`**\n",
    "Guarda información detallada sobre los productos.\n",
    "\n",
    "| Columna | Tipo de Dato | Descripción y Restricciones |\n",
    "|---------|-------------|----------------------------|\n",
    "| `id` | `INTEGER` | Identificador único del producto (`PRIMARY KEY`). |\n",
    "| `nombre` | `TEXT` | Nombre del producto (`NOT NULL`). |\n",
    "| `precio` | `REAL` | Precio del producto en moneda local (`NOT NULL`, **no puede ser negativo**). |\n",
    "| `fecha_lanzamiento` | `DATE` | Fecha de lanzamiento del producto (`NOT NULL`, formato `YYYY-MM-DD`). |\n",
    "| `fabricante_id` | `INTEGER` | Identificador del fabricante (**clave foránea** que referencia `fabricantes.id`). |\n",
    "| `categoria_id` | `INTEGER` | Identificador de la categoría (**clave foránea** que referencia `categorias.id`). |\n",
    "\n",
    "---\n",
    "\n",
    "### **4️⃣ Tabla `reseñas`**\n",
    "Registra las reseñas que los clientes dejan sobre los productos.\n",
    "\n",
    "| Columna | Tipo de Dato | Descripción y Restricciones |\n",
    "|---------|-------------|----------------------------|\n",
    "| `id` | `INTEGER` | Identificador único de la reseña (`PRIMARY KEY`). |\n",
    "| `producto_id` | `INTEGER` | Identificador del producto reseñado (`NOT NULL`, **clave foránea** que referencia `productos.id`). |\n",
    "| `puntuacion` | `INTEGER` | Puntuación dada por el cliente (`NOT NULL`, valores entre **1 y 5**). |\n",
    "| `comentario` | `TEXT` | Comentario opcional del cliente (puede ser `NULL`). |\n",
    "| `fecha` | `DATE` | Fecha de la reseña (`NOT NULL`, formato `YYYY-MM-DD`). |\n"
   ]
  },
  {
   "cell_type": "code",
   "execution_count": 5,
   "metadata": {},
   "outputs": [
    {
     "data": {
      "text/plain": [
       "<sqlite3.Cursor at 0x2bf46e60dc0>"
      ]
     },
     "execution_count": 5,
     "metadata": {},
     "output_type": "execute_result"
    }
   ],
   "source": [
    "# Creación de la tabla de fabricantes\n",
    "cursor.execute(\n",
    "    '''CREATE TABLE IF NOT EXISTS fabricantes(\n",
    "        id INTEGER PRIMARY KEY,\n",
    "        nombre TEXT NOT NULL,\n",
    "        pais TEXT NOT NULL\n",
    "    )'''\n",
    ")"
   ]
  },
  {
   "cell_type": "code",
   "execution_count": 6,
   "metadata": {},
   "outputs": [
    {
     "data": {
      "text/plain": [
       "<sqlite3.Cursor at 0x2bf46e60dc0>"
      ]
     },
     "execution_count": 6,
     "metadata": {},
     "output_type": "execute_result"
    }
   ],
   "source": [
    "# Creación de la tabla de categorías\n",
    "cursor.execute(\n",
    "    '''CREATE TABLE IF NOT EXISTS categorias(\n",
    "        id INTEGER PRIMARY KEY,\n",
    "        nombre TEXT NOT NULL,\n",
    "        pais TEXT NOT NULL\n",
    "    )'''\n",
    ")\n"
   ]
  },
  {
   "cell_type": "code",
   "execution_count": 7,
   "metadata": {},
   "outputs": [],
   "source": [
    "#cursor.execute('''DROP TABLE categorias''')"
   ]
  },
  {
   "cell_type": "code",
   "execution_count": 8,
   "metadata": {},
   "outputs": [
    {
     "data": {
      "text/plain": [
       "<sqlite3.Cursor at 0x2bf46e60dc0>"
      ]
     },
     "execution_count": 8,
     "metadata": {},
     "output_type": "execute_result"
    }
   ],
   "source": [
    "# Creación de la tabla de productos\n",
    "cursor.execute(\n",
    "    '''CREATE TABLE IF NOT EXISTS productos(\n",
    "        id INTEGER PRIMARY KEY,\n",
    "        nombre TEXT NOT NULL,\n",
    "        precio REAL NOT NULL,\n",
    "        fecha_lanzamiento DATE NOT NULL,\n",
    "        fabricante_id INTEGER,\n",
    "        categoria_id INTEGER,\n",
    "        FOREIGN KEY(fabricante_id) REFERENCES fabricantes(id),\n",
    "        FOREIGN KEY(categoria_id) REFERENCES categorias(id)\n",
    "    )'''\n",
    ")"
   ]
  },
  {
   "cell_type": "code",
   "execution_count": 9,
   "metadata": {},
   "outputs": [
    {
     "data": {
      "text/plain": [
       "<sqlite3.Cursor at 0x2bf46e60dc0>"
      ]
     },
     "execution_count": 9,
     "metadata": {},
     "output_type": "execute_result"
    }
   ],
   "source": [
    "# Creación de la tabla de reseñas\n",
    "cursor.execute(\n",
    "    '''CREATE TABLE IF NOT EXISTS reseñas(\n",
    "        id INTEGER PRIMARY KEY,\n",
    "        producto_id INTEGER NOT NULL,\n",
    "        puntuacion INTEGER NOT NULL,\n",
    "        comentario TEXT,\n",
    "        fecha DATE NOT NULL,\n",
    "        FOREIGN KEY (producto_id) REFERENCES producto(id)\n",
    "    )\n",
    "'''\n",
    ")"
   ]
  },
  {
   "cell_type": "code",
   "execution_count": 10,
   "metadata": {},
   "outputs": [],
   "source": [
    "# cursor.execute('''DROP TABLE productos''')\n",
    "# cursor.execute('''DROP TABLE categorias''')\n",
    "# cursor.execute('''DROP TABLE fabricante''')\n",
    "# cursor.execute('''DROP TABLE reseñas''')"
   ]
  },
  {
   "cell_type": "code",
   "execution_count": 11,
   "metadata": {},
   "outputs": [],
   "source": [
    "#cursor.execute('''ALTER TABLE reseñas DROP COLUMN categoria_id''')"
   ]
  },
  {
   "cell_type": "code",
   "execution_count": 12,
   "metadata": {},
   "outputs": [],
   "source": [
    "#conn.close()"
   ]
  },
  {
   "cell_type": "markdown",
   "metadata": {},
   "source": [
    "---\n",
    "## Paso 2: Añadir información en la Base de Datos\n",
    "---"
   ]
  },
  {
   "cell_type": "markdown",
   "metadata": {},
   "source": [
    "#### Insertar datos en las tablas en nuestra base de datos:"
   ]
  },
  {
   "cell_type": "code",
   "execution_count": 13,
   "metadata": {},
   "outputs": [],
   "source": [
    "# Insertar datos en la tabla fabricantes\n",
    "fabricantes = [\n",
    "    (1, \"AI Corp\", \"EE.UU.\"),\n",
    "    (2, \"Tech Innovators\", \"Japón\"),\n",
    "    (3, \"Home Robotics\", \"Alemania\"),\n",
    "    (4, \"Smart Solutions\", \"Francia\"),\n",
    "    (5, \"Voice Masters\", \"Corea del Sur\")\n",
    "]\n",
    "\n"
   ]
  },
  {
   "cell_type": "code",
   "execution_count": 14,
   "metadata": {},
   "outputs": [
    {
     "ename": "IntegrityError",
     "evalue": "UNIQUE constraint failed: fabricantes.id",
     "output_type": "error",
     "traceback": [
      "\u001b[31m---------------------------------------------------------------------------\u001b[39m",
      "\u001b[31mIntegrityError\u001b[39m                            Traceback (most recent call last)",
      "\u001b[36mCell\u001b[39m\u001b[36m \u001b[39m\u001b[32mIn[14]\u001b[39m\u001b[32m, line 1\u001b[39m\n\u001b[32m----> \u001b[39m\u001b[32m1\u001b[39m \u001b[43mcursor\u001b[49m\u001b[43m.\u001b[49m\u001b[43mexecutemany\u001b[49m\u001b[43m(\u001b[49m\u001b[33;43m'\u001b[39;49m\u001b[33;43mINSERT INTO fabricantes VALUES (?,?,?)\u001b[39;49m\u001b[33;43m'\u001b[39;49m\u001b[43m,\u001b[49m\u001b[43mfabricantes\u001b[49m\u001b[43m)\u001b[49m\n",
      "\u001b[31mIntegrityError\u001b[39m: UNIQUE constraint failed: fabricantes.id"
     ]
    }
   ],
   "source": [
    "cursor.executemany('INSERT INTO fabricantes VALUES (?,?,?)',fabricantes)"
   ]
  },
  {
   "cell_type": "code",
   "execution_count": 15,
   "metadata": {},
   "outputs": [],
   "source": [
    "#confirmar los cambios\n",
    "conn.commit()"
   ]
  },
  {
   "cell_type": "code",
   "execution_count": 16,
   "metadata": {},
   "outputs": [
    {
     "ename": "OperationalError",
     "evalue": "no such column: \"pais\"",
     "output_type": "error",
     "traceback": [
      "\u001b[31m---------------------------------------------------------------------------\u001b[39m",
      "\u001b[31mOperationalError\u001b[39m                          Traceback (most recent call last)",
      "\u001b[36mCell\u001b[39m\u001b[36m \u001b[39m\u001b[32mIn[16]\u001b[39m\u001b[32m, line 1\u001b[39m\n\u001b[32m----> \u001b[39m\u001b[32m1\u001b[39m \u001b[43mcursor\u001b[49m\u001b[43m.\u001b[49m\u001b[43mexecute\u001b[49m\u001b[43m(\u001b[49m\u001b[33;43m'''\u001b[39;49m\u001b[33;43mALTER TABLE categorias DROP COLUMN pais\u001b[39;49m\u001b[33;43m'''\u001b[39;49m\u001b[43m)\u001b[49m\n",
      "\u001b[31mOperationalError\u001b[39m: no such column: \"pais\""
     ]
    }
   ],
   "source": [
    "cursor.execute('''ALTER TABLE categorias DROP COLUMN pais''')"
   ]
  },
  {
   "cell_type": "code",
   "execution_count": 17,
   "metadata": {},
   "outputs": [
    {
     "ename": "IntegrityError",
     "evalue": "UNIQUE constraint failed: categorias.id",
     "output_type": "error",
     "traceback": [
      "\u001b[31m---------------------------------------------------------------------------\u001b[39m",
      "\u001b[31mIntegrityError\u001b[39m                            Traceback (most recent call last)",
      "\u001b[36mCell\u001b[39m\u001b[36m \u001b[39m\u001b[32mIn[17]\u001b[39m\u001b[32m, line 7\u001b[39m\n\u001b[32m      1\u001b[39m \u001b[38;5;66;03m# Insertar datos en la tabla categorias\u001b[39;00m\n\u001b[32m      2\u001b[39m categorias = [\n\u001b[32m      3\u001b[39m     (\u001b[32m1\u001b[39m, \u001b[33m\"\u001b[39m\u001b[33mAsistentes de Voz\u001b[39m\u001b[33m\"\u001b[39m),\n\u001b[32m      4\u001b[39m     (\u001b[32m2\u001b[39m, \u001b[33m\"\u001b[39m\u001b[33mRobots de Limpieza\u001b[39m\u001b[33m\"\u001b[39m),\n\u001b[32m      5\u001b[39m     (\u001b[32m3\u001b[39m, \u001b[33m\"\u001b[39m\u001b[33mSeguridad Inteligente\u001b[39m\u001b[33m\"\u001b[39m)\n\u001b[32m      6\u001b[39m ]\n\u001b[32m----> \u001b[39m\u001b[32m7\u001b[39m \u001b[43mcursor\u001b[49m\u001b[43m.\u001b[49m\u001b[43mexecutemany\u001b[49m\u001b[43m(\u001b[49m\u001b[33;43m'\u001b[39;49m\u001b[33;43mINSERT INTO categorias VALUES (?,?)\u001b[39;49m\u001b[33;43m'\u001b[39;49m\u001b[43m,\u001b[49m\u001b[43mcategorias\u001b[49m\u001b[43m)\u001b[49m\n\u001b[32m      8\u001b[39m \u001b[38;5;66;03m#confirmar los cambios\u001b[39;00m\n\u001b[32m      9\u001b[39m conn.commit()\n",
      "\u001b[31mIntegrityError\u001b[39m: UNIQUE constraint failed: categorias.id"
     ]
    }
   ],
   "source": [
    "# Insertar datos en la tabla categorias\n",
    "categorias = [\n",
    "    (1, \"Asistentes de Voz\"),\n",
    "    (2, \"Robots de Limpieza\"),\n",
    "    (3, \"Seguridad Inteligente\")\n",
    "]\n",
    "cursor.executemany('INSERT INTO categorias VALUES (?,?)',categorias)\n",
    "#confirmar los cambios\n",
    "conn.commit()\n"
   ]
  },
  {
   "cell_type": "code",
   "execution_count": 18,
   "metadata": {},
   "outputs": [
    {
     "ename": "IntegrityError",
     "evalue": "UNIQUE constraint failed: productos.id",
     "output_type": "error",
     "traceback": [
      "\u001b[31m---------------------------------------------------------------------------\u001b[39m",
      "\u001b[31mIntegrityError\u001b[39m                            Traceback (most recent call last)",
      "\u001b[36mCell\u001b[39m\u001b[36m \u001b[39m\u001b[32mIn[18]\u001b[39m\u001b[32m, line 9\u001b[39m\n\u001b[32m      1\u001b[39m \u001b[38;5;66;03m# Insertar datos en la tabla productos\u001b[39;00m\n\u001b[32m      2\u001b[39m productos = [\n\u001b[32m      3\u001b[39m     (\u001b[32m1\u001b[39m, \u001b[33m\"\u001b[39m\u001b[33mEcho Dot\u001b[39m\u001b[33m\"\u001b[39m, \u001b[32m49.99\u001b[39m, \u001b[33m\"\u001b[39m\u001b[33m2022-07-20\u001b[39m\u001b[33m\"\u001b[39m, \u001b[32m1\u001b[39m, \u001b[32m1\u001b[39m),\n\u001b[32m      4\u001b[39m     (\u001b[32m2\u001b[39m, \u001b[33m\"\u001b[39m\u001b[33mGoogle Home\u001b[39m\u001b[33m\"\u001b[39m, \u001b[32m89.99\u001b[39m, \u001b[33m\"\u001b[39m\u001b[33m2021-09-10\u001b[39m\u001b[33m\"\u001b[39m, \u001b[32m2\u001b[39m, \u001b[32m1\u001b[39m),\n\u001b[32m   (...)\u001b[39m\u001b[32m      7\u001b[39m     (\u001b[32m5\u001b[39m, \u001b[33m\"\u001b[39m\u001b[33mSamsung Bot\u001b[39m\u001b[33m\"\u001b[39m, \u001b[32m1299.99\u001b[39m, \u001b[33m\"\u001b[39m\u001b[33m2021-11-05\u001b[39m\u001b[33m\"\u001b[39m, \u001b[32m5\u001b[39m, \u001b[32m2\u001b[39m)\n\u001b[32m      8\u001b[39m ]\n\u001b[32m----> \u001b[39m\u001b[32m9\u001b[39m \u001b[43mcursor\u001b[49m\u001b[43m.\u001b[49m\u001b[43mexecutemany\u001b[49m\u001b[43m(\u001b[49m\u001b[33;43m'\u001b[39;49m\u001b[33;43mINSERT INTO productos VALUES (?,?,?,?,?,?)\u001b[39;49m\u001b[33;43m'\u001b[39;49m\u001b[43m,\u001b[49m\u001b[43mproductos\u001b[49m\u001b[43m)\u001b[49m\n\u001b[32m     10\u001b[39m \u001b[38;5;66;03m#confirmar los cambios\u001b[39;00m\n\u001b[32m     11\u001b[39m conn.commit()\n",
      "\u001b[31mIntegrityError\u001b[39m: UNIQUE constraint failed: productos.id"
     ]
    }
   ],
   "source": [
    "# Insertar datos en la tabla productos\n",
    "productos = [\n",
    "    (1, \"Echo Dot\", 49.99, \"2022-07-20\", 1, 1),\n",
    "    (2, \"Google Home\", 89.99, \"2021-09-10\", 2, 1),\n",
    "    (3, \"Roomba S9\", 999.99, \"2020-03-15\", 3, 2),\n",
    "    (4, \"Nest Cam\", 199.99, \"2022-01-10\", 4, 3),\n",
    "    (5, \"Samsung Bot\", 1299.99, \"2021-11-05\", 5, 2)\n",
    "]\n",
    "cursor.executemany('INSERT INTO productos VALUES (?,?,?,?,?,?)',productos)\n",
    "#confirmar los cambios\n",
    "conn.commit()\n"
   ]
  },
  {
   "cell_type": "code",
   "execution_count": 19,
   "metadata": {},
   "outputs": [
    {
     "ename": "IntegrityError",
     "evalue": "UNIQUE constraint failed: reseñas.id",
     "output_type": "error",
     "traceback": [
      "\u001b[31m---------------------------------------------------------------------------\u001b[39m",
      "\u001b[31mIntegrityError\u001b[39m                            Traceback (most recent call last)",
      "\u001b[36mCell\u001b[39m\u001b[36m \u001b[39m\u001b[32mIn[19]\u001b[39m\u001b[32m, line 9\u001b[39m\n\u001b[32m      1\u001b[39m \u001b[38;5;66;03m# Insertar datos en la tabla reseñas\u001b[39;00m\n\u001b[32m      2\u001b[39m reseñas = [\n\u001b[32m      3\u001b[39m     (\u001b[32m1\u001b[39m, \u001b[32m1\u001b[39m,\u001b[32m5\u001b[39m ,\u001b[33m\"\u001b[39m\u001b[33mMuy útil\u001b[39m\u001b[33m\"\u001b[39m, \u001b[33m\"\u001b[39m\u001b[33m2023-02-05\u001b[39m\u001b[33m\"\u001b[39m),\n\u001b[32m      4\u001b[39m     (\u001b[32m2\u001b[39m, \u001b[32m1\u001b[39m, \u001b[32m4\u001b[39m, \u001b[33m\"\u001b[39m\u001b[33mBuena calidad\u001b[39m\u001b[33m\"\u001b[39m, \u001b[33m\"\u001b[39m\u001b[33m2023-03-20\u001b[39m\u001b[33m\"\u001b[39m),\n\u001b[32m   (...)\u001b[39m\u001b[32m      7\u001b[39m     (\u001b[32m5\u001b[39m, \u001b[32m4\u001b[39m, \u001b[32m2\u001b[39m, \u001b[33m\"\u001b[39m\u001b[33mNo muy confiable\u001b[39m\u001b[33m\"\u001b[39m, \u001b[33m\"\u001b[39m\u001b[33m2023-07-01\u001b[39m\u001b[33m\"\u001b[39m)\n\u001b[32m      8\u001b[39m ]\n\u001b[32m----> \u001b[39m\u001b[32m9\u001b[39m \u001b[43mcursor\u001b[49m\u001b[43m.\u001b[49m\u001b[43mexecutemany\u001b[49m\u001b[43m(\u001b[49m\u001b[33;43m\"\u001b[39;49m\u001b[33;43mINSERT INTO reseñas VALUES (?, ?, ?, ?, ?)\u001b[39;49m\u001b[33;43m\"\u001b[39;49m\u001b[43m,\u001b[49m\u001b[43m \u001b[49m\u001b[43mreseñas\u001b[49m\u001b[43m)\u001b[49m\n\u001b[32m     10\u001b[39m \u001b[38;5;66;03m#confirmar los cambios\u001b[39;00m\n\u001b[32m     11\u001b[39m conn.commit()\n",
      "\u001b[31mIntegrityError\u001b[39m: UNIQUE constraint failed: reseñas.id"
     ]
    }
   ],
   "source": [
    "# Insertar datos en la tabla reseñas\n",
    "reseñas = [\n",
    "    (1, 1,5 ,\"Muy útil\", \"2023-02-05\"),\n",
    "    (2, 1, 4, \"Buena calidad\", \"2023-03-20\"),\n",
    "    (3, 2, 3, \"Funciona bien\", \"2023-05-17\"),\n",
    "    (4, 3, 5, \"Excelente para limpiar\", \"2023-06-02\"),\n",
    "    (5, 4, 2, \"No muy confiable\", \"2023-07-01\")\n",
    "]\n",
    "cursor.executemany(\"INSERT INTO reseñas VALUES (?, ?, ?, ?, ?)\", reseñas)\n",
    "#confirmar los cambios\n",
    "conn.commit()\n"
   ]
  },
  {
   "cell_type": "code",
   "execution_count": 20,
   "metadata": {},
   "outputs": [],
   "source": [
    "# Guardar los cambios y cerrar la conexión\n",
    "conn.close()"
   ]
  },
  {
   "cell_type": "markdown",
   "metadata": {},
   "source": [
    "---\n",
    "# EJERCICIOS Y CONSULTAS EN SQL\n",
    "---"
   ]
  },
  {
   "cell_type": "code",
   "execution_count": 21,
   "metadata": {},
   "outputs": [],
   "source": [
    "#conectar a la base de datos SQLite\n",
    "conn = sqlite3.connect('PRODUCTOS.db')\n",
    "cursor = conn.cursor()\n"
   ]
  },
  {
   "cell_type": "markdown",
   "metadata": {},
   "source": [
    "1. Obtener todos los productos."
   ]
  },
  {
   "cell_type": "code",
   "execution_count": 26,
   "metadata": {},
   "outputs": [
    {
     "data": {
      "text/plain": [
       "<sqlite3.Cursor at 0x2bf474e6e40>"
      ]
     },
     "execution_count": 26,
     "metadata": {},
     "output_type": "execute_result"
    }
   ],
   "source": [
    "# Ejecutar la consulta\n",
    "cursor.execute(\n",
    "    '''SELECT * FROM productos'''\n",
    ")\n",
    "# Obtener y mostrar los resultados\n",
    "#cursor.fetchall() # Lo podría guardar como una variable\n"
   ]
  },
  {
   "cell_type": "code",
   "execution_count": 27,
   "metadata": {},
   "outputs": [
    {
     "data": {
      "text/plain": [
       "[(1, 'Echo Dot', 49.99, '2022-07-20', 1, 1),\n",
       " (2, 'Google Home', 89.99, '2021-09-10', 2, 1),\n",
       " (3, 'Roomba S9', 999.99, '2020-03-15', 3, 2),\n",
       " (4, 'Nest Cam', 199.99, '2022-01-10', 4, 3),\n",
       " (5, 'Samsung Bot', 1299.99, '2021-11-05', 5, 2)]"
      ]
     },
     "execution_count": 27,
     "metadata": {},
     "output_type": "execute_result"
    }
   ],
   "source": [
    "consulta_producto = cursor.fetchall()\n",
    "consulta_producto\n"
   ]
  },
  {
   "cell_type": "code",
   "execution_count": 29,
   "metadata": {},
   "outputs": [
    {
     "data": {
      "text/plain": [
       "(5, 'Samsung Bot', 1299.99, '2021-11-05', 5, 2)"
      ]
     },
     "execution_count": 29,
     "metadata": {},
     "output_type": "execute_result"
    }
   ],
   "source": [
    "consulta_producto[4]"
   ]
  },
  {
   "cell_type": "code",
   "execution_count": null,
   "metadata": {},
   "outputs": [],
   "source": []
  },
  {
   "cell_type": "markdown",
   "metadata": {},
   "source": []
  },
  {
   "cell_type": "markdown",
   "metadata": {},
   "source": [
    "2. Obtener todos los productos que tienen un precio mayor a 100."
   ]
  },
  {
   "cell_type": "code",
   "execution_count": null,
   "metadata": {},
   "outputs": [],
   "source": [
    "\n",
    "# Obtener y mostrar los resultados\n",
    "cursor.execute('''SELECT\n"
   ]
  },
  {
   "cell_type": "markdown",
   "metadata": {},
   "source": [
    "3. Contar cuántos productos hay en la base de datos."
   ]
  },
  {
   "cell_type": "code",
   "execution_count": null,
   "metadata": {},
   "outputs": [],
   "source": [
    "\n",
    "# Obtener y mostrar los resultados\n",
    "\n"
   ]
  },
  {
   "cell_type": "markdown",
   "metadata": {},
   "source": [
    "4. Listar los productos lanzados en el año 2022."
   ]
  },
  {
   "cell_type": "code",
   "execution_count": null,
   "metadata": {},
   "outputs": [],
   "source": [
    "\n",
    "# Obtener y mostrar los resultados\n",
    "\n"
   ]
  },
  {
   "cell_type": "code",
   "execution_count": null,
   "metadata": {},
   "outputs": [],
   "source": [
    "\n",
    "# Obtener y mostrar los resultados\n"
   ]
  },
  {
   "cell_type": "markdown",
   "metadata": {},
   "source": [
    "5. Obtener el producto más caro."
   ]
  },
  {
   "cell_type": "code",
   "execution_count": null,
   "metadata": {},
   "outputs": [],
   "source": [
    "# Ejecutar la consulta\n",
    "\n",
    "\n",
    "# Obtener y mostrar los resultados\n"
   ]
  },
  {
   "cell_type": "code",
   "execution_count": null,
   "metadata": {},
   "outputs": [],
   "source": [
    "\n",
    "# Obtener y mostrar los resultados\n"
   ]
  },
  {
   "cell_type": "markdown",
   "metadata": {},
   "source": [
    "6. Calcular el precio promedio de todos los productos."
   ]
  },
  {
   "cell_type": "code",
   "execution_count": null,
   "metadata": {},
   "outputs": [],
   "source": [
    "# Ejecutar la consulta\n",
    "\n",
    "# Obtener y mostrar los resultados\n"
   ]
  },
  {
   "cell_type": "markdown",
   "metadata": {},
   "source": [
    "7. Obtener los productos de la categoría \"Asistentes de Voz\"."
   ]
  },
  {
   "cell_type": "code",
   "execution_count": null,
   "metadata": {},
   "outputs": [],
   "source": [
    "# Ejecutar la consulta\n",
    "\n",
    "\n",
    "# Obtener y mostrar los resultados\n",
    "\n",
    "\n"
   ]
  },
  {
   "cell_type": "markdown",
   "metadata": {},
   "source": [
    "8. Contar cuántos productos tiene cada fabricante."
   ]
  },
  {
   "cell_type": "code",
   "execution_count": null,
   "metadata": {},
   "outputs": [],
   "source": [
    "# Ejecutar la consulta\n",
    "\n",
    "\n",
    "# Obtener y mostrar los resultados\n"
   ]
  },
  {
   "cell_type": "markdown",
   "metadata": {},
   "source": [
    "9. Obtener las reseñas del producto \"Echo Dot\"."
   ]
  },
  {
   "cell_type": "code",
   "execution_count": null,
   "metadata": {},
   "outputs": [],
   "source": [
    "# Ejecutar la consulta\n",
    "\n",
    "\n",
    "# Obtener y mostrar los resultados\n",
    "\n",
    "\n"
   ]
  },
  {
   "cell_type": "markdown",
   "metadata": {},
   "source": [
    "10. Obtener la puntuación promedio de cada producto."
   ]
  },
  {
   "cell_type": "code",
   "execution_count": null,
   "metadata": {},
   "outputs": [],
   "source": [
    "# Ejecutar la consulta\n",
    "\n",
    "\n",
    "# Obtener y mostrar los resultados\n"
   ]
  },
  {
   "cell_type": "markdown",
   "metadata": {},
   "source": [
    "11. Listar los fabricantes y el precio promedio de sus productos."
   ]
  },
  {
   "cell_type": "code",
   "execution_count": null,
   "metadata": {},
   "outputs": [],
   "source": [
    "# Ejecutar la consulta\n",
    "\n",
    "\n",
    "\n",
    "\n",
    "# Obtener y mostrar los resultados\n"
   ]
  },
  {
   "cell_type": "markdown",
   "metadata": {},
   "source": [
    "12. Listar todas las categorías con al menos un producto."
   ]
  },
  {
   "cell_type": "code",
   "execution_count": null,
   "metadata": {},
   "outputs": [],
   "source": [
    "# Ejecutar la consulta\n",
    "\n",
    "\n",
    "# Obtener y mostrar los resultados\n",
    "\n",
    "\n"
   ]
  },
  {
   "cell_type": "markdown",
   "metadata": {},
   "source": [
    "13. Obtener el producto con la menor puntuación en reseñas."
   ]
  },
  {
   "cell_type": "code",
   "execution_count": null,
   "metadata": {},
   "outputs": [],
   "source": [
    "# Ejecutar la consulta\n",
    "\n",
    "\n",
    "# Obtener y mostrar los resultados\n",
    "\n",
    "\n"
   ]
  },
  {
   "cell_type": "markdown",
   "metadata": {},
   "source": [
    "14. Listar las reseñas de productos lanzados en 2021 o después."
   ]
  },
  {
   "cell_type": "code",
   "execution_count": null,
   "metadata": {},
   "outputs": [],
   "source": [
    "# Ejecutar la consulta\n",
    "\n",
    "\n",
    "# Obtener y mostrar los resultados\n"
   ]
  },
  {
   "cell_type": "markdown",
   "metadata": {},
   "source": [
    "15. Contar el total de reseñas por cada producto."
   ]
  },
  {
   "cell_type": "code",
   "execution_count": null,
   "metadata": {},
   "outputs": [],
   "source": [
    "# Ejecutar la consulta\n",
    "\n",
    "\n",
    "# Obtener y mostrar los resultados\n"
   ]
  },
  {
   "cell_type": "markdown",
   "metadata": {},
   "source": [
    "16. Listar los productos que no tienen ninguna reseña."
   ]
  },
  {
   "cell_type": "code",
   "execution_count": null,
   "metadata": {},
   "outputs": [],
   "source": [
    "# Ejecutar la consulta\n",
    "\n",
    "\n",
    "# Obtener y mostrar los resultados\n"
   ]
  },
  {
   "cell_type": "markdown",
   "metadata": {},
   "source": [
    "17. Obtener los productos con una puntuación promedio mayor o igual a 4."
   ]
  },
  {
   "cell_type": "code",
   "execution_count": null,
   "metadata": {},
   "outputs": [],
   "source": [
    "# Ejecutar la consulta\n",
    "\n",
    "# Obtener y mostrar los resultados\n"
   ]
  },
  {
   "cell_type": "markdown",
   "metadata": {},
   "source": [
    "18. Listar todos los productos junto con el país de su fabricante."
   ]
  },
  {
   "cell_type": "code",
   "execution_count": null,
   "metadata": {},
   "outputs": [],
   "source": [
    "# Ejecutar la consulta\n",
    "\n",
    "\n",
    "\n",
    "# Obtener y mostrar los resultados\n"
   ]
  },
  {
   "cell_type": "markdown",
   "metadata": {},
   "source": [
    "19. Obtener la fecha de la última reseña para cada producto."
   ]
  },
  {
   "cell_type": "code",
   "execution_count": null,
   "metadata": {},
   "outputs": [],
   "source": [
    "# Ejecutar la consulta\n",
    "\n",
    "\n",
    "# Obtener y mostrar los resultados\n"
   ]
  },
  {
   "cell_type": "markdown",
   "metadata": {},
   "source": [
    "20. Obtener el número de reseñas por mes para cada producto."
   ]
  },
  {
   "cell_type": "code",
   "execution_count": null,
   "metadata": {},
   "outputs": [],
   "source": [
    "# Ejecutar la consulta\n",
    "\n",
    "# Obtener y mostrar los resultados\n"
   ]
  }
 ],
 "metadata": {
  "kernelspec": {
   "display_name": "Python 3",
   "language": "python",
   "name": "python3"
  },
  "language_info": {
   "codemirror_mode": {
    "name": "ipython",
    "version": 3
   },
   "file_extension": ".py",
   "mimetype": "text/x-python",
   "name": "python",
   "nbconvert_exporter": "python",
   "pygments_lexer": "ipython3",
   "version": "3.12.4"
  }
 },
 "nbformat": 4,
 "nbformat_minor": 2
}
