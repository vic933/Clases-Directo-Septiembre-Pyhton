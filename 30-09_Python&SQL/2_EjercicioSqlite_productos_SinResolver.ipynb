{
 "cells": [
  {
   "cell_type": "code",
   "execution_count": 1,
   "metadata": {},
   "outputs": [],
   "source": [
    "import sqlite3\n",
    "from datetime import date "
   ]
  },
  {
   "cell_type": "markdown",
   "metadata": {},
   "source": [
    "---\n",
    "## Paso 1: Crear la Base de Datos y Tablas\n",
    "---\n",
    "#### Conexión a nuestra base de datos:"
   ]
  },
  {
   "cell_type": "code",
   "execution_count": 2,
   "metadata": {},
   "outputs": [],
   "source": [
    "# Crear y conectar a la base de datos SQLite\n",
    "conn = sqlite3.connect('PRODUCTOS.db')\n"
   ]
  },
  {
   "cell_type": "code",
   "execution_count": 3,
   "metadata": {},
   "outputs": [],
   "source": [
    "cursor = conn.cursor()"
   ]
  },
  {
   "cell_type": "code",
   "execution_count": 4,
   "metadata": {},
   "outputs": [],
   "source": [
    "#conn.close() #PAra cerrar la conexion con la BBDD"
   ]
  },
  {
   "cell_type": "markdown",
   "metadata": {},
   "source": [
    "#### Creación de tablas en nuestra base de datos:\n",
    "- **fabricantes:** con información sobre los fabricantes. id_fabricante es clave primaria, nombre, y pais\n",
    "- **categorias:** con las categorías de productos. id_categoria es clave primaria, nombre\n",
    "- **productos:** con detalles de productos. id_productos es clave primaria, nombre,precio,fecha_lanzamiento,fabricante_id,categoria_id\n",
    "- **reseñas:** con las reseñas de clientes. id_reseña es clave primaria,producto_id,puntuacion,comentario,fecha\n",
    "\n",
    "#### **Creación de tablas en nuestra base de datos:** ####\n",
    "- **fabricantes:** con información sobre los fabricantes.\n",
    "- **categorias:** con las categorías de productos.\n",
    "- **productos:** con detalles de productos.\n",
    "- **reseñas:** con las reseñas de clientes.\n",
    "\n",
    "## 📂 Estructura de las Tablas\n",
    "\n",
    "### **1️⃣ Tabla `fabricantes`**\n",
    "Guarda la información de los fabricantes de los productos.\n",
    "\n",
    "| Columna | Tipo de Dato | Descripción y Restricciones |\n",
    "|---------|-------------|----------------------------|\n",
    "| `id` | `INTEGER` | Identificador único del fabricante (`PRIMARY KEY`). |\n",
    "| `nombre` | `TEXT` | Nombre del fabricante (`NOT NULL`). |\n",
    "| `pais` | `TEXT` | País de origen del fabricante (`NOT NULL`). |\n",
    "\n",
    "---\n",
    "\n",
    "### **2️⃣ Tabla `categorias`**\n",
    "Almacena las diferentes categorías en las que se pueden clasificar los productos.\n",
    "\n",
    "| Columna | Tipo de Dato | Descripción y Restricciones |\n",
    "|---------|-------------|----------------------------|\n",
    "| `id` | `INTEGER` | Identificador único de la categoría (`PRIMARY KEY`). |\n",
    "| `nombre` | `TEXT` | Nombre de la categoría (`NOT NULL`). |\n",
    "\n",
    "---\n",
    "\n",
    "### **3️⃣ Tabla `productos`**\n",
    "Guarda información detallada sobre los productos.\n",
    "\n",
    "| Columna | Tipo de Dato | Descripción y Restricciones |\n",
    "|---------|-------------|----------------------------|\n",
    "| `id` | `INTEGER` | Identificador único del producto (`PRIMARY KEY`). |\n",
    "| `nombre` | `TEXT` | Nombre del producto (`NOT NULL`). |\n",
    "| `precio` | `REAL` | Precio del producto en moneda local (`NOT NULL`, **no puede ser negativo**). |\n",
    "| `fecha_lanzamiento` | `DATE` | Fecha de lanzamiento del producto (`NOT NULL`, formato `YYYY-MM-DD`). |\n",
    "| `fabricante_id` | `INTEGER` | Identificador del fabricante (**clave foránea** que referencia `fabricantes.id`). |\n",
    "| `categoria_id` | `INTEGER` | Identificador de la categoría (**clave foránea** que referencia `categorias.id`). |\n",
    "\n",
    "---\n",
    "\n",
    "### **4️⃣ Tabla `reseñas`**\n",
    "Registra las reseñas que los clientes dejan sobre los productos.\n",
    "\n",
    "| Columna | Tipo de Dato | Descripción y Restricciones |\n",
    "|---------|-------------|----------------------------|\n",
    "| `id` | `INTEGER` | Identificador único de la reseña (`PRIMARY KEY`). |\n",
    "| `producto_id` | `INTEGER` | Identificador del producto reseñado (`NOT NULL`, **clave foránea** que referencia `productos.id`). |\n",
    "| `puntuacion` | `INTEGER` | Puntuación dada por el cliente (`NOT NULL`, valores entre **1 y 5**). |\n",
    "| `comentario` | `TEXT` | Comentario opcional del cliente (puede ser `NULL`). |\n",
    "| `fecha` | `DATE` | Fecha de la reseña (`NOT NULL`, formato `YYYY-MM-DD`). |\n"
   ]
  },
  {
   "cell_type": "code",
   "execution_count": 45,
   "metadata": {},
   "outputs": [
    {
     "data": {
      "text/plain": [
       "<sqlite3.Cursor at 0x1dd34038dc0>"
      ]
     },
     "execution_count": 45,
     "metadata": {},
     "output_type": "execute_result"
    }
   ],
   "source": [
    "# Creación de la tabla de fabricantes\n",
    "cursor.execute(\n",
    "    '''CREATE TABLE IF NOT EXISTS fabricantes(\n",
    "        id INTEGER PRIMARY KEY,\n",
    "        nombre TEXT NOT NULL,\n",
    "        pais TEXT NOT NULL\n",
    "    )'''\n",
    ")"
   ]
  },
  {
   "cell_type": "code",
   "execution_count": 49,
   "metadata": {},
   "outputs": [
    {
     "data": {
      "text/plain": [
       "<sqlite3.Cursor at 0x1dd34038dc0>"
      ]
     },
     "execution_count": 49,
     "metadata": {},
     "output_type": "execute_result"
    }
   ],
   "source": [
    "# Creación de la tabla de categorías\n",
    "cursor.execute(\n",
    "    '''CREATE TABLE IF NOT EXISTS categorias(\n",
    "        id INTEGER PRIMARY KEY,\n",
    "        nombre TEXT NOT NULL,\n",
    "        pais TEXT NOT NULL\n",
    "    )'''\n",
    ")\n"
   ]
  },
  {
   "cell_type": "code",
   "execution_count": null,
   "metadata": {},
   "outputs": [
    {
     "data": {
      "text/plain": [
       "<sqlite3.Cursor at 0x1dd34038dc0>"
      ]
     },
     "execution_count": 48,
     "metadata": {},
     "output_type": "execute_result"
    }
   ],
   "source": [
    "#cursor.execute('''DROP TABLE categorias''')"
   ]
  },
  {
   "cell_type": "code",
   "execution_count": 50,
   "metadata": {},
   "outputs": [
    {
     "data": {
      "text/plain": [
       "<sqlite3.Cursor at 0x1dd34038dc0>"
      ]
     },
     "execution_count": 50,
     "metadata": {},
     "output_type": "execute_result"
    }
   ],
   "source": [
    "# Creación de la tabla de productos\n",
    "cursor.execute(\n",
    "    '''CREATE TABLE IF NOT EXISTS productos(\n",
    "        id INTEGER PRIMARY KEY,\n",
    "        nombre TEXT NOT NULL,\n",
    "        precio REAL NOT NULL,\n",
    "        fecha_lanzamiento DATE NOT NULL,\n",
    "        fabricante_id INTEGER,\n",
    "        categoria_id INTEGER,\n",
    "        FOREIGN KEY(fabricante_id) REFERENCES fabricantes(id),\n",
    "        FOREIGN KEY(categoria_id) REFERENCES categorias(id)\n",
    "    )'''\n",
    ")"
   ]
  },
  {
   "cell_type": "code",
   "execution_count": 51,
   "metadata": {},
   "outputs": [
    {
     "data": {
      "text/plain": [
       "<sqlite3.Cursor at 0x1dd34038dc0>"
      ]
     },
     "execution_count": 51,
     "metadata": {},
     "output_type": "execute_result"
    }
   ],
   "source": [
    "# Creación de la tabla de reseñas\n",
    "cursor.execute(\n",
    "    '''CREATE TABLE IF NOT EXISTS reseñas(\n",
    "        id INTEGER PRIMARY KEY,\n",
    "        producto_id INTEGER NOT NULL,\n",
    "        puntuacion INTEGER NOT NULL,\n",
    "        comentario TEXT,\n",
    "        fecha DATE NOT NULL,\n",
    "        FOREIGN KEY (producto_id) REFERENCES producto(id)\n",
    "    )\n",
    "'''\n",
    ")"
   ]
  },
  {
   "cell_type": "code",
   "execution_count": 10,
   "metadata": {},
   "outputs": [],
   "source": [
    "# cursor.execute('''DROP TABLE productos''')\n",
    "# cursor.execute('''DROP TABLE categorias''')\n",
    "# cursor.execute('''DROP TABLE fabricante''')\n",
    "# cursor.execute('''DROP TABLE reseñas''')"
   ]
  },
  {
   "cell_type": "code",
   "execution_count": 11,
   "metadata": {},
   "outputs": [],
   "source": [
    "#cursor.execute('''ALTER TABLE reseñas DROP COLUMN categoria_id''')"
   ]
  },
  {
   "cell_type": "code",
   "execution_count": 12,
   "metadata": {},
   "outputs": [],
   "source": [
    "#conn.close()"
   ]
  },
  {
   "cell_type": "markdown",
   "metadata": {},
   "source": [
    "---\n",
    "## Paso 2: Añadir información en la Base de Datos\n",
    "---"
   ]
  },
  {
   "cell_type": "markdown",
   "metadata": {},
   "source": [
    "#### Insertar datos en las tablas en nuestra base de datos:"
   ]
  },
  {
   "cell_type": "code",
   "execution_count": null,
   "metadata": {},
   "outputs": [],
   "source": []
  },
  {
   "cell_type": "code",
   "execution_count": 13,
   "metadata": {},
   "outputs": [],
   "source": [
    "# Insertar datos en la tabla fabricantes\n",
    "\n"
   ]
  },
  {
   "cell_type": "code",
   "execution_count": null,
   "metadata": {},
   "outputs": [],
   "source": []
  },
  {
   "cell_type": "code",
   "execution_count": 14,
   "metadata": {},
   "outputs": [],
   "source": [
    "#confirmar los cambios"
   ]
  },
  {
   "cell_type": "code",
   "execution_count": 15,
   "metadata": {},
   "outputs": [],
   "source": [
    "# Insertar datos en la tabla categorias\n",
    "\n"
   ]
  },
  {
   "cell_type": "code",
   "execution_count": 16,
   "metadata": {},
   "outputs": [],
   "source": [
    "#confirmar los cambios"
   ]
  },
  {
   "cell_type": "code",
   "execution_count": 17,
   "metadata": {},
   "outputs": [],
   "source": [
    "# Insertar datos en la tabla productos\n",
    "\n"
   ]
  },
  {
   "cell_type": "code",
   "execution_count": 18,
   "metadata": {},
   "outputs": [],
   "source": [
    "#confirmar los cambios"
   ]
  },
  {
   "cell_type": "code",
   "execution_count": 19,
   "metadata": {},
   "outputs": [],
   "source": [
    "# Insertar datos en la tabla reseñas\n",
    "\n"
   ]
  },
  {
   "cell_type": "code",
   "execution_count": null,
   "metadata": {},
   "outputs": [],
   "source": []
  },
  {
   "cell_type": "code",
   "execution_count": 20,
   "metadata": {},
   "outputs": [],
   "source": [
    "# Guardar los cambios y cerrar la conexión\n"
   ]
  },
  {
   "cell_type": "markdown",
   "metadata": {},
   "source": [
    "---\n",
    "# EJERCICIOS Y CONSULTAS EN SQL\n",
    "---"
   ]
  },
  {
   "cell_type": "code",
   "execution_count": 21,
   "metadata": {},
   "outputs": [],
   "source": [
    "#conectar a la base de datos SQLite\n"
   ]
  },
  {
   "cell_type": "markdown",
   "metadata": {},
   "source": [
    "1. Obtener todos los productos."
   ]
  },
  {
   "cell_type": "code",
   "execution_count": 22,
   "metadata": {},
   "outputs": [],
   "source": [
    "# Ejecutar la consulta\n",
    "\n",
    "# Obtener y mostrar los resultados\n"
   ]
  },
  {
   "cell_type": "markdown",
   "metadata": {},
   "source": [
    "2. Obtener todos los productos que tienen un precio mayor a 100."
   ]
  },
  {
   "cell_type": "code",
   "execution_count": 23,
   "metadata": {},
   "outputs": [],
   "source": [
    "\n",
    "# Obtener y mostrar los resultados\n",
    "\n"
   ]
  },
  {
   "cell_type": "markdown",
   "metadata": {},
   "source": [
    "3. Contar cuántos productos hay en la base de datos."
   ]
  },
  {
   "cell_type": "code",
   "execution_count": 24,
   "metadata": {},
   "outputs": [],
   "source": [
    "\n",
    "# Obtener y mostrar los resultados\n",
    "\n"
   ]
  },
  {
   "cell_type": "markdown",
   "metadata": {},
   "source": [
    "4. Listar los productos lanzados en el año 2022."
   ]
  },
  {
   "cell_type": "code",
   "execution_count": 25,
   "metadata": {},
   "outputs": [],
   "source": [
    "\n",
    "# Obtener y mostrar los resultados\n",
    "\n"
   ]
  },
  {
   "cell_type": "code",
   "execution_count": 26,
   "metadata": {},
   "outputs": [],
   "source": [
    "\n",
    "# Obtener y mostrar los resultados\n"
   ]
  },
  {
   "cell_type": "markdown",
   "metadata": {},
   "source": [
    "5. Obtener el producto más caro."
   ]
  },
  {
   "cell_type": "code",
   "execution_count": 27,
   "metadata": {},
   "outputs": [],
   "source": [
    "# Ejecutar la consulta\n",
    "\n",
    "\n",
    "# Obtener y mostrar los resultados\n"
   ]
  },
  {
   "cell_type": "code",
   "execution_count": 28,
   "metadata": {},
   "outputs": [],
   "source": [
    "\n",
    "# Obtener y mostrar los resultados\n"
   ]
  },
  {
   "cell_type": "markdown",
   "metadata": {},
   "source": [
    "6. Calcular el precio promedio de todos los productos."
   ]
  },
  {
   "cell_type": "code",
   "execution_count": 29,
   "metadata": {},
   "outputs": [],
   "source": [
    "# Ejecutar la consulta\n",
    "\n",
    "# Obtener y mostrar los resultados\n"
   ]
  },
  {
   "cell_type": "markdown",
   "metadata": {},
   "source": [
    "7. Obtener los productos de la categoría \"Asistentes de Voz\"."
   ]
  },
  {
   "cell_type": "code",
   "execution_count": 30,
   "metadata": {},
   "outputs": [],
   "source": [
    "# Ejecutar la consulta\n",
    "\n",
    "\n",
    "# Obtener y mostrar los resultados\n",
    "\n",
    "\n"
   ]
  },
  {
   "cell_type": "markdown",
   "metadata": {},
   "source": [
    "8. Contar cuántos productos tiene cada fabricante."
   ]
  },
  {
   "cell_type": "code",
   "execution_count": 31,
   "metadata": {},
   "outputs": [],
   "source": [
    "# Ejecutar la consulta\n",
    "\n",
    "\n",
    "# Obtener y mostrar los resultados\n"
   ]
  },
  {
   "cell_type": "markdown",
   "metadata": {},
   "source": [
    "9. Obtener las reseñas del producto \"Echo Dot\"."
   ]
  },
  {
   "cell_type": "code",
   "execution_count": 32,
   "metadata": {},
   "outputs": [],
   "source": [
    "# Ejecutar la consulta\n",
    "\n",
    "\n",
    "# Obtener y mostrar los resultados\n",
    "\n",
    "\n"
   ]
  },
  {
   "cell_type": "markdown",
   "metadata": {},
   "source": [
    "10. Obtener la puntuación promedio de cada producto."
   ]
  },
  {
   "cell_type": "code",
   "execution_count": 33,
   "metadata": {},
   "outputs": [],
   "source": [
    "# Ejecutar la consulta\n",
    "\n",
    "\n",
    "# Obtener y mostrar los resultados\n"
   ]
  },
  {
   "cell_type": "markdown",
   "metadata": {},
   "source": [
    "11. Listar los fabricantes y el precio promedio de sus productos."
   ]
  },
  {
   "cell_type": "code",
   "execution_count": 34,
   "metadata": {},
   "outputs": [],
   "source": [
    "# Ejecutar la consulta\n",
    "\n",
    "\n",
    "\n",
    "\n",
    "# Obtener y mostrar los resultados\n"
   ]
  },
  {
   "cell_type": "markdown",
   "metadata": {},
   "source": [
    "12. Listar todas las categorías con al menos un producto."
   ]
  },
  {
   "cell_type": "code",
   "execution_count": 35,
   "metadata": {},
   "outputs": [],
   "source": [
    "# Ejecutar la consulta\n",
    "\n",
    "\n",
    "# Obtener y mostrar los resultados\n",
    "\n",
    "\n"
   ]
  },
  {
   "cell_type": "markdown",
   "metadata": {},
   "source": [
    "13. Obtener el producto con la menor puntuación en reseñas."
   ]
  },
  {
   "cell_type": "code",
   "execution_count": 36,
   "metadata": {},
   "outputs": [],
   "source": [
    "# Ejecutar la consulta\n",
    "\n",
    "\n",
    "# Obtener y mostrar los resultados\n",
    "\n",
    "\n"
   ]
  },
  {
   "cell_type": "markdown",
   "metadata": {},
   "source": [
    "14. Listar las reseñas de productos lanzados en 2021 o después."
   ]
  },
  {
   "cell_type": "code",
   "execution_count": 37,
   "metadata": {},
   "outputs": [],
   "source": [
    "# Ejecutar la consulta\n",
    "\n",
    "\n",
    "# Obtener y mostrar los resultados\n"
   ]
  },
  {
   "cell_type": "markdown",
   "metadata": {},
   "source": [
    "15. Contar el total de reseñas por cada producto."
   ]
  },
  {
   "cell_type": "code",
   "execution_count": 38,
   "metadata": {},
   "outputs": [],
   "source": [
    "# Ejecutar la consulta\n",
    "\n",
    "\n",
    "# Obtener y mostrar los resultados\n"
   ]
  },
  {
   "cell_type": "markdown",
   "metadata": {},
   "source": [
    "16. Listar los productos que no tienen ninguna reseña."
   ]
  },
  {
   "cell_type": "code",
   "execution_count": 39,
   "metadata": {},
   "outputs": [],
   "source": [
    "# Ejecutar la consulta\n",
    "\n",
    "\n",
    "# Obtener y mostrar los resultados\n"
   ]
  },
  {
   "cell_type": "markdown",
   "metadata": {},
   "source": [
    "17. Obtener los productos con una puntuación promedio mayor o igual a 4."
   ]
  },
  {
   "cell_type": "code",
   "execution_count": 40,
   "metadata": {},
   "outputs": [],
   "source": [
    "# Ejecutar la consulta\n",
    "\n",
    "# Obtener y mostrar los resultados\n"
   ]
  },
  {
   "cell_type": "markdown",
   "metadata": {},
   "source": [
    "18. Listar todos los productos junto con el país de su fabricante."
   ]
  },
  {
   "cell_type": "code",
   "execution_count": 41,
   "metadata": {},
   "outputs": [],
   "source": [
    "# Ejecutar la consulta\n",
    "\n",
    "\n",
    "\n",
    "# Obtener y mostrar los resultados\n"
   ]
  },
  {
   "cell_type": "markdown",
   "metadata": {},
   "source": [
    "19. Obtener la fecha de la última reseña para cada producto."
   ]
  },
  {
   "cell_type": "code",
   "execution_count": 42,
   "metadata": {},
   "outputs": [],
   "source": [
    "# Ejecutar la consulta\n",
    "\n",
    "\n",
    "# Obtener y mostrar los resultados\n"
   ]
  },
  {
   "cell_type": "markdown",
   "metadata": {},
   "source": [
    "20. Obtener el número de reseñas por mes para cada producto."
   ]
  },
  {
   "cell_type": "code",
   "execution_count": 43,
   "metadata": {},
   "outputs": [],
   "source": [
    "# Ejecutar la consulta\n",
    "\n",
    "# Obtener y mostrar los resultados\n"
   ]
  }
 ],
 "metadata": {
  "kernelspec": {
   "display_name": "Python 3",
   "language": "python",
   "name": "python3"
  },
  "language_info": {
   "codemirror_mode": {
    "name": "ipython",
    "version": 3
   },
   "file_extension": ".py",
   "mimetype": "text/x-python",
   "name": "python",
   "nbconvert_exporter": "python",
   "pygments_lexer": "ipython3",
   "version": "3.12.4"
  }
 },
 "nbformat": 4,
 "nbformat_minor": 2
}
