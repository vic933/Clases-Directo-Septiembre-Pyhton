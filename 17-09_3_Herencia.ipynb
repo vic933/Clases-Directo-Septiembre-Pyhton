{
 "cells": [
  {
   "cell_type": "markdown",
   "id": "f0cd12da",
   "metadata": {},
   "source": [
    "### Herencia\n",
    "\n",
    "### ¿Qué es la Herencia?\n",
    "La herencia es un principio fundamental de la programación orientada a objetos que permite que una clase (llamada clase hija o subclase) herede atributos y métodos de otra clase (llamada clase padre o superclase).\n",
    "\n",
    "Esto nos permite reutilizar código, evitar duplicaciones y organizar nuestro software de manera más lógica y jerárquica.\n",
    "\n",
    "\n",
    "### Beneficios clave:\n",
    "- Reutilización de código\n",
    "\n",
    "- Polimorfismo (sobrescritura de métodos)\n",
    "\n",
    "- Organización jerárquica\n",
    "\n",
    "- Extensibilidad (agregar funcionalidades sin modificar la clase base)\n",
    "\n",
    "```python\n",
    "class Padre:\n",
    "    # atributos y métodos\n",
    "\n",
    "class Hija(Padre):\n",
    "    # atributos y métodos adicionales o modificados\n",
    "```\n",
    "\n",
    "### ¿Qué puede heredar una subclase?\n",
    "\n",
    "- Atributos (variables de instancia)\n",
    "\n",
    "- Métodos (funciones dentro de la clase)\n",
    "\n",
    "- Métodos especiales (__init__, __str__, etc.)\n",
    "\n",
    "### Constructor en la subclase\n",
    "\n",
    "Cuando creamos una subclase, podemos:\n",
    "\n",
    "Usar el constructor del padre tal cual\n",
    "\n",
    "Modificarlo parcialmente usando super( ).__init__( )\n",
    "\n",
    "### Pero que  hace Super( ) , para que sirve?\n",
    "\n",
    "super( ) permite acceder a los métodos de la clase padre desde la clase hija. \n",
    "\n",
    "Es muy útil cuando se quiere extender (no reemplazar completamente) el comportamiento del constructor o algún método heredado.\n",
    "\n",
    "### Tipos de herencia:\n",
    "\n",
    "- Herencia simple: una clase hija hereda de una sola clase padre.\n",
    "\n",
    "- Herencia múltiple: una clase hija hereda de múltiples clases padre.\n",
    "\n",
    "- Herencia multinivel: una clase hereda de una subclase que a su vez hereda de otra clase.\n",
    "\n",
    "- Herencia jerárquica: varias subclases heredan de una misma superclase.\n",
    "\n",
    "\n",
    "| Concepto                | Descripción                                                    |\n",
    "| ----------------------- | -------------------------------------------------------------- |\n",
    "| Clase padre             | Clase base desde la que se heredan atributos y métodos         |\n",
    "| Clase hija              | Clase que hereda de otra clase                                 |\n",
    "| `super()`               | Función que permite llamar a métodos de la clase padre         |\n",
    "| Herencia simple         | Una clase hija hereda de una única clase padre                 |\n",
    "| Herencia múltiple       | Una clase hija hereda de varias clases padre                   |\n",
    "| Sobreescritura          | Redefinir un método de la clase padre en la hija               |\n",
    "| Reutilización de código | Capacidad de usar el código de la clase padre sin reescribirlo |\n"
   ]
  },
  {
   "cell_type": "markdown",
   "id": "02daf2ca",
   "metadata": {},
   "source": [
    "---\n",
    "### Ejemplos\n",
    "---\n",
    "\n",
    "### Ejemplo 1: Herencia simple\n",
    "\n",
    "Una clase `Animal` tiene un método `hablar()`. Creamos una clase `Perro` que hereda de `Animal`."
   ]
  },
  {
   "cell_type": "code",
   "execution_count": 4,
   "id": "64508ecc",
   "metadata": {},
   "outputs": [],
   "source": [
    "class Animal:\n",
    "    def hablar(self):\n",
    "        print(\"Hace algún sonido\")\n",
    "\n",
    "class Perro(Animal):\n",
    "    def ladrar(self):\n",
    "        print(\"Guau guau\")\n",
    "\n",
    "\n"
   ]
  },
  {
   "cell_type": "code",
   "execution_count": 5,
   "id": "3c8b45d9",
   "metadata": {},
   "outputs": [],
   "source": [
    "#definimo a firulais como una clase perro que hereda la de clase animal\n",
    "firulais = Perro()"
   ]
  },
  {
   "cell_type": "code",
   "execution_count": 8,
   "id": "d9e2d8e6",
   "metadata": {},
   "outputs": [
    {
     "name": "stdout",
     "output_type": "stream",
     "text": [
      "Hace algún sonido\n"
     ]
    }
   ],
   "source": [
    "#si usamos la calse Padre\n",
    "firulais.hablar()  # Heredado"
   ]
  },
  {
   "cell_type": "code",
   "execution_count": 9,
   "id": "ba429b6f",
   "metadata": {},
   "outputs": [
    {
     "name": "stdout",
     "output_type": "stream",
     "text": [
      "Guau guau\n"
     ]
    }
   ],
   "source": [
    "#si usamos la calse Hija\n",
    "firulais.ladrar()  # Propio"
   ]
  },
  {
   "cell_type": "markdown",
   "id": "f2c9aa3a",
   "metadata": {},
   "source": [
    "### Ejemplo 2: Uso de super()\n",
    "La clase `Persona` tiene un constructor que define nombre y edad. La clase `Estudiante` hereda y agrega un atributo `carrera`.\n"
   ]
  },
  {
   "cell_type": "code",
   "execution_count": 10,
   "id": "7bc3315a",
   "metadata": {},
   "outputs": [],
   "source": [
    "class Persona:\n",
    "    def __init__(self, nombre, edad):\n",
    "        self.nombre = nombre\n",
    "        self.edad = edad\n",
    "\n",
    "class Estudiante(Persona): # al hacer esto le indicamos que la clase Estudiante es una Subclase de Persona\n",
    "    def __init__(self, nombre, edad, carrera):\n",
    "        super().__init__(nombre, edad)\n",
    "        self.carrera = carrera\n",
    "\n",
    "# ¿Qué logramos con esto?\n",
    "# Reutilizamos el constructor de Persona.\n",
    "# Añadimos nueva funcionalidad (carrera) sin duplicar el código.\n",
    "# Creamos una jerarquía de clases más clara y mantenible.        "
   ]
  },
  {
   "cell_type": "code",
   "execution_count": 11,
   "id": "0c4c181a",
   "metadata": {},
   "outputs": [],
   "source": [
    "juan = Estudiante(\"Juan\", 22, \"Ingeniería\")"
   ]
  },
  {
   "cell_type": "code",
   "execution_count": 12,
   "id": "c14033f0",
   "metadata": {},
   "outputs": [
    {
     "name": "stdout",
     "output_type": "stream",
     "text": [
      "Juan 22 Ingeniería\n"
     ]
    }
   ],
   "source": [
    "print(juan.nombre, juan.edad, juan.carrera)"
   ]
  },
  {
   "cell_type": "markdown",
   "id": "16e6a1bf",
   "metadata": {},
   "source": [
    " ### Ejemplo 3: Sobrescritura de métodos\n",
    "\n",
    "Una clase `Empleado` tiene un método `presentarse()`. Creamos `Gerente`, que sobreescribe ese método.\n"
   ]
  },
  {
   "cell_type": "code",
   "execution_count": 13,
   "id": "473c9c73",
   "metadata": {},
   "outputs": [],
   "source": [
    "class Empleado:\n",
    "    def presentarse(self):\n",
    "        print(\"Hola, soy un empleado.\")\n",
    "\n",
    "class Gerente(Empleado):\n",
    "    def presentarse(self):\n",
    "        print(\"Hola, soy el gerente del equipo.\")\n",
    "#estamos sobreescribiendo el metodo presentarse de la class Empleado"
   ]
  },
  {
   "cell_type": "code",
   "execution_count": 14,
   "id": "6f9f7435",
   "metadata": {},
   "outputs": [],
   "source": [
    "persona = Gerente()"
   ]
  },
  {
   "cell_type": "code",
   "execution_count": 15,
   "id": "5796c8bd",
   "metadata": {},
   "outputs": [
    {
     "name": "stdout",
     "output_type": "stream",
     "text": [
      "Hola, soy el gerente del equipo.\n"
     ]
    }
   ],
   "source": [
    "persona.presentarse()"
   ]
  },
  {
   "cell_type": "markdown",
   "id": "6b15c80e",
   "metadata": {},
   "source": [
    "### Ejemplo 4: Herencia múltiple\n",
    "\n",
    "Creamos dos clases `A` y `B` con métodos distintos. La clase `C` hereda de ambas.\n"
   ]
  },
  {
   "cell_type": "code",
   "execution_count": 16,
   "id": "81cae515",
   "metadata": {},
   "outputs": [],
   "source": [
    "class A:\n",
    "    def metodo_a(self):\n",
    "        print(\"Método A\")\n",
    "\n",
    "class B:\n",
    "    def metodo_b(self):\n",
    "        print(\"Método B\")\n",
    "\n",
    "class C(A, B): #De esta manera le digo que la clase C tiene los atributos de A y B\n",
    "    pass\n",
    "\n"
   ]
  },
  {
   "cell_type": "code",
   "execution_count": 17,
   "id": "9323a926",
   "metadata": {},
   "outputs": [],
   "source": [
    "obj = C()"
   ]
  },
  {
   "cell_type": "code",
   "execution_count": 18,
   "id": "c47fab71",
   "metadata": {},
   "outputs": [
    {
     "name": "stdout",
     "output_type": "stream",
     "text": [
      "Método A\n"
     ]
    }
   ],
   "source": [
    "obj.metodo_a()\n"
   ]
  },
  {
   "cell_type": "code",
   "execution_count": 19,
   "id": "bd7fbb39",
   "metadata": {},
   "outputs": [
    {
     "name": "stdout",
     "output_type": "stream",
     "text": [
      "Método B\n"
     ]
    }
   ],
   "source": [
    "obj.metodo_b()"
   ]
  },
  {
   "cell_type": "markdown",
   "id": "11cb1fe3",
   "metadata": {},
   "source": [
    "---\n",
    "### Ejercicios\n",
    "---"
   ]
  },
  {
   "cell_type": "markdown",
   "id": "7be29ebd",
   "metadata": {},
   "source": [
    "### Ejercicio 1: Sistema de empleados en una empresa tecnológica\n",
    "\n",
    "Una empresa tiene empleados que pueden ser desarrolladores o diseñadores. Todos tienen nombre y salario base.\n",
    "\n",
    "Los desarrolladores tienen un lenguaje principal (como Python o JavaScript), y los diseñadores tienen una especialidad (como UX o UI).\n",
    "\n",
    "Crea una clase Empleado y dos subclases Desarrollador y Diseñador. Implementa un método presentarse() que devuelva una presentación distinta en cada caso."
   ]
  },
  {
   "cell_type": "code",
   "execution_count": null,
   "id": "f55b7066",
   "metadata": {},
   "outputs": [],
   "source": []
  },
  {
   "cell_type": "code",
   "execution_count": null,
   "id": "26a1e083",
   "metadata": {},
   "outputs": [],
   "source": [
    "\n"
   ]
  },
  {
   "cell_type": "code",
   "execution_count": null,
   "id": "468b31c0",
   "metadata": {},
   "outputs": [],
   "source": []
  },
  {
   "cell_type": "code",
   "execution_count": null,
   "id": "3361c89c",
   "metadata": {},
   "outputs": [
    {
     "data": {
      "text/plain": [
       "'soy sofia , trabajo en la empresa y el lenguaje que mas me gusta es python'"
      ]
     },
     "execution_count": 24,
     "metadata": {},
     "output_type": "execute_result"
    }
   ],
   "source": []
  },
  {
   "cell_type": "code",
   "execution_count": null,
   "id": "7a57d2f4",
   "metadata": {},
   "outputs": [
    {
     "data": {
      "text/plain": [
       "'soy Juan , trabajo en la empresa y mi especialidad es UX'"
      ]
     },
     "execution_count": 25,
     "metadata": {},
     "output_type": "execute_result"
    }
   ],
   "source": []
  },
  {
   "cell_type": "markdown",
   "id": "73a717c4",
   "metadata": {},
   "source": [
    "### Ejericio 2 : Zoológico digital con comportamiento polimórfico\n",
    "\n",
    "crea una clase base Animal con un método hacer_sonido(). \n",
    "\n",
    "Luego, implementa subclases Perro, Gato y Vaca que sobrescriban ese método con sus respectivos sonidos.\n",
    "\n",
    "Crea una lista con varios animales y recórrela llamando al método hacer_sonido() para comprobar el polimorfismo."
   ]
  },
  {
   "cell_type": "code",
   "execution_count": null,
   "id": "ae568e39",
   "metadata": {},
   "outputs": [],
   "source": []
  },
  {
   "cell_type": "markdown",
   "id": "2eb025e0",
   "metadata": {},
   "source": [
    "### Ejercicio 3 : Simulador de vehículos eléctricos e híbridos\n",
    "\n",
    "Diseña una clase Vehiculo con los atributos marca y modelo, y un método descripcion().\n",
    "\n",
    "Luego, crea una subclase Electrico que agregue autonomia, y otra llamada Hibrido que además incluya capacidad_combustible.\n",
    "\n",
    "Implementa el método descripcion() en cada clase para que refleje las características según el tipo de vehículo."
   ]
  },
  {
   "cell_type": "code",
   "execution_count": null,
   "id": "084fab42",
   "metadata": {},
   "outputs": [],
   "source": []
  },
  {
   "cell_type": "code",
   "execution_count": null,
   "id": "ccf324f3",
   "metadata": {},
   "outputs": [],
   "source": [
    "\n",
    "\n"
   ]
  },
  {
   "cell_type": "code",
   "execution_count": null,
   "id": "10c0903f",
   "metadata": {},
   "outputs": [
    {
     "data": {
      "text/plain": [
       "' vehiculo Tesla Model 3 con una autonomia de 500'"
      ]
     },
     "execution_count": 28,
     "metadata": {},
     "output_type": "execute_result"
    }
   ],
   "source": []
  },
  {
   "cell_type": "code",
   "execution_count": null,
   "id": "2181c55f",
   "metadata": {},
   "outputs": [],
   "source": []
  },
  {
   "cell_type": "code",
   "execution_count": null,
   "id": "8336d51c",
   "metadata": {},
   "outputs": [
    {
     "data": {
      "text/plain": [
       "' vehiculo Toyoya Prius con una autonomia de 450 y un tanque de capacidad50'"
      ]
     },
     "execution_count": 31,
     "metadata": {},
     "output_type": "execute_result"
    }
   ],
   "source": []
  },
  {
   "cell_type": "markdown",
   "id": "fda890af",
   "metadata": {},
   "source": [
    "### Ejercicio 4: Estudiantes, becarios y ayudantes\n",
    "\n",
    "Implementa una jerarquía con una clase Estudiante (nombre, universidad), y dos subclases:\n",
    "\n",
    "Becario, con un atributo adicional organismo (por ej. \"CSIC\").\n",
    "\n",
    "Ayudante, con un atributo asignatura que indica a qué asignatura presta ayuda.\n",
    "\n",
    "Implementa un método info( ) en cada clase que devuelva una descripción diferente."
   ]
  },
  {
   "cell_type": "code",
   "execution_count": null,
   "id": "94a68fbf",
   "metadata": {},
   "outputs": [],
   "source": []
  },
  {
   "cell_type": "code",
   "execution_count": null,
   "id": "64891cb3",
   "metadata": {},
   "outputs": [],
   "source": []
  },
  {
   "cell_type": "code",
   "execution_count": null,
   "id": "e454c7b7",
   "metadata": {},
   "outputs": [],
   "source": []
  },
  {
   "cell_type": "markdown",
   "id": "0ea580c3",
   "metadata": {},
   "source": [
    "### Ejercicio 5: Catálogo de publicaciones con herencia múltiple\n",
    "\n",
    "Crea dos clases:\n",
    "\n",
    "Libro, con atributos titulo y autor\n",
    "\n",
    "Revista, con atributo numero_edicion\n",
    "\n",
    "Luego, crea una clase LibroRevista que herede de ambas y contenga los tres atributos. Añade un método descripcion() que muestre toda la información."
   ]
  },
  {
   "cell_type": "code",
   "execution_count": null,
   "id": "0b15374a",
   "metadata": {},
   "outputs": [],
   "source": []
  },
  {
   "cell_type": "code",
   "execution_count": null,
   "id": "f4ad8270",
   "metadata": {},
   "outputs": [],
   "source": []
  },
  {
   "cell_type": "code",
   "execution_count": null,
   "id": "0fc6c2ec",
   "metadata": {},
   "outputs": [],
   "source": []
  },
  {
   "cell_type": "markdown",
   "id": "43305413",
   "metadata": {},
   "source": [
    "### Ejercicio 6: Gestión de Inventario de Vehículos en Concesionarios\n",
    "\n",
    "### Enunciado:\n",
    "Crea un sistema sencillo para gestionar el inventario de vehículos en concesionarios utilizando la programación orientada a objetos en Python.\n",
    "\n",
    "### Instrucciones:\n",
    "\n",
    "### Definición de Clases:\n",
    "\n",
    "* Clase Auto: Define una clase que represente un auto con los atributos marca, modelo y año. Implementa un método __str__ para proporcionar una representación en cadena del auto.\n",
    "* Clase Moto: Define una clase que represente una moto con los atributos marca, modelo y año. Implementa un método __str__ para proporcionar una representación en cadena de la moto.\n",
    "* Clase Concesionario: Define una clase que maneje un inventario de vehículos. Implementa métodos para agregar vehículos al inventario y para mostrar el inventario completo.\n",
    "\n",
    "### Creación de Objetos:\n",
    "\n",
    "Crea dos instancias de la clase Concesionario.\n",
    "Crea dos instancias de la clase Auto y una instancia de la clase Moto.\n",
    "\n",
    "### Gestión del Inventario:\n",
    "\n",
    "Agrega los vehículos creados a los concesionarios de la siguiente manera:\n",
    "* Agrega los dos autos al primer concesionario.\n",
    "* Agrega uno de los autos y la moto al segundo concesionario.\n",
    "\n",
    "### Mostrar Inventario:\n",
    "\n",
    "Muestra el inventario de ambos concesionarios para verificar que los vehículos se han agregado correctamente.\n",
    "Objetivo: El objetivo de este ejercicio es familiarizarse con la programación orientada a objetos, la creación y manejo de clases y objetos, y cómo utilizar métodos para gestionar y visualizar datos en un contexto práctico.\n"
   ]
  },
  {
   "cell_type": "code",
   "execution_count": null,
   "id": "4d674393",
   "metadata": {},
   "outputs": [],
   "source": []
  },
  {
   "cell_type": "code",
   "execution_count": null,
   "id": "eefad501",
   "metadata": {},
   "outputs": [],
   "source": []
  },
  {
   "cell_type": "code",
   "execution_count": null,
   "id": "e3f6bfcc",
   "metadata": {},
   "outputs": [],
   "source": []
  },
  {
   "cell_type": "code",
   "execution_count": null,
   "id": "048964a7",
   "metadata": {},
   "outputs": [
    {
     "name": "stdout",
     "output_type": "stream",
     "text": [
      "vehiculo agregado ford Mustang 2024 auto\n",
      "vehiculo agregado Reanult clio 2015 auto\n"
     ]
    }
   ],
   "source": []
  },
  {
   "cell_type": "code",
   "execution_count": null,
   "id": "25eb9446",
   "metadata": {},
   "outputs": [
    {
     "name": "stdout",
     "output_type": "stream",
     "text": [
      "vehiculo agregado chevrolet camaro 2010 auto\n",
      "vehiculo agregado yamaha R1 2024 moto\n"
     ]
    }
   ],
   "source": []
  },
  {
   "cell_type": "code",
   "execution_count": null,
   "id": "d37da088",
   "metadata": {},
   "outputs": [
    {
     "name": "stdout",
     "output_type": "stream",
     "text": [
      "Inventario del concesionario:\n",
      "ford Mustang 2024 auto\n",
      "Reanult clio 2015 auto\n"
     ]
    }
   ],
   "source": []
  },
  {
   "cell_type": "code",
   "execution_count": null,
   "id": "4b9b3125",
   "metadata": {},
   "outputs": [
    {
     "name": "stdout",
     "output_type": "stream",
     "text": [
      "Inventario del concesionario:\n",
      "chevrolet camaro 2010 auto\n",
      "yamaha R1 2024 moto\n"
     ]
    }
   ],
   "source": []
  }
 ],
 "metadata": {
  "kernelspec": {
   "display_name": "Python 3",
   "language": "python",
   "name": "python3"
  },
  "language_info": {
   "codemirror_mode": {
    "name": "ipython",
    "version": 3
   },
   "file_extension": ".py",
   "mimetype": "text/x-python",
   "name": "python",
   "nbconvert_exporter": "python",
   "pygments_lexer": "ipython3",
   "version": "3.12.0"
  }
 },
 "nbformat": 4,
 "nbformat_minor": 5
}
