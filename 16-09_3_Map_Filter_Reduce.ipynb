{
 "cells": [
  {
   "cell_type": "markdown",
   "id": "40eadeaa",
   "metadata": {},
   "source": [
    "### ¿Qué son map(), filter() y reduce()?\n",
    "\n",
    "Son funciones de orden superior que permiten aplicar lógica de transformación o filtrado sobre colecciones de datos (como listas, tuplas...).\n",
    "\n",
    "Todas reciben una función como primer argumento, y un iterable como segundo.\n",
    "\n",
    "- **`map(función, iterable)`**: Aplica una función a cada elemento de un iterable.\n",
    "\n",
    "- **`filter(función, iterable)`**: Filtra los elementos que cumplen una condición.\n",
    "\n",
    "- **`reduce(función, iterable)`**: Reduce un iterable a un solo valor.\n",
    "\n",
    "### map(función, iterable)\n",
    "📌 Aplica la función a cada elemento del iterable\n",
    "\n",
    "➡ Devuelve un nuevo iterable con los resultados\n",
    "\n",
    "Ejemplo de Sintaxis:\n",
    "\n",
    "```python\n",
    "\n",
    "map(lambda x: x * 2, [1, 2, 3]) \n",
    "\n",
    "```\n",
    "\n",
    "veamos un ejemplo de uso:\n"
   ]
  },
  {
   "cell_type": "code",
   "execution_count": 1,
   "id": "67ab04aa",
   "metadata": {},
   "outputs": [],
   "source": [
    "nombres = [\"FRanCIsCo\", \"juAN\", \"MaRIa\", \"CARLOs\"]"
   ]
  },
  {
   "cell_type": "code",
   "execution_count": null,
   "id": "f9ef5693",
   "metadata": {},
   "outputs": [
    {
     "name": "stdout",
     "output_type": "stream",
     "text": [
      "['Francisco', 'Juan', 'Maria', 'Carlos']\n"
     ]
    }
   ],
   "source": [
    "nombres_mayusculas = map(lambda nombre: nombre.title(), nombres) #con title ponemos la 1 en mayus es igual que capitalize\n",
    "print(list(nombres_mayusculas))"
   ]
  },
  {
   "cell_type": "markdown",
   "id": "6484be76",
   "metadata": {},
   "source": [
    "### filter(función, iterable)\n",
    "\n",
    "📌 Filtra los elementos del iterable para los que la función devuelve True\n",
    "\n",
    "➡ Devuelve un nuevo iterable con los que pasan el filtro\n",
    "\n",
    "Ejemplo de Sintaxis:\n",
    "\n",
    "```python\n",
    "\n",
    "filter(lambda x: x > 10, [5, 12, 8, 20]) \n",
    "\n",
    "```\n",
    "\n",
    "veamos un ejemplo de uso:"
   ]
  },
  {
   "cell_type": "code",
   "execution_count": 3,
   "id": "a976a81f",
   "metadata": {},
   "outputs": [],
   "source": [
    "numeros = [85, -80 ,-10, 15, -20, 30, -5, 50]"
   ]
  },
  {
   "cell_type": "code",
   "execution_count": 8,
   "id": "9c1c2ebf",
   "metadata": {},
   "outputs": [],
   "source": [
    "numeros_filtrados = filter(lambda x: -20 < x < 25, numeros)\n"
   ]
  },
  {
   "cell_type": "code",
   "execution_count": 9,
   "id": "53c16bc8",
   "metadata": {},
   "outputs": [
    {
     "name": "stdout",
     "output_type": "stream",
     "text": [
      "[-10, 15, -5]\n"
     ]
    }
   ],
   "source": [
    "print(list(numeros_filtrados))"
   ]
  },
  {
   "cell_type": "markdown",
   "id": "9ef1774a",
   "metadata": {},
   "source": [
    "### reduce(función, iterable)\n",
    "\n",
    "📌 Acumula los elementos del iterable aplicando la función de forma acumulativa\n",
    "\n",
    "➡ No está en el núcleo de Python: se importa desde functools\n",
    "\n",
    "```python\n",
    "from functools import reduce\n",
    "\n",
    "reduce(lambda x, y: x + y, [1, 2, 3, 4])\n",
    "```\n",
    "\n",
    "veamos un ejemplo de uso:\n",
    "\n"
   ]
  },
  {
   "cell_type": "code",
   "execution_count": 13,
   "id": "73203b21",
   "metadata": {},
   "outputs": [],
   "source": [
    "#Encontrar el número máximo con `reduce`\n",
    "from functools import reduce    \n",
    "numeros = [3, 7, 2, 10, 6,14]"
   ]
  },
  {
   "cell_type": "code",
   "execution_count": 14,
   "id": "e24f9ce0",
   "metadata": {},
   "outputs": [
    {
     "name": "stdout",
     "output_type": "stream",
     "text": [
      "14\n"
     ]
    }
   ],
   "source": [
    "numero_maximo = reduce(lambda x, y: x if x > y else y, numeros)\n",
    "print(numero_maximo)"
   ]
  },
  {
   "cell_type": "markdown",
   "id": "48170a0e",
   "metadata": {},
   "source": [
    "Qué hace este código?\n",
    "\n",
    "Utiliza la función reduce() para recorrer la lista y comparar elementos de dos en dos, guardando siempre el mayor encontrado hasta el momento.\n",
    "\n",
    "| Paso | x (acumulado) | y (actual) | Resultado de lambda (mayor de ambos) |\n",
    "| ---- | ------------- | ---------- | ------------------------------------ |\n",
    "| 1    | 3             | 7          | 7                                    |\n",
    "| 2    | 7             | 2          | 7                                    |\n",
    "| 3    | 7             | 10         | 10                                   |\n",
    "| 4    | 10            | 6          | 10                                   |\n"
   ]
  },
  {
   "cell_type": "markdown",
   "id": "7b89df16",
   "metadata": {},
   "source": [
    "#### Resumiendo:\n",
    "\n",
    "| Función   | ¿Qué hace?                                    | Devuelve               | Requiere importación |\n",
    "|-----------|------------------------------------------------|------------------------|-----------------------|\n",
    "| `map()`   | Aplica una función a cada elemento             | map object (iterable)  | No                    |\n",
    "| `filter()`| Filtra elementos que cumplen una condición     | filter object          | No                    |\n",
    "| `reduce()`| Aplica una función acumulativa entre elementos | Resultado final único  | ✅ Sí (functools)      |\n"
   ]
  },
  {
   "cell_type": "markdown",
   "id": "304972ed",
   "metadata": {},
   "source": [
    "---\n",
    "### Ejercicios\n",
    "---"
   ]
  },
  {
   "cell_type": "markdown",
   "id": "c5541922",
   "metadata": {},
   "source": [
    "### Ejercicio 1: Doblar edades\n",
    "Tienes una lista de edades y necesitas duplicarlas usando `map`."
   ]
  },
  {
   "cell_type": "code",
   "execution_count": null,
   "id": "edb499dc",
   "metadata": {},
   "outputs": [
    {
     "data": {
      "text/plain": [
       "[30, 112, 160, 144, 106, 50]"
      ]
     },
     "execution_count": 12,
     "metadata": {},
     "output_type": "execute_result"
    }
   ],
   "source": []
  },
  {
   "cell_type": "markdown",
   "id": "4456f668",
   "metadata": {},
   "source": [
    "### Ejercicio 2: Filtrar palabras que empiezan con vocal\n",
    "Dada una lista de palabras, usa `filter` para quedarte solo con las que comienzan por vocal.\n"
   ]
  },
  {
   "cell_type": "code",
   "execution_count": 16,
   "id": "9635ab59",
   "metadata": {},
   "outputs": [],
   "source": [
    "palabras = ['Estrella' ,'casa', 'universo' , 'botella' , 'Aurora' , 'auto']\n",
    "vocales = ['a','e','i','o','u' ,'A','E','I','O','U']"
   ]
  },
  {
   "cell_type": "code",
   "execution_count": 18,
   "id": "8a90f9e2",
   "metadata": {},
   "outputs": [],
   "source": [
    "empiezan_vocal = list(filter(lambda x:x[0] in vocales, palabras))"
   ]
  },
  {
   "cell_type": "code",
   "execution_count": 19,
   "id": "a62918ad",
   "metadata": {},
   "outputs": [
    {
     "data": {
      "text/plain": [
       "['Estrella', 'universo', 'Aurora', 'auto']"
      ]
     },
     "execution_count": 19,
     "metadata": {},
     "output_type": "execute_result"
    }
   ],
   "source": [
    "empiezan_vocal"
   ]
  },
  {
   "cell_type": "markdown",
   "id": "820ef043",
   "metadata": {},
   "source": [
    "Alternativa:"
   ]
  },
  {
   "cell_type": "code",
   "execution_count": null,
   "id": "2ef70e41",
   "metadata": {},
   "outputs": [
    {
     "data": {
      "text/plain": [
       "['Estrella', 'universo', 'Aurora', 'auto']"
      ]
     },
     "execution_count": 32,
     "metadata": {},
     "output_type": "execute_result"
    }
   ],
   "source": []
  },
  {
   "cell_type": "markdown",
   "id": "7514313d",
   "metadata": {},
   "source": [
    "### Ejercicio 3: Sumar todos los valores\n",
    "Usa `reduce` para sumar todos los valores de una lista de números.\n"
   ]
  },
  {
   "cell_type": "code",
   "execution_count": 22,
   "id": "09bd1fcb",
   "metadata": {},
   "outputs": [
    {
     "data": {
      "text/plain": [
       "65"
      ]
     },
     "execution_count": 22,
     "metadata": {},
     "output_type": "execute_result"
    }
   ],
   "source": [
    "\n",
    "numeros = [45,9,6,5]\n",
    "suma_total = reduce(lambda x,y : x+y, numeros) #reduce siempre trabaja sobre 2 numeros , comparando o sumando o haciendo la operacion indicada entre ellos.\n",
    "suma_total"
   ]
  },
  {
   "cell_type": "code",
   "execution_count": null,
   "id": "f3cc4458",
   "metadata": {},
   "outputs": [
    {
     "data": {
      "text/plain": [
       "40"
      ]
     },
     "execution_count": 34,
     "metadata": {},
     "output_type": "execute_result"
    }
   ],
   "source": []
  },
  {
   "cell_type": "markdown",
   "id": "9d2564dd",
   "metadata": {},
   "source": [
    "### Ejercicio 4: Longitudes de cada palabra\n",
    "Con `map`, crea una lista con la longitud de cada palabra en una frase.\n"
   ]
  },
  {
   "cell_type": "code",
   "execution_count": null,
   "id": "d3f3f20f",
   "metadata": {},
   "outputs": [
    {
     "data": {
      "text/plain": [
       "['Un',\n",
       " 'texto',\n",
       " 'periodístico',\n",
       " 'es',\n",
       " 'aquel',\n",
       " 'que',\n",
       " 'se',\n",
       " 'deriva',\n",
       " 'del',\n",
       " 'ejercicio',\n",
       " 'profesional',\n",
       " 'del',\n",
       " 'periodismo',\n",
       " 'o',\n",
       " 'la',\n",
       " 'comunicación',\n",
       " 'social,',\n",
       " 'y',\n",
       " 'que',\n",
       " 'ofrece',\n",
       " 'al',\n",
       " 'lector',\n",
       " 'algún',\n",
       " 'tipo',\n",
       " 'de',\n",
       " 'información']"
      ]
     },
     "execution_count": 38,
     "metadata": {},
     "output_type": "execute_result"
    }
   ],
   "source": []
  },
  {
   "cell_type": "code",
   "execution_count": null,
   "id": "b0b08b9c",
   "metadata": {},
   "outputs": [
    {
     "data": {
      "text/plain": [
       "[2,\n",
       " 5,\n",
       " 12,\n",
       " 2,\n",
       " 5,\n",
       " 3,\n",
       " 2,\n",
       " 6,\n",
       " 3,\n",
       " 9,\n",
       " 11,\n",
       " 3,\n",
       " 10,\n",
       " 1,\n",
       " 2,\n",
       " 12,\n",
       " 7,\n",
       " 1,\n",
       " 3,\n",
       " 6,\n",
       " 2,\n",
       " 6,\n",
       " 5,\n",
       " 4,\n",
       " 2,\n",
       " 11]"
      ]
     },
     "execution_count": 39,
     "metadata": {},
     "output_type": "execute_result"
    }
   ],
   "source": []
  },
  {
   "cell_type": "markdown",
   "id": "a466ba74",
   "metadata": {},
   "source": [
    "### Ejercicio 5 (reto): Producto de números pares\n",
    "Filtra los números pares de una lista y luego usa `reduce` para obtener el producto total.\n"
   ]
  },
  {
   "cell_type": "code",
   "execution_count": null,
   "id": "aa96780f",
   "metadata": {},
   "outputs": [
    {
     "data": {
      "text/plain": [
       "[10, 8, 60, 80]"
      ]
     },
     "execution_count": 41,
     "metadata": {},
     "output_type": "execute_result"
    }
   ],
   "source": []
  },
  {
   "cell_type": "code",
   "execution_count": null,
   "id": "06cb11e3",
   "metadata": {},
   "outputs": [
    {
     "data": {
      "text/plain": [
       "384000"
      ]
     },
     "execution_count": 42,
     "metadata": {},
     "output_type": "execute_result"
    }
   ],
   "source": []
  }
 ],
 "metadata": {
  "kernelspec": {
   "display_name": "Python 3",
   "language": "python",
   "name": "python3"
  },
  "language_info": {
   "codemirror_mode": {
    "name": "ipython",
    "version": 3
   },
   "file_extension": ".py",
   "mimetype": "text/x-python",
   "name": "python",
   "nbconvert_exporter": "python",
   "pygments_lexer": "ipython3",
   "version": "3.13.1"
  }
 },
 "nbformat": 4,
 "nbformat_minor": 5
}
