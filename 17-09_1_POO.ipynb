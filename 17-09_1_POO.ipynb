{
 "cells": [
  {
   "cell_type": "markdown",
   "id": "75a7b51a",
   "metadata": {},
   "source": [
    "### Programación Orientada a Objetos (POO)\n",
    "\n",
    "### ¿Qué es la Programación Orientada a Objetos?\n",
    "\n",
    "La POO es un paradigma de programación que organiza el código en torno a objetos, los cuales son instancias de clases que agrupan datos y comportamientos.\n",
    "\n",
    "### 🧩 Conceptos clave de la Programación Orientada a Objetos\n",
    "\n",
    "| Concepto        | Descripción                                                                 |\n",
    "|-----------------|------------------------------------------------------------------------------|\n",
    "| **Clase**       | Plantilla o molde para crear objetos                                         |\n",
    "| **Objeto**      | Instancia concreta de una clase                                              |\n",
    "| **Atributo**    | Variable que pertenece a una clase u objeto                                  |\n",
    "| **Método**      | Función que pertenece a una clase y puede actuar sobre sus atributos         |\n",
    "| **`__init__`**  | Método especial que se llama al crear un objeto (constructor)                |\n",
    "| **`self`**      | Hace referencia al objeto actual (como \"yo mismo\")                           |\n",
    "| **Encapsulamiento** | Ocultar los detalles internos del objeto (protección de datos)           |\n"
   ]
  },
  {
   "cell_type": "markdown",
   "id": "297390c9",
   "metadata": {},
   "source": [
    "### Ventajas de la POO:\n",
    "\n",
    "✅ Mejora la organización del código\n",
    "\n",
    "✅ Favorece la reutilización (herencia)\n",
    "\n",
    "✅ Se puede modelar el mundo real\n",
    "\n",
    "✅ Facilita el mantenimiento del código\n",
    "\n",
    "✅ Permite trabajar con estructuras más complejas de forma escalable"
   ]
  },
  {
   "cell_type": "markdown",
   "id": "9591fdc9",
   "metadata": {},
   "source": [
    "### Ejemplo:\n",
    "\n",
    "```python\n",
    "# Clase\n",
    "class Persona:\n",
    "    # Constructor (__init__)\n",
    "    def __init__(self, nombre, edad):\n",
    "        self.nombre = nombre   # Atributo\n",
    "        self.edad = edad       # Atributo\n",
    "\n",
    "    # Método\n",
    "    def saludar(self):\n",
    "        print(f\"Hola, mi nombre es {self.nombre} y tengo {self.edad} años.\")\n",
    "\n",
    "# Objeto (instancia de la clase)\n",
    "juan = Persona(\"Juan\", 30)\n",
    "\n",
    "# Llamada al método\n",
    "juan.saludar()\n",
    "\n",
    "#Aquí, hemos creado la clase `Persona` y un objeto `Persona` que es una instancias únicas de `Persona`. y un Metodo que es Saludar\n",
    "\n",
    "```\n",
    "\n",
    "### Resumen: \n",
    "| Elemento     | Ejemplo en código                | Descripción                                  |\n",
    "|--------------|----------------------------------|----------------------------------------------|\n",
    "| Clase        | `class Persona:`                 | Define una nueva clase                       |\n",
    "| Objeto       | `juan = Persona()`               | Instancia de la clase                        |\n",
    "| Atributo     | `self.nombre = nombre`           | Variable asociada al objeto                 |\n",
    "| Método       | `def saludar(self):`             | Función dentro de una clase                 |\n",
    "| `__init__`   | Constructor de la clase          | Se ejecuta al crear el objeto               |\n",
    "| `self`       | Referencia al objeto actual      | Necesario para acceder a atributos/métodos  |\n"
   ]
  },
  {
   "cell_type": "code",
   "execution_count": null,
   "id": "2ed36081",
   "metadata": {},
   "outputs": [],
   "source": [
    "# Clase\n",
    "class Persona:\n",
    "    # Constructor (__init__)\n",
    "    def __init__(self, nombre, edad , sexo , altura , cabello):\n",
    "        self.nombre = nombre   # Atributo\n",
    "        self.edad = edad       # Atributo\n",
    "        self.sexo = sexo\n",
    "        self.altura = altura\n",
    "        self.cabello = cabello\n",
    "\n",
    "    # Método saludar:\n",
    "    def saludar(self):\n",
    "        print(f\"Hola, mi nombre es {self.nombre} y tengo {self.edad} años.\")\n",
    "    # Método caracteres:\n",
    "    def caracteres(self):\n",
    "        print(f\"Sexo:{self.sexo} , altura: {self.altura} cabello: {self.cabello}.\")\n"
   ]
  },
  {
   "cell_type": "code",
   "execution_count": null,
   "id": "497c75d4",
   "metadata": {},
   "outputs": [],
   "source": [
    "# Objeto (instancia de la clase)\n",
    "juan = Persona(\"Juan\", 30 , 'Masculino', '166cm' , 'Rubio')"
   ]
  },
  {
   "cell_type": "code",
   "execution_count": null,
   "id": "2948280d",
   "metadata": {},
   "outputs": [],
   "source": [
    "# Llamada al método\n",
    "juan.saludar()"
   ]
  },
  {
   "cell_type": "code",
   "execution_count": null,
   "id": "3d7aef6e",
   "metadata": {},
   "outputs": [],
   "source": [
    "persona_2 = Persona(\"Claudia\", 45 , 'Femenino', '176cm' , 'castaño')"
   ]
  },
  {
   "cell_type": "code",
   "execution_count": null,
   "id": "92d5dc9d",
   "metadata": {},
   "outputs": [],
   "source": [
    "persona_2.caracteres()"
   ]
  },
  {
   "cell_type": "markdown",
   "id": "d7b848a8",
   "metadata": {},
   "source": [
    "---\n",
    "### Ejemplos\n",
    "---"
   ]
  },
  {
   "cell_type": "markdown",
   "id": "1996c641",
   "metadata": {},
   "source": [
    "### Ejemplo 1: Clase básica con saludo\n"
   ]
  },
  {
   "cell_type": "code",
   "execution_count": null,
   "id": "46cbd4e2",
   "metadata": {},
   "outputs": [],
   "source": [
    "class Persona:\n",
    "    def __init__(self, nombre):\n",
    "        self.nombre = nombre\n",
    "\n",
    "    def saludar(self):\n",
    "        print(f\"Hola, soy {self.nombre}\")"
   ]
  },
  {
   "cell_type": "code",
   "execution_count": null,
   "id": "ded9f115",
   "metadata": {},
   "outputs": [],
   "source": [
    "# Uso\n",
    "p1 = Persona(\"Laura\")\n",
    "p1.saludar()"
   ]
  },
  {
   "cell_type": "markdown",
   "id": "c0e4b399",
   "metadata": {},
   "source": [
    "### Ejemplo 2: Clase con dos atributos y un método personalizado"
   ]
  },
  {
   "cell_type": "code",
   "execution_count": null,
   "id": "e135dc33",
   "metadata": {},
   "outputs": [],
   "source": [
    "class Producto:\n",
    "    def __init__(self, nombre, precio):\n",
    "        self.nombre = nombre\n",
    "        self.precio = precio\n",
    "\n",
    "    def mostrar_info(self):\n",
    "        print(f\"{self.nombre} cuesta {self.precio} €\")"
   ]
  },
  {
   "cell_type": "code",
   "execution_count": null,
   "id": "6aea982a",
   "metadata": {},
   "outputs": [],
   "source": [
    "# Uso\n",
    "p = Producto(\"Pan\", 1.2)"
   ]
  },
  {
   "cell_type": "code",
   "execution_count": null,
   "id": "c3a56a51",
   "metadata": {},
   "outputs": [],
   "source": [
    "p.mostrar_info()"
   ]
  },
  {
   "cell_type": "markdown",
   "id": "d3ed544c",
   "metadata": {},
   "source": [
    "### Ejemplo 3: Contador interactivo con método de reinicio"
   ]
  },
  {
   "cell_type": "code",
   "execution_count": null,
   "id": "b0a67dca",
   "metadata": {},
   "outputs": [],
   "source": [
    "class Contador:\n",
    "\n",
    "    def __init__(self):\n",
    "        self.valor = 0  # Atributo que guarda el estado del contador\n",
    "\n",
    "    def incrementar(self):\n",
    "        self.valor += 1  # Suma 1 al valor actual\n",
    "        print(f'incrementado {self.valor}')\n",
    "        \n",
    "    def reiniciar(self):\n",
    "        self.valor = 0  # Reinicia el contador a cero\n",
    "        print('Reiniciado')\n",
    "\n",
    "    def mostrar(self):\n",
    "        print(f\"El contador está en: {self.valor}\")\n"
   ]
  },
  {
   "cell_type": "code",
   "execution_count": null,
   "id": "c3e98987",
   "metadata": {},
   "outputs": [],
   "source": [
    "# Uso del objeto\n",
    "c = Contador()"
   ]
  },
  {
   "cell_type": "code",
   "execution_count": null,
   "id": "b39f45e1",
   "metadata": {},
   "outputs": [],
   "source": [
    "#incrementamos el Contador\n",
    "c.incrementar()\n",
    "\n"
   ]
  },
  {
   "cell_type": "code",
   "execution_count": null,
   "id": "ed579249",
   "metadata": {},
   "outputs": [],
   "source": [
    "c.incrementar()"
   ]
  },
  {
   "cell_type": "code",
   "execution_count": null,
   "id": "d19c5652",
   "metadata": {},
   "outputs": [],
   "source": [
    "c.mostrar() "
   ]
  },
  {
   "cell_type": "code",
   "execution_count": null,
   "id": "c7342052",
   "metadata": {},
   "outputs": [],
   "source": [
    "#reiniciamos\n",
    "c.reiniciar()"
   ]
  },
  {
   "cell_type": "code",
   "execution_count": null,
   "id": "8f1c743a",
   "metadata": {},
   "outputs": [],
   "source": [
    "c.mostrar() "
   ]
  },
  {
   "cell_type": "markdown",
   "id": "2481ce76",
   "metadata": {},
   "source": [
    "### Ejemplo 4:  Cuenta bancaria con encapsulamiento"
   ]
  },
  {
   "cell_type": "code",
   "execution_count": 8,
   "id": "4cb6fcb1",
   "metadata": {},
   "outputs": [],
   "source": [
    "class CuentaBancaria:\n",
    "\n",
    "    def __init__(self, titular, saldo):\n",
    "        self.titular = titular\n",
    "        self.__saldo = saldo  # Atributo \"privado\" (convención con doble guión bajo)\n",
    "\n",
    "    def depositar(self, cantidad):\n",
    "        if cantidad > 0:\n",
    "            self.__saldo += cantidad\n",
    "            print(f\"💰 Has depositado {cantidad} €\")\n",
    "        else:\n",
    "            print(\"❌ La cantidad debe ser positiva\")\n",
    "\n",
    "    def ver_saldo(self):\n",
    "        print(f\"🔐 Saldo disponible: {self.__saldo}€\")\n",
    "\n",
    "    def retirar(self, cantidad):\n",
    "        if cantidad <= self.__saldo:\n",
    "            self.__saldo -= cantidad\n",
    "            print(f\"💸 Has retirado {cantidad}€\")\n",
    "        else:\n",
    "            print(\"❌ Fondos insuficientes\")\n",
    "            \n",
    "    def transferir (self,cantidad) :\n",
    "        if cantidad > self.__saldo :\n",
    "            print('no puedes transferir mas de lo que tienes')\n",
    "        else:\n",
    "            self.__saldo -= cantidad\n",
    "            print (f'Transferencia realizada por {cantidad}, tu saldo actual es de {self.__saldo}')"
   ]
  },
  {
   "cell_type": "code",
   "execution_count": 9,
   "id": "3172cc72",
   "metadata": {},
   "outputs": [],
   "source": [
    "# Uso\n",
    "cuenta = CuentaBancaria(\"Laura\",500)"
   ]
  },
  {
   "cell_type": "code",
   "execution_count": 10,
   "id": "e405c033",
   "metadata": {},
   "outputs": [
    {
     "name": "stdout",
     "output_type": "stream",
     "text": [
      "🔐 Saldo disponible: 500€\n"
     ]
    }
   ],
   "source": [
    "cuenta.ver_saldo()"
   ]
  },
  {
   "cell_type": "code",
   "execution_count": 11,
   "id": "80655584",
   "metadata": {},
   "outputs": [
    {
     "name": "stdout",
     "output_type": "stream",
     "text": [
      "💰 Has depositado 100 €\n"
     ]
    }
   ],
   "source": [
    "#supongamo que realizamos un Deposit , en ese caso tiramos de la funcion depositar y le pasamos el monto\n",
    "cuenta.depositar(100)"
   ]
  },
  {
   "cell_type": "code",
   "execution_count": 12,
   "id": "4ff8586d",
   "metadata": {},
   "outputs": [
    {
     "name": "stdout",
     "output_type": "stream",
     "text": [
      "💰 Has depositado 1000 €\n"
     ]
    }
   ],
   "source": [
    "cuenta.depositar(1000)"
   ]
  },
  {
   "cell_type": "code",
   "execution_count": 13,
   "id": "a4b3eded",
   "metadata": {},
   "outputs": [
    {
     "name": "stdout",
     "output_type": "stream",
     "text": [
      "🔐 Saldo disponible: 1600€\n"
     ]
    }
   ],
   "source": [
    "#supongamos que queremos consultar nuestro saldo\n",
    "cuenta.ver_saldo()"
   ]
  },
  {
   "cell_type": "code",
   "execution_count": 14,
   "id": "7cbc3504",
   "metadata": {},
   "outputs": [
    {
     "name": "stdout",
     "output_type": "stream",
     "text": [
      "💸 Has retirado 40€\n"
     ]
    }
   ],
   "source": [
    "#supongamos que ahora queremos retirar\n",
    "cuenta.retirar(40)"
   ]
  },
  {
   "cell_type": "code",
   "execution_count": 15,
   "id": "3b414e82",
   "metadata": {},
   "outputs": [
    {
     "name": "stdout",
     "output_type": "stream",
     "text": [
      "🔐 Saldo disponible: 1560€\n"
     ]
    }
   ],
   "source": [
    "#supongamos que queremos consultar nuestro saldo\n",
    "cuenta.ver_saldo()"
   ]
  },
  {
   "cell_type": "code",
   "execution_count": 16,
   "id": "e8fc573c",
   "metadata": {},
   "outputs": [
    {
     "name": "stdout",
     "output_type": "stream",
     "text": [
      "❌ Fondos insuficientes\n"
     ]
    }
   ],
   "source": [
    "#supongamos que ahora queremos retirar\n",
    "cuenta.retirar(4000)"
   ]
  },
  {
   "cell_type": "code",
   "execution_count": 17,
   "id": "1e57f7f6",
   "metadata": {},
   "outputs": [
    {
     "name": "stdout",
     "output_type": "stream",
     "text": [
      "💸 Has retirado 200€\n"
     ]
    }
   ],
   "source": [
    "#supongamos que ahora queremos retirar\n",
    "cuenta.retirar(200)"
   ]
  },
  {
   "cell_type": "code",
   "execution_count": 18,
   "id": "3566001c",
   "metadata": {},
   "outputs": [
    {
     "name": "stdout",
     "output_type": "stream",
     "text": [
      "🔐 Saldo disponible: 1360€\n"
     ]
    }
   ],
   "source": [
    "#supongamos que queremos consultar nuestro saldo\n",
    "cuenta.ver_saldo()"
   ]
  },
  {
   "cell_type": "code",
   "execution_count": 20,
   "id": "6f75009e",
   "metadata": {},
   "outputs": [
    {
     "name": "stdout",
     "output_type": "stream",
     "text": [
      "Transferencia realizada por 1000, tu saldo actual es de 360\n"
     ]
    }
   ],
   "source": [
    "cuenta.transferir(1000)"
   ]
  },
  {
   "cell_type": "markdown",
   "id": "0918f50f",
   "metadata": {},
   "source": [
    "---\n",
    "### Ejercicios\n",
    "---"
   ]
  },
  {
   "cell_type": "markdown",
   "id": "ff44ad87",
   "metadata": {},
   "source": [
    "### Ejercicio 1\n",
    "Crea una clase `Animal` con un atributo `especie` y un método `hablar()` que imprima \"Soy un animal\".\n"
   ]
  },
  {
   "cell_type": "code",
   "execution_count": 27,
   "id": "49d7016e",
   "metadata": {},
   "outputs": [],
   "source": [
    "class animal:\n",
    "  def __init__(self, especie): #Metodo construtor \n",
    "      self.especie = especie\n",
    "  #Creamos el método\n",
    "  def hablar(self):\n",
    "      print(f'Soy un animal de la especie {self.especie}')\n",
    "    "
   ]
  },
  {
   "cell_type": "code",
   "execution_count": 28,
   "id": "c59a8ea0",
   "metadata": {},
   "outputs": [],
   "source": [
    "gato = animal('felino')"
   ]
  },
  {
   "cell_type": "code",
   "execution_count": 29,
   "id": "39746e2f",
   "metadata": {},
   "outputs": [
    {
     "name": "stdout",
     "output_type": "stream",
     "text": [
      "Soy un animal de la especie felino\n"
     ]
    }
   ],
   "source": [
    "gato.hablar()"
   ]
  },
  {
   "cell_type": "markdown",
   "id": "974808a3",
   "metadata": {},
   "source": [
    "### Ejercicio 2\n",
    "Crea una clase `Vehiculo` con atributos `marca` , `año` y `modelo`, y un método `info()` que los muestre.\n"
   ]
  },
  {
   "cell_type": "code",
   "execution_count": null,
   "id": "e9de1689",
   "metadata": {},
   "outputs": [],
   "source": [
    "class vehiculo:\n",
    "  def __init__(self,marca, año, modelo):\n",
    "      self.marca =marca\n",
    "      self.año = año\n",
    "      self.modelo = modelo\n",
    "  def info(self):\n",
    "      print  (f'Marca {self.marca} del año {self.año} y del modelo {self.modelo}')\n",
    "    \n"
   ]
  },
  {
   "cell_type": "code",
   "execution_count": 6,
   "id": "60f5c786",
   "metadata": {},
   "outputs": [],
   "source": [
    "auto = vehiculo('toyota', 2021, 'yaris')"
   ]
  },
  {
   "cell_type": "code",
   "execution_count": 8,
   "id": "d54d3624",
   "metadata": {},
   "outputs": [
    {
     "name": "stdout",
     "output_type": "stream",
     "text": [
      "Marcatoyota del año 2021 y del modelo yaris\n"
     ]
    }
   ],
   "source": [
    "auto.info()"
   ]
  },
  {
   "cell_type": "markdown",
   "id": "c2cb1669",
   "metadata": {},
   "source": [
    "### Ejercicio 3\n",
    "Crea una clase `Estudiante` que reciba `nombre` y `notas`, y tenga un método que calcule el promedio.\n"
   ]
  },
  {
   "cell_type": "code",
   "execution_count": 11,
   "id": "e1627f03",
   "metadata": {},
   "outputs": [],
   "source": [
    "\n",
    "class estudiante:\n",
    "  def __init__(self, nombre, notas):\n",
    "      self.nombre = nombre\n",
    "      self.notas = notas\n",
    "  def promedio(self):\n",
    "      if self.notas:\n",
    "        prom = sum(self.notas) / len(self.notas)\n",
    "        print(f'La nota media es {prom}')\n",
    "      else:\n",
    "        print ('no hay notas registradas')\n",
    "        \n"
   ]
  },
  {
   "cell_type": "code",
   "execution_count": 13,
   "id": "06085e0a",
   "metadata": {},
   "outputs": [],
   "source": [
    "alumno = estudiante ('Marta', [7,8,9,5,1])\n"
   ]
  },
  {
   "cell_type": "code",
   "execution_count": 14,
   "id": "045b9657",
   "metadata": {},
   "outputs": [
    {
     "name": "stdout",
     "output_type": "stream",
     "text": [
      "La nota media es 6.0\n"
     ]
    }
   ],
   "source": [
    "alumno.promedio()"
   ]
  },
  {
   "cell_type": "markdown",
   "id": "ce27b2eb",
   "metadata": {},
   "source": [
    "### Ejercicio 4\n",
    "Crea una clase `Cuenta` con `titular` y `saldo`, y métodos para depositar, retirar y consultar saldo."
   ]
  },
  {
   "cell_type": "code",
   "execution_count": null,
   "id": "784b7e69",
   "metadata": {},
   "outputs": [],
   "source": []
  },
  {
   "cell_type": "markdown",
   "id": "a7b3bc68",
   "metadata": {},
   "source": [
    "### Ejercicio 5\n",
    "Crea una clase `Rectángulo` que reciba `ancho` y `alto` y tenga métodos para calcular `área` y `perímetro`. el ancho y el alto deben ser un input\n"
   ]
  },
  {
   "cell_type": "code",
   "execution_count": null,
   "id": "7b7b9f99",
   "metadata": {},
   "outputs": [],
   "source": [
    "\n"
   ]
  }
 ],
 "metadata": {
  "kernelspec": {
   "display_name": "Python 3",
   "language": "python",
   "name": "python3"
  },
  "language_info": {
   "codemirror_mode": {
    "name": "ipython",
    "version": 3
   },
   "file_extension": ".py",
   "mimetype": "text/x-python",
   "name": "python",
   "nbconvert_exporter": "python",
   "pygments_lexer": "ipython3",
   "version": "3.13.1"
  }
 },
 "nbformat": 4,
 "nbformat_minor": 5
}
