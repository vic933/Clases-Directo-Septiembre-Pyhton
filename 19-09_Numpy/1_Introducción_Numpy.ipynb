{
 "cells": [
  {
   "cell_type": "markdown",
   "metadata": {
    "editable": true
   },
   "source": [
    "# Introducción a NumPy"
   ]
  },
  {
   "cell_type": "markdown",
   "metadata": {
    "editable": true
   },
   "source": [
    "### ¿Qué es NumPy?\n",
    "NumPy (Numerical Python) es una librería fundamental para la computación científica en Python. Proporciona un objeto poderoso llamado array (arreglo), que es similar a una lista de Python, pero mucho más eficiente en términos de memoria y velocidad cuando se realizan cálculos matemáticos y científicos.\n",
    "\n",
    "### Dónde encontrar documentación oficial:\n",
    "\n",
    "http://www.numpy.org\n",
    "\n",
    "### ¿Por qué usar NumPy?\n",
    "- Velocidad: Los arrays de NumPy son más rápidos y ocupan menos espacio en comparación con las listas de Python.\n",
    "- Operaciones vectorizadas: NumPy permite realizar operaciones matemáticas en vectores y matrices sin la necesidad de escribir bucles explícitos, lo que lo hace más eficiente.\n",
    "- Funciones matemáticas avanzadas: Ofrece un conjunto amplio de funciones para álgebra lineal, transformadas de Fourier, estadísticas, etc.\n"
   ]
  },
  {
   "cell_type": "code",
   "execution_count": 38,
   "metadata": {
    "collapsed": false,
    "editable": true,
    "jupyter": {
     "outputs_hidden": false
    }
   },
   "outputs": [],
   "source": [
    "# Nos importamos la librería y vemos qué vesión tenemos \n",
    "import numpy as np\n"
   ]
  },
  {
   "cell_type": "markdown",
   "metadata": {},
   "source": [
    "Muchas personas utilizan la abreviatura de ``np`` como alias de Numpy:\n",
    "```Python\n",
    "        import numpy as np\n",
    "```"
   ]
  },
  {
   "cell_type": "code",
   "execution_count": 39,
   "metadata": {},
   "outputs": [],
   "source": [
    "import numpy as np"
   ]
  },
  {
   "cell_type": "markdown",
   "metadata": {},
   "source": [
    "1. Creación de arreglos (arrays)\n",
    "En NumPy, los arreglos son similares a las listas de Python, pero son más rápidos y consumen menos memoria.\n",
    "\n",
    "`Nota: Un array, es un tipo de dato estructurado que permite almacenar un conjunto de datos homogeneo, es decir, todos ellos del mismo tipo y relacionados. `"
   ]
  },
  {
   "cell_type": "markdown",
   "metadata": {},
   "source": [
    "Definimos tres matrices aleatorias, una matriz unidimensional, bidimensional y tridimensional.\n",
    "Usaremos el generador de números aleatorios de NumPy, que *sembraremos* con un valor establecido para garantizar que se generen las mismas matrices aleatorias cada vez que se ejecuta este código:\n",
    "- randon.seed = es una función en la biblioteca NumPy que establece la semilla para generar números aleatorios.\n",
    "- randon.randint = devuelve números enteros aleatorios desde bajo (inclusive) hasta alto (exclusivo). \n",
    "    - Sintaxis: random.randint(low, high=None, size=None, dtype=int)"
   ]
  },
  {
   "cell_type": "code",
   "execution_count": 40,
   "metadata": {},
   "outputs": [],
   "source": [
    "x1 = np.random.randint(10, size=6)  # array de una dimensión\n",
    "x2 = np.random.randint(10, size=(3, 4))  # array de dos dimensiones\n",
    "x3 = np.random.randint(10, size=(3, 4, 5))  # array de tres dimensiones"
   ]
  },
  {
   "cell_type": "code",
   "execution_count": 41,
   "metadata": {},
   "outputs": [
    {
     "name": "stdout",
     "output_type": "stream",
     "text": [
      "soy un arrauy de un dimension\n",
      "[4 3 4 4 8 4]\n",
      "soy un arrauy de dos dimensiones\n",
      "[[3 7 5 5]\n",
      " [0 1 5 9]\n",
      " [3 0 5 0]]\n",
      "soy un arrauy de tres dimensiones\n",
      "[[[1 2 4 2 0]\n",
      "  [3 2 0 7 5]\n",
      "  [9 0 2 7 2]\n",
      "  [9 2 3 3 2]]\n",
      "\n",
      " [[3 4 1 2 9]\n",
      "  [1 4 6 8 2]\n",
      "  [3 0 0 6 0]\n",
      "  [6 3 3 8 8]]\n",
      "\n",
      " [[8 2 3 2 0]\n",
      "  [8 8 3 8 2]\n",
      "  [8 4 3 0 4]\n",
      "  [3 6 9 8 0]]]\n"
     ]
    }
   ],
   "source": [
    "print('soy un arrauy de un dimension')\n",
    "print(x1)\n",
    "print('soy un arrauy de dos dimensiones')\n",
    "print(x2)\n",
    "print('soy un arrauy de tres dimensiones')\n",
    "print(x3)"
   ]
  },
  {
   "cell_type": "code",
   "execution_count": 42,
   "metadata": {},
   "outputs": [],
   "source": [
    "np.random.seed(0) #seed se utiliza si queremos dejar fija la semilla de números aleatorios que genermos\n",
    "\n",
    "x1 = np.random.randint(10, size=6)  # array de una dimensión\n",
    "x2 = np.random.randint(10, size=(3, 4))  # array de dos dimensiones\n",
    "x3 = np.random.randint(10, size=(3, 4, 5))  # array de tres dimensiones"
   ]
  },
  {
   "cell_type": "code",
   "execution_count": 43,
   "metadata": {},
   "outputs": [
    {
     "name": "stdout",
     "output_type": "stream",
     "text": [
      "array de una sóla dimentsión [5 0 3 3 7 9]\n"
     ]
    }
   ],
   "source": [
    "print(f\"array de una sóla dimentsión {x1}\")  # size=6"
   ]
  },
  {
   "cell_type": "code",
   "execution_count": 44,
   "metadata": {},
   "outputs": [
    {
     "name": "stdout",
     "output_type": "stream",
     "text": [
      "array de dos dimentsiones [[3 5 2 4]\n",
      " [7 6 8 8]\n",
      " [1 6 7 7]]\n"
     ]
    }
   ],
   "source": [
    "print(f\"array de dos dimentsiones {x2}\") # size=(3, 4)"
   ]
  },
  {
   "cell_type": "code",
   "execution_count": 45,
   "metadata": {},
   "outputs": [
    {
     "name": "stdout",
     "output_type": "stream",
     "text": [
      "array de tres dimentsiones [[[8 1 5 9 8]\n",
      "  [9 4 3 0 3]\n",
      "  [5 0 2 3 8]\n",
      "  [1 3 3 3 7]]\n",
      "\n",
      " [[0 1 9 9 0]\n",
      "  [4 7 3 2 7]\n",
      "  [2 0 0 4 5]\n",
      "  [5 6 8 4 1]]\n",
      "\n",
      " [[4 9 8 1 1]\n",
      "  [7 9 9 3 6]\n",
      "  [7 2 0 3 5]\n",
      "  [9 4 4 6 4]]]\n"
     ]
    }
   ],
   "source": [
    "print(f\"array de tres dimentsiones {x3}\") # size=(3, 4, 5)"
   ]
  },
  {
   "cell_type": "markdown",
   "metadata": {},
   "source": [
    "*    Crear un array de NumPy desde una lista:"
   ]
  },
  {
   "cell_type": "code",
   "execution_count": 46,
   "metadata": {},
   "outputs": [
    {
     "name": "stdout",
     "output_type": "stream",
     "text": [
      "[1 2 3 4]\n"
     ]
    }
   ],
   "source": [
    "# Crear un array unidimensional desde una lista y llo almaceno desde una variable\n",
    "array = np.array([1, 2, 3, 4])\n",
    "print(array)"
   ]
  },
  {
   "cell_type": "code",
   "execution_count": 47,
   "metadata": {},
   "outputs": [
    {
     "name": "stdout",
     "output_type": "stream",
     "text": [
      "[2 4 6 8]\n"
     ]
    }
   ],
   "source": [
    "# Realizar operaciones vectorizadas\n",
    "print(array * 2)  # Multiplica cada elemento por 2"
   ]
  },
  {
   "cell_type": "code",
   "execution_count": 48,
   "metadata": {},
   "outputs": [
    {
     "name": "stdout",
     "output_type": "stream",
     "text": [
      "[[1 2 3]\n",
      " [4 5 6]]\n"
     ]
    }
   ],
   "source": [
    "# array 2D (matriz)\n",
    "arr_2d = np.array([[1, 2, 3], [4, 5, 6]])\n",
    "print(arr_2d)"
   ]
  },
  {
   "cell_type": "markdown",
   "metadata": {},
   "source": [
    "2. Propiedades de los array\n",
    "Una vez que tienes un arreglo de NumPy, puedes obtener información sobre él, como su forma, tamaño y tipo de datos.\n",
    "\n",
    "    - shape: devuelve una tupla con cada índice con el número de elementos correspondientes.\n",
    "    - size: atributo que obtiene el número total de elementos, de una matriz NumPy.\n",
    "    - dtype: devuelve el tipo de datos de la matriz."
   ]
  },
  {
   "cell_type": "code",
   "execution_count": 49,
   "metadata": {},
   "outputs": [
    {
     "name": "stdout",
     "output_type": "stream",
     "text": [
      "Forma del arreglo: (2, 3)\n"
     ]
    }
   ],
   "source": [
    "print(\"Forma del arreglo:\", arr_2d.shape)   # Dimensiones del arreglo , devuelve el tamaño de la lsita (2, 3) "
   ]
  },
  {
   "cell_type": "code",
   "execution_count": 50,
   "metadata": {},
   "outputs": [
    {
     "name": "stdout",
     "output_type": "stream",
     "text": [
      "Tamaño del arreglo: 6\n"
     ]
    }
   ],
   "source": [
    "print(\"Tamaño del arreglo:\", arr_2d.size)   # Número total de elementos\n"
   ]
  },
  {
   "cell_type": "code",
   "execution_count": 51,
   "metadata": {},
   "outputs": [
    {
     "name": "stdout",
     "output_type": "stream",
     "text": [
      "Tipo de datos: int64\n"
     ]
    }
   ],
   "source": [
    "print(\"Tipo de datos:\", arr_2d.dtype)       # Tipo de dato de los elementos"
   ]
  },
  {
   "cell_type": "markdown",
   "metadata": {},
   "source": [
    "3. Funciones de creación de arreglos\n",
    "NumPy tiene varias funciones útiles para crear arreglos rápidamente:\n",
    "    * np.zeros(): Crea un arreglo de ceros\n",
    "    * np.ones(): Crea un arreglo de unos\n",
    "    * np.arange(): Crea un arreglo con un rango de valores\n",
    "    * np.linspace(): Genera números equiespaciados en un rango\n",
    "\n",
    "Ejemplos:    \n"
   ]
  },
  {
   "cell_type": "code",
   "execution_count": 52,
   "metadata": {},
   "outputs": [
    {
     "name": "stdout",
     "output_type": "stream",
     "text": [
      "[[0. 0. 0.]\n",
      " [0. 0. 0.]]\n"
     ]
    }
   ],
   "source": [
    "# np.zeros():\n",
    "\n",
    "zeros_array = np.zeros((2, 3))  # Matriz 2x3 llena de ceros\n",
    "print(zeros_array)"
   ]
  },
  {
   "cell_type": "code",
   "execution_count": 53,
   "metadata": {},
   "outputs": [
    {
     "name": "stdout",
     "output_type": "stream",
     "text": [
      "[[1. 1.]\n",
      " [1. 1.]\n",
      " [1. 1.]]\n"
     ]
    }
   ],
   "source": [
    "# np.ones():\n",
    "\n",
    "ones_array = np.ones((3, 2))    # Matriz 3x2 llena de unos\n",
    "print(ones_array)"
   ]
  },
  {
   "cell_type": "code",
   "execution_count": 54,
   "metadata": {},
   "outputs": [
    {
     "name": "stdout",
     "output_type": "stream",
     "text": [
      "[0 2 4 6 8]\n"
     ]
    }
   ],
   "source": [
    "# np.arange():\n",
    "\n",
    "range_array = np.arange(0, 10, 2)  # Números del 0 al 9, con paso de 2\n",
    "print(range_array)"
   ]
  },
  {
   "cell_type": "code",
   "execution_count": 55,
   "metadata": {},
   "outputs": [
    {
     "name": "stdout",
     "output_type": "stream",
     "text": [
      "[0.   0.25 0.5  0.75 1.  ]\n"
     ]
    }
   ],
   "source": [
    "# np.linspace():\n",
    "\n",
    "linspace_array = np.linspace(0, 1, 5)  # 5 valores entre 0 y 1, equidistantes\n",
    "print(linspace_array)"
   ]
  },
  {
   "cell_type": "markdown",
   "metadata": {},
   "source": [
    "4. Operaciones aritméticas con arreglos\n",
    "NumPy permite realizar operaciones matemáticas en arreglos de forma rápida y eficiente.\n",
    "    * Suma y resta\n",
    "    * Multiplicación y división\n",
    "    * Operaciones con escalares\n",
    "    "
   ]
  },
  {
   "cell_type": "code",
   "execution_count": 56,
   "metadata": {},
   "outputs": [],
   "source": [
    "# Temenos dos array\n",
    "arr1 = np.array([1, 2, 3])\n",
    "arr2 = np.array([4, 5, 6])"
   ]
  },
  {
   "cell_type": "code",
   "execution_count": 57,
   "metadata": {},
   "outputs": [
    {
     "name": "stdout",
     "output_type": "stream",
     "text": [
      "Suma: [5 7 9]\n"
     ]
    }
   ],
   "source": [
    "# Suma de array\n",
    "suma = arr1 + arr2\n",
    "print(\"Suma:\", suma)"
   ]
  },
  {
   "cell_type": "code",
   "execution_count": 58,
   "metadata": {},
   "outputs": [
    {
     "name": "stdout",
     "output_type": "stream",
     "text": [
      "Resta: [3 3 3]\n"
     ]
    }
   ],
   "source": [
    "# Resta de array\n",
    "resta = arr2 - arr1\n",
    "print(\"Resta:\", resta)"
   ]
  },
  {
   "cell_type": "code",
   "execution_count": 59,
   "metadata": {},
   "outputs": [
    {
     "name": "stdout",
     "output_type": "stream",
     "text": [
      "Multiplicación: [ 4 10 18]\n"
     ]
    }
   ],
   "source": [
    "# Multiplicación elemento a elemento\n",
    "multiplicacion = arr1 * arr2\n",
    "print(\"Multiplicación:\", multiplicacion)"
   ]
  },
  {
   "cell_type": "code",
   "execution_count": 60,
   "metadata": {},
   "outputs": [
    {
     "name": "stdout",
     "output_type": "stream",
     "text": [
      "División: [4.  2.5 2. ]\n"
     ]
    }
   ],
   "source": [
    "# División elemento a elemento\n",
    "division = arr2 / arr1\n",
    "print(\"División:\", division)"
   ]
  },
  {
   "cell_type": "code",
   "execution_count": 61,
   "metadata": {},
   "outputs": [
    {
     "name": "stdout",
     "output_type": "stream",
     "text": [
      "Multiplicado por 2: [2 4 6]\n"
     ]
    }
   ],
   "source": [
    "# Multiplicar todo el array por un escalar\n",
    "escalar_mult = arr1 * 2\n",
    "print(\"Multiplicado por 2:\", escalar_mult)"
   ]
  },
  {
   "cell_type": "markdown",
   "metadata": {},
   "source": [
    "5. Indexación y segmentación (slicing)\n",
    "Puedes acceder a los elementos de un arreglo o extraer subarreglos usando índices, de manera similar a las listas de Python.\n",
    "    * Acceso a elementos\n",
    "    * Segmentación (slicing)\n",
    "    * Indexación de arreglos 2D"
   ]
  },
  {
   "cell_type": "markdown",
   "metadata": {},
   "source": [
    "5. 1 Acceso a los elementos\n",
    "Así como podemos usar corchetes para acceder a elementos de matriz individuales, también podemos usarlos para acceder a submatrices con la notación *slice*, marcada por el carácter de dos puntos (``:``).\n",
    "La sintaxis de corte de NumPy sigue la de la lista estándar de Python; para acceder a una porción de una matriz ``x``, use esto:\n",
    "``` python\n",
    "        x[inicio:parada:paso]\n",
    "```\n",
    "Si alguno de estos no está especificado, su valor predeterminado es ``start=0``, ``stop=``*``tamaño de dimensión``*, ``step=1``.\n",
    "Veremos cómo acceder a submatrices en una dimensión y en múltiples dimensiones."
   ]
  },
  {
   "cell_type": "code",
   "execution_count": 62,
   "metadata": {},
   "outputs": [
    {
     "name": "stdout",
     "output_type": "stream",
     "text": [
      "Acedemos al primer elemento 1\n",
      "Acedemos al último elemento 3\n"
     ]
    }
   ],
   "source": [
    "print(f\"Acedemos al primer elemento {arr1[0]}\")  # Primer elemento\n",
    "print(f\"Acedemos al último elemento {arr1[-1]}\") # Último elemento"
   ]
  },
  {
   "cell_type": "code",
   "execution_count": 63,
   "metadata": {},
   "outputs": [
    {
     "name": "stdout",
     "output_type": "stream",
     "text": [
      "[20 30]\n"
     ]
    }
   ],
   "source": [
    "arr = np.array([10, 20, 30, 40, 50])\n",
    "\n",
    "# Extraer un subarray (del índice 1 al 3, sin incluir el 3)\n",
    "sub_arr = arr[1:3]\n",
    "print(sub_arr)"
   ]
  },
  {
   "cell_type": "code",
   "execution_count": 64,
   "metadata": {},
   "outputs": [
    {
     "name": "stdout",
     "output_type": "stream",
     "text": [
      "Nuestro elemento específico es 6\n"
     ]
    }
   ],
   "source": [
    "arr_2d = np.array([[1, 2, 3], [4, 5, 6], [7, 8, 9]])\n",
    "\n",
    "# Acceder a un elemento específico\n",
    "print(f\"Nuestro elemento específico es {arr_2d[1, 2]}\")  # Elemento en la segunda fila, tercera columna (6)\n",
    "\n"
   ]
  },
  {
   "cell_type": "code",
   "execution_count": 65,
   "metadata": {},
   "outputs": [
    {
     "name": "stdout",
     "output_type": "stream",
     "text": [
      "Nuestra fila completa es [1 2 3]\n"
     ]
    }
   ],
   "source": [
    "# Acceder a una fila completa\n",
    "print(f\"Nuestra fila completa es {arr_2d[0, :]}\")  # Primera fila completa\n",
    "\n"
   ]
  },
  {
   "cell_type": "code",
   "execution_count": 66,
   "metadata": {},
   "outputs": [
    {
     "data": {
      "text/plain": [
       "array([[1, 2, 3],\n",
       "       [4, 5, 6],\n",
       "       [7, 8, 9]])"
      ]
     },
     "execution_count": 66,
     "metadata": {},
     "output_type": "execute_result"
    }
   ],
   "source": [
    "arr_2d"
   ]
  },
  {
   "cell_type": "code",
   "execution_count": 67,
   "metadata": {},
   "outputs": [
    {
     "name": "stdout",
     "output_type": "stream",
     "text": [
      "Nuestra columna completa es [2 5 8]\n"
     ]
    }
   ],
   "source": [
    "# Acceder a una columna completa\n",
    "print(f\"Nuestra columna completa es {arr_2d[:, 1]}\")  # Segunda columna completa"
   ]
  },
  {
   "cell_type": "markdown",
   "metadata": {},
   "source": [
    "6. Operaciones agregadas\n",
    "NumPy incluye funciones para realizar operaciones agregadas en los array, como encontrar el valor máximo, mínimo o el promedio."
   ]
  },
  {
   "cell_type": "code",
   "execution_count": 68,
   "metadata": {},
   "outputs": [
    {
     "name": "stdout",
     "output_type": "stream",
     "text": [
      "Suma total: 45\n"
     ]
    }
   ],
   "source": [
    "# Sumar los elementos de un array\n",
    "print(\"Suma total:\", np.sum(arr_2d))"
   ]
  },
  {
   "cell_type": "code",
   "execution_count": 69,
   "metadata": {},
   "outputs": [
    {
     "name": "stdout",
     "output_type": "stream",
     "text": [
      "Máximo: 9\n",
      "Mínimo: 1\n"
     ]
    }
   ],
   "source": [
    "# Encontrar el valor máximo y mínimo\n",
    "print(\"Máximo:\", np.max(arr_2d))\n",
    "print(\"Mínimo:\", np.min(arr_2d))"
   ]
  },
  {
   "cell_type": "code",
   "execution_count": 70,
   "metadata": {},
   "outputs": [
    {
     "data": {
      "text/plain": [
       "array([[1, 2, 3],\n",
       "       [4, 5, 6],\n",
       "       [7, 8, 9]])"
      ]
     },
     "execution_count": 70,
     "metadata": {},
     "output_type": "execute_result"
    }
   ],
   "source": [
    "arr_2d"
   ]
  },
  {
   "cell_type": "code",
   "execution_count": 71,
   "metadata": {},
   "outputs": [
    {
     "name": "stdout",
     "output_type": "stream",
     "text": [
      "Promedio: 5.0\n",
      "Desviación estándar: 2.581988897471611\n"
     ]
    }
   ],
   "source": [
    "# Calcular el promedio y la desviación estándar\n",
    "print(\"Promedio:\", np.mean(arr_2d))\n",
    "print(\"Desviación estándar:\", np.std(arr_2d))"
   ]
  },
  {
   "cell_type": "markdown",
   "metadata": {},
   "source": [
    "7. Manipulación de arreglos\n",
    "Puedes cambiar la forma de un arreglo usando reshape, o combinar varios arreglos."
   ]
  },
  {
   "cell_type": "code",
   "execution_count": 72,
   "metadata": {},
   "outputs": [],
   "source": [
    "# Cambiar la forma de un array (reshape)\n",
    "arr = np.array([1, 2, 3, 4, 5, 6])\n",
    "reshaped_arr = arr.reshape((2, 3))  # Cambiar a un array 2x3\n"
   ]
  },
  {
   "cell_type": "code",
   "execution_count": 73,
   "metadata": {},
   "outputs": [
    {
     "data": {
      "text/plain": [
       "array([1, 2, 3, 4, 5, 6])"
      ]
     },
     "execution_count": 73,
     "metadata": {},
     "output_type": "execute_result"
    }
   ],
   "source": [
    "arr"
   ]
  },
  {
   "cell_type": "code",
   "execution_count": 74,
   "metadata": {},
   "outputs": [
    {
     "data": {
      "text/plain": [
       "array([[1, 2, 3],\n",
       "       [4, 5, 6]])"
      ]
     },
     "execution_count": 74,
     "metadata": {},
     "output_type": "execute_result"
    }
   ],
   "source": [
    "reshaped_arr"
   ]
  },
  {
   "cell_type": "code",
   "execution_count": 75,
   "metadata": {},
   "outputs": [
    {
     "name": "stdout",
     "output_type": "stream",
     "text": [
      "Mi array original es [1 2 3 4 5 6]\n",
      "-------------------------------------------------\n",
      "Mi array modificado es [[1 2 3]\n",
      " [4 5 6]]\n"
     ]
    }
   ],
   "source": [
    "print(f\"Mi array original es {arr}\")\n",
    "print(\"-------------------------------------------------\")\n",
    "print(f\"Mi array modificado es {reshaped_arr}\")"
   ]
  },
  {
   "cell_type": "code",
   "execution_count": 76,
   "metadata": {},
   "outputs": [
    {
     "name": "stdout",
     "output_type": "stream",
     "text": [
      "[1 2 3 4 5 6]\n"
     ]
    }
   ],
   "source": [
    "#Concatenar array\n",
    "arr1 = np.array([1, 2, 3])\n",
    "arr2 = np.array([4, 5, 6])\n",
    "\n",
    "# Concatenar dos array\n",
    "concatenated = np.concatenate((arr1, arr2))\n",
    "print(concatenated)"
   ]
  },
  {
   "cell_type": "markdown",
   "metadata": {},
   "source": [
    "8. Funciones matemáticas\n",
    "NumPy incluye muchas funciones matemáticas que puedes aplicar a los arreglos:"
   ]
  },
  {
   "cell_type": "code",
   "execution_count": 77,
   "metadata": {},
   "outputs": [
    {
     "name": "stdout",
     "output_type": "stream",
     "text": [
      "[1. 2. 3. 4.]\n"
     ]
    }
   ],
   "source": [
    "arr = np.array([1, 4, 9, 16])\n",
    "\n",
    "# Raíz cuadrada de cada elemento\n",
    "print(np.sqrt(arr))"
   ]
  },
  {
   "cell_type": "code",
   "execution_count": 78,
   "metadata": {},
   "outputs": [
    {
     "name": "stdout",
     "output_type": "stream",
     "text": [
      "[2.71828183e+00 5.45981500e+01 8.10308393e+03 8.88611052e+06]\n"
     ]
    }
   ],
   "source": [
    "# Exponencial (e^x) de cada elemento\n",
    "print(np.exp(arr)) "
   ]
  },
  {
   "cell_type": "code",
   "execution_count": 79,
   "metadata": {},
   "outputs": [
    {
     "name": "stdout",
     "output_type": "stream",
     "text": [
      "el seno de angles es: [0.0000000e+00 1.0000000e+00 1.2246468e-16]\n",
      "el coseno de angles es: [ 1.000000e+00  6.123234e-17 -1.000000e+00]\n"
     ]
    }
   ],
   "source": [
    "# Trigonometría\n",
    "\n",
    "angles = np.array([0, np.pi/2, np.pi])\n",
    "\n",
    "    # Seno de los ángulos\n",
    "print(f\"el seno de angles es: {np.sin(angles)}\")\n",
    "\n",
    "    # Coseno de los ángulos\n",
    "print(f\"el coseno de angles es: {np.cos(angles)}\")"
   ]
  },
  {
   "cell_type": "markdown",
   "metadata": {},
   "source": [
    "---\n",
    "### Vemos algunos Ejemplos de los metodos mas comunes de los Array:\n",
    "---"
   ]
  },
  {
   "cell_type": "markdown",
   "metadata": {},
   "source": [
    "## 1. Crear arrays\n",
    "\n",
    "- `np.array([1, 2, 3])`: Convierte una lista en un array de numpy.\n",
    "- `np.zeros((2, 3))`: Crea un array de ceros con forma \\(2 \\times 3\\).\n",
    "- `np.ones((3, 4))`: Crea un array de unos con forma \\(3 \\times 4\\).\n",
    "- `np.full((2, 2), 7)`: Crea un array \\(2 \\times 2\\) lleno con el número 7.\n",
    "- `np.eye(3)`: Crea una matriz identidad \\(3 \\times 3\\).\n",
    "- `np.arange(0, 10, 2)`: Crea un array de números desde 0 hasta 10, con un paso de 2.\n",
    "- `np.linspace(0, 1, 5)`: Genera 5 números equidistantes entre 0 y 1."
   ]
  },
  {
   "cell_type": "code",
   "execution_count": 80,
   "metadata": {},
   "outputs": [
    {
     "name": "stdout",
     "output_type": "stream",
     "text": [
      "Array a partir de una lista de Python:\n",
      "[1 2 3]\n",
      "Array de ceros con forma (2, 3):\n",
      "[[0. 0. 0.]\n",
      " [0. 0. 0.]]\n",
      "Array de unos con forma (3, 4):\n",
      "[[1. 1. 1. 1.]\n",
      " [1. 1. 1. 1.]\n",
      " [1. 1. 1. 1.]]\n",
      "Array lleno con el valor 7 de forma (2, 2):\n",
      "[[7 7]\n",
      " [7 7]]\n",
      "Matriz identidad de tamaño 3x3:\n",
      "[[1. 0. 0.]\n",
      " [0. 1. 0.]\n",
      " [0. 0. 1.]]\n",
      "Array con rango de valores desde 0 hasta 10 (sin incluir) con paso 2:\n",
      "[0 2 4 6 8]\n",
      "Array con 5 valores equiespaciados entre 0 y 1:\n",
      "[0.   0.25 0.5  0.75 1.  ]\n"
     ]
    }
   ],
   "source": [
    "import numpy as np\n",
    "\n",
    "# 1. Crear arrays\n",
    "array1 = np.array([1, 2, 3])\n",
    "print(f\"Array a partir de una lista de Python:\\n{array1}\")\n",
    "\n",
    "array2 = np.zeros((2, 3))\n",
    "print(f\"Array de ceros con forma (2, 3):\\n{array2}\")\n",
    "\n",
    "array3 = np.ones((3, 4))\n",
    "print(f\"Array de unos con forma (3, 4):\\n{array3}\")\n",
    "\n",
    "array4 = np.full((2, 2), 7)\n",
    "print(f\"Array lleno con el valor 7 de forma (2, 2):\\n{array4}\")\n",
    "\n",
    "identity = np.eye(3)\n",
    "print(f\"Matriz identidad de tamaño 3x3:\\n{identity}\")\n",
    "\n",
    "arange_array = np.arange(0, 10, 2)\n",
    "print(f\"Array con rango de valores desde 0 hasta 10 (sin incluir) con paso 2:\\n{arange_array}\")\n",
    "\n",
    "linspace_array = np.linspace(0, 1, 5)\n",
    "print(f\"Array con 5 valores equiespaciados entre 0 y 1:\\n{linspace_array}\")"
   ]
  },
  {
   "cell_type": "markdown",
   "metadata": {},
   "source": [
    "## 2. Propiedades del array\n",
    "\n",
    "- `array.shape`: Obtiene la forma (dimensiones) del array.\n",
    "- `array.size`: Devuelve el número total de elementos en el array.\n",
    "- `array.ndim`: Muestra el número de dimensiones del array.\n",
    "- `array.dtype`: Muestra el tipo de datos de los elementos del array."
   ]
  },
  {
   "cell_type": "code",
   "execution_count": 81,
   "metadata": {},
   "outputs": [
    {
     "name": "stdout",
     "output_type": "stream",
     "text": [
      "Forma del array (número de filas y columnas): (3, 4)\n",
      "Número total de elementos en el array: 12\n",
      "Número de dimensiones del array: 2\n",
      "Tipo de dato de los elementos del array: float64\n"
     ]
    }
   ],
   "source": [
    "shape = array3.shape\n",
    "print(f\"Forma del array (número de filas y columnas): {shape}\")\n",
    "\n",
    "size = array3.size\n",
    "print(f\"Número total de elementos en el array: {size}\")\n",
    "\n",
    "ndim = array3.ndim\n",
    "print(f\"Número de dimensiones del array: {ndim}\")\n",
    "\n",
    "dtype = array3.dtype\n",
    "print(f\"Tipo de dato de los elementos del array: {dtype}\")"
   ]
  },
  {
   "cell_type": "markdown",
   "metadata": {},
   "source": [
    "\n",
    "## 3. Operaciones matemáticas\n",
    "\n",
    "- `np.add(array1, array2)`: Suma dos arrays elemento a elemento.\n",
    "- `np.subtract(array1, array2)`: Resta dos arrays elemento a elemento.\n",
    "- `np.multiply(array1, array2)`: Multiplica dos arrays elemento a elemento.\n",
    "- `np.divide(array1, array2)`: Divide dos arrays elemento a elemento.\n",
    "- `np.sqrt(array)`: Calcula la raíz cuadrada de cada elemento.\n",
    "- `np.exp(array)`: Calcula el exponente de cada elemento.\n",
    "- `np.log(array)`: Calcula el logaritmo natural de cada elemento.\n",
    "- `np.abs(array)`: Calcula el valor absoluto de cada elemento.\n",
    "- `np.power(array, n)`: Eleva cada elemento del array a la potencia \\(n\\)."
   ]
  },
  {
   "cell_type": "code",
   "execution_count": 82,
   "metadata": {},
   "outputs": [
    {
     "name": "stdout",
     "output_type": "stream",
     "text": [
      "Array 1 : \n",
      "[1 2 3]\n",
      "Suma de array1 con [4, 5, 6]:\n",
      " [5 7 9]\n",
      "Resta de array1 menos [1, 1, 1]:\n",
      "[0 1 2]\n",
      "Multiplicación elemento a elemento entre array1 y [2, 2, 2]:\n",
      "[2 4 6]\n",
      "División elemento a elemento entre array1 y [1, 2, 3]:\n",
      "[1. 1. 1.]\n",
      "Raíz cuadrada de cada elemento en array1:\n",
      "[1.         1.41421356 1.73205081]\n",
      "Exponencial de cada elemento en array1:\n",
      "[ 2.71828183  7.3890561  20.08553692]\n",
      "Logaritmo natural de cada elemento en array1:\n",
      "[0.         0.69314718 1.09861229]\n",
      "Valor absoluto de la lista [-1, -2, -3]:\n",
      "[1 2 3]\n",
      "Potencia de cada elemento de array1 elevado al cuadrado:\n",
      "[1 4 9]\n"
     ]
    }
   ],
   "source": [
    "print(f\"Array 1 : \\n{array1}\")\n",
    "\n",
    "sum_result = np.add(array1, [4, 5, 6])\n",
    "print(f\"Suma de array1 con [4, 5, 6]:\\n {sum_result}\")\n",
    "\n",
    "subtract_result = np.subtract(array1, [1, 1, 1])\n",
    "print(f\"Resta de array1 menos [1, 1, 1]:\\n{subtract_result}\")\n",
    "\n",
    "multiply_result = np.multiply(array1, [2, 2, 2])\n",
    "print(f\"Multiplicación elemento a elemento entre array1 y [2, 2, 2]:\\n{multiply_result}\")\n",
    "\n",
    "divide_result = np.divide(array1, [1, 2, 3])\n",
    "print(f\"División elemento a elemento entre array1 y [1, 2, 3]:\\n{divide_result}\")\n",
    "\n",
    "sqrt_result = np.sqrt(array1)\n",
    "print(f\"Raíz cuadrada de cada elemento en array1:\\n{sqrt_result}\")\n",
    "\n",
    "exp_result = np.exp(array1)\n",
    "print(f\"Exponencial de cada elemento en array1:\\n{exp_result}\")\n",
    "\n",
    "log_result = np.log(array1)\n",
    "print(f\"Logaritmo natural de cada elemento en array1:\\n{log_result}\")\n",
    "\n",
    "abs_result = np.abs([-1, -2, -3])\n",
    "print(f\"Valor absoluto de la lista [-1, -2, -3]:\\n{abs_result}\")\n",
    "\n",
    "power_result = np.power(array1, 2)\n",
    "print(f\"Potencia de cada elemento de array1 elevado al cuadrado:\\n{power_result}\")\n"
   ]
  },
  {
   "cell_type": "markdown",
   "metadata": {},
   "source": [
    "## 4. Estadísticas básicas\n",
    "\n",
    "- `array.sum()`: Suma todos los elementos del array.\n",
    "- `array.mean()`: Calcula la media de los elementos.\n",
    "- `array.std()`: Calcula la desviación estándar.\n",
    "- `array.var()`: Calcula la varianza.\n",
    "- `array.min()`: Encuentra el valor mínimo.\n",
    "- `array.max()`: Encuentra el valor máximo.\n",
    "- `array.argmin()`: Índice del valor mínimo en el array.\n",
    "- `array.argmax()`: Índice del valor máximo en el array."
   ]
  },
  {
   "cell_type": "code",
   "execution_count": 83,
   "metadata": {},
   "outputs": [
    {
     "name": "stdout",
     "output_type": "stream",
     "text": [
      "Array 3 : \n",
      "[[1. 1. 1. 1.]\n",
      " [1. 1. 1. 1.]\n",
      " [1. 1. 1. 1.]]\n",
      "Suma total de todos los elementos en array3:\n",
      "12.0\n",
      "Media (promedio) de los elementos en array3:\n",
      "1.0\n",
      "Desviación estándar de los elementos en array3:\n",
      "0.0\n",
      "Varianza de los elementos en array3:\n",
      "0.0\n",
      "Valor mínimo en array3:\n",
      "1.0\n",
      "Valor máximo en array3:\n",
      "1.0\n",
      "Índice del valor mínimo (en el array aplanado):\n",
      "0\n",
      "Índice del valor máximo (en el array aplanado):\n",
      "0\n"
     ]
    }
   ],
   "source": [
    "print(f\"Array 3 : \\n{array3}\")\n",
    "sum_total = array3.sum()\n",
    "print(f\"Suma total de todos los elementos en array3:\\n{sum_total}\")\n",
    "\n",
    "mean = array3.mean()\n",
    "print(f\"Media (promedio) de los elementos en array3:\\n{mean}\")\n",
    "\n",
    "std_dev = array3.std()\n",
    "print(f\"Desviación estándar de los elementos en array3:\\n{std_dev}\")\n",
    "\n",
    "variance = array3.var()\n",
    "print(f\"Varianza de los elementos en array3:\\n{variance}\")\n",
    "\n",
    "min_value = array3.min()\n",
    "print(f\"Valor mínimo en array3:\\n{min_value}\")\n",
    "\n",
    "max_value = array3.max()\n",
    "print(f\"Valor máximo en array3:\\n{max_value}\")\n",
    "\n",
    "argmin_value = array3.argmin()\n",
    "print(f\"Índice del valor mínimo (en el array aplanado):\\n{argmin_value}\")\n",
    "\n",
    "argmax_value = array3.argmax()\n",
    "print(f\"Índice del valor máximo (en el array aplanado):\\n{argmax_value}\")"
   ]
  },
  {
   "cell_type": "markdown",
   "metadata": {},
   "source": [
    "## 5. Manipulación de arrays\n",
    "\n",
    "- `array.reshape(new_shape)`: Cambia la forma del array sin cambiar sus datos.\n",
    "- `array.flatten()`: Convierte un array multidimensional en un array de una sola dimensión.\n",
    "- `array.transpose()`: Transpone el array (invierte filas y columnas).\n",
    "- `np.concatenate((array1, array2), axis=0)`: Une dos arrays a lo largo de un eje especificado.\n",
    "- `np.split(array, indices_or_sections)`: Divide un array en sub-arrays.\n",
    "- `np.append(array, values)`: Añade elementos al final de un array.\n",
    "- `np.insert(array, index, values)`: Inserta valores en un índice específico.\n",
    "- `np.delete(array, index)`: Elimina un elemento del array en el índice dado.\n"
   ]
  },
  {
   "cell_type": "code",
   "execution_count": 84,
   "metadata": {},
   "outputs": [
    {
     "name": "stdout",
     "output_type": "stream",
     "text": [
      "Array 3 : \n",
      "[[1. 1. 1. 1.]\n",
      " [1. 1. 1. 1.]\n",
      " [1. 1. 1. 1.]]\n",
      "Nuevo array con forma (4, 3) a partir de array3:\n",
      "[[1. 1. 1.]\n",
      " [1. 1. 1.]\n",
      " [1. 1. 1.]\n",
      " [1. 1. 1.]]\n",
      "Array aplanado (convertido en una sola dimensión):\n",
      "[1. 1. 1. 1. 1. 1. 1. 1. 1. 1. 1. 1.]\n",
      "Transpuesta del array3 (filas por columnas):\n",
      "[[1. 1. 1.]\n",
      " [1. 1. 1.]\n",
      " [1. 1. 1.]\n",
      " [1. 1. 1.]]\n",
      "Concatenación de array3 con otro array de unos de la misma forma:\n",
      "[[1. 1. 1. 1.]\n",
      " [1. 1. 1. 1.]\n",
      " [1. 1. 1. 1.]\n",
      " [0. 0. 0. 0.]\n",
      " [0. 0. 0. 0.]\n",
      " [0. 0. 0. 0.]]\n",
      "Array 3 : \n",
      "[1 2 3]\n",
      "División de array1 en 3 partes iguales:\n",
      "[array([1]), array([2]), array([3])]\n",
      "Array después de añadir elementos [4, 5, 6] al final:\n",
      "[1 2 3 4 5 6]\n",
      "Array después de insertar [7, 8] en la posición 1:\n",
      "[1 7 8 2 3]\n",
      "Array después de eliminar el elemento en la posición 1:\n",
      "[1 3]\n"
     ]
    }
   ],
   "source": [
    "print(f\"Array 3 : \\n{array3}\")\n",
    "\n",
    "reshaped_array = array3.reshape((4, 3))\n",
    "print(f\"Nuevo array con forma (4, 3) a partir de array3:\\n{reshaped_array}\")\n",
    "\n",
    "flattened_array = array3.flatten()\n",
    "print(f\"Array aplanado (convertido en una sola dimensión):\\n{flattened_array}\")\n",
    "\n",
    "transposed_array = array3.transpose()\n",
    "print(f\"Transpuesta del array3 (filas por columnas):\\n{transposed_array}\")\n",
    "\n",
    "concatenated_array = np.concatenate((array3, np.zeros((3, 4))), axis=0)\n",
    "print(f\"Concatenación de array3 con otro array de unos de la misma forma:\\n{concatenated_array}\")\n",
    "\n",
    "print(f\"Array 3 : \\n{array1}\")\n",
    "split_array = np.split(array1, 3)\n",
    "print(f\"División de array1 en 3 partes iguales:\\n{split_array}\")\n",
    "\n",
    "appended_array = np.append(array1, [4, 5, 6])\n",
    "print(f\"Array después de añadir elementos [4, 5, 6] al final:\\n{appended_array}\")\n",
    "\n",
    "inserted_array = np.insert(array1, 1, [7, 8])\n",
    "print(f\"Array después de insertar [7, 8] en la posición 1:\\n{inserted_array}\")\n",
    "\n",
    "deleted_array = np.delete(array1, 1)\n",
    "print(f\"Array después de eliminar el elemento en la posición 1:\\n{deleted_array}\")\n"
   ]
  },
  {
   "cell_type": "markdown",
   "metadata": {},
   "source": [
    "\n",
    "## 6. Indexación y slicing\n",
    "\n",
    "- `array[index]`: Accede al elemento en el índice especificado.\n",
    "- `array[start:stop:step]`: Slice del array desde `start` hasta `stop`, con un `step`.\n",
    "- `array[boolean_array]`: Filtra el array usando un array booleano."
   ]
  },
  {
   "cell_type": "code",
   "execution_count": 85,
   "metadata": {},
   "outputs": [
    {
     "name": "stdout",
     "output_type": "stream",
     "text": [
      "Elemento en la posición 0 de array1:\n",
      "1\n",
      "Subarray desde la posición 1 hasta la 3 de arange_array:\n",
      "[2 4 6]\n",
      "Elementos de array1 mayores a 1 (filtrado por condición):\n",
      "[2 3]\n"
     ]
    }
   ],
   "source": [
    "\n",
    "indexed_element = array1[0]\n",
    "print(f\"Elemento en la posición 0 de array1:\\n{indexed_element}\")\n",
    "\n",
    "sliced_array = arange_array[1:4]\n",
    "print(f\"Subarray desde la posición 1 hasta la 3 de arange_array:\\n{sliced_array}\")\n",
    "\n",
    "filtered_array = array1[array1 > 1]\n",
    "print(f\"Elementos de array1 mayores a 1 (filtrado por condición):\\n{filtered_array}\")"
   ]
  },
  {
   "cell_type": "markdown",
   "metadata": {},
   "source": [
    "## 7. Operaciones de álgebra lineal\n",
    "\n",
    "- `np.dot(array1, array2)`: Producto escalar entre dos arrays.\n",
    "- `np.matmul(array1, array2)`: Multiplicación de matrices.\n",
    "- `np.linalg.inv(matrix)`: Calcula la inversa de una matriz.\n",
    "- `np.linalg.det(matrix)`: Calcula el determinante de una matriz.\n",
    "- `np.linalg.eig(matrix)`: Calcula los valores y vectores propios de una matriz cuadrada."
   ]
  },
  {
   "cell_type": "code",
   "execution_count": 86,
   "metadata": {},
   "outputs": [
    {
     "name": "stdout",
     "output_type": "stream",
     "text": [
      "Producto punto (dot product) entre [1, 2] y [3, 4]:\n",
      "14\n",
      "Multiplicación de matrices (matrix1 x matrix2):\n",
      "[[19 22]\n",
      " [43 50]]\n",
      "Inversa de matrix1:\n",
      "[[-2.   1. ]\n",
      " [ 1.5 -0.5]]\n",
      "Determinante de matrix1:\n",
      "-2.0000000000000004\n",
      "Valores propios (eigenvalues) de matrix1:\n",
      "[-0.37228132  5.37228132]\n",
      "Vectores propios (eigenvectors) de matrix1:\n",
      "[[-0.82456484 -0.41597356]\n",
      " [ 0.56576746 -0.90937671]]\n"
     ]
    }
   ],
   "source": [
    "\n",
    "dot_product = np.dot([2, 2], [3, 4])\n",
    "print(f\"Producto punto (dot product) entre [1, 2] y [3, 4]:\\n{dot_product}\")\n",
    "\n",
    "matrix1 = np.array([[1, 2], [3, 4]])\n",
    "matrix2 = np.array([[5, 6], [7, 8]])\n",
    "\n",
    "matrix_mult = np.matmul(matrix1, matrix2)\n",
    "print(f\"Multiplicación de matrices (matrix1 x matrix2):\\n{matrix_mult}\")\n",
    "\n",
    "matrix_inv = np.linalg.inv(matrix1)\n",
    "print(f\"Inversa de matrix1:\\n{matrix_inv}\")\n",
    "\n",
    "matrix_det = np.linalg.det(matrix1)\n",
    "print(f\"Determinante de matrix1:\\n{matrix_det}\")\n",
    "\n",
    "eigenvalues, eigenvectors = np.linalg.eig(matrix1)\n",
    "print(f\"Valores propios (eigenvalues) de matrix1:\\n{eigenvalues}\")\n",
    "print(f\"Vectores propios (eigenvectors) de matrix1:\\n{eigenvectors}\")"
   ]
  },
  {
   "cell_type": "markdown",
   "metadata": {},
   "source": [
    "\n",
    "## 8. Generación de números aleatorios\n",
    "\n",
    "- `np.random.rand(d0, d1, ...)`: Genera un array de números aleatorios en un rango uniforme \\([0,1)\\) con la forma especificada.\n",
    "- `np.random.randn(d0, d1, ...)`: Genera un array de números aleatorios de una distribución normal estándar.\n",
    "- `np.random.randint(low, high, size)`: Genera números enteros aleatorios en un intervalo \\([low, high)\\).\n",
    "- `np.random.choice(array, size)`: Selecciona elementos aleatoriamente de un array."
   ]
  },
  {
   "cell_type": "code",
   "execution_count": 87,
   "metadata": {},
   "outputs": [
    {
     "name": "stdout",
     "output_type": "stream",
     "text": [
      "Matriz 3x3 con valores aleatorios en distribución uniforme [0, 1):\n",
      "[[0.65279032 0.63505887 0.99529957]\n",
      " [0.58185033 0.41436859 0.4746975 ]\n",
      " [0.6235101  0.33800761 0.67475232]]\n",
      "Matriz 2x2 con valores aleatorios en distribución normal (media 0, varianza 1):\n",
      "[[ 1.0657892  -0.69993739]\n",
      " [ 0.14407911  0.3985421 ]]\n",
      "Matriz 2x3 con enteros aleatorios entre 1 y 9 (incluido el 1, excluido el 10):\n",
      "[[1 2 3]\n",
      " [5 3 1]]\n",
      "Selección aleatoria de 2 elementos del array1:\n",
      "[2 3]\n"
     ]
    }
   ],
   "source": [
    "\n",
    "random_uniform = np.random.rand(3, 3)\n",
    "print(f\"Matriz 3x3 con valores aleatorios en distribución uniforme [0, 1):\\n{random_uniform}\")\n",
    "\n",
    "random_normal = np.random.randn(2, 2)\n",
    "print(f\"Matriz 2x2 con valores aleatorios en distribución normal (media 0, varianza 1):\\n{random_normal}\")\n",
    "\n",
    "random_integers = np.random.randint(1, 10, size=(2, 3))\n",
    "print(f\"Matriz 2x3 con enteros aleatorios entre 1 y 9 (incluido el 1, excluido el 10):\\n{random_integers}\")\n",
    "\n",
    "random_choice = np.random.choice(array1, size=2)\n",
    "print(f\"Selección aleatoria de 2 elementos del array1:\\n{random_choice}\")\n"
   ]
  },
  {
   "cell_type": "markdown",
   "metadata": {},
   "source": [
    "---\n",
    "### Ejercicios:\n",
    "---"
   ]
  },
  {
   "cell_type": "markdown",
   "metadata": {},
   "source": [
    "### Crea un array unidimensional "
   ]
  },
  {
   "cell_type": "code",
   "execution_count": 88,
   "metadata": {},
   "outputs": [
    {
     "data": {
      "text/plain": [
       "array([ 1,  2,  3,  4,  5,  6,  7,  8,  9, 10])"
      ]
     },
     "execution_count": 88,
     "metadata": {},
     "output_type": "execute_result"
    }
   ],
   "source": [
    "array1 = np.array([1, 2, 3, 4, 5, 6, 7, 8, 9, 10])\n",
    "array1"
   ]
  },
  {
   "cell_type": "markdown",
   "metadata": {},
   "source": [
    "### Crear un array bidimensional (matriz) de 3x3 con números enteros del 1 al 9."
   ]
  },
  {
   "cell_type": "code",
   "execution_count": 89,
   "metadata": {},
   "outputs": [
    {
     "data": {
      "text/plain": [
       "array([[1, 2, 3],\n",
       "       [4, 5, 6],\n",
       "       [7, 8, 9]])"
      ]
     },
     "execution_count": 89,
     "metadata": {},
     "output_type": "execute_result"
    }
   ],
   "source": [
    "array2 = np.array([[1, 2, 3], [4, 5, 6], [7, 8, 9]])\n",
    "array2"
   ]
  },
  {
   "cell_type": "markdown",
   "metadata": {},
   "source": [
    "### Creación de un array tridimensional, a partir de una lista de listas de listas."
   ]
  },
  {
   "cell_type": "code",
   "execution_count": 90,
   "metadata": {},
   "outputs": [
    {
     "data": {
      "text/plain": [
       "array([[[ 1,  2,  3],\n",
       "        [ 4,  5,  6]],\n",
       "\n",
       "       [[ 7,  8,  9],\n",
       "        [10, 11, 12]]])"
      ]
     },
     "execution_count": 90,
     "metadata": {},
     "output_type": "execute_result"
    }
   ],
   "source": [
    "lista3 = [[[1,2,3], [4,5,6]], [[7,8,9], [10,11,12]]]\n",
    "array3 = np.array(lista3)\n",
    "array3"
   ]
  },
  {
   "cell_type": "markdown",
   "metadata": {},
   "source": [
    "### Crea un Array de dos dimensiones de 4 filas por 4 columnas"
   ]
  },
  {
   "cell_type": "code",
   "execution_count": 91,
   "metadata": {},
   "outputs": [
    {
     "data": {
      "text/plain": [
       "array([[0., 0., 0., 0.],\n",
       "       [0., 0., 0., 0.],\n",
       "       [0., 0., 0., 0.],\n",
       "       [0., 0., 0., 0.]])"
      ]
     },
     "execution_count": 91,
     "metadata": {},
     "output_type": "execute_result"
    }
   ],
   "source": [
    "zeros_array = np.zeros((4, 4))\n",
    "zeros_array"
   ]
  },
  {
   "cell_type": "markdown",
   "metadata": {},
   "source": [
    "### Crea un Array de numeros aleatorios de longitud  5"
   ]
  },
  {
   "cell_type": "code",
   "execution_count": 92,
   "metadata": {},
   "outputs": [
    {
     "data": {
      "text/plain": [
       "array([0.50962438, 0.05571469, 0.45115921, 0.01998767, 0.44171092])"
      ]
     },
     "execution_count": 92,
     "metadata": {},
     "output_type": "execute_result"
    }
   ],
   "source": [
    "random_array = np.random.rand(5)\n",
    "random_array"
   ]
  },
  {
   "cell_type": "markdown",
   "metadata": {},
   "source": [
    "### Crear un array que vaya de 0 a 10 y luego muestra los primeros 5 usando el metodo slicing"
   ]
  },
  {
   "cell_type": "code",
   "execution_count": 93,
   "metadata": {},
   "outputs": [
    {
     "data": {
      "text/plain": [
       "array([ 0,  1,  2,  3,  4,  5,  6,  7,  8,  9, 10])"
      ]
     },
     "execution_count": 93,
     "metadata": {},
     "output_type": "execute_result"
    }
   ],
   "source": [
    "array= np.arange(11) \n",
    "array # Array de 0 a 10\n"
   ]
  },
  {
   "cell_type": "code",
   "execution_count": 94,
   "metadata": {},
   "outputs": [
    {
     "name": "stdout",
     "output_type": "stream",
     "text": [
      "[ 0  1  2  3  4  5  6  7  8  9 10]\n",
      "[[7 7]\n",
      " [7 7]]\n"
     ]
    }
   ],
   "source": [
    "primeros_cinco = array4[:5]\n",
    "print(array)\n",
    "print(primeros_cinco)"
   ]
  },
  {
   "cell_type": "markdown",
   "metadata": {},
   "source": [
    "### Dado un array de datos de ventas diarias en una tienda, \n",
    "### calcula la media, la mediana, el mínimo, el máximo y el desvío estándar.\n",
    "\n",
    "ventas = np.array([120, 135, 150, 160, 125, 140, 130, 150, 155, 145])"
   ]
  },
  {
   "cell_type": "code",
   "execution_count": 95,
   "metadata": {},
   "outputs": [
    {
     "name": "stdout",
     "output_type": "stream",
     "text": [
      "Media:141.0\n",
      "mediana:142.5\n",
      "minimo:120\n",
      "maximo:160\n",
      "desviacion_estandar:12.609520212918492\n"
     ]
    }
   ],
   "source": [
    "ventas = np.array([120, 135, 150, 160, 125, 140, 130, 150, 155, 145])\n",
    "\n",
    "media = np.mean(ventas)\n",
    "mediana = np.median(ventas)\n",
    "minimo = np.min(ventas)\n",
    "maximo = np.max(ventas)\n",
    "desviacion_estandar = np.std(ventas)\n",
    "print(f'Media:{media}')\n",
    "print(f'mediana:{mediana}')\n",
    "print(f'minimo:{minimo}')\n",
    "print(f'maximo:{maximo}')\n",
    "print(f'desviacion_estandar:{desviacion_estandar}')"
   ]
  },
  {
   "cell_type": "markdown",
   "metadata": {},
   "source": [
    "### Usa el array de ventas del ejercicio anterior y encuentra los días (índices) en los que las ventas fueron superiores al promedio."
   ]
  },
  {
   "cell_type": "code",
   "execution_count": 96,
   "metadata": {},
   "outputs": [
    {
     "data": {
      "text/plain": [
       "(array([2, 3, 7, 8, 9]),)"
      ]
     },
     "execution_count": 96,
     "metadata": {},
     "output_type": "execute_result"
    }
   ],
   "source": [
    "\n",
    "días_superiores = np.where(ventas > media)\n",
    "días_superiores"
   ]
  },
  {
   "cell_type": "code",
   "execution_count": 97,
   "metadata": {},
   "outputs": [
    {
     "data": {
      "text/plain": [
       "array([150, 160, 150, 155, 145])"
      ]
     },
     "execution_count": 97,
     "metadata": {},
     "output_type": "execute_result"
    }
   ],
   "source": [
    "ventas_sup_media = ventas[ventas > media]\n",
    "ventas_sup_media"
   ]
  },
  {
   "cell_type": "markdown",
   "metadata": {},
   "source": [
    "### Supón que tienes un array con los precios de cierre de una acción durante los últimos 15 días. \n",
    "\n",
    "Calcula el cambio diario (diferencia entre precios consecutivos) y el promedio de los cambios.\n",
    "\n",
    "precios = np.array([150, 152, 148, 153, 155, 150, 147, 149, 151, 153, 155, 157, 156, 158, 159])"
   ]
  },
  {
   "cell_type": "code",
   "execution_count": 98,
   "metadata": {},
   "outputs": [
    {
     "data": {
      "text/plain": [
       "array([ 2, -4,  5,  2, -5, -3,  2,  2,  2,  2,  2, -1,  2,  1])"
      ]
     },
     "execution_count": 98,
     "metadata": {},
     "output_type": "execute_result"
    }
   ],
   "source": [
    "precios = np.array([150, 152, 148, 153, 155, 150, 147, 149, 151, 153, 155, 157, 156, 158, 159])\n",
    "cambios_diarios = np.diff(precios)\n",
    "\n",
    "cambios_diarios"
   ]
  },
  {
   "cell_type": "code",
   "execution_count": 99,
   "metadata": {},
   "outputs": [
    {
     "data": {
      "text/plain": [
       "np.float64(0.6428571428571429)"
      ]
     },
     "execution_count": 99,
     "metadata": {},
     "output_type": "execute_result"
    }
   ],
   "source": [
    "promedio_cambios = np.mean(cambios_diarios)\n",
    "promedio_cambios"
   ]
  }
 ],
 "metadata": {
  "kernelspec": {
   "display_name": "Python 3",
   "language": "python",
   "name": "python3"
  },
  "language_info": {
   "codemirror_mode": {
    "name": "ipython",
    "version": 3
   },
   "file_extension": ".py",
   "mimetype": "text/x-python",
   "name": "python",
   "nbconvert_exporter": "python",
   "pygments_lexer": "ipython3",
   "version": "3.12.4"
  }
 },
 "nbformat": 4,
 "nbformat_minor": 4
}
