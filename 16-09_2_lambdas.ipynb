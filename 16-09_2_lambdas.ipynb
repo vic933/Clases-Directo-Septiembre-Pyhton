{
 "cells": [
  {
   "cell_type": "markdown",
   "id": "312324d8",
   "metadata": {},
   "source": [
    "🟨 Funciones Lambda en Python \n",
    "\n",
    "### ¿Qué es una función lambda?\n",
    "\n",
    "Una función lambda en Python es una forma abreviada de declarar funciones.\n",
    "\n",
    "También se conocen como funciones anónimas porque no tienen un nombre propio a menos que se asigne a una variable.\n",
    "\n",
    "Se usan cuando necesitas una función rápida, corta y de una sola línea.\n",
    "\n",
    "### Sintaxis general:\n",
    "\n",
    "```python\n",
    "\n",
    "lambda argumentos: expresión\n",
    "\n",
    "```\n",
    "## Ejemplo simple:"
   ]
  },
  {
   "cell_type": "code",
   "execution_count": null,
   "id": "aedc915d",
   "metadata": {},
   "outputs": [],
   "source": [
    "lambda x: x + 1"
   ]
  },
  {
   "cell_type": "markdown",
   "id": "aff81523",
   "metadata": {},
   "source": [
    "Esto representa una función que toma un argumento x y devuelve x + 1.\n",
    "\n",
    "### Equivalente a una funcion def:\n",
    "\n",
    "```python\n",
    "# Con def\n",
    "def cuadrado(x):\n",
    "    return x ** 2\n",
    "```    \n",
    "\n",
    "```python\n",
    "\n",
    "# Con lambda\n",
    "cuadrado = lambda x: x ** 2\n",
    "```\n",
    "\n",
    "---> Ambas hacen lo mismo, pero la versión lambda es más compacta <---\n",
    "\n",
    "### Ventajas de usar lambda\n",
    "\n",
    "| Ventaja                                                  | Descripción breve                                                |\n",
    "| -------------------------------------------------------- | ---------------------------------------------------------------- |\n",
    "| 🔹 Sintaxis corta                                        | Ideal para funciones simples sin definir toda una función        |\n",
    "| 🔹 Muy útil con funciones como `map`, `filter`, `sorted` | Permite escribir funciones en línea para manipular colecciones   |\n",
    "| 🔹 Código más limpio                                     | Se evita tener funciones `def` innecesarias para una sola línea  |\n",
    "| 🔹 Reutilizable dentro de estructuras                    | Puede usarse como parámetro sin contaminar el espacio de nombres |\n"
   ]
  },
  {
   "cell_type": "markdown",
   "id": "38864c90",
   "metadata": {},
   "source": [
    "### ⚠️ Consideraciones importantes:\n",
    "\n",
    "- Solo puede contener una expresión. No se pueden usar varias instrucciones ni bloques if, for, while etc.\n",
    "\n",
    "- No puede tener nombre interno (aunque se puede asignar a una variable).\n",
    "\n",
    "- No debe usarse para lógica compleja. En ese caso, es mejor usar def.\n",
    "\n",
    "### 📌 ¿Cuándo usar lambda?\n",
    "\n",
    "- Usa lambda cuando:\n",
    "\n",
    "        Necesitas una función temporal, rápida y de una sola expresión\n",
    "\n",
    "        Quieres pasar una función como parámetro a otra (map, filter, sorted, etc.)\n",
    "\n",
    "        Estás trabajando con estructuras como listas, diccionarios, tuplas, y quieres aplicar lógica puntual\n",
    "\n",
    "- Evítala cuando:\n",
    "\n",
    "        Necesites más de una línea de código\n",
    "    \n",
    "        Quieras incluir condiciones complejas o excepciones\n",
    "\n"
   ]
  },
  {
   "cell_type": "markdown",
   "id": "a1ee16d6",
   "metadata": {},
   "source": [
    "### CUADRO EXPLICATIVO\n",
    "\n",
    "| Elemento       | Descripción                                        | Ejemplo                             |\n",
    "|----------------|----------------------------------------------------|--------------------------------------|\n",
    "| lambda         | Función anónima, sin `def`                         | `lambda x: x + 2`                   |\n",
    "| Argumentos     | Puede tener uno o más                              | `lambda x, y: x * y`                |\n",
    "| Retorno        | Devuelve el resultado de la única expresión        | Automático (no se usa `return`)     |\n",
    "| Uso habitual   | Con `map`, `filter`, `sorted`, etc.                | `map(lambda x: x+1, lista)`         |\n"
   ]
  },
  {
   "cell_type": "markdown",
   "id": "ad18bdb0",
   "metadata": {},
   "source": [
    "---\n",
    "### Vamos a ver algunos Ejemplos\n",
    "---"
   ]
  },
  {
   "cell_type": "markdown",
   "id": "1350345e",
   "metadata": {},
   "source": [
    "### Ejemplo 1: Asignar una lambda a una variable"
   ]
  },
  {
   "cell_type": "code",
   "execution_count": 1,
   "id": "8764090b",
   "metadata": {},
   "outputs": [],
   "source": [
    "# Lambda que calcula el cuadrado de un número\n",
    "cuadrado = lambda x: x ** 2"
   ]
  },
  {
   "cell_type": "code",
   "execution_count": 2,
   "id": "29402d52",
   "metadata": {},
   "outputs": [
    {
     "name": "stdout",
     "output_type": "stream",
     "text": [
      "36\n"
     ]
    }
   ],
   "source": [
    "print(cuadrado(6))"
   ]
  },
  {
   "cell_type": "markdown",
   "id": "ff7a0c3b",
   "metadata": {},
   "source": [
    "### Ejemplo 2:  Ejemplo 2: Sumar tres valores"
   ]
  },
  {
   "cell_type": "code",
   "execution_count": 3,
   "id": "0e8cddc0",
   "metadata": {},
   "outputs": [
    {
     "name": "stdout",
     "output_type": "stream",
     "text": [
      "6\n"
     ]
    }
   ],
   "source": [
    "sumar = lambda a, b, c: a + b + c\n",
    "print(sumar(1, 2, 3))"
   ]
  },
  {
   "cell_type": "markdown",
   "id": "669c0679",
   "metadata": {},
   "source": [
    "### Ejemplo 3: Ordenar lista de tuplas por el segundo valor"
   ]
  },
  {
   "cell_type": "code",
   "execution_count": 4,
   "id": "3737380f",
   "metadata": {},
   "outputs": [],
   "source": [
    "pares = [(1, 5), (3, 2), (2, 9)]"
   ]
  },
  {
   "cell_type": "code",
   "execution_count": 6,
   "id": "bd0b0b0e",
   "metadata": {},
   "outputs": [],
   "source": [
    "pares.sort(key=lambda x: x[1]) #con el [1] le decimos que es por el segundo si quisiermos el primero seria [0]\n"
   ]
  },
  {
   "cell_type": "code",
   "execution_count": 7,
   "id": "981c31fe",
   "metadata": {},
   "outputs": [
    {
     "data": {
      "text/plain": [
       "[(3, 2), (1, 5), (2, 9)]"
      ]
     },
     "execution_count": 7,
     "metadata": {},
     "output_type": "execute_result"
    }
   ],
   "source": [
    "pares"
   ]
  },
  {
   "cell_type": "markdown",
   "id": "292a8583",
   "metadata": {},
   "source": [
    "### Ejemplo 4: map( ) + lambda para transformar una lista"
   ]
  },
  {
   "cell_type": "code",
   "execution_count": 8,
   "id": "9836337e",
   "metadata": {},
   "outputs": [],
   "source": [
    "nombres = [\"ana\", \"pedro\", \"maria\"]"
   ]
  },
  {
   "cell_type": "code",
   "execution_count": null,
   "id": "b13a3407",
   "metadata": {},
   "outputs": [],
   "source": [
    "mayusculas = list(map(lambda Z: Z.upper(), nombres)) #Map le pasamos una función dentro y le decimos sobre que queremos que la aplique y la itere sobre los elementos\n",
    "\n"
   ]
  },
  {
   "cell_type": "code",
   "execution_count": 10,
   "id": "d6a022aa",
   "metadata": {},
   "outputs": [
    {
     "name": "stdout",
     "output_type": "stream",
     "text": [
      "['ANA', 'PEDRO', 'MARIA']\n"
     ]
    }
   ],
   "source": [
    "print(mayusculas) "
   ]
  },
  {
   "cell_type": "markdown",
   "id": "d5a4f312",
   "metadata": {},
   "source": [
    "### Ejemplo 5: filter( ) + lambda para filtrar pares"
   ]
  },
  {
   "cell_type": "code",
   "execution_count": 12,
   "id": "ee828b62",
   "metadata": {},
   "outputs": [
    {
     "name": "stdout",
     "output_type": "stream",
     "text": [
      "[4, 10, 16]\n"
     ]
    }
   ],
   "source": [
    "numeros = [1, 4, 7, 10, 13, 16]\n",
    "pares = list(filter(lambda x: x % 2 == 0, numeros))\n",
    "print(pares) "
   ]
  },
  {
   "cell_type": "markdown",
   "id": "125544af",
   "metadata": {},
   "source": [
    "### Ejemplo 6: sorted( ) + lambda con diccionarios"
   ]
  },
  {
   "cell_type": "code",
   "execution_count": 13,
   "id": "c1c0318b",
   "metadata": {},
   "outputs": [],
   "source": [
    "personas = [\n",
    "    {\"nombre\": \"Luis\", \"edad\": 30},\n",
    "    {\"nombre\": \"Ana\", \"edad\": 22},\n",
    "    {\"nombre\": \"Carlos\", \"edad\": 40 , \"profesion\":\"Conductor\"},\n",
    "    {\"nombre\": \"Juan\", \"edad\": 15 , \"Altura\":\"1.82\"}\n",
    "]"
   ]
  },
  {
   "cell_type": "code",
   "execution_count": 14,
   "id": "a23f0790",
   "metadata": {},
   "outputs": [
    {
     "name": "stdout",
     "output_type": "stream",
     "text": [
      "[{'nombre': 'Juan', 'edad': 15, 'Altura': '1.82'}, {'nombre': 'Ana', 'edad': 22}, {'nombre': 'Luis', 'edad': 30}, {'nombre': 'Carlos', 'edad': 40, 'profesion': 'Conductor'}]\n"
     ]
    }
   ],
   "source": [
    "ordenadas_edad = sorted(personas, key=lambda persona: persona[\"edad\"])\n",
    "print(ordenadas_edad)\n"
   ]
  },
  {
   "cell_type": "code",
   "execution_count": 15,
   "id": "54d8a09e",
   "metadata": {},
   "outputs": [
    {
     "name": "stdout",
     "output_type": "stream",
     "text": [
      "[{'nombre': 'Ana', 'edad': 22}, {'nombre': 'Carlos', 'edad': 40, 'profesion': 'Conductor'}, {'nombre': 'Juan', 'edad': 15, 'Altura': '1.82'}, {'nombre': 'Luis', 'edad': 30}]\n"
     ]
    }
   ],
   "source": [
    "ordenadas_nombre = sorted(personas, key=lambda persona: persona[\"nombre\"])\n",
    "print(ordenadas_nombre)"
   ]
  },
  {
   "cell_type": "markdown",
   "id": "dc426df3",
   "metadata": {},
   "source": [
    "### Ejemplo 7: Condicional simple con lambda para definir si un numero es par o impar"
   ]
  },
  {
   "cell_type": "code",
   "execution_count": 16,
   "id": "a1904115",
   "metadata": {},
   "outputs": [],
   "source": [
    "par_o_impar = lambda x: \"par\" if x % 2 == 0 else \"impar\""
   ]
  },
  {
   "cell_type": "code",
   "execution_count": 17,
   "id": "101aaaa1",
   "metadata": {},
   "outputs": [
    {
     "data": {
      "text/plain": [
       "'par'"
      ]
     },
     "execution_count": 17,
     "metadata": {},
     "output_type": "execute_result"
    }
   ],
   "source": [
    "par_o_impar(20)"
   ]
  },
  {
   "cell_type": "code",
   "execution_count": 18,
   "id": "46402276",
   "metadata": {},
   "outputs": [
    {
     "data": {
      "text/plain": [
       "'impar'"
      ]
     },
     "execution_count": 18,
     "metadata": {},
     "output_type": "execute_result"
    }
   ],
   "source": [
    "par_o_impar(5)"
   ]
  },
  {
   "cell_type": "markdown",
   "id": "5dea9e82",
   "metadata": {},
   "source": [
    "---\n",
    "### Ejercicios\n",
    "---"
   ]
  },
  {
   "cell_type": "markdown",
   "id": "37c84ac4",
   "metadata": {},
   "source": [
    "### 🧪 Ejercicio 1: ¡Al cubo!\n",
    "\n",
    "Crea una función `lambda` que calcule el **cubo de un número** (es decir, elevarlo a la tercera potencia).  \n",
    "Prueba la función con los números: 2, 3 y 5."
   ]
  },
  {
   "cell_type": "code",
   "execution_count": 19,
   "id": "64d021af",
   "metadata": {},
   "outputs": [],
   "source": [
    "cubo = lambda x: x**3"
   ]
  },
  {
   "cell_type": "code",
   "execution_count": 20,
   "id": "683efc75",
   "metadata": {},
   "outputs": [
    {
     "data": {
      "text/plain": [
       "8"
      ]
     },
     "execution_count": 20,
     "metadata": {},
     "output_type": "execute_result"
    }
   ],
   "source": [
    "cubo(2)"
   ]
  },
  {
   "cell_type": "code",
   "execution_count": 21,
   "id": "0c69013a",
   "metadata": {},
   "outputs": [
    {
     "data": {
      "text/plain": [
       "27"
      ]
     },
     "execution_count": 21,
     "metadata": {},
     "output_type": "execute_result"
    }
   ],
   "source": [
    "cubo(3)"
   ]
  },
  {
   "cell_type": "code",
   "execution_count": 22,
   "id": "179ab8a9",
   "metadata": {},
   "outputs": [
    {
     "data": {
      "text/plain": [
       "125"
      ]
     },
     "execution_count": 22,
     "metadata": {},
     "output_type": "execute_result"
    }
   ],
   "source": [
    "cubo(5)"
   ]
  },
  {
   "cell_type": "markdown",
   "id": "81a4db72",
   "metadata": {},
   "source": [
    "### 🧪 Ejercicio 2: ¿Mayor de edad?\n",
    "\n",
    "Crea una función `lambda` que reciba una edad y devuelva:\n",
    "\n",
    "- `\"Mayor de edad\"` si es 18 o más\n",
    "- `\"Menor de edad\"` si es menor\n",
    "\n",
    "Prueba la función con los valores: 15, 18, 21."
   ]
  },
  {
   "cell_type": "code",
   "execution_count": 23,
   "id": "bf877b47",
   "metadata": {},
   "outputs": [],
   "source": [
    "edad = lambda x: \"Mayor de edad\" if x >= 18 else \"Menor de Edad\""
   ]
  },
  {
   "cell_type": "code",
   "execution_count": 24,
   "id": "d3312b2e",
   "metadata": {},
   "outputs": [
    {
     "data": {
      "text/plain": [
       "'Menor de Edad'"
      ]
     },
     "execution_count": 24,
     "metadata": {},
     "output_type": "execute_result"
    }
   ],
   "source": [
    "edad(15)"
   ]
  },
  {
   "cell_type": "code",
   "execution_count": 25,
   "id": "4cc667ff",
   "metadata": {},
   "outputs": [
    {
     "data": {
      "text/plain": [
       "'Mayor de edad'"
      ]
     },
     "execution_count": 25,
     "metadata": {},
     "output_type": "execute_result"
    }
   ],
   "source": [
    "edad(18)"
   ]
  },
  {
   "cell_type": "code",
   "execution_count": 26,
   "id": "cdfe8961",
   "metadata": {},
   "outputs": [
    {
     "data": {
      "text/plain": [
       "'Mayor de edad'"
      ]
     },
     "execution_count": 26,
     "metadata": {},
     "output_type": "execute_result"
    }
   ],
   "source": [
    "edad(21)"
   ]
  },
  {
   "cell_type": "markdown",
   "id": "9d2281e4",
   "metadata": {},
   "source": [
    "### 🧪 Ejercicio 3: Filtro de palabras largas\n",
    "\n",
    "Dada una lista de palabras, usa `filter()` junto con una función `lambda` para quedarte solo con las palabras de **más de 6 letras**.\n",
    "\n",
    "```python\n",
    "palabras = [\"manzana\", \"sol\", \"universo\", \"azul\", \"electricidad\"]"
   ]
  },
  {
   "cell_type": "code",
   "execution_count": 29,
   "id": "e72e2ea2",
   "metadata": {},
   "outputs": [],
   "source": [
    "palabras = [\"manzana\", \"sol\", \"universo\", \"azul\", \"electricidad\"]"
   ]
  },
  {
   "cell_type": "code",
   "execution_count": 31,
   "id": "1efaf1b6",
   "metadata": {},
   "outputs": [
    {
     "data": {
      "text/plain": [
       "['manzana', 'universo', 'electricidad']"
      ]
     },
     "execution_count": 31,
     "metadata": {},
     "output_type": "execute_result"
    }
   ],
   "source": [
    "longitud = list(filter(lambda x: len(x)>6, palabras))\n",
    "longitud"
   ]
  },
  {
   "cell_type": "markdown",
   "id": "bac55931",
   "metadata": {},
   "source": [
    "### 🧪 Ejercicio 4: Aumentar precios\n",
    "\n",
    "Tienes una lista de precios y necesitas **aumentarlos un 10%**. Usa `map()` junto con una `lambda` para generar la nueva lista de precios.\n",
    "\n",
    "```python\n",
    "precios = [100, 250, 80, 150]"
   ]
  },
  {
   "cell_type": "code",
   "execution_count": 32,
   "id": "88edeed6",
   "metadata": {},
   "outputs": [],
   "source": [
    "precios = [100, 250, 80, 150]"
   ]
  },
  {
   "cell_type": "code",
   "execution_count": 34,
   "id": "0067221f",
   "metadata": {},
   "outputs": [
    {
     "data": {
      "text/plain": [
       "[110.0, 275.0, 88.0, 165.0]"
      ]
     },
     "execution_count": 34,
     "metadata": {},
     "output_type": "execute_result"
    }
   ],
   "source": [
    "incremento = list(map(lambda x:round(x*1.1,2), precios))\n",
    "incremento"
   ]
  },
  {
   "cell_type": "markdown",
   "id": "a512e3ba",
   "metadata": {},
   "source": [
    "### 🧪 Ejercicio 5: Ordenar por nombre invertido\n",
    "\n",
    "Tienes una lista de nombres y quieres ordenarlos **por su última letra** usando `sorted()` y una `lambda`.\n",
    "\n",
    "```python\n",
    "nombres = [\"Carlos\", \"Ana\", \"Raúl\", \"Sofía\", \"David\"]"
   ]
  },
  {
   "cell_type": "code",
   "execution_count": 35,
   "id": "1437cdd9",
   "metadata": {},
   "outputs": [],
   "source": [
    "nombres = [\"Carlos\", \"Ana\", \"Raúl\", \"Sofía\", \"David\"]"
   ]
  },
  {
   "cell_type": "code",
   "execution_count": 36,
   "id": "9e8d937a",
   "metadata": {},
   "outputs": [],
   "source": [
    "ordenados = sorted(nombres, key = lambda x: x[-1])"
   ]
  },
  {
   "cell_type": "code",
   "execution_count": 37,
   "id": "bd6a9a26",
   "metadata": {},
   "outputs": [
    {
     "data": {
      "text/plain": [
       "['Ana', 'Sofía', 'David', 'Raúl', 'Carlos']"
      ]
     },
     "execution_count": 37,
     "metadata": {},
     "output_type": "execute_result"
    }
   ],
   "source": [
    "ordenados"
   ]
  }
 ],
 "metadata": {
  "kernelspec": {
   "display_name": "Python 3",
   "language": "python",
   "name": "python3"
  },
  "language_info": {
   "codemirror_mode": {
    "name": "ipython",
    "version": 3
   },
   "file_extension": ".py",
   "mimetype": "text/x-python",
   "name": "python",
   "nbconvert_exporter": "python",
   "pygments_lexer": "ipython3",
   "version": "3.13.1"
  }
 },
 "nbformat": 4,
 "nbformat_minor": 5
}
