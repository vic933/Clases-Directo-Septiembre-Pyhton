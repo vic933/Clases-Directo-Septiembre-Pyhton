{
 "cells": [
  {
   "cell_type": "markdown",
   "id": "dddd7345",
   "metadata": {},
   "source": [
    "## 1. Instalación de Pandas\n",
    "\n",
    "```python\n",
    "import pandas as pd\n",
    "print(pd.__version__)\n",
    "```\n",
    "\n",
    "## 2. ¿Qué es Pandas y por qué es esencial para analistas de datos?\n",
    "\n",
    "- Pandas es una biblioteca de código abierto para la manipulación y análisis de datos en Python. Su nombre proviene de “Panel Data” y fue diseñada para facilitar el trabajo con datos tabulares, similar a una hoja de cálculo o una tabla de base de datos.\n",
    "- **Estructuras de Datos Principales**:\n",
    "    - **Series**: Son como una columna de datos, una estructura unidimensional que puede almacenar datos de diferentes tipos.\n",
    "    - **DataFrames**: Son como una tabla de datos bidimensional, donde cada columna puede almacenar datos de distintos tipos (numéricos, de texto, booleanos, etc.).\n",
    "- Aplicaciones Comunes de Pandas\n",
    "    - **Preparación de Datos**:\n",
    "        - Selección de columnas y filas específicas para analizar.\n",
    "        - Limpieza de datos eliminando o reemplazando valores nulos y duplicados.\n",
    "    - **Transformación de Datos**:\n",
    "        - Cambio de formatos, agrupación de datos, y cálculo de estadísticas agregadas.\n",
    "        - Filtrado y segmentación de datos según condiciones específicas.\n",
    "    - **Exploración de Datos**:\n",
    "        - Análisis preliminar de los datos para entender las distribuciones, valores atípicos y patrones generales.\n",
    "\n"
   ]
  },
  {
   "cell_type": "markdown",
   "id": "6873d860",
   "metadata": {},
   "source": [
    "| Concepto                 | Descripción                                        |\n",
    "| ------------------------ | -------------------------------------------------- |\n",
    "| **Pandas**               | Librería para manipular y analizar datos           |\n",
    "| **Series**               | Estructura unidimensional con índices              |\n",
    "| **DataFrame**            | Estructura bidimensional tipo tabla                |\n",
    "| **Funciones clave**      | Lectura, limpieza, transformación, análisis        |\n",
    "| **Formatos compatibles** | CSV, Excel, JSON, SQL, entre otros                 |\n",
    "| **Integración**          | Compatible con NumPy, matplotlib, sklearn, Jupyter |\n"
   ]
  },
  {
   "cell_type": "markdown",
   "id": "2f4e652c",
   "metadata": {},
   "source": [
    "### Documentación oficial\n",
    "https://pandas.pydata.org/docs/user_guide/index.html\n",
    "\n",
    "### Estructuras de datos en Pandas \n",
    "- <span style=\"color:darksalmon\">Series:</span>  Unidimensional, similar a un array de NumPy o una columna de una tabla.\n",
    "- <span style=\"color:darksalmon\">DataFrame:</span>  Bidimensional, similar a una tabla en una base de datos o una hoja de cálculo.\n"
   ]
  },
  {
   "cell_type": "markdown",
   "id": "7eafda38",
   "metadata": {},
   "source": [
    "Veamos un ejemplo, creando un DataFrame desde un diccionario:"
   ]
  },
  {
   "cell_type": "code",
   "execution_count": 1,
   "id": "04a5c9fc",
   "metadata": {},
   "outputs": [
    {
     "data": {
      "text/plain": [
       "{'Nombre': ['Ana', 'Luis', 'Carlos'],\n",
       " 'Edad': [23, 35, 45],\n",
       " 'Ciudad': ['Madrid', 'Barcelona', 'Sevilla']}"
      ]
     },
     "execution_count": 1,
     "metadata": {},
     "output_type": "execute_result"
    }
   ],
   "source": [
    "# La librería de pandas su abreviatura es pd\n",
    "import pandas as pd\n",
    "\n",
    "# Crear un DataFrame desde un diccionario\n",
    "data = {'Nombre': ['Ana', 'Luis', 'Carlos'],\n",
    "        'Edad': [23, 35, 45],\n",
    "        'Ciudad': ['Madrid', 'Barcelona', 'Sevilla']}\n",
    "\n",
    "data\n"
   ]
  },
  {
   "cell_type": "code",
   "execution_count": 2,
   "id": "e6dbeae9",
   "metadata": {},
   "outputs": [
    {
     "data": {
      "text/html": [
       "<div>\n",
       "<style scoped>\n",
       "    .dataframe tbody tr th:only-of-type {\n",
       "        vertical-align: middle;\n",
       "    }\n",
       "\n",
       "    .dataframe tbody tr th {\n",
       "        vertical-align: top;\n",
       "    }\n",
       "\n",
       "    .dataframe thead th {\n",
       "        text-align: right;\n",
       "    }\n",
       "</style>\n",
       "<table border=\"1\" class=\"dataframe\">\n",
       "  <thead>\n",
       "    <tr style=\"text-align: right;\">\n",
       "      <th></th>\n",
       "      <th>Nombre</th>\n",
       "      <th>Edad</th>\n",
       "      <th>Ciudad</th>\n",
       "    </tr>\n",
       "  </thead>\n",
       "  <tbody>\n",
       "    <tr>\n",
       "      <th>0</th>\n",
       "      <td>Ana</td>\n",
       "      <td>23</td>\n",
       "      <td>Madrid</td>\n",
       "    </tr>\n",
       "    <tr>\n",
       "      <th>1</th>\n",
       "      <td>Luis</td>\n",
       "      <td>35</td>\n",
       "      <td>Barcelona</td>\n",
       "    </tr>\n",
       "    <tr>\n",
       "      <th>2</th>\n",
       "      <td>Carlos</td>\n",
       "      <td>45</td>\n",
       "      <td>Sevilla</td>\n",
       "    </tr>\n",
       "  </tbody>\n",
       "</table>\n",
       "</div>"
      ],
      "text/plain": [
       "   Nombre  Edad     Ciudad\n",
       "0     Ana    23     Madrid\n",
       "1    Luis    35  Barcelona\n",
       "2  Carlos    45    Sevilla"
      ]
     },
     "execution_count": 2,
     "metadata": {},
     "output_type": "execute_result"
    }
   ],
   "source": [
    "df = pd.DataFrame(data)\n",
    "df"
   ]
  },
  {
   "cell_type": "markdown",
   "id": "ffee4fd5",
   "metadata": {},
   "source": [
    "#### Relación entre NumPy y Pandas\n",
    "* Base de Pandas: Pandas está construido sobre NumPy. Los objetos de Pandas (Series y DataFrames) utilizan arrays de NumPy bajo el capó, lo que les da la velocidad y eficiencia que caracteriza a NumPy.\n",
    "\n",
    "* Compatibilidad: Puedes convertir entre arrays de NumPy y estructuras de Pandas fácilmente. Por ejemplo, si tienes un DataFrame y necesitas realizar cálculos matemáticos avanzados, puedes convertirlo a un array de NumPy."
   ]
  },
  {
   "cell_type": "code",
   "execution_count": 3,
   "id": "3e66b351",
   "metadata": {},
   "outputs": [
    {
     "data": {
      "text/plain": [
       "array([['Ana', 23, 'Madrid'],\n",
       "       ['Luis', 35, 'Barcelona'],\n",
       "       ['Carlos', 45, 'Sevilla']], dtype=object)"
      ]
     },
     "execution_count": 3,
     "metadata": {},
     "output_type": "execute_result"
    }
   ],
   "source": [
    "# Convertir DataFrame a NumPy array\n",
    "numpy_array = df.to_numpy()\n",
    "numpy_array"
   ]
  },
  {
   "cell_type": "code",
   "execution_count": 4,
   "id": "3d551f55",
   "metadata": {},
   "outputs": [
    {
     "data": {
      "text/html": [
       "<div>\n",
       "<style scoped>\n",
       "    .dataframe tbody tr th:only-of-type {\n",
       "        vertical-align: middle;\n",
       "    }\n",
       "\n",
       "    .dataframe tbody tr th {\n",
       "        vertical-align: top;\n",
       "    }\n",
       "\n",
       "    .dataframe thead th {\n",
       "        text-align: right;\n",
       "    }\n",
       "</style>\n",
       "<table border=\"1\" class=\"dataframe\">\n",
       "  <thead>\n",
       "    <tr style=\"text-align: right;\">\n",
       "      <th></th>\n",
       "      <th>0</th>\n",
       "      <th>1</th>\n",
       "      <th>2</th>\n",
       "    </tr>\n",
       "  </thead>\n",
       "  <tbody>\n",
       "    <tr>\n",
       "      <th>0</th>\n",
       "      <td>Ana</td>\n",
       "      <td>23</td>\n",
       "      <td>Madrid</td>\n",
       "    </tr>\n",
       "    <tr>\n",
       "      <th>1</th>\n",
       "      <td>Luis</td>\n",
       "      <td>35</td>\n",
       "      <td>Barcelona</td>\n",
       "    </tr>\n",
       "    <tr>\n",
       "      <th>2</th>\n",
       "      <td>Carlos</td>\n",
       "      <td>45</td>\n",
       "      <td>Sevilla</td>\n",
       "    </tr>\n",
       "  </tbody>\n",
       "</table>\n",
       "</div>"
      ],
      "text/plain": [
       "        0   1          2\n",
       "0     Ana  23     Madrid\n",
       "1    Luis  35  Barcelona\n",
       "2  Carlos  45    Sevilla"
      ]
     },
     "execution_count": 4,
     "metadata": {},
     "output_type": "execute_result"
    }
   ],
   "source": [
    "# Convertir NumPy array a DataFrame\n",
    "df = pd.DataFrame(numpy_array)\n",
    "df"
   ]
  }
 ],
 "metadata": {
  "kernelspec": {
   "display_name": "Python 3",
   "language": "python",
   "name": "python3"
  },
  "language_info": {
   "codemirror_mode": {
    "name": "ipython",
    "version": 3
   },
   "file_extension": ".py",
   "mimetype": "text/x-python",
   "name": "python",
   "nbconvert_exporter": "python",
   "pygments_lexer": "ipython3",
   "version": "3.12.4"
  }
 },
 "nbformat": 4,
 "nbformat_minor": 5
}
