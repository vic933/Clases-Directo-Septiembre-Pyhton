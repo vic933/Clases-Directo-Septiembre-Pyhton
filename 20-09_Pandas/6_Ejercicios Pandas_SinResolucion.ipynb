{
 "cells": [
  {
   "cell_type": "markdown",
   "metadata": {},
   "source": [
    "## Series:"
   ]
  },
  {
   "cell_type": "markdown",
   "metadata": {},
   "source": [
    "### 1. Crear una Serie con Calificaciones de Estudiantes\n",
    "\n",
    "Enunciado:\n",
    "\n",
    "Crea una Serie en Pandas que contenga los nombres de 5 estudiantes ( Debe incluir al uno que se llame Juan) como índices y sus calificaciones en matemáticas como valores. \n",
    "\n",
    "Imprime la Serie y muestra la calificación del estudiante con índice 'Juan'."
   ]
  },
  {
   "cell_type": "code",
   "execution_count": null,
   "metadata": {},
   "outputs": [],
   "source": [
    "import pandas as pd\n",
    "\n",
    "# Crear la Serie\n",
    "calificaciones = pd.series([10, 20, 30, 40]\n",
    "index = ['a', 'b', 'c', 'd'] #renombro el índice \n",
    "serie = pd.Series(data, index=index)\n",
    "\n",
    "# Mostrar la calificación de Juan\n"
   ]
  },
  {
   "cell_type": "markdown",
   "metadata": {},
   "source": [
    "### 2. Filtrar Estudiantes Aprobados\n",
    "\n",
    "Enunciado:\n",
    "\n",
    "Usando la Serie del ejercicio anterior, filtra los estudiantes que aprobaron (nota >= 7) y muéstralos."
   ]
  },
  {
   "cell_type": "code",
   "execution_count": null,
   "metadata": {},
   "outputs": [],
   "source": [
    "# Filtrar estudiantes aprobados\n",
    "\n",
    "\n"
   ]
  },
  {
   "cell_type": "markdown",
   "metadata": {},
   "source": [
    "### 3. Calcular el Promedio de Notas\n",
    "\n",
    "Enunciado:\n",
    "\n",
    "Calcula e imprime el promedio de las calificaciones de todos los estudiantes."
   ]
  },
  {
   "cell_type": "code",
   "execution_count": null,
   "metadata": {},
   "outputs": [],
   "source": [
    "# Calcular promedio\n",
    "\n"
   ]
  },
  {
   "cell_type": "markdown",
   "metadata": {},
   "source": [
    "### 4. Comparar Dos Series de Calificaciones\n",
    "\n",
    "Enunciado:\n",
    "\n",
    "A partir de las dos Series que representen las calificaciones de los mismos estudiantes en dos materias diferentes. \n",
    "\n",
    "Calcula la diferencia de calificaciones entre las dos materias para cada estudiante."
   ]
  },
  {
   "cell_type": "code",
   "execution_count": null,
   "metadata": {},
   "outputs": [],
   "source": [
    "# Calificaciones en dos materias\n"
   ]
  },
  {
   "cell_type": "code",
   "execution_count": null,
   "metadata": {},
   "outputs": [],
   "source": [
    "# Diferencia de calificaciones\n",
    "\n"
   ]
  },
  {
   "cell_type": "markdown",
   "metadata": {},
   "source": [
    "### 5. Serie de Datos sobre Ventas\n",
    "\n",
    "Enunciado:\n",
    "\n",
    "A partir de la Serie que contiene las ventas diarias (en euros) de una tienda durante 7 días. \n",
    "\n",
    "Calcula:\n",
    "\n",
    "- El total de ventas\n",
    "\n",
    "- El promedio de ventas\n",
    "\n",
    "- El día con mayor venta\n",
    "\n",
    "- La venta mas baja de la semana"
   ]
  },
  {
   "cell_type": "code",
   "execution_count": null,
   "metadata": {},
   "outputs": [],
   "source": [
    "# Crear la Serie\n"
   ]
  },
  {
   "cell_type": "code",
   "execution_count": null,
   "metadata": {},
   "outputs": [],
   "source": [
    "# Calcular métricas\n"
   ]
  },
  {
   "cell_type": "code",
   "execution_count": null,
   "metadata": {},
   "outputs": [],
   "source": []
  },
  {
   "cell_type": "code",
   "execution_count": null,
   "metadata": {},
   "outputs": [],
   "source": []
  },
  {
   "cell_type": "code",
   "execution_count": null,
   "metadata": {},
   "outputs": [],
   "source": []
  },
  {
   "cell_type": "code",
   "execution_count": null,
   "metadata": {},
   "outputs": [],
   "source": []
  },
  {
   "cell_type": "markdown",
   "metadata": {},
   "source": [
    "### 6. Datos de Temperaturas Semanales\n",
    "\n",
    "Enunciado:\n",
    "\n",
    "Dada una Serie que contiene las temperaturas promedio de 7 días en una ciudad.\n",
    "\n",
    "- Filtra los días con temperaturas por debajo de la media\n",
    "\n",
    "- Encuentra la temperatura más alta \n",
    "\n",
    "- El día correspondiente."
   ]
  },
  {
   "cell_type": "code",
   "execution_count": null,
   "metadata": {},
   "outputs": [],
   "source": [
    "# Crear la Serie\n"
   ]
  },
  {
   "cell_type": "code",
   "execution_count": null,
   "metadata": {},
   "outputs": [],
   "source": [
    "# Calcular la media\n",
    "\n",
    "\n",
    "# Filtrar días con temperaturas por debajo de la media\n",
    "\n",
    "\n",
    "# Día con la temperatura más alta\n"
   ]
  },
  {
   "cell_type": "markdown",
   "metadata": {},
   "source": [
    "## DataFrame:"
   ]
  },
  {
   "cell_type": "markdown",
   "metadata": {},
   "source": [
    "### Ejercicio 1: Identificar valores nulos en un dataset\n",
    "\n",
    "Enunciado:\n",
    "\n",
    "Tienes un dataset que contiene información sobre productos en un inventario con las columnas Nombre, Precio y Cantidad. Algunos productos no tienen datos completos.\n",
    "\n",
    "Identifica las filas que contienen valores nulos.\n",
    "\n",
    "Cuenta cuántos valores nulos hay en cada columna.\n",
    "\n",
    "Objetivo: Usar isnull() y sum() para trabajar con valores nulos."
   ]
  },
  {
   "cell_type": "code",
   "execution_count": null,
   "metadata": {},
   "outputs": [],
   "source": [
    "import pandas as pd\n",
    "import numpy as np\n",
    "\n",
    "# Crear un DataFrame con valores nulos\n",
    "\n",
    "\n"
   ]
  },
  {
   "cell_type": "code",
   "execution_count": null,
   "metadata": {},
   "outputs": [],
   "source": []
  },
  {
   "cell_type": "code",
   "execution_count": null,
   "metadata": {},
   "outputs": [],
   "source": [
    "# Detectar valores nulos\n"
   ]
  },
  {
   "cell_type": "code",
   "execution_count": null,
   "metadata": {},
   "outputs": [],
   "source": [
    "# Contar valores nulos por columna\n",
    "\n",
    "\n"
   ]
  },
  {
   "cell_type": "markdown",
   "metadata": {},
   "source": [
    "### Ejercicio 2: Eliminar valores nulos\n",
    "Enunciado:\n",
    "\n",
    "Usa el dataset del ejercicio anterior y realiza lo siguiente:\n",
    "\n",
    "Elimina todas las filas que contienen valores nulos.\n",
    "\n",
    "Rellena los valores nulos en la columna Precio con el valor promedio de los precios."
   ]
  },
  {
   "cell_type": "code",
   "execution_count": null,
   "metadata": {},
   "outputs": [],
   "source": [
    "# Eliminar filas con valores nulos\n",
    "\n",
    "\n"
   ]
  },
  {
   "cell_type": "code",
   "execution_count": null,
   "metadata": {},
   "outputs": [],
   "source": [
    "# Rellenar valores nulos en la columna Precio con el promedio\n",
    "\n"
   ]
  },
  {
   "cell_type": "code",
   "execution_count": null,
   "metadata": {},
   "outputs": [],
   "source": []
  },
  {
   "cell_type": "code",
   "execution_count": null,
   "metadata": {},
   "outputs": [],
   "source": []
  },
  {
   "cell_type": "code",
   "execution_count": null,
   "metadata": {},
   "outputs": [],
   "source": [
    "# Crear un DataFrame con tipos inconsistentes\n",
    "\n"
   ]
  },
  {
   "cell_type": "code",
   "execution_count": null,
   "metadata": {},
   "outputs": [],
   "source": [
    "# Acceder al valor de la fila 0 en la columna 'Nombre'\n",
    "\n",
    "\n",
    "\n"
   ]
  },
  {
   "cell_type": "code",
   "execution_count": null,
   "metadata": {},
   "outputs": [],
   "source": [
    "# Acceder a la columna 'Edad'\n"
   ]
  },
  {
   "cell_type": "markdown",
   "metadata": {},
   "source": [
    "---\n"
   ]
  },
  {
   "cell_type": "markdown",
   "metadata": {},
   "source": [
    "### Indices Bursátiles\n",
    "\n",
    "Se desea analizar la evolución de varios índices bursátiles internacionales desde el año 1994 hasta 2018.\n",
    "\n",
    "Para ello, comienza leyendo el archivo Index2018.csv desde una URL. \n",
    "\n",
    "Luego, realiza una copia del DataFrame original para trabajar sobre ella sin modificar los datos base.\n",
    "\n",
    "link: https://raw.githubusercontent.com/MaddoSaru/curso-series-temporales/master/1.%20Introduccion%20a%20las%20series%20temporales/Python/Index2018.csv"
   ]
  },
  {
   "cell_type": "code",
   "execution_count": null,
   "metadata": {},
   "outputs": [],
   "source": [
    "import pandas as pd \n",
    "import numpy as np\n",
    "import matplotlib.pyplot as plt\n",
    "import scipy.stats"
   ]
  },
  {
   "cell_type": "code",
   "execution_count": null,
   "metadata": {},
   "outputs": [],
   "source": []
  },
  {
   "cell_type": "code",
   "execution_count": null,
   "metadata": {},
   "outputs": [],
   "source": []
  },
  {
   "cell_type": "markdown",
   "metadata": {},
   "source": [
    "### Estadísticas descriptivas de los índices bursátiles\n",
    "\n",
    "Calcula un resumen estadístico básico para los índices bursátiles disponibles (spx, dax, ftse, nikkei) usando .describe().\n",
    "\n",
    "Este método te permitirá obtener:\n",
    "\n",
    "Media,\n",
    "\n",
    "Desviación estándar,\n",
    "\n",
    "Valores mínimo y máximo,\n",
    "\n",
    "Cuartiles (25%, 50%, 75%).\n",
    "\n",
    "Esta visión general te ayudará a identificar rangos, dispersión y posibles outliers en cada mercado antes de aplicar técnicas más avanzadas de análisis."
   ]
  },
  {
   "cell_type": "code",
   "execution_count": null,
   "metadata": {},
   "outputs": [],
   "source": []
  },
  {
   "cell_type": "markdown",
   "metadata": {},
   "source": [
    "### Exploración estructural del DataFrame\n",
    "\n",
    "Para comprender mejor la estructura del DataFrame, inspecciona información clave como:\n",
    "\n",
    "- Número de filas y columnas,\n",
    "\n",
    "- Tipos de datos por columna,\n",
    "\n",
    "- Número de valores no nulos en cada variable.\n",
    "\n",
    "Usa el método .info() para obtener esta visión general y así asegurarte de que las columnas tienen el tipo de dato correcto, especialmente la columna date (que debe estar como datetime64 tras su conversión)."
   ]
  },
  {
   "cell_type": "code",
   "execution_count": null,
   "metadata": {},
   "outputs": [],
   "source": []
  },
  {
   "cell_type": "markdown",
   "metadata": {},
   "source": [
    "### Conversión de columna date a tipo datetime\n",
    "\n",
    "Los datos vienen con la fecha en formato string. \n",
    "\n",
    "Convierte la columna date al tipo datetime y establece dicha columna como índice del DataFrame para facilitar operaciones de series temporales."
   ]
  },
  {
   "cell_type": "code",
   "execution_count": null,
   "metadata": {},
   "outputs": [],
   "source": []
  },
  {
   "cell_type": "code",
   "execution_count": null,
   "metadata": {},
   "outputs": [],
   "source": []
  },
  {
   "cell_type": "code",
   "execution_count": null,
   "metadata": {},
   "outputs": [],
   "source": []
  },
  {
   "cell_type": "markdown",
   "metadata": {},
   "source": [
    "### Detección de valores nulos en los datos bursátiles\n",
    "\n",
    "Antes de continuar con el análisis, es importante verificar la calidad de los datos. \n",
    "\n",
    "Utiliza Pandas para detectar la presencia de valores nulos o faltantes en el DataFrame. \n",
    "\n",
    "Este paso es clave para evitar errores en cálculos posteriores como medias, resampleo o visualización."
   ]
  },
  {
   "cell_type": "code",
   "execution_count": null,
   "metadata": {},
   "outputs": [],
   "source": []
  },
  {
   "cell_type": "code",
   "execution_count": null,
   "metadata": {},
   "outputs": [],
   "source": []
  },
  {
   "cell_type": "code",
   "execution_count": null,
   "metadata": {},
   "outputs": [],
   "source": []
  },
  {
   "cell_type": "code",
   "execution_count": null,
   "metadata": {},
   "outputs": [],
   "source": []
  },
  {
   "cell_type": "markdown",
   "metadata": {},
   "source": [
    "### Visualización de evolución histórica del SPX\n",
    "\n",
    "Realiza un gráfico temporal que muestre la evolución del índice SPX (S&P 500) a lo largo del tiempo. \n",
    "\n",
    "¿Qué patrones visuales puedes observar? ¿Existe una tendencia clara?"
   ]
  },
  {
   "cell_type": "code",
   "execution_count": null,
   "metadata": {},
   "outputs": [],
   "source": []
  },
  {
   "cell_type": "code",
   "execution_count": null,
   "metadata": {},
   "outputs": [],
   "source": []
  },
  {
   "cell_type": "markdown",
   "metadata": {},
   "source": [
    "### Visualización de la evolución del índice FTSE100\n",
    "\n",
    "Realiza un gráfico de líneas que muestre la evolución temporal del índice FTSE100. \n",
    "\n",
    "Ajusta el tamaño del gráfico (figsize) para una mejor visualización a lo largo del tiempo y agrega un título descriptivo.\n",
    "\n",
    "Este gráfico te permitirá identificar tendencias generales, fluctuaciones abruptas y posibles eventos económicos que hayan impactado en el mercado británico."
   ]
  },
  {
   "cell_type": "code",
   "execution_count": null,
   "metadata": {},
   "outputs": [],
   "source": []
  },
  {
   "cell_type": "markdown",
   "metadata": {},
   "source": [
    "### Comparativa visual entre los índices S&P500 y FTSE100\n",
    "\n",
    "Compara gráficamente la evolución de los índices S&P500 (EE.UU.) y FTSE100 (Reino Unido) a lo largo del tiempo.\n",
    "\n",
    "Grafica ambas series temporalmente con un tamaño adecuado (figsize=(20,5)) y personaliza el título del gráfico para reflejar que se trata de una comparación entre mercados.\n",
    "\n",
    "Este análisis visual permite:\n",
    "\n",
    "Identificar correlaciones o divergencias en el comportamiento de ambos índices,\n",
    "\n",
    "Observar cómo reaccionan a eventos globales,\n",
    "\n",
    "Detectar períodos en los que uno supera sistemáticamente al otro."
   ]
  },
  {
   "cell_type": "code",
   "execution_count": null,
   "metadata": {},
   "outputs": [],
   "source": []
  },
  {
   "cell_type": "markdown",
   "metadata": {},
   "source": [
    "### Análisis de normalidad con QQ Plot sobre el índice S&P500\n",
    "\n",
    "Realiza un gráfico QQ Plot (Quantile-Quantile Plot) sobre la serie temporal del índice S&P500 para evaluar si sus valores se distribuyen de forma aproximadamente normal (gaussiana).\n",
    "\n",
    "Este tipo de gráfico compara los cuantiles teóricos de una distribución normal con los cuantiles reales de los datos:\n",
    "\n",
    "Si los puntos se alinean aproximadamente en una línea recta, los datos siguen una distribución normal.\n",
    "\n",
    "Desviaciones en los extremos indican colas más pesadas o ligeras.\n",
    "\n",
    "El análisis de normalidad es crucial en finanzas cuando se aplican modelos estadísticos que asumen normalidad de los rendimientos, como modelos de VaR o análisis de riesgos."
   ]
  },
  {
   "cell_type": "code",
   "execution_count": null,
   "metadata": {},
   "outputs": [],
   "source": []
  },
  {
   "cell_type": "markdown",
   "metadata": {},
   "source": [
    "Prophet es una librería desarrollada por Meta (Facebook) diseñada para realizar predicciones en series temporales de forma sencilla, interpretativa y automática.\n",
    "Se adapta muy bien a datos con:\n",
    "\n",
    "Tendencias de largo plazo,\n",
    "\n",
    "Estacionalidades (diaria, semanal, anual),\n",
    "\n",
    "Festivos o eventos especiales.\n",
    "\n",
    "Prophet combina un modelo aditivo que incluye:\n",
    "\n",
    "Crecimiento lineal o logístico,\n",
    "\n",
    "Estacionalidad expresada como funciones periódicas,\n",
    "\n",
    "Efectos de días festivos,\n",
    "\n",
    "Y un componente de ruido (residual).\n",
    "\n",
    "Es muy útil cuando necesitas un modelo rápido, interpretable y reproducible sin configurar complejos modelos ARIMA o redes neuronales"
   ]
  },
  {
   "cell_type": "markdown",
   "metadata": {},
   "source": [
    "### Predicción del índice S&P500 con Prophet\n",
    "\n",
    "Se desea realizar una predicción a corto plazo sobre el comportamiento del índice bursátil S&P500 usando el modelo de series temporales Prophet.\n",
    "\n",
    "Para ello:\n",
    "\n",
    "Convierte el dataset a un formato compatible con Prophet (ds como fecha y y como valor a predecir).\n",
    "\n",
    "Ajusta un modelo Prophet sin estacionalidad diaria, ya que los datos son financieros (y no hay datos los fines de semana).\n",
    "\n",
    "Genera una predicción para los próximos 90 días.\n",
    "\n",
    "Grafica los resultados mostrando tanto la predicción como el intervalo de confianza."
   ]
  },
  {
   "cell_type": "code",
   "execution_count": null,
   "metadata": {},
   "outputs": [],
   "source": [
    "\n"
   ]
  },
  {
   "cell_type": "code",
   "execution_count": null,
   "metadata": {},
   "outputs": [],
   "source": [
    "\n"
   ]
  },
  {
   "cell_type": "code",
   "execution_count": null,
   "metadata": {},
   "outputs": [],
   "source": [
    "\n",
    "\n"
   ]
  },
  {
   "cell_type": "code",
   "execution_count": null,
   "metadata": {},
   "outputs": [],
   "source": []
  },
  {
   "cell_type": "code",
   "execution_count": null,
   "metadata": {},
   "outputs": [],
   "source": []
  },
  {
   "cell_type": "code",
   "execution_count": null,
   "metadata": {},
   "outputs": [],
   "source": []
  },
  {
   "cell_type": "code",
   "execution_count": null,
   "metadata": {},
   "outputs": [],
   "source": []
  },
  {
   "cell_type": "markdown",
   "metadata": {},
   "source": [
    "| Columna          | Descripción                                                  |\n",
    "| ---------------- | ------------------------------------------------------------ |\n",
    "| `ds`             | Fecha de la predicción                                       |\n",
    "| `yhat`           | Valor **predicho** para esa fecha                            |\n",
    "| `yhat_lower`     | Límite inferior del intervalo de confianza (por defecto 80%) |\n",
    "| `yhat_upper`     | Límite superior del intervalo de confianza                   |\n",
    "| `trend`          | Componente de tendencia estimado                             |\n",
    "| `additive_terms` | Suma de los componentes (tendencia, estacionalidad, etc.)    |"
   ]
  },
  {
   "cell_type": "code",
   "execution_count": null,
   "metadata": {},
   "outputs": [],
   "source": [
    "# Graficamos ambas partes\n"
   ]
  }
 ],
 "metadata": {
  "kernelspec": {
   "display_name": "Python 3",
   "language": "python",
   "name": "python3"
  },
  "language_info": {
   "codemirror_mode": {
    "name": "ipython",
    "version": 3
   },
   "file_extension": ".py",
   "mimetype": "text/x-python",
   "name": "python",
   "nbconvert_exporter": "python",
   "pygments_lexer": "ipython3",
   "version": "3.12.4"
  }
 },
 "nbformat": 4,
 "nbformat_minor": 2
}
