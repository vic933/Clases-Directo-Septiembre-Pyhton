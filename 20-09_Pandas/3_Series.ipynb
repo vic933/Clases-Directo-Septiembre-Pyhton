{
 "cells": [
  {
   "cell_type": "markdown",
   "metadata": {},
   "source": [
    "# Introducción a Pandas"
   ]
  },
  {
   "cell_type": "markdown",
   "metadata": {},
   "source": [
    "****************************************************************\n",
    "### <span style=\"color:darksalmon\">SERIES:</span> \n",
    "****************************************************************"
   ]
  },
  {
   "cell_type": "markdown",
   "metadata": {},
   "source": [
    "## El objeto de la serie Pandas\n",
    "\n",
    "### ¿Qué es una Serie en Pandas?\n",
    "Una Serie en Pandas es una estructura de datos unidimensional, como una lista o un array, que contiene una secuencia de valores. Cada valor en una Serie tiene asociado un índice, que es como una etiqueta para identificar ese valor. Esto hace que una Serie sea más poderosa que una lista común, ya que permite acceder a los datos tanto por su posición como por su índice.\n",
    "\n",
    "### Características de una Serie:\n",
    "- Unidimensional: A diferencia de un DataFrame (que es bidimensional), una Serie tiene una sola dimensión.\n",
    "- Índice: Cada valor en una Serie tiene un índice, que puede ser numérico o personalizado.\n",
    "- Tipos de datos: Una Serie puede contener cualquier tipo de datos: enteros, cadenas de texto, booleanos, etc.\n",
    "\n",
    "Ejemplos básicos de Series en Pandas\n",
    "1. <span style=\"color:aqua\"> Crear una Serie a partir de una lista</span> <br>\n",
    "La forma más simple de crear una Serie es a partir de una lista de Python:"
   ]
  },
  {
   "cell_type": "code",
   "execution_count": 6,
   "metadata": {
    "collapsed": false
   },
   "outputs": [
    {
     "data": {
      "text/plain": [
       "0    0.25\n",
       "1    0.50\n",
       "2    0.75\n",
       "3    1.00\n",
       "dtype: float64"
      ]
     },
     "execution_count": 6,
     "metadata": {},
     "output_type": "execute_result"
    }
   ],
   "source": [
    "import pandas as pd\n",
    "data = pd.Series([0.25, 0.5, 0.75, 1.0])\n",
    "data"
   ]
  },
  {
   "cell_type": "markdown",
   "metadata": {},
   "source": [
    "* Los números a la izquierda (0, 1, 2, 3) son el índice por defecto que Pandas asigna a los valores.\n",
    "* Los valores a la derecha (0.25, 0.50, 0.75, 1.00) son los datos en la Serie.\n",
    "* El tipo de dato (float64) aparece al final, indicando que todos los valores son decimales."
   ]
  },
  {
   "cell_type": "markdown",
   "metadata": {},
   "source": [
    "2. <span style=\"color:aqua\"> Crear una Serie con un índice personalizado </span><br>\n",
    "Puedes personalizar los índices de una Serie si no quieres usar el índice numérico por defecto:"
   ]
  },
  {
   "cell_type": "code",
   "execution_count": 7,
   "metadata": {},
   "outputs": [
    {
     "data": {
      "text/plain": [
       "a    10\n",
       "b    20\n",
       "c    30\n",
       "d    40\n",
       "dtype: int64"
      ]
     },
     "execution_count": 7,
     "metadata": {},
     "output_type": "execute_result"
    }
   ],
   "source": [
    "# Crear una Serie con índices personalizados\n",
    "data = [10, 20, 30, 40]\n",
    "index = ['a', 'b', 'c', 'd'] #renombro el índice \n",
    "serie = pd.Series(data, index=index)\n",
    "serie # Mostrar la Serie con el índice personalizado"
   ]
  },
  {
   "cell_type": "markdown",
   "metadata": {},
   "source": [
    "Ahora los índices son a, b, c, d en lugar de los números por defecto. Esto puede ser útil cuando los índices tienen un significado específico, como nombres de personas, fechas, categorías, etc."
   ]
  },
  {
   "cell_type": "markdown",
   "metadata": {},
   "source": [
    "3. <span style=\"color:aqua\">Crear una Serie a partir de un diccionario </span> <br>\n",
    "Otra forma de crear una Serie es a partir de un diccionario de Python. En este caso, las claves del diccionario se convierten en el índice de la Serie, y los valores del diccionario se convierten en los valores de la Serie."
   ]
  },
  {
   "cell_type": "code",
   "execution_count": 8,
   "metadata": {},
   "outputs": [
    {
     "data": {
      "text/plain": [
       "manzanas    10\n",
       "bananas     20\n",
       "naranjas    15\n",
       "dtype: int64"
      ]
     },
     "execution_count": 8,
     "metadata": {},
     "output_type": "execute_result"
    }
   ],
   "source": [
    "# Crear una Serie desde un diccionario\n",
    "data = {'manzanas': 10, 'bananas': 20, 'naranjas': 15}\n",
    "serie = pd.Series(data)\n",
    "serie # # Mostrar la Serie"
   ]
  },
  {
   "cell_type": "markdown",
   "metadata": {},
   "source": [
    "Explicación: Las claves del diccionario (manzanas, bananas, naranjas) se convierten en los índices de la Serie.<br>\n",
    "Los valores del diccionario (10, 20, 15) son los datos de la Serie."
   ]
  },
  {
   "cell_type": "markdown",
   "metadata": {},
   "source": [
    "3. 1 Serie como diccionario especializado\n",
    "\n",
    "De esta manera, puedes pensar en una ``Serie`` de Pandas un poco como una especialización de un diccionario de Python.\n",
    "Un diccionario es una estructura que asigna claves arbitrarias a un conjunto de valores arbitrarios, y una ``Serie`` es una estructura que asigna claves escritas a un conjunto de valores escritos.\n",
    "Esta escritura es importante: así como el código compilado de tipo específico detrás de una matriz NumPy lo hace más eficiente que una lista de Python para ciertas operaciones, la información de tipo de una ``Series`` de Pandas lo hace mucho más eficiente que los diccionarios de Python para ciertas operaciones. operaciones.\n",
    "\n",
    "La analogía de ``Series`` como diccionario se puede hacer aún más clara construyendo un objeto ``Series`` directamente desde un diccionario de Python:"
   ]
  },
  {
   "cell_type": "code",
   "execution_count": 9,
   "metadata": {},
   "outputs": [],
   "source": [
    "population_dict = {'California': 38332521,\n",
    "                   'Texas': 26448193,\n",
    "                   'New York': 19651127,\n",
    "                   'Florida': 19552860,\n",
    "                   'Illinois': 12882135}"
   ]
  },
  {
   "cell_type": "code",
   "execution_count": 10,
   "metadata": {},
   "outputs": [
    {
     "data": {
      "text/plain": [
       "California    38332521\n",
       "Texas         26448193\n",
       "New York      19651127\n",
       "Florida       19552860\n",
       "Illinois      12882135\n",
       "dtype: int64"
      ]
     },
     "execution_count": 10,
     "metadata": {},
     "output_type": "execute_result"
    }
   ],
   "source": [
    "population = pd.Series(population_dict)\n",
    "population"
   ]
  },
  {
   "cell_type": "markdown",
   "metadata": {},
   "source": [
    "4. <span style=\"color:aqua\">Acceder a elementos de una Serie</span> <br>\n",
    "Al igual que con una matriz NumPy, el índice asociado puede acceder a los datos a través de la conocida notación de corchetes de Python.<br>\n",
    "Puedes acceder a los elementos de una Serie de varias formas:\n",
    "* Por índice (como en un diccionario).\n",
    "* Por posición (como en una lista)."
   ]
  },
  {
   "cell_type": "code",
   "execution_count": 11,
   "metadata": {},
   "outputs": [
    {
     "data": {
      "text/plain": [
       "manzanas    10\n",
       "bananas     20\n",
       "naranjas    15\n",
       "dtype: int64"
      ]
     },
     "execution_count": 11,
     "metadata": {},
     "output_type": "execute_result"
    }
   ],
   "source": [
    "serie"
   ]
  },
  {
   "cell_type": "code",
   "execution_count": 12,
   "metadata": {},
   "outputs": [
    {
     "name": "stdout",
     "output_type": "stream",
     "text": [
      "20\n"
     ]
    }
   ],
   "source": [
    "# Acceder a un elemento por su índice\n",
    "print(serie['bananas'])  # Resultado: 20"
   ]
  },
  {
   "cell_type": "code",
   "execution_count": 13,
   "metadata": {},
   "outputs": [
    {
     "data": {
      "text/plain": [
       "np.int64(38332521)"
      ]
     },
     "execution_count": 13,
     "metadata": {},
     "output_type": "execute_result"
    }
   ],
   "source": [
    "population['California']"
   ]
  },
  {
   "cell_type": "code",
   "execution_count": 14,
   "metadata": {},
   "outputs": [
    {
     "name": "stdout",
     "output_type": "stream",
     "text": [
      "10\n"
     ]
    },
    {
     "name": "stderr",
     "output_type": "stream",
     "text": [
      "C:\\Users\\vik_p\\AppData\\Local\\Temp\\ipykernel_4004\\1659586327.py:2: FutureWarning: Series.__getitem__ treating keys as positions is deprecated. In a future version, integer keys will always be treated as labels (consistent with DataFrame behavior). To access a value by position, use `ser.iloc[pos]`\n",
      "  print(serie[0])  # Resultado: 10\n"
     ]
    }
   ],
   "source": [
    "# Acceder a un elemento por su posición\n",
    "print(serie[0])  # Resultado: 10"
   ]
  },
  {
   "cell_type": "code",
   "execution_count": null,
   "metadata": {},
   "outputs": [
    {
     "name": "stdout",
     "output_type": "stream",
     "text": [
      "38332521\n"
     ]
    }
   ],
   "source": [
    "print(population.iloc[0]) #uso iloc para movernos dentro de la serie"
   ]
  },
  {
   "cell_type": "markdown",
   "metadata": {},
   "source": [
    "Otro ejemplo:"
   ]
  },
  {
   "cell_type": "code",
   "execution_count": null,
   "metadata": {},
   "outputs": [
    {
     "data": {
      "text/plain": [
       "a    0.25\n",
       "b    0.50\n",
       "c    0.75\n",
       "d    1.00\n",
       "dtype: float64"
      ]
     },
     "execution_count": 16,
     "metadata": {},
     "output_type": "execute_result"
    }
   ],
   "source": [
    "data = pd.Series([0.25, 0.5, 0.75, 1.0],\n",
    "                 index=['a', 'b', 'c', 'd']) #es otra forma de renombrar indices pero no se recomienda\n",
    "data"
   ]
  },
  {
   "cell_type": "code",
   "execution_count": 17,
   "metadata": {},
   "outputs": [
    {
     "name": "stdout",
     "output_type": "stream",
     "text": [
      "0.5\n"
     ]
    }
   ],
   "source": [
    "# Acceder a un elemento por su índice\n",
    "print(data['b'])  "
   ]
  },
  {
   "cell_type": "code",
   "execution_count": 18,
   "metadata": {},
   "outputs": [
    {
     "name": "stdout",
     "output_type": "stream",
     "text": [
      "0.5\n"
     ]
    },
    {
     "name": "stderr",
     "output_type": "stream",
     "text": [
      "C:\\Users\\vik_p\\AppData\\Local\\Temp\\ipykernel_4004\\2346628450.py:2: FutureWarning: Series.__getitem__ treating keys as positions is deprecated. In a future version, integer keys will always be treated as labels (consistent with DataFrame behavior). To access a value by position, use `ser.iloc[pos]`\n",
      "  print(data[1])  # Resultado: 10\n"
     ]
    }
   ],
   "source": [
    "# Acceder a un elemento por su posición\n",
    "print(data[1])  # Resultado: 10"
   ]
  },
  {
   "cell_type": "code",
   "execution_count": 19,
   "metadata": {},
   "outputs": [
    {
     "name": "stdout",
     "output_type": "stream",
     "text": [
      "0.5\n"
     ]
    }
   ],
   "source": [
    "# Acceder a un elemento por su posición.\n",
    "print(data.iloc[1]) "
   ]
  },
  {
   "cell_type": "code",
   "execution_count": 20,
   "metadata": {},
   "outputs": [
    {
     "data": {
      "text/plain": [
       "b    0.50\n",
       "c    0.75\n",
       "d    1.00\n",
       "dtype: float64"
      ]
     },
     "execution_count": 20,
     "metadata": {},
     "output_type": "execute_result"
    }
   ],
   "source": [
    "# Acceder a un rango de valores\n",
    "data[1:4]"
   ]
  },
  {
   "cell_type": "code",
   "execution_count": 21,
   "metadata": {},
   "outputs": [
    {
     "data": {
      "text/plain": [
       "California    38332521\n",
       "Texas         26448193\n",
       "New York      19651127\n",
       "Florida       19552860\n",
       "Illinois      12882135\n",
       "dtype: int64"
      ]
     },
     "execution_count": 21,
     "metadata": {},
     "output_type": "execute_result"
    }
   ],
   "source": [
    "population"
   ]
  },
  {
   "cell_type": "code",
   "execution_count": null,
   "metadata": {},
   "outputs": [
    {
     "data": {
      "text/plain": [
       "California    38332521\n",
       "Texas         26448193\n",
       "New York      19651127\n",
       "dtype: int64"
      ]
     },
     "execution_count": 22,
     "metadata": {},
     "output_type": "execute_result"
    }
   ],
   "source": [
    "population['California':'New York'] #para que nos muestre todos los valores entre los indices california y nueva york"
   ]
  },
  {
   "cell_type": "markdown",
   "metadata": {},
   "source": [
    "5. <span style=\"color:aqua\">Operaciones con Series</span> <br>\n",
    "Una de las ventajas de Pandas es que puedes hacer operaciones aritméticas con Series de forma muy fácil. Por ejemplo, puedes sumar, restar, multiplicar o dividir todos los elementos de la Serie por un número:"
   ]
  },
  {
   "cell_type": "code",
   "execution_count": 23,
   "metadata": {},
   "outputs": [
    {
     "data": {
      "text/plain": [
       "manzanas    10\n",
       "bananas     20\n",
       "naranjas    15\n",
       "dtype: int64"
      ]
     },
     "execution_count": 23,
     "metadata": {},
     "output_type": "execute_result"
    }
   ],
   "source": [
    "serie"
   ]
  },
  {
   "cell_type": "code",
   "execution_count": 24,
   "metadata": {},
   "outputs": [
    {
     "data": {
      "text/plain": [
       "manzanas    11\n",
       "bananas     21\n",
       "naranjas    16\n",
       "dtype: int64"
      ]
     },
     "execution_count": 24,
     "metadata": {},
     "output_type": "execute_result"
    }
   ],
   "source": [
    "# Sumar un valor a todos los elementos de la Serie\n",
    "serie_suma = serie + 1 \n",
    "serie_suma"
   ]
  },
  {
   "cell_type": "code",
   "execution_count": 25,
   "metadata": {},
   "outputs": [
    {
     "data": {
      "text/plain": [
       "manzanas    1\n",
       "bananas     1\n",
       "naranjas    1\n",
       "dtype: int64"
      ]
     },
     "execution_count": 25,
     "metadata": {},
     "output_type": "execute_result"
    }
   ],
   "source": [
    "# Restar dos Series\n",
    "serie_resta = serie_suma - serie\n",
    "serie_resta"
   ]
  },
  {
   "cell_type": "code",
   "execution_count": 26,
   "metadata": {},
   "outputs": [
    {
     "data": {
      "text/plain": [
       "manzanas    20\n",
       "bananas     40\n",
       "naranjas    30\n",
       "dtype: int64"
      ]
     },
     "execution_count": 26,
     "metadata": {},
     "output_type": "execute_result"
    }
   ],
   "source": [
    "# Multiplicar todos los elementos de la Serie por 2\n",
    "serie_doble = serie * 2  \n",
    "serie_doble"
   ]
  },
  {
   "cell_type": "markdown",
   "metadata": {},
   "source": [
    "6. <span style=\"color:aqua\">Funciones útiles para Series</span> <br>\n",
    "Pandas proporciona muchas funciones útiles para trabajar con Series, estos son algunos ejemplos:"
   ]
  },
  {
   "cell_type": "code",
   "execution_count": 27,
   "metadata": {},
   "outputs": [
    {
     "data": {
      "text/plain": [
       "manzanas    10\n",
       "bananas     20\n",
       "naranjas    15\n",
       "dtype: int64"
      ]
     },
     "execution_count": 27,
     "metadata": {},
     "output_type": "execute_result"
    }
   ],
   "source": [
    "serie"
   ]
  },
  {
   "cell_type": "code",
   "execution_count": 28,
   "metadata": {},
   "outputs": [
    {
     "name": "stdout",
     "output_type": "stream",
     "text": [
      "45\n"
     ]
    }
   ],
   "source": [
    "# Sumar los valores de una Serie:\n",
    "print(serie.sum()) "
   ]
  },
  {
   "cell_type": "code",
   "execution_count": 29,
   "metadata": {},
   "outputs": [
    {
     "name": "stdout",
     "output_type": "stream",
     "text": [
      "20\n"
     ]
    }
   ],
   "source": [
    "# Obtener el valor máximo:\n",
    "print(serie.max()) "
   ]
  },
  {
   "cell_type": "code",
   "execution_count": 30,
   "metadata": {},
   "outputs": [
    {
     "name": "stdout",
     "output_type": "stream",
     "text": [
      "15.0\n"
     ]
    }
   ],
   "source": [
    "# Obtener la media (promedio):\n",
    "print(serie.mean()) "
   ]
  },
  {
   "cell_type": "markdown",
   "metadata": {},
   "source": [
    "Resumen:\n",
    "\n",
    "- Crear una Serie: Puedes crear una Serie a partir de listas o diccionarios, y asignar un índice personalizado.\n",
    "- Acceso a datos: Puedes acceder a los datos de una Serie por su índice o su posición.\n",
    "- Operaciones: Es fácil realizar operaciones matemáticas sobre Series.\n",
    "- Funciones útiles: Pandas ofrece funciones como sum(), max(), mean() para analizar rápidamente los datos en una Serie."
   ]
  }
 ],
 "metadata": {
  "anaconda-cloud": {},
  "kernelspec": {
   "display_name": "Python 3",
   "language": "python",
   "name": "python3"
  },
  "language_info": {
   "codemirror_mode": {
    "name": "ipython",
    "version": 3
   },
   "file_extension": ".py",
   "mimetype": "text/x-python",
   "name": "python",
   "nbconvert_exporter": "python",
   "pygments_lexer": "ipython3",
   "version": "3.12.4"
  }
 },
 "nbformat": 4,
 "nbformat_minor": 0
}
