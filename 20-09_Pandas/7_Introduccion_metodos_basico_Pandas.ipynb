{
 "cells": [
  {
   "cell_type": "markdown",
   "id": "633a3ae4",
   "metadata": {},
   "source": [
    "## Introducción a los métodos básicos de Pandas"
   ]
  },
  {
   "cell_type": "code",
   "execution_count": 17,
   "id": "d2b5fbc9",
   "metadata": {},
   "outputs": [],
   "source": [
    "import pandas as pd\n",
    "pd.set_option('display.max_columns', None)"
   ]
  },
  {
   "cell_type": "markdown",
   "id": "d77aaca3",
   "metadata": {},
   "source": [
    "### <span style=\"color:red;\">¿Qué hace index_col=0 en pd.read_csv()?</span>\n",
    "\n",
    "\n",
    "El argumento index_col en la función pd.read_csv() de Pandas se utiliza para especificar qué columna de tu archivo CSV debe ser utilizada como el índice (etiquetas de fila) de tu DataFrame resultante, en lugar de generar un \n",
    "\n",
    "índice numérico predeterminado (0, 1, 2, ...).\n",
    "\n",
    "Cuando usas index_col=0, le estás diciendo a Pandas:\n",
    "\n",
    "\"Toma la primera columna de mi archivo CSV (la columna en la posición 0, ya que Python usa indexación base cero) y úsala como el índice de las filas de mi DataFrame.\""
   ]
  },
  {
   "cell_type": "code",
   "execution_count": 18,
   "id": "2bbe13c8",
   "metadata": {},
   "outputs": [
    {
     "data": {
      "application/vnd.microsoft.datawrangler.viewer.v0+json": {
       "columns": [
        {
         "name": "index",
         "rawType": "int64",
         "type": "integer"
        },
        {
         "name": "order",
         "rawType": "int64",
         "type": "integer"
        },
        {
         "name": "name",
         "rawType": "object",
         "type": "string"
        },
        {
         "name": "height(cm)",
         "rawType": "int64",
         "type": "integer"
        }
       ],
       "ref": "a46995a4-d308-4059-ac5b-e7d7e6a5c7f5",
       "rows": [
        [
         "0",
         "1",
         "George Washington",
         "189"
        ],
        [
         "1",
         "2",
         "John Adams",
         "170"
        ],
        [
         "2",
         "3",
         "Thomas Jefferson",
         "189"
        ],
        [
         "3",
         "4",
         "James Madison",
         "163"
        ],
        [
         "4",
         "5",
         "James Monroe",
         "183"
        ],
        [
         "5",
         "6",
         "John Quincy Adams",
         "171"
        ],
        [
         "6",
         "7",
         "Andrew Jackson",
         "185"
        ],
        [
         "7",
         "8",
         "Martin Van Buren",
         "168"
        ],
        [
         "8",
         "9",
         "William Henry Harrison",
         "173"
        ],
        [
         "9",
         "10",
         "John Tyler",
         "183"
        ],
        [
         "10",
         "11",
         "James K. Polk",
         "173"
        ],
        [
         "11",
         "12",
         "Zachary Taylor",
         "173"
        ],
        [
         "12",
         "13",
         "Millard Fillmore",
         "175"
        ],
        [
         "13",
         "14",
         "Franklin Pierce",
         "178"
        ],
        [
         "14",
         "15",
         "James Buchanan",
         "183"
        ],
        [
         "15",
         "16",
         "Abraham Lincoln",
         "193"
        ],
        [
         "16",
         "17",
         "Andrew Johnson",
         "178"
        ],
        [
         "17",
         "18",
         "Ulysses S. Grant",
         "173"
        ],
        [
         "18",
         "19",
         "Rutherford B. Hayes",
         "174"
        ],
        [
         "19",
         "20",
         "James A. Garfield",
         "183"
        ],
        [
         "20",
         "21",
         "Chester A. Arthur",
         "183"
        ],
        [
         "21",
         "23",
         "Benjamin Harrison",
         "168"
        ],
        [
         "22",
         "25",
         "William McKinley",
         "170"
        ],
        [
         "23",
         "26",
         "Theodore Roosevelt",
         "178"
        ],
        [
         "24",
         "27",
         "William Howard Taft",
         "182"
        ],
        [
         "25",
         "28",
         "Woodrow Wilson",
         "180"
        ],
        [
         "26",
         "29",
         "Warren G. Harding",
         "183"
        ],
        [
         "27",
         "30",
         "Calvin Coolidge",
         "178"
        ],
        [
         "28",
         "31",
         "Herbert Hoover",
         "182"
        ],
        [
         "29",
         "32",
         "Franklin D. Roosevelt",
         "188"
        ],
        [
         "30",
         "33",
         "Harry S. Truman",
         "175"
        ],
        [
         "31",
         "34",
         "Dwight D. Eisenhower",
         "179"
        ],
        [
         "32",
         "35",
         "John F. Kennedy",
         "183"
        ],
        [
         "33",
         "36",
         "Lyndon B. Johnson",
         "193"
        ],
        [
         "34",
         "37",
         "Richard Nixon",
         "182"
        ],
        [
         "35",
         "38",
         "Gerald Ford",
         "183"
        ],
        [
         "36",
         "39",
         "Jimmy Carter",
         "177"
        ],
        [
         "37",
         "40",
         "Ronald Reagan",
         "185"
        ],
        [
         "38",
         "41",
         "George H. W. Bush",
         "188"
        ],
        [
         "39",
         "42",
         "Bill Clinton",
         "188"
        ],
        [
         "40",
         "43",
         "George W. Bush",
         "182"
        ],
        [
         "41",
         "44",
         "Barack Obama",
         "185"
        ]
       ],
       "shape": {
        "columns": 3,
        "rows": 42
       }
      },
      "text/html": [
       "<div>\n",
       "<style scoped>\n",
       "    .dataframe tbody tr th:only-of-type {\n",
       "        vertical-align: middle;\n",
       "    }\n",
       "\n",
       "    .dataframe tbody tr th {\n",
       "        vertical-align: top;\n",
       "    }\n",
       "\n",
       "    .dataframe thead th {\n",
       "        text-align: right;\n",
       "    }\n",
       "</style>\n",
       "<table border=\"1\" class=\"dataframe\">\n",
       "  <thead>\n",
       "    <tr style=\"text-align: right;\">\n",
       "      <th></th>\n",
       "      <th>order</th>\n",
       "      <th>name</th>\n",
       "      <th>height(cm)</th>\n",
       "    </tr>\n",
       "  </thead>\n",
       "  <tbody>\n",
       "    <tr>\n",
       "      <th>0</th>\n",
       "      <td>1</td>\n",
       "      <td>George Washington</td>\n",
       "      <td>189</td>\n",
       "    </tr>\n",
       "    <tr>\n",
       "      <th>1</th>\n",
       "      <td>2</td>\n",
       "      <td>John Adams</td>\n",
       "      <td>170</td>\n",
       "    </tr>\n",
       "    <tr>\n",
       "      <th>2</th>\n",
       "      <td>3</td>\n",
       "      <td>Thomas Jefferson</td>\n",
       "      <td>189</td>\n",
       "    </tr>\n",
       "    <tr>\n",
       "      <th>3</th>\n",
       "      <td>4</td>\n",
       "      <td>James Madison</td>\n",
       "      <td>163</td>\n",
       "    </tr>\n",
       "    <tr>\n",
       "      <th>4</th>\n",
       "      <td>5</td>\n",
       "      <td>James Monroe</td>\n",
       "      <td>183</td>\n",
       "    </tr>\n",
       "    <tr>\n",
       "      <th>5</th>\n",
       "      <td>6</td>\n",
       "      <td>John Quincy Adams</td>\n",
       "      <td>171</td>\n",
       "    </tr>\n",
       "    <tr>\n",
       "      <th>6</th>\n",
       "      <td>7</td>\n",
       "      <td>Andrew Jackson</td>\n",
       "      <td>185</td>\n",
       "    </tr>\n",
       "    <tr>\n",
       "      <th>7</th>\n",
       "      <td>8</td>\n",
       "      <td>Martin Van Buren</td>\n",
       "      <td>168</td>\n",
       "    </tr>\n",
       "    <tr>\n",
       "      <th>8</th>\n",
       "      <td>9</td>\n",
       "      <td>William Henry Harrison</td>\n",
       "      <td>173</td>\n",
       "    </tr>\n",
       "    <tr>\n",
       "      <th>9</th>\n",
       "      <td>10</td>\n",
       "      <td>John Tyler</td>\n",
       "      <td>183</td>\n",
       "    </tr>\n",
       "    <tr>\n",
       "      <th>10</th>\n",
       "      <td>11</td>\n",
       "      <td>James K. Polk</td>\n",
       "      <td>173</td>\n",
       "    </tr>\n",
       "    <tr>\n",
       "      <th>11</th>\n",
       "      <td>12</td>\n",
       "      <td>Zachary Taylor</td>\n",
       "      <td>173</td>\n",
       "    </tr>\n",
       "    <tr>\n",
       "      <th>12</th>\n",
       "      <td>13</td>\n",
       "      <td>Millard Fillmore</td>\n",
       "      <td>175</td>\n",
       "    </tr>\n",
       "    <tr>\n",
       "      <th>13</th>\n",
       "      <td>14</td>\n",
       "      <td>Franklin Pierce</td>\n",
       "      <td>178</td>\n",
       "    </tr>\n",
       "    <tr>\n",
       "      <th>14</th>\n",
       "      <td>15</td>\n",
       "      <td>James Buchanan</td>\n",
       "      <td>183</td>\n",
       "    </tr>\n",
       "    <tr>\n",
       "      <th>15</th>\n",
       "      <td>16</td>\n",
       "      <td>Abraham Lincoln</td>\n",
       "      <td>193</td>\n",
       "    </tr>\n",
       "    <tr>\n",
       "      <th>16</th>\n",
       "      <td>17</td>\n",
       "      <td>Andrew Johnson</td>\n",
       "      <td>178</td>\n",
       "    </tr>\n",
       "    <tr>\n",
       "      <th>17</th>\n",
       "      <td>18</td>\n",
       "      <td>Ulysses S. Grant</td>\n",
       "      <td>173</td>\n",
       "    </tr>\n",
       "    <tr>\n",
       "      <th>18</th>\n",
       "      <td>19</td>\n",
       "      <td>Rutherford B. Hayes</td>\n",
       "      <td>174</td>\n",
       "    </tr>\n",
       "    <tr>\n",
       "      <th>19</th>\n",
       "      <td>20</td>\n",
       "      <td>James A. Garfield</td>\n",
       "      <td>183</td>\n",
       "    </tr>\n",
       "    <tr>\n",
       "      <th>20</th>\n",
       "      <td>21</td>\n",
       "      <td>Chester A. Arthur</td>\n",
       "      <td>183</td>\n",
       "    </tr>\n",
       "    <tr>\n",
       "      <th>21</th>\n",
       "      <td>23</td>\n",
       "      <td>Benjamin Harrison</td>\n",
       "      <td>168</td>\n",
       "    </tr>\n",
       "    <tr>\n",
       "      <th>22</th>\n",
       "      <td>25</td>\n",
       "      <td>William McKinley</td>\n",
       "      <td>170</td>\n",
       "    </tr>\n",
       "    <tr>\n",
       "      <th>23</th>\n",
       "      <td>26</td>\n",
       "      <td>Theodore Roosevelt</td>\n",
       "      <td>178</td>\n",
       "    </tr>\n",
       "    <tr>\n",
       "      <th>24</th>\n",
       "      <td>27</td>\n",
       "      <td>William Howard Taft</td>\n",
       "      <td>182</td>\n",
       "    </tr>\n",
       "    <tr>\n",
       "      <th>25</th>\n",
       "      <td>28</td>\n",
       "      <td>Woodrow Wilson</td>\n",
       "      <td>180</td>\n",
       "    </tr>\n",
       "    <tr>\n",
       "      <th>26</th>\n",
       "      <td>29</td>\n",
       "      <td>Warren G. Harding</td>\n",
       "      <td>183</td>\n",
       "    </tr>\n",
       "    <tr>\n",
       "      <th>27</th>\n",
       "      <td>30</td>\n",
       "      <td>Calvin Coolidge</td>\n",
       "      <td>178</td>\n",
       "    </tr>\n",
       "    <tr>\n",
       "      <th>28</th>\n",
       "      <td>31</td>\n",
       "      <td>Herbert Hoover</td>\n",
       "      <td>182</td>\n",
       "    </tr>\n",
       "    <tr>\n",
       "      <th>29</th>\n",
       "      <td>32</td>\n",
       "      <td>Franklin D. Roosevelt</td>\n",
       "      <td>188</td>\n",
       "    </tr>\n",
       "    <tr>\n",
       "      <th>30</th>\n",
       "      <td>33</td>\n",
       "      <td>Harry S. Truman</td>\n",
       "      <td>175</td>\n",
       "    </tr>\n",
       "    <tr>\n",
       "      <th>31</th>\n",
       "      <td>34</td>\n",
       "      <td>Dwight D. Eisenhower</td>\n",
       "      <td>179</td>\n",
       "    </tr>\n",
       "    <tr>\n",
       "      <th>32</th>\n",
       "      <td>35</td>\n",
       "      <td>John F. Kennedy</td>\n",
       "      <td>183</td>\n",
       "    </tr>\n",
       "    <tr>\n",
       "      <th>33</th>\n",
       "      <td>36</td>\n",
       "      <td>Lyndon B. Johnson</td>\n",
       "      <td>193</td>\n",
       "    </tr>\n",
       "    <tr>\n",
       "      <th>34</th>\n",
       "      <td>37</td>\n",
       "      <td>Richard Nixon</td>\n",
       "      <td>182</td>\n",
       "    </tr>\n",
       "    <tr>\n",
       "      <th>35</th>\n",
       "      <td>38</td>\n",
       "      <td>Gerald Ford</td>\n",
       "      <td>183</td>\n",
       "    </tr>\n",
       "    <tr>\n",
       "      <th>36</th>\n",
       "      <td>39</td>\n",
       "      <td>Jimmy Carter</td>\n",
       "      <td>177</td>\n",
       "    </tr>\n",
       "    <tr>\n",
       "      <th>37</th>\n",
       "      <td>40</td>\n",
       "      <td>Ronald Reagan</td>\n",
       "      <td>185</td>\n",
       "    </tr>\n",
       "    <tr>\n",
       "      <th>38</th>\n",
       "      <td>41</td>\n",
       "      <td>George H. W. Bush</td>\n",
       "      <td>188</td>\n",
       "    </tr>\n",
       "    <tr>\n",
       "      <th>39</th>\n",
       "      <td>42</td>\n",
       "      <td>Bill Clinton</td>\n",
       "      <td>188</td>\n",
       "    </tr>\n",
       "    <tr>\n",
       "      <th>40</th>\n",
       "      <td>43</td>\n",
       "      <td>George W. Bush</td>\n",
       "      <td>182</td>\n",
       "    </tr>\n",
       "    <tr>\n",
       "      <th>41</th>\n",
       "      <td>44</td>\n",
       "      <td>Barack Obama</td>\n",
       "      <td>185</td>\n",
       "    </tr>\n",
       "  </tbody>\n",
       "</table>\n",
       "</div>"
      ],
      "text/plain": [
       "    order                    name  height(cm)\n",
       "0       1       George Washington         189\n",
       "1       2              John Adams         170\n",
       "2       3        Thomas Jefferson         189\n",
       "3       4           James Madison         163\n",
       "4       5            James Monroe         183\n",
       "5       6       John Quincy Adams         171\n",
       "6       7          Andrew Jackson         185\n",
       "7       8        Martin Van Buren         168\n",
       "8       9  William Henry Harrison         173\n",
       "9      10              John Tyler         183\n",
       "10     11           James K. Polk         173\n",
       "11     12          Zachary Taylor         173\n",
       "12     13        Millard Fillmore         175\n",
       "13     14         Franklin Pierce         178\n",
       "14     15          James Buchanan         183\n",
       "15     16         Abraham Lincoln         193\n",
       "16     17          Andrew Johnson         178\n",
       "17     18        Ulysses S. Grant         173\n",
       "18     19     Rutherford B. Hayes         174\n",
       "19     20       James A. Garfield         183\n",
       "20     21       Chester A. Arthur         183\n",
       "21     23       Benjamin Harrison         168\n",
       "22     25        William McKinley         170\n",
       "23     26      Theodore Roosevelt         178\n",
       "24     27     William Howard Taft         182\n",
       "25     28          Woodrow Wilson         180\n",
       "26     29       Warren G. Harding         183\n",
       "27     30         Calvin Coolidge         178\n",
       "28     31          Herbert Hoover         182\n",
       "29     32   Franklin D. Roosevelt         188\n",
       "30     33         Harry S. Truman         175\n",
       "31     34    Dwight D. Eisenhower         179\n",
       "32     35         John F. Kennedy         183\n",
       "33     36       Lyndon B. Johnson         193\n",
       "34     37           Richard Nixon         182\n",
       "35     38             Gerald Ford         183\n",
       "36     39            Jimmy Carter         177\n",
       "37     40           Ronald Reagan         185\n",
       "38     41       George H. W. Bush         188\n",
       "39     42            Bill Clinton         188\n",
       "40     43          George W. Bush         182\n",
       "41     44            Barack Obama         185"
      ]
     },
     "execution_count": 18,
     "metadata": {},
     "output_type": "execute_result"
    }
   ],
   "source": [
    "\n",
    "df_presidents = pd.read_csv('president_heights.csv')\n",
    "df_presidents"
   ]
  },
  {
   "cell_type": "markdown",
   "id": "3bea17ed",
   "metadata": {},
   "source": [
    "### Establecer una columna como índice"
   ]
  },
  {
   "cell_type": "code",
   "execution_count": 19,
   "id": "fe63eb8f",
   "metadata": {},
   "outputs": [
    {
     "data": {
      "application/vnd.microsoft.datawrangler.viewer.v0+json": {
       "columns": [
        {
         "name": "order",
         "rawType": "int64",
         "type": "integer"
        },
        {
         "name": "name",
         "rawType": "object",
         "type": "string"
        },
        {
         "name": "height(cm)",
         "rawType": "int64",
         "type": "integer"
        }
       ],
       "ref": "740f5eca-0ff2-4378-b122-bb0f1d3cc004",
       "rows": [
        [
         "1",
         "George Washington",
         "189"
        ],
        [
         "2",
         "John Adams",
         "170"
        ],
        [
         "3",
         "Thomas Jefferson",
         "189"
        ],
        [
         "4",
         "James Madison",
         "163"
        ],
        [
         "5",
         "James Monroe",
         "183"
        ],
        [
         "6",
         "John Quincy Adams",
         "171"
        ],
        [
         "7",
         "Andrew Jackson",
         "185"
        ],
        [
         "8",
         "Martin Van Buren",
         "168"
        ],
        [
         "9",
         "William Henry Harrison",
         "173"
        ],
        [
         "10",
         "John Tyler",
         "183"
        ],
        [
         "11",
         "James K. Polk",
         "173"
        ],
        [
         "12",
         "Zachary Taylor",
         "173"
        ],
        [
         "13",
         "Millard Fillmore",
         "175"
        ],
        [
         "14",
         "Franklin Pierce",
         "178"
        ],
        [
         "15",
         "James Buchanan",
         "183"
        ],
        [
         "16",
         "Abraham Lincoln",
         "193"
        ],
        [
         "17",
         "Andrew Johnson",
         "178"
        ],
        [
         "18",
         "Ulysses S. Grant",
         "173"
        ],
        [
         "19",
         "Rutherford B. Hayes",
         "174"
        ],
        [
         "20",
         "James A. Garfield",
         "183"
        ],
        [
         "21",
         "Chester A. Arthur",
         "183"
        ],
        [
         "23",
         "Benjamin Harrison",
         "168"
        ],
        [
         "25",
         "William McKinley",
         "170"
        ],
        [
         "26",
         "Theodore Roosevelt",
         "178"
        ],
        [
         "27",
         "William Howard Taft",
         "182"
        ],
        [
         "28",
         "Woodrow Wilson",
         "180"
        ],
        [
         "29",
         "Warren G. Harding",
         "183"
        ],
        [
         "30",
         "Calvin Coolidge",
         "178"
        ],
        [
         "31",
         "Herbert Hoover",
         "182"
        ],
        [
         "32",
         "Franklin D. Roosevelt",
         "188"
        ],
        [
         "33",
         "Harry S. Truman",
         "175"
        ],
        [
         "34",
         "Dwight D. Eisenhower",
         "179"
        ],
        [
         "35",
         "John F. Kennedy",
         "183"
        ],
        [
         "36",
         "Lyndon B. Johnson",
         "193"
        ],
        [
         "37",
         "Richard Nixon",
         "182"
        ],
        [
         "38",
         "Gerald Ford",
         "183"
        ],
        [
         "39",
         "Jimmy Carter",
         "177"
        ],
        [
         "40",
         "Ronald Reagan",
         "185"
        ],
        [
         "41",
         "George H. W. Bush",
         "188"
        ],
        [
         "42",
         "Bill Clinton",
         "188"
        ],
        [
         "43",
         "George W. Bush",
         "182"
        ],
        [
         "44",
         "Barack Obama",
         "185"
        ]
       ],
       "shape": {
        "columns": 2,
        "rows": 42
       }
      },
      "text/html": [
       "<div>\n",
       "<style scoped>\n",
       "    .dataframe tbody tr th:only-of-type {\n",
       "        vertical-align: middle;\n",
       "    }\n",
       "\n",
       "    .dataframe tbody tr th {\n",
       "        vertical-align: top;\n",
       "    }\n",
       "\n",
       "    .dataframe thead th {\n",
       "        text-align: right;\n",
       "    }\n",
       "</style>\n",
       "<table border=\"1\" class=\"dataframe\">\n",
       "  <thead>\n",
       "    <tr style=\"text-align: right;\">\n",
       "      <th></th>\n",
       "      <th>name</th>\n",
       "      <th>height(cm)</th>\n",
       "    </tr>\n",
       "    <tr>\n",
       "      <th>order</th>\n",
       "      <th></th>\n",
       "      <th></th>\n",
       "    </tr>\n",
       "  </thead>\n",
       "  <tbody>\n",
       "    <tr>\n",
       "      <th>1</th>\n",
       "      <td>George Washington</td>\n",
       "      <td>189</td>\n",
       "    </tr>\n",
       "    <tr>\n",
       "      <th>2</th>\n",
       "      <td>John Adams</td>\n",
       "      <td>170</td>\n",
       "    </tr>\n",
       "    <tr>\n",
       "      <th>3</th>\n",
       "      <td>Thomas Jefferson</td>\n",
       "      <td>189</td>\n",
       "    </tr>\n",
       "    <tr>\n",
       "      <th>4</th>\n",
       "      <td>James Madison</td>\n",
       "      <td>163</td>\n",
       "    </tr>\n",
       "    <tr>\n",
       "      <th>5</th>\n",
       "      <td>James Monroe</td>\n",
       "      <td>183</td>\n",
       "    </tr>\n",
       "    <tr>\n",
       "      <th>6</th>\n",
       "      <td>John Quincy Adams</td>\n",
       "      <td>171</td>\n",
       "    </tr>\n",
       "    <tr>\n",
       "      <th>7</th>\n",
       "      <td>Andrew Jackson</td>\n",
       "      <td>185</td>\n",
       "    </tr>\n",
       "    <tr>\n",
       "      <th>8</th>\n",
       "      <td>Martin Van Buren</td>\n",
       "      <td>168</td>\n",
       "    </tr>\n",
       "    <tr>\n",
       "      <th>9</th>\n",
       "      <td>William Henry Harrison</td>\n",
       "      <td>173</td>\n",
       "    </tr>\n",
       "    <tr>\n",
       "      <th>10</th>\n",
       "      <td>John Tyler</td>\n",
       "      <td>183</td>\n",
       "    </tr>\n",
       "    <tr>\n",
       "      <th>11</th>\n",
       "      <td>James K. Polk</td>\n",
       "      <td>173</td>\n",
       "    </tr>\n",
       "    <tr>\n",
       "      <th>12</th>\n",
       "      <td>Zachary Taylor</td>\n",
       "      <td>173</td>\n",
       "    </tr>\n",
       "    <tr>\n",
       "      <th>13</th>\n",
       "      <td>Millard Fillmore</td>\n",
       "      <td>175</td>\n",
       "    </tr>\n",
       "    <tr>\n",
       "      <th>14</th>\n",
       "      <td>Franklin Pierce</td>\n",
       "      <td>178</td>\n",
       "    </tr>\n",
       "    <tr>\n",
       "      <th>15</th>\n",
       "      <td>James Buchanan</td>\n",
       "      <td>183</td>\n",
       "    </tr>\n",
       "    <tr>\n",
       "      <th>16</th>\n",
       "      <td>Abraham Lincoln</td>\n",
       "      <td>193</td>\n",
       "    </tr>\n",
       "    <tr>\n",
       "      <th>17</th>\n",
       "      <td>Andrew Johnson</td>\n",
       "      <td>178</td>\n",
       "    </tr>\n",
       "    <tr>\n",
       "      <th>18</th>\n",
       "      <td>Ulysses S. Grant</td>\n",
       "      <td>173</td>\n",
       "    </tr>\n",
       "    <tr>\n",
       "      <th>19</th>\n",
       "      <td>Rutherford B. Hayes</td>\n",
       "      <td>174</td>\n",
       "    </tr>\n",
       "    <tr>\n",
       "      <th>20</th>\n",
       "      <td>James A. Garfield</td>\n",
       "      <td>183</td>\n",
       "    </tr>\n",
       "    <tr>\n",
       "      <th>21</th>\n",
       "      <td>Chester A. Arthur</td>\n",
       "      <td>183</td>\n",
       "    </tr>\n",
       "    <tr>\n",
       "      <th>23</th>\n",
       "      <td>Benjamin Harrison</td>\n",
       "      <td>168</td>\n",
       "    </tr>\n",
       "    <tr>\n",
       "      <th>25</th>\n",
       "      <td>William McKinley</td>\n",
       "      <td>170</td>\n",
       "    </tr>\n",
       "    <tr>\n",
       "      <th>26</th>\n",
       "      <td>Theodore Roosevelt</td>\n",
       "      <td>178</td>\n",
       "    </tr>\n",
       "    <tr>\n",
       "      <th>27</th>\n",
       "      <td>William Howard Taft</td>\n",
       "      <td>182</td>\n",
       "    </tr>\n",
       "    <tr>\n",
       "      <th>28</th>\n",
       "      <td>Woodrow Wilson</td>\n",
       "      <td>180</td>\n",
       "    </tr>\n",
       "    <tr>\n",
       "      <th>29</th>\n",
       "      <td>Warren G. Harding</td>\n",
       "      <td>183</td>\n",
       "    </tr>\n",
       "    <tr>\n",
       "      <th>30</th>\n",
       "      <td>Calvin Coolidge</td>\n",
       "      <td>178</td>\n",
       "    </tr>\n",
       "    <tr>\n",
       "      <th>31</th>\n",
       "      <td>Herbert Hoover</td>\n",
       "      <td>182</td>\n",
       "    </tr>\n",
       "    <tr>\n",
       "      <th>32</th>\n",
       "      <td>Franklin D. Roosevelt</td>\n",
       "      <td>188</td>\n",
       "    </tr>\n",
       "    <tr>\n",
       "      <th>33</th>\n",
       "      <td>Harry S. Truman</td>\n",
       "      <td>175</td>\n",
       "    </tr>\n",
       "    <tr>\n",
       "      <th>34</th>\n",
       "      <td>Dwight D. Eisenhower</td>\n",
       "      <td>179</td>\n",
       "    </tr>\n",
       "    <tr>\n",
       "      <th>35</th>\n",
       "      <td>John F. Kennedy</td>\n",
       "      <td>183</td>\n",
       "    </tr>\n",
       "    <tr>\n",
       "      <th>36</th>\n",
       "      <td>Lyndon B. Johnson</td>\n",
       "      <td>193</td>\n",
       "    </tr>\n",
       "    <tr>\n",
       "      <th>37</th>\n",
       "      <td>Richard Nixon</td>\n",
       "      <td>182</td>\n",
       "    </tr>\n",
       "    <tr>\n",
       "      <th>38</th>\n",
       "      <td>Gerald Ford</td>\n",
       "      <td>183</td>\n",
       "    </tr>\n",
       "    <tr>\n",
       "      <th>39</th>\n",
       "      <td>Jimmy Carter</td>\n",
       "      <td>177</td>\n",
       "    </tr>\n",
       "    <tr>\n",
       "      <th>40</th>\n",
       "      <td>Ronald Reagan</td>\n",
       "      <td>185</td>\n",
       "    </tr>\n",
       "    <tr>\n",
       "      <th>41</th>\n",
       "      <td>George H. W. Bush</td>\n",
       "      <td>188</td>\n",
       "    </tr>\n",
       "    <tr>\n",
       "      <th>42</th>\n",
       "      <td>Bill Clinton</td>\n",
       "      <td>188</td>\n",
       "    </tr>\n",
       "    <tr>\n",
       "      <th>43</th>\n",
       "      <td>George W. Bush</td>\n",
       "      <td>182</td>\n",
       "    </tr>\n",
       "    <tr>\n",
       "      <th>44</th>\n",
       "      <td>Barack Obama</td>\n",
       "      <td>185</td>\n",
       "    </tr>\n",
       "  </tbody>\n",
       "</table>\n",
       "</div>"
      ],
      "text/plain": [
       "                         name  height(cm)\n",
       "order                                    \n",
       "1           George Washington         189\n",
       "2                  John Adams         170\n",
       "3            Thomas Jefferson         189\n",
       "4               James Madison         163\n",
       "5                James Monroe         183\n",
       "6           John Quincy Adams         171\n",
       "7              Andrew Jackson         185\n",
       "8            Martin Van Buren         168\n",
       "9      William Henry Harrison         173\n",
       "10                 John Tyler         183\n",
       "11              James K. Polk         173\n",
       "12             Zachary Taylor         173\n",
       "13           Millard Fillmore         175\n",
       "14            Franklin Pierce         178\n",
       "15             James Buchanan         183\n",
       "16            Abraham Lincoln         193\n",
       "17             Andrew Johnson         178\n",
       "18           Ulysses S. Grant         173\n",
       "19        Rutherford B. Hayes         174\n",
       "20          James A. Garfield         183\n",
       "21          Chester A. Arthur         183\n",
       "23          Benjamin Harrison         168\n",
       "25           William McKinley         170\n",
       "26         Theodore Roosevelt         178\n",
       "27        William Howard Taft         182\n",
       "28             Woodrow Wilson         180\n",
       "29          Warren G. Harding         183\n",
       "30            Calvin Coolidge         178\n",
       "31             Herbert Hoover         182\n",
       "32      Franklin D. Roosevelt         188\n",
       "33            Harry S. Truman         175\n",
       "34       Dwight D. Eisenhower         179\n",
       "35            John F. Kennedy         183\n",
       "36          Lyndon B. Johnson         193\n",
       "37              Richard Nixon         182\n",
       "38                Gerald Ford         183\n",
       "39               Jimmy Carter         177\n",
       "40              Ronald Reagan         185\n",
       "41          George H. W. Bush         188\n",
       "42               Bill Clinton         188\n",
       "43             George W. Bush         182\n",
       "44               Barack Obama         185"
      ]
     },
     "execution_count": 19,
     "metadata": {},
     "output_type": "execute_result"
    }
   ],
   "source": [
    "#colocamos Order como index\n",
    "df_presidents = pd.read_csv('president_heights.csv', index_col=0)\n",
    "df_presidents"
   ]
  },
  {
   "cell_type": "code",
   "execution_count": 20,
   "id": "1fad7c4a",
   "metadata": {},
   "outputs": [
    {
     "data": {
      "application/vnd.microsoft.datawrangler.viewer.v0+json": {
       "columns": [
        {
         "name": "height(cm)",
         "rawType": "int64",
         "type": "integer"
        },
        {
         "name": "order",
         "rawType": "int64",
         "type": "integer"
        },
        {
         "name": "name",
         "rawType": "object",
         "type": "string"
        }
       ],
       "ref": "ac642aef-3bd8-4ae4-b238-343d3f1c7850",
       "rows": [
        [
         "189",
         "1",
         "George Washington"
        ],
        [
         "170",
         "2",
         "John Adams"
        ],
        [
         "189",
         "3",
         "Thomas Jefferson"
        ],
        [
         "163",
         "4",
         "James Madison"
        ],
        [
         "183",
         "5",
         "James Monroe"
        ],
        [
         "171",
         "6",
         "John Quincy Adams"
        ],
        [
         "185",
         "7",
         "Andrew Jackson"
        ],
        [
         "168",
         "8",
         "Martin Van Buren"
        ],
        [
         "173",
         "9",
         "William Henry Harrison"
        ],
        [
         "183",
         "10",
         "John Tyler"
        ],
        [
         "173",
         "11",
         "James K. Polk"
        ],
        [
         "173",
         "12",
         "Zachary Taylor"
        ],
        [
         "175",
         "13",
         "Millard Fillmore"
        ],
        [
         "178",
         "14",
         "Franklin Pierce"
        ],
        [
         "183",
         "15",
         "James Buchanan"
        ],
        [
         "193",
         "16",
         "Abraham Lincoln"
        ],
        [
         "178",
         "17",
         "Andrew Johnson"
        ],
        [
         "173",
         "18",
         "Ulysses S. Grant"
        ],
        [
         "174",
         "19",
         "Rutherford B. Hayes"
        ],
        [
         "183",
         "20",
         "James A. Garfield"
        ],
        [
         "183",
         "21",
         "Chester A. Arthur"
        ],
        [
         "168",
         "23",
         "Benjamin Harrison"
        ],
        [
         "170",
         "25",
         "William McKinley"
        ],
        [
         "178",
         "26",
         "Theodore Roosevelt"
        ],
        [
         "182",
         "27",
         "William Howard Taft"
        ],
        [
         "180",
         "28",
         "Woodrow Wilson"
        ],
        [
         "183",
         "29",
         "Warren G. Harding"
        ],
        [
         "178",
         "30",
         "Calvin Coolidge"
        ],
        [
         "182",
         "31",
         "Herbert Hoover"
        ],
        [
         "188",
         "32",
         "Franklin D. Roosevelt"
        ],
        [
         "175",
         "33",
         "Harry S. Truman"
        ],
        [
         "179",
         "34",
         "Dwight D. Eisenhower"
        ],
        [
         "183",
         "35",
         "John F. Kennedy"
        ],
        [
         "193",
         "36",
         "Lyndon B. Johnson"
        ],
        [
         "182",
         "37",
         "Richard Nixon"
        ],
        [
         "183",
         "38",
         "Gerald Ford"
        ],
        [
         "177",
         "39",
         "Jimmy Carter"
        ],
        [
         "185",
         "40",
         "Ronald Reagan"
        ],
        [
         "188",
         "41",
         "George H. W. Bush"
        ],
        [
         "188",
         "42",
         "Bill Clinton"
        ],
        [
         "182",
         "43",
         "George W. Bush"
        ],
        [
         "185",
         "44",
         "Barack Obama"
        ]
       ],
       "shape": {
        "columns": 2,
        "rows": 42
       }
      },
      "text/html": [
       "<div>\n",
       "<style scoped>\n",
       "    .dataframe tbody tr th:only-of-type {\n",
       "        vertical-align: middle;\n",
       "    }\n",
       "\n",
       "    .dataframe tbody tr th {\n",
       "        vertical-align: top;\n",
       "    }\n",
       "\n",
       "    .dataframe thead th {\n",
       "        text-align: right;\n",
       "    }\n",
       "</style>\n",
       "<table border=\"1\" class=\"dataframe\">\n",
       "  <thead>\n",
       "    <tr style=\"text-align: right;\">\n",
       "      <th></th>\n",
       "      <th>order</th>\n",
       "      <th>name</th>\n",
       "    </tr>\n",
       "    <tr>\n",
       "      <th>height(cm)</th>\n",
       "      <th></th>\n",
       "      <th></th>\n",
       "    </tr>\n",
       "  </thead>\n",
       "  <tbody>\n",
       "    <tr>\n",
       "      <th>189</th>\n",
       "      <td>1</td>\n",
       "      <td>George Washington</td>\n",
       "    </tr>\n",
       "    <tr>\n",
       "      <th>170</th>\n",
       "      <td>2</td>\n",
       "      <td>John Adams</td>\n",
       "    </tr>\n",
       "    <tr>\n",
       "      <th>189</th>\n",
       "      <td>3</td>\n",
       "      <td>Thomas Jefferson</td>\n",
       "    </tr>\n",
       "    <tr>\n",
       "      <th>163</th>\n",
       "      <td>4</td>\n",
       "      <td>James Madison</td>\n",
       "    </tr>\n",
       "    <tr>\n",
       "      <th>183</th>\n",
       "      <td>5</td>\n",
       "      <td>James Monroe</td>\n",
       "    </tr>\n",
       "    <tr>\n",
       "      <th>171</th>\n",
       "      <td>6</td>\n",
       "      <td>John Quincy Adams</td>\n",
       "    </tr>\n",
       "    <tr>\n",
       "      <th>185</th>\n",
       "      <td>7</td>\n",
       "      <td>Andrew Jackson</td>\n",
       "    </tr>\n",
       "    <tr>\n",
       "      <th>168</th>\n",
       "      <td>8</td>\n",
       "      <td>Martin Van Buren</td>\n",
       "    </tr>\n",
       "    <tr>\n",
       "      <th>173</th>\n",
       "      <td>9</td>\n",
       "      <td>William Henry Harrison</td>\n",
       "    </tr>\n",
       "    <tr>\n",
       "      <th>183</th>\n",
       "      <td>10</td>\n",
       "      <td>John Tyler</td>\n",
       "    </tr>\n",
       "    <tr>\n",
       "      <th>173</th>\n",
       "      <td>11</td>\n",
       "      <td>James K. Polk</td>\n",
       "    </tr>\n",
       "    <tr>\n",
       "      <th>173</th>\n",
       "      <td>12</td>\n",
       "      <td>Zachary Taylor</td>\n",
       "    </tr>\n",
       "    <tr>\n",
       "      <th>175</th>\n",
       "      <td>13</td>\n",
       "      <td>Millard Fillmore</td>\n",
       "    </tr>\n",
       "    <tr>\n",
       "      <th>178</th>\n",
       "      <td>14</td>\n",
       "      <td>Franklin Pierce</td>\n",
       "    </tr>\n",
       "    <tr>\n",
       "      <th>183</th>\n",
       "      <td>15</td>\n",
       "      <td>James Buchanan</td>\n",
       "    </tr>\n",
       "    <tr>\n",
       "      <th>193</th>\n",
       "      <td>16</td>\n",
       "      <td>Abraham Lincoln</td>\n",
       "    </tr>\n",
       "    <tr>\n",
       "      <th>178</th>\n",
       "      <td>17</td>\n",
       "      <td>Andrew Johnson</td>\n",
       "    </tr>\n",
       "    <tr>\n",
       "      <th>173</th>\n",
       "      <td>18</td>\n",
       "      <td>Ulysses S. Grant</td>\n",
       "    </tr>\n",
       "    <tr>\n",
       "      <th>174</th>\n",
       "      <td>19</td>\n",
       "      <td>Rutherford B. Hayes</td>\n",
       "    </tr>\n",
       "    <tr>\n",
       "      <th>183</th>\n",
       "      <td>20</td>\n",
       "      <td>James A. Garfield</td>\n",
       "    </tr>\n",
       "    <tr>\n",
       "      <th>183</th>\n",
       "      <td>21</td>\n",
       "      <td>Chester A. Arthur</td>\n",
       "    </tr>\n",
       "    <tr>\n",
       "      <th>168</th>\n",
       "      <td>23</td>\n",
       "      <td>Benjamin Harrison</td>\n",
       "    </tr>\n",
       "    <tr>\n",
       "      <th>170</th>\n",
       "      <td>25</td>\n",
       "      <td>William McKinley</td>\n",
       "    </tr>\n",
       "    <tr>\n",
       "      <th>178</th>\n",
       "      <td>26</td>\n",
       "      <td>Theodore Roosevelt</td>\n",
       "    </tr>\n",
       "    <tr>\n",
       "      <th>182</th>\n",
       "      <td>27</td>\n",
       "      <td>William Howard Taft</td>\n",
       "    </tr>\n",
       "    <tr>\n",
       "      <th>180</th>\n",
       "      <td>28</td>\n",
       "      <td>Woodrow Wilson</td>\n",
       "    </tr>\n",
       "    <tr>\n",
       "      <th>183</th>\n",
       "      <td>29</td>\n",
       "      <td>Warren G. Harding</td>\n",
       "    </tr>\n",
       "    <tr>\n",
       "      <th>178</th>\n",
       "      <td>30</td>\n",
       "      <td>Calvin Coolidge</td>\n",
       "    </tr>\n",
       "    <tr>\n",
       "      <th>182</th>\n",
       "      <td>31</td>\n",
       "      <td>Herbert Hoover</td>\n",
       "    </tr>\n",
       "    <tr>\n",
       "      <th>188</th>\n",
       "      <td>32</td>\n",
       "      <td>Franklin D. Roosevelt</td>\n",
       "    </tr>\n",
       "    <tr>\n",
       "      <th>175</th>\n",
       "      <td>33</td>\n",
       "      <td>Harry S. Truman</td>\n",
       "    </tr>\n",
       "    <tr>\n",
       "      <th>179</th>\n",
       "      <td>34</td>\n",
       "      <td>Dwight D. Eisenhower</td>\n",
       "    </tr>\n",
       "    <tr>\n",
       "      <th>183</th>\n",
       "      <td>35</td>\n",
       "      <td>John F. Kennedy</td>\n",
       "    </tr>\n",
       "    <tr>\n",
       "      <th>193</th>\n",
       "      <td>36</td>\n",
       "      <td>Lyndon B. Johnson</td>\n",
       "    </tr>\n",
       "    <tr>\n",
       "      <th>182</th>\n",
       "      <td>37</td>\n",
       "      <td>Richard Nixon</td>\n",
       "    </tr>\n",
       "    <tr>\n",
       "      <th>183</th>\n",
       "      <td>38</td>\n",
       "      <td>Gerald Ford</td>\n",
       "    </tr>\n",
       "    <tr>\n",
       "      <th>177</th>\n",
       "      <td>39</td>\n",
       "      <td>Jimmy Carter</td>\n",
       "    </tr>\n",
       "    <tr>\n",
       "      <th>185</th>\n",
       "      <td>40</td>\n",
       "      <td>Ronald Reagan</td>\n",
       "    </tr>\n",
       "    <tr>\n",
       "      <th>188</th>\n",
       "      <td>41</td>\n",
       "      <td>George H. W. Bush</td>\n",
       "    </tr>\n",
       "    <tr>\n",
       "      <th>188</th>\n",
       "      <td>42</td>\n",
       "      <td>Bill Clinton</td>\n",
       "    </tr>\n",
       "    <tr>\n",
       "      <th>182</th>\n",
       "      <td>43</td>\n",
       "      <td>George W. Bush</td>\n",
       "    </tr>\n",
       "    <tr>\n",
       "      <th>185</th>\n",
       "      <td>44</td>\n",
       "      <td>Barack Obama</td>\n",
       "    </tr>\n",
       "  </tbody>\n",
       "</table>\n",
       "</div>"
      ],
      "text/plain": [
       "            order                    name\n",
       "height(cm)                               \n",
       "189             1       George Washington\n",
       "170             2              John Adams\n",
       "189             3        Thomas Jefferson\n",
       "163             4           James Madison\n",
       "183             5            James Monroe\n",
       "171             6       John Quincy Adams\n",
       "185             7          Andrew Jackson\n",
       "168             8        Martin Van Buren\n",
       "173             9  William Henry Harrison\n",
       "183            10              John Tyler\n",
       "173            11           James K. Polk\n",
       "173            12          Zachary Taylor\n",
       "175            13        Millard Fillmore\n",
       "178            14         Franklin Pierce\n",
       "183            15          James Buchanan\n",
       "193            16         Abraham Lincoln\n",
       "178            17          Andrew Johnson\n",
       "173            18        Ulysses S. Grant\n",
       "174            19     Rutherford B. Hayes\n",
       "183            20       James A. Garfield\n",
       "183            21       Chester A. Arthur\n",
       "168            23       Benjamin Harrison\n",
       "170            25        William McKinley\n",
       "178            26      Theodore Roosevelt\n",
       "182            27     William Howard Taft\n",
       "180            28          Woodrow Wilson\n",
       "183            29       Warren G. Harding\n",
       "178            30         Calvin Coolidge\n",
       "182            31          Herbert Hoover\n",
       "188            32   Franklin D. Roosevelt\n",
       "175            33         Harry S. Truman\n",
       "179            34    Dwight D. Eisenhower\n",
       "183            35         John F. Kennedy\n",
       "193            36       Lyndon B. Johnson\n",
       "182            37           Richard Nixon\n",
       "183            38             Gerald Ford\n",
       "177            39            Jimmy Carter\n",
       "185            40           Ronald Reagan\n",
       "188            41       George H. W. Bush\n",
       "188            42            Bill Clinton\n",
       "182            43          George W. Bush\n",
       "185            44            Barack Obama"
      ]
     },
     "execution_count": 20,
     "metadata": {},
     "output_type": "execute_result"
    }
   ],
   "source": [
    "#colocamos height como index\n",
    "df_presidents = pd.read_csv('president_heights.csv', index_col=2)\n",
    "df_presidents"
   ]
  },
  {
   "cell_type": "markdown",
   "id": "71f12b7a",
   "metadata": {},
   "source": [
    "### <span style=\"color:red;\">1- .head( )</span>\n",
    "¿Qué hace?\n",
    "\n",
    "El método head() se utiliza para mostrar las primeras N filas de un DataFrame o una Serie. \n",
    "Es una de las primeras cosas que haces al cargar datos para obtener una vista rápida y entender su estructura, qué columnas tienen, qué tipo de datos contienen, y si la carga inicial fue correcta.\n",
    "\n",
    "Sintaxis:\n",
    "```python\n",
    "df.head(n=5)\n",
    "serie.head(n=5)\n",
    "```\n",
    "\n",
    "Argumento Clave:\n",
    "\n",
    "n: Un número entero opcional. Especifica cuántas filas deseas ver. Si no se especifica, por defecto muestra las primeras 5 filas."
   ]
  },
  {
   "cell_type": "code",
   "execution_count": 21,
   "id": "d9d1ded0",
   "metadata": {},
   "outputs": [
    {
     "data": {
      "application/vnd.microsoft.datawrangler.viewer.v0+json": {
       "columns": [
        {
         "name": "height(cm)",
         "rawType": "int64",
         "type": "integer"
        },
        {
         "name": "order",
         "rawType": "int64",
         "type": "integer"
        },
        {
         "name": "name",
         "rawType": "object",
         "type": "string"
        }
       ],
       "ref": "175bafc6-830f-4fc8-89d1-93c4eb32c176",
       "rows": [
        [
         "189",
         "1",
         "George Washington"
        ],
        [
         "170",
         "2",
         "John Adams"
        ],
        [
         "189",
         "3",
         "Thomas Jefferson"
        ],
        [
         "163",
         "4",
         "James Madison"
        ],
        [
         "183",
         "5",
         "James Monroe"
        ]
       ],
       "shape": {
        "columns": 2,
        "rows": 5
       }
      },
      "text/html": [
       "<div>\n",
       "<style scoped>\n",
       "    .dataframe tbody tr th:only-of-type {\n",
       "        vertical-align: middle;\n",
       "    }\n",
       "\n",
       "    .dataframe tbody tr th {\n",
       "        vertical-align: top;\n",
       "    }\n",
       "\n",
       "    .dataframe thead th {\n",
       "        text-align: right;\n",
       "    }\n",
       "</style>\n",
       "<table border=\"1\" class=\"dataframe\">\n",
       "  <thead>\n",
       "    <tr style=\"text-align: right;\">\n",
       "      <th></th>\n",
       "      <th>order</th>\n",
       "      <th>name</th>\n",
       "    </tr>\n",
       "    <tr>\n",
       "      <th>height(cm)</th>\n",
       "      <th></th>\n",
       "      <th></th>\n",
       "    </tr>\n",
       "  </thead>\n",
       "  <tbody>\n",
       "    <tr>\n",
       "      <th>189</th>\n",
       "      <td>1</td>\n",
       "      <td>George Washington</td>\n",
       "    </tr>\n",
       "    <tr>\n",
       "      <th>170</th>\n",
       "      <td>2</td>\n",
       "      <td>John Adams</td>\n",
       "    </tr>\n",
       "    <tr>\n",
       "      <th>189</th>\n",
       "      <td>3</td>\n",
       "      <td>Thomas Jefferson</td>\n",
       "    </tr>\n",
       "    <tr>\n",
       "      <th>163</th>\n",
       "      <td>4</td>\n",
       "      <td>James Madison</td>\n",
       "    </tr>\n",
       "    <tr>\n",
       "      <th>183</th>\n",
       "      <td>5</td>\n",
       "      <td>James Monroe</td>\n",
       "    </tr>\n",
       "  </tbody>\n",
       "</table>\n",
       "</div>"
      ],
      "text/plain": [
       "            order               name\n",
       "height(cm)                          \n",
       "189             1  George Washington\n",
       "170             2         John Adams\n",
       "189             3   Thomas Jefferson\n",
       "163             4      James Madison\n",
       "183             5       James Monroe"
      ]
     },
     "execution_count": 21,
     "metadata": {},
     "output_type": "execute_result"
    }
   ],
   "source": [
    "df_presidents.head()"
   ]
  },
  {
   "cell_type": "code",
   "execution_count": 22,
   "id": "b6a83960",
   "metadata": {},
   "outputs": [
    {
     "data": {
      "application/vnd.microsoft.datawrangler.viewer.v0+json": {
       "columns": [
        {
         "name": "height(cm)",
         "rawType": "int64",
         "type": "integer"
        },
        {
         "name": "order",
         "rawType": "int64",
         "type": "integer"
        },
        {
         "name": "name",
         "rawType": "object",
         "type": "string"
        }
       ],
       "ref": "e42e6fee-e738-4ede-91fb-0ca3f02f302a",
       "rows": [
        [
         "189",
         "1",
         "George Washington"
        ],
        [
         "170",
         "2",
         "John Adams"
        ],
        [
         "189",
         "3",
         "Thomas Jefferson"
        ],
        [
         "163",
         "4",
         "James Madison"
        ],
        [
         "183",
         "5",
         "James Monroe"
        ],
        [
         "171",
         "6",
         "John Quincy Adams"
        ],
        [
         "185",
         "7",
         "Andrew Jackson"
        ],
        [
         "168",
         "8",
         "Martin Van Buren"
        ],
        [
         "173",
         "9",
         "William Henry Harrison"
        ],
        [
         "183",
         "10",
         "John Tyler"
        ]
       ],
       "shape": {
        "columns": 2,
        "rows": 10
       }
      },
      "text/html": [
       "<div>\n",
       "<style scoped>\n",
       "    .dataframe tbody tr th:only-of-type {\n",
       "        vertical-align: middle;\n",
       "    }\n",
       "\n",
       "    .dataframe tbody tr th {\n",
       "        vertical-align: top;\n",
       "    }\n",
       "\n",
       "    .dataframe thead th {\n",
       "        text-align: right;\n",
       "    }\n",
       "</style>\n",
       "<table border=\"1\" class=\"dataframe\">\n",
       "  <thead>\n",
       "    <tr style=\"text-align: right;\">\n",
       "      <th></th>\n",
       "      <th>order</th>\n",
       "      <th>name</th>\n",
       "    </tr>\n",
       "    <tr>\n",
       "      <th>height(cm)</th>\n",
       "      <th></th>\n",
       "      <th></th>\n",
       "    </tr>\n",
       "  </thead>\n",
       "  <tbody>\n",
       "    <tr>\n",
       "      <th>189</th>\n",
       "      <td>1</td>\n",
       "      <td>George Washington</td>\n",
       "    </tr>\n",
       "    <tr>\n",
       "      <th>170</th>\n",
       "      <td>2</td>\n",
       "      <td>John Adams</td>\n",
       "    </tr>\n",
       "    <tr>\n",
       "      <th>189</th>\n",
       "      <td>3</td>\n",
       "      <td>Thomas Jefferson</td>\n",
       "    </tr>\n",
       "    <tr>\n",
       "      <th>163</th>\n",
       "      <td>4</td>\n",
       "      <td>James Madison</td>\n",
       "    </tr>\n",
       "    <tr>\n",
       "      <th>183</th>\n",
       "      <td>5</td>\n",
       "      <td>James Monroe</td>\n",
       "    </tr>\n",
       "    <tr>\n",
       "      <th>171</th>\n",
       "      <td>6</td>\n",
       "      <td>John Quincy Adams</td>\n",
       "    </tr>\n",
       "    <tr>\n",
       "      <th>185</th>\n",
       "      <td>7</td>\n",
       "      <td>Andrew Jackson</td>\n",
       "    </tr>\n",
       "    <tr>\n",
       "      <th>168</th>\n",
       "      <td>8</td>\n",
       "      <td>Martin Van Buren</td>\n",
       "    </tr>\n",
       "    <tr>\n",
       "      <th>173</th>\n",
       "      <td>9</td>\n",
       "      <td>William Henry Harrison</td>\n",
       "    </tr>\n",
       "    <tr>\n",
       "      <th>183</th>\n",
       "      <td>10</td>\n",
       "      <td>John Tyler</td>\n",
       "    </tr>\n",
       "  </tbody>\n",
       "</table>\n",
       "</div>"
      ],
      "text/plain": [
       "            order                    name\n",
       "height(cm)                               \n",
       "189             1       George Washington\n",
       "170             2              John Adams\n",
       "189             3        Thomas Jefferson\n",
       "163             4           James Madison\n",
       "183             5            James Monroe\n",
       "171             6       John Quincy Adams\n",
       "185             7          Andrew Jackson\n",
       "168             8        Martin Van Buren\n",
       "173             9  William Henry Harrison\n",
       "183            10              John Tyler"
      ]
     },
     "execution_count": 22,
     "metadata": {},
     "output_type": "execute_result"
    }
   ],
   "source": [
    "df_presidents.head(10)"
   ]
  },
  {
   "cell_type": "markdown",
   "id": "58462d20",
   "metadata": {},
   "source": [
    "### <span style=\"color:red;\">2- .tail( )</span>\n",
    "\n",
    "¿Qué hace?\n",
    "\n",
    "Similar a head(), pero muestra las últimas N filas del DataFrame o Serie. Es útil para ver cómo termina el conjunto de datos o si hay algún dato anómalo al final.\n",
    "\n",
    "Sintaxis:\n",
    "df.tail(n=5)\n",
    "\n",
    "Argumento Clave:\n",
    "\n",
    "n: Un número entero opcional. Por defecto, muestra las últimas 5 filas."
   ]
  },
  {
   "cell_type": "code",
   "execution_count": 23,
   "id": "c8df0cbb",
   "metadata": {},
   "outputs": [
    {
     "data": {
      "application/vnd.microsoft.datawrangler.viewer.v0+json": {
       "columns": [
        {
         "name": "height(cm)",
         "rawType": "int64",
         "type": "integer"
        },
        {
         "name": "order",
         "rawType": "int64",
         "type": "integer"
        },
        {
         "name": "name",
         "rawType": "object",
         "type": "string"
        }
       ],
       "ref": "a36fba0e-00dc-4db7-9eb8-1f489e6afc4d",
       "rows": [
        [
         "182",
         "43",
         "George W. Bush"
        ],
        [
         "185",
         "44",
         "Barack Obama"
        ]
       ],
       "shape": {
        "columns": 2,
        "rows": 2
       }
      },
      "text/html": [
       "<div>\n",
       "<style scoped>\n",
       "    .dataframe tbody tr th:only-of-type {\n",
       "        vertical-align: middle;\n",
       "    }\n",
       "\n",
       "    .dataframe tbody tr th {\n",
       "        vertical-align: top;\n",
       "    }\n",
       "\n",
       "    .dataframe thead th {\n",
       "        text-align: right;\n",
       "    }\n",
       "</style>\n",
       "<table border=\"1\" class=\"dataframe\">\n",
       "  <thead>\n",
       "    <tr style=\"text-align: right;\">\n",
       "      <th></th>\n",
       "      <th>order</th>\n",
       "      <th>name</th>\n",
       "    </tr>\n",
       "    <tr>\n",
       "      <th>height(cm)</th>\n",
       "      <th></th>\n",
       "      <th></th>\n",
       "    </tr>\n",
       "  </thead>\n",
       "  <tbody>\n",
       "    <tr>\n",
       "      <th>182</th>\n",
       "      <td>43</td>\n",
       "      <td>George W. Bush</td>\n",
       "    </tr>\n",
       "    <tr>\n",
       "      <th>185</th>\n",
       "      <td>44</td>\n",
       "      <td>Barack Obama</td>\n",
       "    </tr>\n",
       "  </tbody>\n",
       "</table>\n",
       "</div>"
      ],
      "text/plain": [
       "            order            name\n",
       "height(cm)                       \n",
       "182            43  George W. Bush\n",
       "185            44    Barack Obama"
      ]
     },
     "execution_count": 23,
     "metadata": {},
     "output_type": "execute_result"
    }
   ],
   "source": [
    "df_presidents.tail(2)"
   ]
  },
  {
   "cell_type": "markdown",
   "id": "47a0a97c",
   "metadata": {},
   "source": [
    "### <span style=\"color:red;\">3- .sample( )</span>\n",
    "Qué hace?\n",
    "\n",
    "El método sample() se utiliza para obtener una muestra aleatoria de filas (o columnas) de tu DataFrame o Serie.\n",
    "\n",
    " Es increíblemente útil cuando tienes un conjunto de datos muy grande y quieres echarle un vistazo a una porción representativa sin cargar ni mostrarlo todo. \n",
    " \n",
    " También es fundamental para tareas como la creación de conjuntos de datos de entrenamiento y prueba en machine learning."
   ]
  },
  {
   "cell_type": "code",
   "execution_count": 24,
   "id": "273075bc",
   "metadata": {},
   "outputs": [
    {
     "data": {
      "application/vnd.microsoft.datawrangler.viewer.v0+json": {
       "columns": [
        {
         "name": "height(cm)",
         "rawType": "int64",
         "type": "integer"
        },
        {
         "name": "order",
         "rawType": "int64",
         "type": "integer"
        },
        {
         "name": "name",
         "rawType": "object",
         "type": "string"
        }
       ],
       "ref": "9285aded-3613-4647-b14f-69c84fc9b1b3",
       "rows": [
        [
         "185",
         "7",
         "Andrew Jackson"
        ],
        [
         "173",
         "9",
         "William Henry Harrison"
        ],
        [
         "182",
         "43",
         "George W. Bush"
        ],
        [
         "173",
         "18",
         "Ulysses S. Grant"
        ],
        [
         "175",
         "13",
         "Millard Fillmore"
        ],
        [
         "185",
         "44",
         "Barack Obama"
        ],
        [
         "180",
         "28",
         "Woodrow Wilson"
        ],
        [
         "183",
         "38",
         "Gerald Ford"
        ],
        [
         "179",
         "34",
         "Dwight D. Eisenhower"
        ],
        [
         "183",
         "29",
         "Warren G. Harding"
        ]
       ],
       "shape": {
        "columns": 2,
        "rows": 10
       }
      },
      "text/html": [
       "<div>\n",
       "<style scoped>\n",
       "    .dataframe tbody tr th:only-of-type {\n",
       "        vertical-align: middle;\n",
       "    }\n",
       "\n",
       "    .dataframe tbody tr th {\n",
       "        vertical-align: top;\n",
       "    }\n",
       "\n",
       "    .dataframe thead th {\n",
       "        text-align: right;\n",
       "    }\n",
       "</style>\n",
       "<table border=\"1\" class=\"dataframe\">\n",
       "  <thead>\n",
       "    <tr style=\"text-align: right;\">\n",
       "      <th></th>\n",
       "      <th>order</th>\n",
       "      <th>name</th>\n",
       "    </tr>\n",
       "    <tr>\n",
       "      <th>height(cm)</th>\n",
       "      <th></th>\n",
       "      <th></th>\n",
       "    </tr>\n",
       "  </thead>\n",
       "  <tbody>\n",
       "    <tr>\n",
       "      <th>185</th>\n",
       "      <td>7</td>\n",
       "      <td>Andrew Jackson</td>\n",
       "    </tr>\n",
       "    <tr>\n",
       "      <th>173</th>\n",
       "      <td>9</td>\n",
       "      <td>William Henry Harrison</td>\n",
       "    </tr>\n",
       "    <tr>\n",
       "      <th>182</th>\n",
       "      <td>43</td>\n",
       "      <td>George W. Bush</td>\n",
       "    </tr>\n",
       "    <tr>\n",
       "      <th>173</th>\n",
       "      <td>18</td>\n",
       "      <td>Ulysses S. Grant</td>\n",
       "    </tr>\n",
       "    <tr>\n",
       "      <th>175</th>\n",
       "      <td>13</td>\n",
       "      <td>Millard Fillmore</td>\n",
       "    </tr>\n",
       "    <tr>\n",
       "      <th>185</th>\n",
       "      <td>44</td>\n",
       "      <td>Barack Obama</td>\n",
       "    </tr>\n",
       "    <tr>\n",
       "      <th>180</th>\n",
       "      <td>28</td>\n",
       "      <td>Woodrow Wilson</td>\n",
       "    </tr>\n",
       "    <tr>\n",
       "      <th>183</th>\n",
       "      <td>38</td>\n",
       "      <td>Gerald Ford</td>\n",
       "    </tr>\n",
       "    <tr>\n",
       "      <th>179</th>\n",
       "      <td>34</td>\n",
       "      <td>Dwight D. Eisenhower</td>\n",
       "    </tr>\n",
       "    <tr>\n",
       "      <th>183</th>\n",
       "      <td>29</td>\n",
       "      <td>Warren G. Harding</td>\n",
       "    </tr>\n",
       "  </tbody>\n",
       "</table>\n",
       "</div>"
      ],
      "text/plain": [
       "            order                    name\n",
       "height(cm)                               \n",
       "185             7          Andrew Jackson\n",
       "173             9  William Henry Harrison\n",
       "182            43          George W. Bush\n",
       "173            18        Ulysses S. Grant\n",
       "175            13        Millard Fillmore\n",
       "185            44            Barack Obama\n",
       "180            28          Woodrow Wilson\n",
       "183            38             Gerald Ford\n",
       "179            34    Dwight D. Eisenhower\n",
       "183            29       Warren G. Harding"
      ]
     },
     "execution_count": 24,
     "metadata": {},
     "output_type": "execute_result"
    }
   ],
   "source": [
    "df_presidents.sample(10)"
   ]
  },
  {
   "cell_type": "markdown",
   "id": "924fa35b",
   "metadata": {},
   "source": [
    "### <span style=\"color:red;\">4- .shape</span>\n",
    "Qué hace?\n",
    "\n",
    "A diferencia de los métodos que hemos visto (head(), tail(), sample(), info(), describe()), shape no es un método, sino un atributo de los DataFrames y Series de Pandas. \n",
    "\n",
    "Un atributo es una característica o propiedad de un objeto, no una acción que realiza.\n",
    "\n",
    "df.shape devuelve una tupla que representa las dimensiones de tu DataFrame o Serie. Para un DataFrame, la tupla contendrá dos valores:\n",
    "\n",
    "- El número de filas.\n",
    "\n",
    "- El número de columnas."
   ]
  },
  {
   "cell_type": "code",
   "execution_count": 25,
   "id": "aeb56ce0",
   "metadata": {},
   "outputs": [
    {
     "data": {
      "text/plain": [
       "(42, 2)"
      ]
     },
     "execution_count": 25,
     "metadata": {},
     "output_type": "execute_result"
    }
   ],
   "source": [
    "df_presidents.shape"
   ]
  },
  {
   "cell_type": "markdown",
   "id": "ff2b03e8",
   "metadata": {},
   "source": [
    "Porque dos columnas y 42 filas ? porque pusimo la columna de heigh como index, si la quitaramos del index veamos que pasa:"
   ]
  },
  {
   "cell_type": "code",
   "execution_count": 26,
   "id": "dfa1ccaf",
   "metadata": {},
   "outputs": [],
   "source": [
    "df_presidents=df_presidents.reset_index() #reiniciamos el index"
   ]
  },
  {
   "cell_type": "code",
   "execution_count": 27,
   "id": "95331686",
   "metadata": {},
   "outputs": [
    {
     "data": {
      "text/plain": [
       "(42, 3)"
      ]
     },
     "execution_count": 27,
     "metadata": {},
     "output_type": "execute_result"
    }
   ],
   "source": [
    "df_presidents.shape"
   ]
  },
  {
   "cell_type": "markdown",
   "id": "649beb7e",
   "metadata": {},
   "source": [
    "### <span style=\"color:red;\">5- .size</span>\n",
    "Qué hace?\n",
    "\n",
    "Al igual que shape, .size es un atributo (no un método, así que no lleva paréntesis ()) de los DataFrames y Series de Pandas.\n",
    "\n",
    "Devuelve un número entero que representa la cantidad total de elementos en el DataFrame o Serie.\n",
    "\n",
    "Esencialmente, es el producto del número de filas por el número de columnas (filas * columnas). \n",
    "\n",
    "Si tienes un DataFrame de 42 filas y 3 columnas, df.size será 126. \n",
    "\n",
    "Para una Serie, es simplemente el número de elementos que contiene."
   ]
  },
  {
   "cell_type": "code",
   "execution_count": 28,
   "id": "b2b409e4",
   "metadata": {},
   "outputs": [
    {
     "data": {
      "text/plain": [
       "126"
      ]
     },
     "execution_count": 28,
     "metadata": {},
     "output_type": "execute_result"
    }
   ],
   "source": [
    "df_presidents.size"
   ]
  },
  {
   "cell_type": "markdown",
   "id": "88fec0dc",
   "metadata": {},
   "source": [
    "### <span style=\"color:red;\">6- .columns</span>\n",
    "Qué hace?\n",
    "\n",
    ".columns es otro atributo (no un método, por lo tanto, no lleva paréntesis ()) de los DataFrames de Pandas.\n",
    "\n",
    "Devuelve un objeto Index que contiene los nombres de todas las columnas de tu DataFrame.\n",
    "\n",
    "Es fundamental para la exploración de datos, ya que te permite ver exactamente cómo se llaman tus columnas, lo cual es crucial para seleccionarlas, renombrarlas o realizar operaciones específicas sobre ellas."
   ]
  },
  {
   "cell_type": "code",
   "execution_count": 29,
   "id": "e14bd210",
   "metadata": {},
   "outputs": [
    {
     "data": {
      "text/plain": [
       "Index(['height(cm)', 'order', 'name'], dtype='object')"
      ]
     },
     "execution_count": 29,
     "metadata": {},
     "output_type": "execute_result"
    }
   ],
   "source": [
    "df_presidents.columns"
   ]
  },
  {
   "cell_type": "markdown",
   "id": "9c9e3f12",
   "metadata": {},
   "source": [
    "### <span style=\"color:red;\">7- .info( )</span>\n",
    "Qué hace?\n",
    "\n",
    "El método info() proporciona un resumen conciso y muy útil de tu DataFrame. \n",
    "\n",
    "Es una de las primeras cosas que deberías ejecutar después de cargar un conjunto de datos, ya que te da una visión general invaluable de su estructura y contenido sin mostrar los datos en sí.\n",
    "\n",
    "La información que df.info() suele incluir es:\n",
    "\n",
    "- Clase del objeto: Que es un pandas.core.frame.DataFrame.\n",
    "\n",
    "- Rango de índices: El número total de entradas (filas) y el tipo de índice (ej., RangeIndex).\n",
    "\n",
    "- Número de columnas: Cuántas columnas tiene tu DataFrame.\n",
    "\n",
    "- Información de cada columna: Para cada columna, muestra:\n",
    "\n",
    "        - El nombre de la columna.\n",
    "\n",
    "        - El número de valores no nulos ( non-null count). Esto es crucial para identificar columnas con datos faltantes, ya que si este número es menor que el número total de filas,  significa que hay valores nulos.\n",
    "\n",
    "- El tipo de dato (Dtype) de la columna (ej., int64, float64, object para texto, datetime64, bool). Esto te ayuda a entender cómo Pandas interpreta tus datos y si necesitas realizar conversiones de tipo.\n",
    "\n",
    "- Tipos de datos únicos: Un resumen de cuántas columnas son de cada tipo (dtypes: float64(1), int64(2), object(1)).\n",
    "\n",
    "- Uso de memoria: La cantidad de memoria que el DataFrame está ocupando."
   ]
  },
  {
   "cell_type": "code",
   "execution_count": 30,
   "id": "8101a86b",
   "metadata": {},
   "outputs": [
    {
     "name": "stdout",
     "output_type": "stream",
     "text": [
      "<class 'pandas.core.frame.DataFrame'>\n",
      "RangeIndex: 42 entries, 0 to 41\n",
      "Data columns (total 3 columns):\n",
      " #   Column      Non-Null Count  Dtype \n",
      "---  ------      --------------  ----- \n",
      " 0   height(cm)  42 non-null     int64 \n",
      " 1   order       42 non-null     int64 \n",
      " 2   name        42 non-null     object\n",
      "dtypes: int64(2), object(1)\n",
      "memory usage: 1.1+ KB\n"
     ]
    }
   ],
   "source": [
    "df_presidents.info()"
   ]
  },
  {
   "cell_type": "markdown",
   "id": "cbf65477",
   "metadata": {},
   "source": [
    "### <span style=\"color:red;\">8- .dtypes</span>\n",
    "Qué hace?\n",
    "\n",
    "Similar a shape, .size, y .columns, .dtypes es un atributo (no un método, ¡sin paréntesis!) de los DataFrames y Series de Pandas. \n",
    "\n",
    "Devuelve una Serie de Pandas donde el índice son los nombres de las columnas del DataFrame, y los valores son los tipos de datos (Data Types o Dtypes) de cada columna.\n",
    "\n",
    "Es esencial para comprender cómo Pandas está interpretando los datos en cada una de tus columnas. \n",
    "\n",
    "Saber el tipo de dato es crucial para realizar operaciones correctas (por ejemplo, no puedes sumar texto, y las operaciones con fechas son diferentes a las operaciones con números).\n"
   ]
  },
  {
   "cell_type": "code",
   "execution_count": 32,
   "id": "1cef358f",
   "metadata": {},
   "outputs": [
    {
     "data": {
      "application/vnd.microsoft.datawrangler.viewer.v0+json": {
       "columns": [
        {
         "name": "index",
         "rawType": "object",
         "type": "string"
        },
        {
         "name": "0",
         "rawType": "object",
         "type": "unknown"
        }
       ],
       "ref": "e7c2bdf6-c759-4585-a1a2-6818c1f8e7b3",
       "rows": [
        [
         "height(cm)",
         "int64"
        ],
        [
         "order",
         "int64"
        ],
        [
         "name",
         "object"
        ]
       ],
       "shape": {
        "columns": 1,
        "rows": 3
       }
      },
      "text/plain": [
       "height(cm)     int64\n",
       "order          int64\n",
       "name          object\n",
       "dtype: object"
      ]
     },
     "execution_count": 32,
     "metadata": {},
     "output_type": "execute_result"
    }
   ],
   "source": [
    "df_presidents.dtypes"
   ]
  },
  {
   "cell_type": "markdown",
   "id": "3fd6fe03",
   "metadata": {},
   "source": [
    "### <span style=\"color:red;\">9- .select_dtypes( )</span>\n",
    "Qué hace?\n",
    "\n",
    "El método select_dtypes( ) se utiliza para seleccionar columnas de un DataFrame basándose en sus tipos de datos (Dtypes). \n",
    "\n",
    "Es extremadamente útil cuando quieres trabajar solo con columnas numéricas, solo con columnas de texto, o solo con columnas de fecha y hora, sin tener que listarlas manualmente.\n",
    "\n",
    "Sintaxis:\n",
    "```python\n",
    "df.select_dtypes(include=None, exclude=None)\n",
    "```\n",
    "\n",
    "\n",
    "Argumentos Clave:\n",
    "\n",
    "- Include: Un solo tipo de dato (string) o una lista de tipos de datos. Especifica los tipos de columnas que deseas incluir en la selección.\n",
    "\n",
    "- exclude: Un solo tipo de dato (string) o una lista de tipos de datos. Especifica los tipos de columnas que deseas excluir de la selección.\n",
    "\n",
    "Puedes usar cadenas para representar los tipos de datos:\n",
    "\n",
    "- 'number' o np.number: Incluye todos los tipos numéricos (enteros, flotantes).\n",
    "- 'object': Incluye columnas de texto (strings).\n",
    "- 'datetime', 'datetime64', 'datetime64[ns]': Incluye columnas de fecha y hora.\n",
    "- 'bool': Incluye columnas booleanas (True/False).\n",
    "\n",
    "También puedes usar los nombres de los tipos de Python directamente: int, float, bool.\n"
   ]
  },
  {
   "cell_type": "code",
   "execution_count": null,
   "id": "ccfe14af",
   "metadata": {},
   "outputs": [
    {
     "data": {
      "application/vnd.microsoft.datawrangler.viewer.v0+json": {
       "columns": [
        {
         "name": "index",
         "rawType": "int64",
         "type": "integer"
        },
        {
         "name": "height(cm)",
         "rawType": "int64",
         "type": "integer"
        },
        {
         "name": "order",
         "rawType": "int64",
         "type": "integer"
        }
       ],
       "ref": "09a548bc-6b57-48d6-a4dd-8b2fdc899036",
       "rows": [
        [
         "0",
         "189",
         "1"
        ],
        [
         "1",
         "170",
         "2"
        ],
        [
         "2",
         "189",
         "3"
        ],
        [
         "3",
         "163",
         "4"
        ],
        [
         "4",
         "183",
         "5"
        ],
        [
         "5",
         "171",
         "6"
        ],
        [
         "6",
         "185",
         "7"
        ],
        [
         "7",
         "168",
         "8"
        ],
        [
         "8",
         "173",
         "9"
        ],
        [
         "9",
         "183",
         "10"
        ],
        [
         "10",
         "173",
         "11"
        ],
        [
         "11",
         "173",
         "12"
        ],
        [
         "12",
         "175",
         "13"
        ],
        [
         "13",
         "178",
         "14"
        ],
        [
         "14",
         "183",
         "15"
        ],
        [
         "15",
         "193",
         "16"
        ],
        [
         "16",
         "178",
         "17"
        ],
        [
         "17",
         "173",
         "18"
        ],
        [
         "18",
         "174",
         "19"
        ],
        [
         "19",
         "183",
         "20"
        ],
        [
         "20",
         "183",
         "21"
        ],
        [
         "21",
         "168",
         "23"
        ],
        [
         "22",
         "170",
         "25"
        ],
        [
         "23",
         "178",
         "26"
        ],
        [
         "24",
         "182",
         "27"
        ],
        [
         "25",
         "180",
         "28"
        ],
        [
         "26",
         "183",
         "29"
        ],
        [
         "27",
         "178",
         "30"
        ],
        [
         "28",
         "182",
         "31"
        ],
        [
         "29",
         "188",
         "32"
        ],
        [
         "30",
         "175",
         "33"
        ],
        [
         "31",
         "179",
         "34"
        ],
        [
         "32",
         "183",
         "35"
        ],
        [
         "33",
         "193",
         "36"
        ],
        [
         "34",
         "182",
         "37"
        ],
        [
         "35",
         "183",
         "38"
        ],
        [
         "36",
         "177",
         "39"
        ],
        [
         "37",
         "185",
         "40"
        ],
        [
         "38",
         "188",
         "41"
        ],
        [
         "39",
         "188",
         "42"
        ],
        [
         "40",
         "182",
         "43"
        ],
        [
         "41",
         "185",
         "44"
        ]
       ],
       "shape": {
        "columns": 2,
        "rows": 42
       }
      },
      "text/html": [
       "<div>\n",
       "<style scoped>\n",
       "    .dataframe tbody tr th:only-of-type {\n",
       "        vertical-align: middle;\n",
       "    }\n",
       "\n",
       "    .dataframe tbody tr th {\n",
       "        vertical-align: top;\n",
       "    }\n",
       "\n",
       "    .dataframe thead th {\n",
       "        text-align: right;\n",
       "    }\n",
       "</style>\n",
       "<table border=\"1\" class=\"dataframe\">\n",
       "  <thead>\n",
       "    <tr style=\"text-align: right;\">\n",
       "      <th></th>\n",
       "      <th>height(cm)</th>\n",
       "      <th>order</th>\n",
       "    </tr>\n",
       "  </thead>\n",
       "  <tbody>\n",
       "    <tr>\n",
       "      <th>0</th>\n",
       "      <td>189</td>\n",
       "      <td>1</td>\n",
       "    </tr>\n",
       "    <tr>\n",
       "      <th>1</th>\n",
       "      <td>170</td>\n",
       "      <td>2</td>\n",
       "    </tr>\n",
       "    <tr>\n",
       "      <th>2</th>\n",
       "      <td>189</td>\n",
       "      <td>3</td>\n",
       "    </tr>\n",
       "    <tr>\n",
       "      <th>3</th>\n",
       "      <td>163</td>\n",
       "      <td>4</td>\n",
       "    </tr>\n",
       "    <tr>\n",
       "      <th>4</th>\n",
       "      <td>183</td>\n",
       "      <td>5</td>\n",
       "    </tr>\n",
       "    <tr>\n",
       "      <th>5</th>\n",
       "      <td>171</td>\n",
       "      <td>6</td>\n",
       "    </tr>\n",
       "    <tr>\n",
       "      <th>6</th>\n",
       "      <td>185</td>\n",
       "      <td>7</td>\n",
       "    </tr>\n",
       "    <tr>\n",
       "      <th>7</th>\n",
       "      <td>168</td>\n",
       "      <td>8</td>\n",
       "    </tr>\n",
       "    <tr>\n",
       "      <th>8</th>\n",
       "      <td>173</td>\n",
       "      <td>9</td>\n",
       "    </tr>\n",
       "    <tr>\n",
       "      <th>9</th>\n",
       "      <td>183</td>\n",
       "      <td>10</td>\n",
       "    </tr>\n",
       "    <tr>\n",
       "      <th>10</th>\n",
       "      <td>173</td>\n",
       "      <td>11</td>\n",
       "    </tr>\n",
       "    <tr>\n",
       "      <th>11</th>\n",
       "      <td>173</td>\n",
       "      <td>12</td>\n",
       "    </tr>\n",
       "    <tr>\n",
       "      <th>12</th>\n",
       "      <td>175</td>\n",
       "      <td>13</td>\n",
       "    </tr>\n",
       "    <tr>\n",
       "      <th>13</th>\n",
       "      <td>178</td>\n",
       "      <td>14</td>\n",
       "    </tr>\n",
       "    <tr>\n",
       "      <th>14</th>\n",
       "      <td>183</td>\n",
       "      <td>15</td>\n",
       "    </tr>\n",
       "    <tr>\n",
       "      <th>15</th>\n",
       "      <td>193</td>\n",
       "      <td>16</td>\n",
       "    </tr>\n",
       "    <tr>\n",
       "      <th>16</th>\n",
       "      <td>178</td>\n",
       "      <td>17</td>\n",
       "    </tr>\n",
       "    <tr>\n",
       "      <th>17</th>\n",
       "      <td>173</td>\n",
       "      <td>18</td>\n",
       "    </tr>\n",
       "    <tr>\n",
       "      <th>18</th>\n",
       "      <td>174</td>\n",
       "      <td>19</td>\n",
       "    </tr>\n",
       "    <tr>\n",
       "      <th>19</th>\n",
       "      <td>183</td>\n",
       "      <td>20</td>\n",
       "    </tr>\n",
       "    <tr>\n",
       "      <th>20</th>\n",
       "      <td>183</td>\n",
       "      <td>21</td>\n",
       "    </tr>\n",
       "    <tr>\n",
       "      <th>21</th>\n",
       "      <td>168</td>\n",
       "      <td>23</td>\n",
       "    </tr>\n",
       "    <tr>\n",
       "      <th>22</th>\n",
       "      <td>170</td>\n",
       "      <td>25</td>\n",
       "    </tr>\n",
       "    <tr>\n",
       "      <th>23</th>\n",
       "      <td>178</td>\n",
       "      <td>26</td>\n",
       "    </tr>\n",
       "    <tr>\n",
       "      <th>24</th>\n",
       "      <td>182</td>\n",
       "      <td>27</td>\n",
       "    </tr>\n",
       "    <tr>\n",
       "      <th>25</th>\n",
       "      <td>180</td>\n",
       "      <td>28</td>\n",
       "    </tr>\n",
       "    <tr>\n",
       "      <th>26</th>\n",
       "      <td>183</td>\n",
       "      <td>29</td>\n",
       "    </tr>\n",
       "    <tr>\n",
       "      <th>27</th>\n",
       "      <td>178</td>\n",
       "      <td>30</td>\n",
       "    </tr>\n",
       "    <tr>\n",
       "      <th>28</th>\n",
       "      <td>182</td>\n",
       "      <td>31</td>\n",
       "    </tr>\n",
       "    <tr>\n",
       "      <th>29</th>\n",
       "      <td>188</td>\n",
       "      <td>32</td>\n",
       "    </tr>\n",
       "    <tr>\n",
       "      <th>30</th>\n",
       "      <td>175</td>\n",
       "      <td>33</td>\n",
       "    </tr>\n",
       "    <tr>\n",
       "      <th>31</th>\n",
       "      <td>179</td>\n",
       "      <td>34</td>\n",
       "    </tr>\n",
       "    <tr>\n",
       "      <th>32</th>\n",
       "      <td>183</td>\n",
       "      <td>35</td>\n",
       "    </tr>\n",
       "    <tr>\n",
       "      <th>33</th>\n",
       "      <td>193</td>\n",
       "      <td>36</td>\n",
       "    </tr>\n",
       "    <tr>\n",
       "      <th>34</th>\n",
       "      <td>182</td>\n",
       "      <td>37</td>\n",
       "    </tr>\n",
       "    <tr>\n",
       "      <th>35</th>\n",
       "      <td>183</td>\n",
       "      <td>38</td>\n",
       "    </tr>\n",
       "    <tr>\n",
       "      <th>36</th>\n",
       "      <td>177</td>\n",
       "      <td>39</td>\n",
       "    </tr>\n",
       "    <tr>\n",
       "      <th>37</th>\n",
       "      <td>185</td>\n",
       "      <td>40</td>\n",
       "    </tr>\n",
       "    <tr>\n",
       "      <th>38</th>\n",
       "      <td>188</td>\n",
       "      <td>41</td>\n",
       "    </tr>\n",
       "    <tr>\n",
       "      <th>39</th>\n",
       "      <td>188</td>\n",
       "      <td>42</td>\n",
       "    </tr>\n",
       "    <tr>\n",
       "      <th>40</th>\n",
       "      <td>182</td>\n",
       "      <td>43</td>\n",
       "    </tr>\n",
       "    <tr>\n",
       "      <th>41</th>\n",
       "      <td>185</td>\n",
       "      <td>44</td>\n",
       "    </tr>\n",
       "  </tbody>\n",
       "</table>\n",
       "</div>"
      ],
      "text/plain": [
       "    height(cm)  order\n",
       "0          189      1\n",
       "1          170      2\n",
       "2          189      3\n",
       "3          163      4\n",
       "4          183      5\n",
       "5          171      6\n",
       "6          185      7\n",
       "7          168      8\n",
       "8          173      9\n",
       "9          183     10\n",
       "10         173     11\n",
       "11         173     12\n",
       "12         175     13\n",
       "13         178     14\n",
       "14         183     15\n",
       "15         193     16\n",
       "16         178     17\n",
       "17         173     18\n",
       "18         174     19\n",
       "19         183     20\n",
       "20         183     21\n",
       "21         168     23\n",
       "22         170     25\n",
       "23         178     26\n",
       "24         182     27\n",
       "25         180     28\n",
       "26         183     29\n",
       "27         178     30\n",
       "28         182     31\n",
       "29         188     32\n",
       "30         175     33\n",
       "31         179     34\n",
       "32         183     35\n",
       "33         193     36\n",
       "34         182     37\n",
       "35         183     38\n",
       "36         177     39\n",
       "37         185     40\n",
       "38         188     41\n",
       "39         188     42\n",
       "40         182     43\n",
       "41         185     44"
      ]
     },
     "execution_count": 33,
     "metadata": {},
     "output_type": "execute_result"
    }
   ],
   "source": [
    "#Solo listara las columnas numericas\n",
    "df_presidents.select_dtypes(include='number')"
   ]
  },
  {
   "cell_type": "code",
   "execution_count": 34,
   "id": "d47ed964",
   "metadata": {},
   "outputs": [
    {
     "data": {
      "application/vnd.microsoft.datawrangler.viewer.v0+json": {
       "columns": [
        {
         "name": "index",
         "rawType": "int64",
         "type": "integer"
        },
        {
         "name": "name",
         "rawType": "object",
         "type": "string"
        }
       ],
       "ref": "24bd960e-4491-42fe-9e23-a0eb674dd75d",
       "rows": [
        [
         "0",
         "George Washington"
        ],
        [
         "1",
         "John Adams"
        ],
        [
         "2",
         "Thomas Jefferson"
        ],
        [
         "3",
         "James Madison"
        ],
        [
         "4",
         "James Monroe"
        ],
        [
         "5",
         "John Quincy Adams"
        ],
        [
         "6",
         "Andrew Jackson"
        ],
        [
         "7",
         "Martin Van Buren"
        ],
        [
         "8",
         "William Henry Harrison"
        ],
        [
         "9",
         "John Tyler"
        ],
        [
         "10",
         "James K. Polk"
        ],
        [
         "11",
         "Zachary Taylor"
        ],
        [
         "12",
         "Millard Fillmore"
        ],
        [
         "13",
         "Franklin Pierce"
        ],
        [
         "14",
         "James Buchanan"
        ],
        [
         "15",
         "Abraham Lincoln"
        ],
        [
         "16",
         "Andrew Johnson"
        ],
        [
         "17",
         "Ulysses S. Grant"
        ],
        [
         "18",
         "Rutherford B. Hayes"
        ],
        [
         "19",
         "James A. Garfield"
        ],
        [
         "20",
         "Chester A. Arthur"
        ],
        [
         "21",
         "Benjamin Harrison"
        ],
        [
         "22",
         "William McKinley"
        ],
        [
         "23",
         "Theodore Roosevelt"
        ],
        [
         "24",
         "William Howard Taft"
        ],
        [
         "25",
         "Woodrow Wilson"
        ],
        [
         "26",
         "Warren G. Harding"
        ],
        [
         "27",
         "Calvin Coolidge"
        ],
        [
         "28",
         "Herbert Hoover"
        ],
        [
         "29",
         "Franklin D. Roosevelt"
        ],
        [
         "30",
         "Harry S. Truman"
        ],
        [
         "31",
         "Dwight D. Eisenhower"
        ],
        [
         "32",
         "John F. Kennedy"
        ],
        [
         "33",
         "Lyndon B. Johnson"
        ],
        [
         "34",
         "Richard Nixon"
        ],
        [
         "35",
         "Gerald Ford"
        ],
        [
         "36",
         "Jimmy Carter"
        ],
        [
         "37",
         "Ronald Reagan"
        ],
        [
         "38",
         "George H. W. Bush"
        ],
        [
         "39",
         "Bill Clinton"
        ],
        [
         "40",
         "George W. Bush"
        ],
        [
         "41",
         "Barack Obama"
        ]
       ],
       "shape": {
        "columns": 1,
        "rows": 42
       }
      },
      "text/html": [
       "<div>\n",
       "<style scoped>\n",
       "    .dataframe tbody tr th:only-of-type {\n",
       "        vertical-align: middle;\n",
       "    }\n",
       "\n",
       "    .dataframe tbody tr th {\n",
       "        vertical-align: top;\n",
       "    }\n",
       "\n",
       "    .dataframe thead th {\n",
       "        text-align: right;\n",
       "    }\n",
       "</style>\n",
       "<table border=\"1\" class=\"dataframe\">\n",
       "  <thead>\n",
       "    <tr style=\"text-align: right;\">\n",
       "      <th></th>\n",
       "      <th>name</th>\n",
       "    </tr>\n",
       "  </thead>\n",
       "  <tbody>\n",
       "    <tr>\n",
       "      <th>0</th>\n",
       "      <td>George Washington</td>\n",
       "    </tr>\n",
       "    <tr>\n",
       "      <th>1</th>\n",
       "      <td>John Adams</td>\n",
       "    </tr>\n",
       "    <tr>\n",
       "      <th>2</th>\n",
       "      <td>Thomas Jefferson</td>\n",
       "    </tr>\n",
       "    <tr>\n",
       "      <th>3</th>\n",
       "      <td>James Madison</td>\n",
       "    </tr>\n",
       "    <tr>\n",
       "      <th>4</th>\n",
       "      <td>James Monroe</td>\n",
       "    </tr>\n",
       "    <tr>\n",
       "      <th>5</th>\n",
       "      <td>John Quincy Adams</td>\n",
       "    </tr>\n",
       "    <tr>\n",
       "      <th>6</th>\n",
       "      <td>Andrew Jackson</td>\n",
       "    </tr>\n",
       "    <tr>\n",
       "      <th>7</th>\n",
       "      <td>Martin Van Buren</td>\n",
       "    </tr>\n",
       "    <tr>\n",
       "      <th>8</th>\n",
       "      <td>William Henry Harrison</td>\n",
       "    </tr>\n",
       "    <tr>\n",
       "      <th>9</th>\n",
       "      <td>John Tyler</td>\n",
       "    </tr>\n",
       "    <tr>\n",
       "      <th>10</th>\n",
       "      <td>James K. Polk</td>\n",
       "    </tr>\n",
       "    <tr>\n",
       "      <th>11</th>\n",
       "      <td>Zachary Taylor</td>\n",
       "    </tr>\n",
       "    <tr>\n",
       "      <th>12</th>\n",
       "      <td>Millard Fillmore</td>\n",
       "    </tr>\n",
       "    <tr>\n",
       "      <th>13</th>\n",
       "      <td>Franklin Pierce</td>\n",
       "    </tr>\n",
       "    <tr>\n",
       "      <th>14</th>\n",
       "      <td>James Buchanan</td>\n",
       "    </tr>\n",
       "    <tr>\n",
       "      <th>15</th>\n",
       "      <td>Abraham Lincoln</td>\n",
       "    </tr>\n",
       "    <tr>\n",
       "      <th>16</th>\n",
       "      <td>Andrew Johnson</td>\n",
       "    </tr>\n",
       "    <tr>\n",
       "      <th>17</th>\n",
       "      <td>Ulysses S. Grant</td>\n",
       "    </tr>\n",
       "    <tr>\n",
       "      <th>18</th>\n",
       "      <td>Rutherford B. Hayes</td>\n",
       "    </tr>\n",
       "    <tr>\n",
       "      <th>19</th>\n",
       "      <td>James A. Garfield</td>\n",
       "    </tr>\n",
       "    <tr>\n",
       "      <th>20</th>\n",
       "      <td>Chester A. Arthur</td>\n",
       "    </tr>\n",
       "    <tr>\n",
       "      <th>21</th>\n",
       "      <td>Benjamin Harrison</td>\n",
       "    </tr>\n",
       "    <tr>\n",
       "      <th>22</th>\n",
       "      <td>William McKinley</td>\n",
       "    </tr>\n",
       "    <tr>\n",
       "      <th>23</th>\n",
       "      <td>Theodore Roosevelt</td>\n",
       "    </tr>\n",
       "    <tr>\n",
       "      <th>24</th>\n",
       "      <td>William Howard Taft</td>\n",
       "    </tr>\n",
       "    <tr>\n",
       "      <th>25</th>\n",
       "      <td>Woodrow Wilson</td>\n",
       "    </tr>\n",
       "    <tr>\n",
       "      <th>26</th>\n",
       "      <td>Warren G. Harding</td>\n",
       "    </tr>\n",
       "    <tr>\n",
       "      <th>27</th>\n",
       "      <td>Calvin Coolidge</td>\n",
       "    </tr>\n",
       "    <tr>\n",
       "      <th>28</th>\n",
       "      <td>Herbert Hoover</td>\n",
       "    </tr>\n",
       "    <tr>\n",
       "      <th>29</th>\n",
       "      <td>Franklin D. Roosevelt</td>\n",
       "    </tr>\n",
       "    <tr>\n",
       "      <th>30</th>\n",
       "      <td>Harry S. Truman</td>\n",
       "    </tr>\n",
       "    <tr>\n",
       "      <th>31</th>\n",
       "      <td>Dwight D. Eisenhower</td>\n",
       "    </tr>\n",
       "    <tr>\n",
       "      <th>32</th>\n",
       "      <td>John F. Kennedy</td>\n",
       "    </tr>\n",
       "    <tr>\n",
       "      <th>33</th>\n",
       "      <td>Lyndon B. Johnson</td>\n",
       "    </tr>\n",
       "    <tr>\n",
       "      <th>34</th>\n",
       "      <td>Richard Nixon</td>\n",
       "    </tr>\n",
       "    <tr>\n",
       "      <th>35</th>\n",
       "      <td>Gerald Ford</td>\n",
       "    </tr>\n",
       "    <tr>\n",
       "      <th>36</th>\n",
       "      <td>Jimmy Carter</td>\n",
       "    </tr>\n",
       "    <tr>\n",
       "      <th>37</th>\n",
       "      <td>Ronald Reagan</td>\n",
       "    </tr>\n",
       "    <tr>\n",
       "      <th>38</th>\n",
       "      <td>George H. W. Bush</td>\n",
       "    </tr>\n",
       "    <tr>\n",
       "      <th>39</th>\n",
       "      <td>Bill Clinton</td>\n",
       "    </tr>\n",
       "    <tr>\n",
       "      <th>40</th>\n",
       "      <td>George W. Bush</td>\n",
       "    </tr>\n",
       "    <tr>\n",
       "      <th>41</th>\n",
       "      <td>Barack Obama</td>\n",
       "    </tr>\n",
       "  </tbody>\n",
       "</table>\n",
       "</div>"
      ],
      "text/plain": [
       "                      name\n",
       "0        George Washington\n",
       "1               John Adams\n",
       "2         Thomas Jefferson\n",
       "3            James Madison\n",
       "4             James Monroe\n",
       "5        John Quincy Adams\n",
       "6           Andrew Jackson\n",
       "7         Martin Van Buren\n",
       "8   William Henry Harrison\n",
       "9               John Tyler\n",
       "10           James K. Polk\n",
       "11          Zachary Taylor\n",
       "12        Millard Fillmore\n",
       "13         Franklin Pierce\n",
       "14          James Buchanan\n",
       "15         Abraham Lincoln\n",
       "16          Andrew Johnson\n",
       "17        Ulysses S. Grant\n",
       "18     Rutherford B. Hayes\n",
       "19       James A. Garfield\n",
       "20       Chester A. Arthur\n",
       "21       Benjamin Harrison\n",
       "22        William McKinley\n",
       "23      Theodore Roosevelt\n",
       "24     William Howard Taft\n",
       "25          Woodrow Wilson\n",
       "26       Warren G. Harding\n",
       "27         Calvin Coolidge\n",
       "28          Herbert Hoover\n",
       "29   Franklin D. Roosevelt\n",
       "30         Harry S. Truman\n",
       "31    Dwight D. Eisenhower\n",
       "32         John F. Kennedy\n",
       "33       Lyndon B. Johnson\n",
       "34           Richard Nixon\n",
       "35             Gerald Ford\n",
       "36            Jimmy Carter\n",
       "37           Ronald Reagan\n",
       "38       George H. W. Bush\n",
       "39            Bill Clinton\n",
       "40          George W. Bush\n",
       "41            Barack Obama"
      ]
     },
     "execution_count": 34,
     "metadata": {},
     "output_type": "execute_result"
    }
   ],
   "source": [
    "#Solo listara las columnas texto\n",
    "df_presidents.select_dtypes(include='object')"
   ]
  },
  {
   "cell_type": "code",
   "execution_count": null,
   "id": "f257fb4b",
   "metadata": {},
   "outputs": [
    {
     "data": {
      "application/vnd.microsoft.datawrangler.viewer.v0+json": {
       "columns": [
        {
         "name": "index",
         "rawType": "int64",
         "type": "integer"
        }
       ],
       "ref": "cc1581f2-bf9d-4e38-8bde-8709f998b753",
       "rows": [
        [
         "0"
        ],
        [
         "1"
        ],
        [
         "2"
        ],
        [
         "3"
        ],
        [
         "4"
        ],
        [
         "5"
        ],
        [
         "6"
        ],
        [
         "7"
        ],
        [
         "8"
        ],
        [
         "9"
        ],
        [
         "10"
        ],
        [
         "11"
        ],
        [
         "12"
        ],
        [
         "13"
        ],
        [
         "14"
        ],
        [
         "15"
        ],
        [
         "16"
        ],
        [
         "17"
        ],
        [
         "18"
        ],
        [
         "19"
        ],
        [
         "20"
        ],
        [
         "21"
        ],
        [
         "22"
        ],
        [
         "23"
        ],
        [
         "24"
        ],
        [
         "25"
        ],
        [
         "26"
        ],
        [
         "27"
        ],
        [
         "28"
        ],
        [
         "29"
        ],
        [
         "30"
        ],
        [
         "31"
        ],
        [
         "32"
        ],
        [
         "33"
        ],
        [
         "34"
        ],
        [
         "35"
        ],
        [
         "36"
        ],
        [
         "37"
        ],
        [
         "38"
        ],
        [
         "39"
        ],
        [
         "40"
        ],
        [
         "41"
        ]
       ],
       "shape": {
        "columns": 0,
        "rows": 42
       }
      },
      "text/html": [
       "<div>\n",
       "<style scoped>\n",
       "    .dataframe tbody tr th:only-of-type {\n",
       "        vertical-align: middle;\n",
       "    }\n",
       "\n",
       "    .dataframe tbody tr th {\n",
       "        vertical-align: top;\n",
       "    }\n",
       "\n",
       "    .dataframe thead th {\n",
       "        text-align: right;\n",
       "    }\n",
       "</style>\n",
       "<table border=\"1\" class=\"dataframe\">\n",
       "  <thead>\n",
       "    <tr style=\"text-align: right;\">\n",
       "      <th></th>\n",
       "    </tr>\n",
       "  </thead>\n",
       "  <tbody>\n",
       "    <tr>\n",
       "      <th>0</th>\n",
       "    </tr>\n",
       "    <tr>\n",
       "      <th>1</th>\n",
       "    </tr>\n",
       "    <tr>\n",
       "      <th>2</th>\n",
       "    </tr>\n",
       "    <tr>\n",
       "      <th>3</th>\n",
       "    </tr>\n",
       "    <tr>\n",
       "      <th>4</th>\n",
       "    </tr>\n",
       "    <tr>\n",
       "      <th>5</th>\n",
       "    </tr>\n",
       "    <tr>\n",
       "      <th>6</th>\n",
       "    </tr>\n",
       "    <tr>\n",
       "      <th>7</th>\n",
       "    </tr>\n",
       "    <tr>\n",
       "      <th>8</th>\n",
       "    </tr>\n",
       "    <tr>\n",
       "      <th>9</th>\n",
       "    </tr>\n",
       "    <tr>\n",
       "      <th>10</th>\n",
       "    </tr>\n",
       "    <tr>\n",
       "      <th>11</th>\n",
       "    </tr>\n",
       "    <tr>\n",
       "      <th>12</th>\n",
       "    </tr>\n",
       "    <tr>\n",
       "      <th>13</th>\n",
       "    </tr>\n",
       "    <tr>\n",
       "      <th>14</th>\n",
       "    </tr>\n",
       "    <tr>\n",
       "      <th>15</th>\n",
       "    </tr>\n",
       "    <tr>\n",
       "      <th>16</th>\n",
       "    </tr>\n",
       "    <tr>\n",
       "      <th>17</th>\n",
       "    </tr>\n",
       "    <tr>\n",
       "      <th>18</th>\n",
       "    </tr>\n",
       "    <tr>\n",
       "      <th>19</th>\n",
       "    </tr>\n",
       "    <tr>\n",
       "      <th>20</th>\n",
       "    </tr>\n",
       "    <tr>\n",
       "      <th>21</th>\n",
       "    </tr>\n",
       "    <tr>\n",
       "      <th>22</th>\n",
       "    </tr>\n",
       "    <tr>\n",
       "      <th>23</th>\n",
       "    </tr>\n",
       "    <tr>\n",
       "      <th>24</th>\n",
       "    </tr>\n",
       "    <tr>\n",
       "      <th>25</th>\n",
       "    </tr>\n",
       "    <tr>\n",
       "      <th>26</th>\n",
       "    </tr>\n",
       "    <tr>\n",
       "      <th>27</th>\n",
       "    </tr>\n",
       "    <tr>\n",
       "      <th>28</th>\n",
       "    </tr>\n",
       "    <tr>\n",
       "      <th>29</th>\n",
       "    </tr>\n",
       "    <tr>\n",
       "      <th>30</th>\n",
       "    </tr>\n",
       "    <tr>\n",
       "      <th>31</th>\n",
       "    </tr>\n",
       "    <tr>\n",
       "      <th>32</th>\n",
       "    </tr>\n",
       "    <tr>\n",
       "      <th>33</th>\n",
       "    </tr>\n",
       "    <tr>\n",
       "      <th>34</th>\n",
       "    </tr>\n",
       "    <tr>\n",
       "      <th>35</th>\n",
       "    </tr>\n",
       "    <tr>\n",
       "      <th>36</th>\n",
       "    </tr>\n",
       "    <tr>\n",
       "      <th>37</th>\n",
       "    </tr>\n",
       "    <tr>\n",
       "      <th>38</th>\n",
       "    </tr>\n",
       "    <tr>\n",
       "      <th>39</th>\n",
       "    </tr>\n",
       "    <tr>\n",
       "      <th>40</th>\n",
       "    </tr>\n",
       "    <tr>\n",
       "      <th>41</th>\n",
       "    </tr>\n",
       "  </tbody>\n",
       "</table>\n",
       "</div>"
      ],
      "text/plain": [
       "Empty DataFrame\n",
       "Columns: []\n",
       "Index: [0, 1, 2, 3, 4, 5, 6, 7, 8, 9, 10, 11, 12, 13, 14, 15, 16, 17, 18, 19, 20, 21, 22, 23, 24, 25, 26, 27, 28, 29, 30, 31, 32, 33, 34, 35, 36, 37, 38, 39, 40, 41]"
      ]
     },
     "execution_count": 35,
     "metadata": {},
     "output_type": "execute_result"
    }
   ],
   "source": [
    "#solo listara los columnas con true o false con 1 o 0 -> ojo en es este caso no tenemos por eso retorna vacio\n",
    "df_presidents.select_dtypes(include=bool)"
   ]
  },
  {
   "cell_type": "code",
   "execution_count": 36,
   "id": "1302df0d",
   "metadata": {},
   "outputs": [
    {
     "data": {
      "application/vnd.microsoft.datawrangler.viewer.v0+json": {
       "columns": [
        {
         "name": "index",
         "rawType": "int64",
         "type": "integer"
        }
       ],
       "ref": "378972fe-d56f-4e1c-95ee-da860d331f7b",
       "rows": [
        [
         "0"
        ],
        [
         "1"
        ],
        [
         "2"
        ],
        [
         "3"
        ],
        [
         "4"
        ],
        [
         "5"
        ],
        [
         "6"
        ],
        [
         "7"
        ],
        [
         "8"
        ],
        [
         "9"
        ],
        [
         "10"
        ],
        [
         "11"
        ],
        [
         "12"
        ],
        [
         "13"
        ],
        [
         "14"
        ],
        [
         "15"
        ],
        [
         "16"
        ],
        [
         "17"
        ],
        [
         "18"
        ],
        [
         "19"
        ],
        [
         "20"
        ],
        [
         "21"
        ],
        [
         "22"
        ],
        [
         "23"
        ],
        [
         "24"
        ],
        [
         "25"
        ],
        [
         "26"
        ],
        [
         "27"
        ],
        [
         "28"
        ],
        [
         "29"
        ],
        [
         "30"
        ],
        [
         "31"
        ],
        [
         "32"
        ],
        [
         "33"
        ],
        [
         "34"
        ],
        [
         "35"
        ],
        [
         "36"
        ],
        [
         "37"
        ],
        [
         "38"
        ],
        [
         "39"
        ],
        [
         "40"
        ],
        [
         "41"
        ]
       ],
       "shape": {
        "columns": 0,
        "rows": 42
       }
      },
      "text/html": [
       "<div>\n",
       "<style scoped>\n",
       "    .dataframe tbody tr th:only-of-type {\n",
       "        vertical-align: middle;\n",
       "    }\n",
       "\n",
       "    .dataframe tbody tr th {\n",
       "        vertical-align: top;\n",
       "    }\n",
       "\n",
       "    .dataframe thead th {\n",
       "        text-align: right;\n",
       "    }\n",
       "</style>\n",
       "<table border=\"1\" class=\"dataframe\">\n",
       "  <thead>\n",
       "    <tr style=\"text-align: right;\">\n",
       "      <th></th>\n",
       "    </tr>\n",
       "  </thead>\n",
       "  <tbody>\n",
       "    <tr>\n",
       "      <th>0</th>\n",
       "    </tr>\n",
       "    <tr>\n",
       "      <th>1</th>\n",
       "    </tr>\n",
       "    <tr>\n",
       "      <th>2</th>\n",
       "    </tr>\n",
       "    <tr>\n",
       "      <th>3</th>\n",
       "    </tr>\n",
       "    <tr>\n",
       "      <th>4</th>\n",
       "    </tr>\n",
       "    <tr>\n",
       "      <th>5</th>\n",
       "    </tr>\n",
       "    <tr>\n",
       "      <th>6</th>\n",
       "    </tr>\n",
       "    <tr>\n",
       "      <th>7</th>\n",
       "    </tr>\n",
       "    <tr>\n",
       "      <th>8</th>\n",
       "    </tr>\n",
       "    <tr>\n",
       "      <th>9</th>\n",
       "    </tr>\n",
       "    <tr>\n",
       "      <th>10</th>\n",
       "    </tr>\n",
       "    <tr>\n",
       "      <th>11</th>\n",
       "    </tr>\n",
       "    <tr>\n",
       "      <th>12</th>\n",
       "    </tr>\n",
       "    <tr>\n",
       "      <th>13</th>\n",
       "    </tr>\n",
       "    <tr>\n",
       "      <th>14</th>\n",
       "    </tr>\n",
       "    <tr>\n",
       "      <th>15</th>\n",
       "    </tr>\n",
       "    <tr>\n",
       "      <th>16</th>\n",
       "    </tr>\n",
       "    <tr>\n",
       "      <th>17</th>\n",
       "    </tr>\n",
       "    <tr>\n",
       "      <th>18</th>\n",
       "    </tr>\n",
       "    <tr>\n",
       "      <th>19</th>\n",
       "    </tr>\n",
       "    <tr>\n",
       "      <th>20</th>\n",
       "    </tr>\n",
       "    <tr>\n",
       "      <th>21</th>\n",
       "    </tr>\n",
       "    <tr>\n",
       "      <th>22</th>\n",
       "    </tr>\n",
       "    <tr>\n",
       "      <th>23</th>\n",
       "    </tr>\n",
       "    <tr>\n",
       "      <th>24</th>\n",
       "    </tr>\n",
       "    <tr>\n",
       "      <th>25</th>\n",
       "    </tr>\n",
       "    <tr>\n",
       "      <th>26</th>\n",
       "    </tr>\n",
       "    <tr>\n",
       "      <th>27</th>\n",
       "    </tr>\n",
       "    <tr>\n",
       "      <th>28</th>\n",
       "    </tr>\n",
       "    <tr>\n",
       "      <th>29</th>\n",
       "    </tr>\n",
       "    <tr>\n",
       "      <th>30</th>\n",
       "    </tr>\n",
       "    <tr>\n",
       "      <th>31</th>\n",
       "    </tr>\n",
       "    <tr>\n",
       "      <th>32</th>\n",
       "    </tr>\n",
       "    <tr>\n",
       "      <th>33</th>\n",
       "    </tr>\n",
       "    <tr>\n",
       "      <th>34</th>\n",
       "    </tr>\n",
       "    <tr>\n",
       "      <th>35</th>\n",
       "    </tr>\n",
       "    <tr>\n",
       "      <th>36</th>\n",
       "    </tr>\n",
       "    <tr>\n",
       "      <th>37</th>\n",
       "    </tr>\n",
       "    <tr>\n",
       "      <th>38</th>\n",
       "    </tr>\n",
       "    <tr>\n",
       "      <th>39</th>\n",
       "    </tr>\n",
       "    <tr>\n",
       "      <th>40</th>\n",
       "    </tr>\n",
       "    <tr>\n",
       "      <th>41</th>\n",
       "    </tr>\n",
       "  </tbody>\n",
       "</table>\n",
       "</div>"
      ],
      "text/plain": [
       "Empty DataFrame\n",
       "Columns: []\n",
       "Index: [0, 1, 2, 3, 4, 5, 6, 7, 8, 9, 10, 11, 12, 13, 14, 15, 16, 17, 18, 19, 20, 21, 22, 23, 24, 25, 26, 27, 28, 29, 30, 31, 32, 33, 34, 35, 36, 37, 38, 39, 40, 41]"
      ]
     },
     "execution_count": 36,
     "metadata": {},
     "output_type": "execute_result"
    }
   ],
   "source": [
    "#solo listara los columnas con formatos fechas -> ojo en es este caso no tenemos por eso retorna vacio\n",
    "df_presidents.select_dtypes(include='datetime')"
   ]
  },
  {
   "cell_type": "markdown",
   "id": "a703d47a",
   "metadata": {},
   "source": [
    "### <span style=\"color:red;\">10- .isnull( )</span>\n",
    "Qué hace?\n",
    "\n",
    "El método isnull() (también puedes usar su alias .isna()) se utiliza para detectar valores nulos o faltantes dentro de tu DataFrame o Serie.\n",
    "\n",
    "Por cada celda del DataFrame, isnull() devuelve un valor booleano:\n",
    "\n",
    "- True si el valor en esa celda es nulo (missing).\n",
    "\n",
    "- False si el valor en esa celda no es nulo (existe).\n",
    "\n",
    "El resultado de df.isnull() es un DataFrame booleano que tiene las mismas dimensiones que tu DataFrame original, pero lleno de True/False en lugar de los datos reales."
   ]
  },
  {
   "cell_type": "code",
   "execution_count": 37,
   "id": "faa06dac",
   "metadata": {},
   "outputs": [
    {
     "data": {
      "application/vnd.microsoft.datawrangler.viewer.v0+json": {
       "columns": [
        {
         "name": "index",
         "rawType": "int64",
         "type": "integer"
        },
        {
         "name": "height(cm)",
         "rawType": "bool",
         "type": "boolean"
        },
        {
         "name": "order",
         "rawType": "bool",
         "type": "boolean"
        },
        {
         "name": "name",
         "rawType": "bool",
         "type": "boolean"
        }
       ],
       "ref": "534166e2-2f3a-40e4-9f9e-33fba0eab65f",
       "rows": [
        [
         "0",
         "False",
         "False",
         "False"
        ],
        [
         "1",
         "False",
         "False",
         "False"
        ],
        [
         "2",
         "False",
         "False",
         "False"
        ],
        [
         "3",
         "False",
         "False",
         "False"
        ],
        [
         "4",
         "False",
         "False",
         "False"
        ],
        [
         "5",
         "False",
         "False",
         "False"
        ],
        [
         "6",
         "False",
         "False",
         "False"
        ],
        [
         "7",
         "False",
         "False",
         "False"
        ],
        [
         "8",
         "False",
         "False",
         "False"
        ],
        [
         "9",
         "False",
         "False",
         "False"
        ],
        [
         "10",
         "False",
         "False",
         "False"
        ],
        [
         "11",
         "False",
         "False",
         "False"
        ],
        [
         "12",
         "False",
         "False",
         "False"
        ],
        [
         "13",
         "False",
         "False",
         "False"
        ],
        [
         "14",
         "False",
         "False",
         "False"
        ],
        [
         "15",
         "False",
         "False",
         "False"
        ],
        [
         "16",
         "False",
         "False",
         "False"
        ],
        [
         "17",
         "False",
         "False",
         "False"
        ],
        [
         "18",
         "False",
         "False",
         "False"
        ],
        [
         "19",
         "False",
         "False",
         "False"
        ],
        [
         "20",
         "False",
         "False",
         "False"
        ],
        [
         "21",
         "False",
         "False",
         "False"
        ],
        [
         "22",
         "False",
         "False",
         "False"
        ],
        [
         "23",
         "False",
         "False",
         "False"
        ],
        [
         "24",
         "False",
         "False",
         "False"
        ],
        [
         "25",
         "False",
         "False",
         "False"
        ],
        [
         "26",
         "False",
         "False",
         "False"
        ],
        [
         "27",
         "False",
         "False",
         "False"
        ],
        [
         "28",
         "False",
         "False",
         "False"
        ],
        [
         "29",
         "False",
         "False",
         "False"
        ],
        [
         "30",
         "False",
         "False",
         "False"
        ],
        [
         "31",
         "False",
         "False",
         "False"
        ],
        [
         "32",
         "False",
         "False",
         "False"
        ],
        [
         "33",
         "False",
         "False",
         "False"
        ],
        [
         "34",
         "False",
         "False",
         "False"
        ],
        [
         "35",
         "False",
         "False",
         "False"
        ],
        [
         "36",
         "False",
         "False",
         "False"
        ],
        [
         "37",
         "False",
         "False",
         "False"
        ],
        [
         "38",
         "False",
         "False",
         "False"
        ],
        [
         "39",
         "False",
         "False",
         "False"
        ],
        [
         "40",
         "False",
         "False",
         "False"
        ],
        [
         "41",
         "False",
         "False",
         "False"
        ]
       ],
       "shape": {
        "columns": 3,
        "rows": 42
       }
      },
      "text/html": [
       "<div>\n",
       "<style scoped>\n",
       "    .dataframe tbody tr th:only-of-type {\n",
       "        vertical-align: middle;\n",
       "    }\n",
       "\n",
       "    .dataframe tbody tr th {\n",
       "        vertical-align: top;\n",
       "    }\n",
       "\n",
       "    .dataframe thead th {\n",
       "        text-align: right;\n",
       "    }\n",
       "</style>\n",
       "<table border=\"1\" class=\"dataframe\">\n",
       "  <thead>\n",
       "    <tr style=\"text-align: right;\">\n",
       "      <th></th>\n",
       "      <th>height(cm)</th>\n",
       "      <th>order</th>\n",
       "      <th>name</th>\n",
       "    </tr>\n",
       "  </thead>\n",
       "  <tbody>\n",
       "    <tr>\n",
       "      <th>0</th>\n",
       "      <td>False</td>\n",
       "      <td>False</td>\n",
       "      <td>False</td>\n",
       "    </tr>\n",
       "    <tr>\n",
       "      <th>1</th>\n",
       "      <td>False</td>\n",
       "      <td>False</td>\n",
       "      <td>False</td>\n",
       "    </tr>\n",
       "    <tr>\n",
       "      <th>2</th>\n",
       "      <td>False</td>\n",
       "      <td>False</td>\n",
       "      <td>False</td>\n",
       "    </tr>\n",
       "    <tr>\n",
       "      <th>3</th>\n",
       "      <td>False</td>\n",
       "      <td>False</td>\n",
       "      <td>False</td>\n",
       "    </tr>\n",
       "    <tr>\n",
       "      <th>4</th>\n",
       "      <td>False</td>\n",
       "      <td>False</td>\n",
       "      <td>False</td>\n",
       "    </tr>\n",
       "    <tr>\n",
       "      <th>5</th>\n",
       "      <td>False</td>\n",
       "      <td>False</td>\n",
       "      <td>False</td>\n",
       "    </tr>\n",
       "    <tr>\n",
       "      <th>6</th>\n",
       "      <td>False</td>\n",
       "      <td>False</td>\n",
       "      <td>False</td>\n",
       "    </tr>\n",
       "    <tr>\n",
       "      <th>7</th>\n",
       "      <td>False</td>\n",
       "      <td>False</td>\n",
       "      <td>False</td>\n",
       "    </tr>\n",
       "    <tr>\n",
       "      <th>8</th>\n",
       "      <td>False</td>\n",
       "      <td>False</td>\n",
       "      <td>False</td>\n",
       "    </tr>\n",
       "    <tr>\n",
       "      <th>9</th>\n",
       "      <td>False</td>\n",
       "      <td>False</td>\n",
       "      <td>False</td>\n",
       "    </tr>\n",
       "    <tr>\n",
       "      <th>10</th>\n",
       "      <td>False</td>\n",
       "      <td>False</td>\n",
       "      <td>False</td>\n",
       "    </tr>\n",
       "    <tr>\n",
       "      <th>11</th>\n",
       "      <td>False</td>\n",
       "      <td>False</td>\n",
       "      <td>False</td>\n",
       "    </tr>\n",
       "    <tr>\n",
       "      <th>12</th>\n",
       "      <td>False</td>\n",
       "      <td>False</td>\n",
       "      <td>False</td>\n",
       "    </tr>\n",
       "    <tr>\n",
       "      <th>13</th>\n",
       "      <td>False</td>\n",
       "      <td>False</td>\n",
       "      <td>False</td>\n",
       "    </tr>\n",
       "    <tr>\n",
       "      <th>14</th>\n",
       "      <td>False</td>\n",
       "      <td>False</td>\n",
       "      <td>False</td>\n",
       "    </tr>\n",
       "    <tr>\n",
       "      <th>15</th>\n",
       "      <td>False</td>\n",
       "      <td>False</td>\n",
       "      <td>False</td>\n",
       "    </tr>\n",
       "    <tr>\n",
       "      <th>16</th>\n",
       "      <td>False</td>\n",
       "      <td>False</td>\n",
       "      <td>False</td>\n",
       "    </tr>\n",
       "    <tr>\n",
       "      <th>17</th>\n",
       "      <td>False</td>\n",
       "      <td>False</td>\n",
       "      <td>False</td>\n",
       "    </tr>\n",
       "    <tr>\n",
       "      <th>18</th>\n",
       "      <td>False</td>\n",
       "      <td>False</td>\n",
       "      <td>False</td>\n",
       "    </tr>\n",
       "    <tr>\n",
       "      <th>19</th>\n",
       "      <td>False</td>\n",
       "      <td>False</td>\n",
       "      <td>False</td>\n",
       "    </tr>\n",
       "    <tr>\n",
       "      <th>20</th>\n",
       "      <td>False</td>\n",
       "      <td>False</td>\n",
       "      <td>False</td>\n",
       "    </tr>\n",
       "    <tr>\n",
       "      <th>21</th>\n",
       "      <td>False</td>\n",
       "      <td>False</td>\n",
       "      <td>False</td>\n",
       "    </tr>\n",
       "    <tr>\n",
       "      <th>22</th>\n",
       "      <td>False</td>\n",
       "      <td>False</td>\n",
       "      <td>False</td>\n",
       "    </tr>\n",
       "    <tr>\n",
       "      <th>23</th>\n",
       "      <td>False</td>\n",
       "      <td>False</td>\n",
       "      <td>False</td>\n",
       "    </tr>\n",
       "    <tr>\n",
       "      <th>24</th>\n",
       "      <td>False</td>\n",
       "      <td>False</td>\n",
       "      <td>False</td>\n",
       "    </tr>\n",
       "    <tr>\n",
       "      <th>25</th>\n",
       "      <td>False</td>\n",
       "      <td>False</td>\n",
       "      <td>False</td>\n",
       "    </tr>\n",
       "    <tr>\n",
       "      <th>26</th>\n",
       "      <td>False</td>\n",
       "      <td>False</td>\n",
       "      <td>False</td>\n",
       "    </tr>\n",
       "    <tr>\n",
       "      <th>27</th>\n",
       "      <td>False</td>\n",
       "      <td>False</td>\n",
       "      <td>False</td>\n",
       "    </tr>\n",
       "    <tr>\n",
       "      <th>28</th>\n",
       "      <td>False</td>\n",
       "      <td>False</td>\n",
       "      <td>False</td>\n",
       "    </tr>\n",
       "    <tr>\n",
       "      <th>29</th>\n",
       "      <td>False</td>\n",
       "      <td>False</td>\n",
       "      <td>False</td>\n",
       "    </tr>\n",
       "    <tr>\n",
       "      <th>30</th>\n",
       "      <td>False</td>\n",
       "      <td>False</td>\n",
       "      <td>False</td>\n",
       "    </tr>\n",
       "    <tr>\n",
       "      <th>31</th>\n",
       "      <td>False</td>\n",
       "      <td>False</td>\n",
       "      <td>False</td>\n",
       "    </tr>\n",
       "    <tr>\n",
       "      <th>32</th>\n",
       "      <td>False</td>\n",
       "      <td>False</td>\n",
       "      <td>False</td>\n",
       "    </tr>\n",
       "    <tr>\n",
       "      <th>33</th>\n",
       "      <td>False</td>\n",
       "      <td>False</td>\n",
       "      <td>False</td>\n",
       "    </tr>\n",
       "    <tr>\n",
       "      <th>34</th>\n",
       "      <td>False</td>\n",
       "      <td>False</td>\n",
       "      <td>False</td>\n",
       "    </tr>\n",
       "    <tr>\n",
       "      <th>35</th>\n",
       "      <td>False</td>\n",
       "      <td>False</td>\n",
       "      <td>False</td>\n",
       "    </tr>\n",
       "    <tr>\n",
       "      <th>36</th>\n",
       "      <td>False</td>\n",
       "      <td>False</td>\n",
       "      <td>False</td>\n",
       "    </tr>\n",
       "    <tr>\n",
       "      <th>37</th>\n",
       "      <td>False</td>\n",
       "      <td>False</td>\n",
       "      <td>False</td>\n",
       "    </tr>\n",
       "    <tr>\n",
       "      <th>38</th>\n",
       "      <td>False</td>\n",
       "      <td>False</td>\n",
       "      <td>False</td>\n",
       "    </tr>\n",
       "    <tr>\n",
       "      <th>39</th>\n",
       "      <td>False</td>\n",
       "      <td>False</td>\n",
       "      <td>False</td>\n",
       "    </tr>\n",
       "    <tr>\n",
       "      <th>40</th>\n",
       "      <td>False</td>\n",
       "      <td>False</td>\n",
       "      <td>False</td>\n",
       "    </tr>\n",
       "    <tr>\n",
       "      <th>41</th>\n",
       "      <td>False</td>\n",
       "      <td>False</td>\n",
       "      <td>False</td>\n",
       "    </tr>\n",
       "  </tbody>\n",
       "</table>\n",
       "</div>"
      ],
      "text/plain": [
       "    height(cm)  order   name\n",
       "0        False  False  False\n",
       "1        False  False  False\n",
       "2        False  False  False\n",
       "3        False  False  False\n",
       "4        False  False  False\n",
       "5        False  False  False\n",
       "6        False  False  False\n",
       "7        False  False  False\n",
       "8        False  False  False\n",
       "9        False  False  False\n",
       "10       False  False  False\n",
       "11       False  False  False\n",
       "12       False  False  False\n",
       "13       False  False  False\n",
       "14       False  False  False\n",
       "15       False  False  False\n",
       "16       False  False  False\n",
       "17       False  False  False\n",
       "18       False  False  False\n",
       "19       False  False  False\n",
       "20       False  False  False\n",
       "21       False  False  False\n",
       "22       False  False  False\n",
       "23       False  False  False\n",
       "24       False  False  False\n",
       "25       False  False  False\n",
       "26       False  False  False\n",
       "27       False  False  False\n",
       "28       False  False  False\n",
       "29       False  False  False\n",
       "30       False  False  False\n",
       "31       False  False  False\n",
       "32       False  False  False\n",
       "33       False  False  False\n",
       "34       False  False  False\n",
       "35       False  False  False\n",
       "36       False  False  False\n",
       "37       False  False  False\n",
       "38       False  False  False\n",
       "39       False  False  False\n",
       "40       False  False  False\n",
       "41       False  False  False"
      ]
     },
     "execution_count": 37,
     "metadata": {},
     "output_type": "execute_result"
    }
   ],
   "source": [
    "df_presidents.isnull()"
   ]
  },
  {
   "cell_type": "markdown",
   "id": "5d8705b2",
   "metadata": {},
   "source": [
    "### veamos otro ejemplo:"
   ]
  },
  {
   "cell_type": "code",
   "execution_count": 53,
   "id": "745aeac5",
   "metadata": {},
   "outputs": [
    {
     "name": "stdout",
     "output_type": "stream",
     "text": [
      "DataFrame original:\n",
      "  Producto  Ventas_Q1  Ventas_Q2  Calificacion\n",
      "0        A      100.0      120.0           5.0\n",
      "1        B      150.0        NaN           4.0\n",
      "2        C        NaN      180.0           3.0\n",
      "3        D      200.0      220.0           NaN\n",
      "4        E        NaN      280.0           5.0\n",
      "5        F      250.0        NaN           4.0\n"
     ]
    }
   ],
   "source": [
    "import pandas as pd\n",
    "import numpy as np\n",
    "# Crear un DataFrame de ejemplo con valores nulos\n",
    "data = {'Producto': ['A', 'B', 'C', 'D', 'E', 'F'],\n",
    "        'Ventas_Q1': [100, 150, np.nan, 200, np.nan, 250],\n",
    "        'Ventas_Q2': [120, np.nan, 180, 220, 280, np.nan],\n",
    "        'Calificacion': [5, 4, 3, np.nan, 5, 4]}\n",
    "df_sales = pd.DataFrame(data)\n",
    "\n",
    "print(\"DataFrame original:\")\n",
    "print(df_sales)"
   ]
  },
  {
   "cell_type": "code",
   "execution_count": 54,
   "id": "74c10a5b",
   "metadata": {},
   "outputs": [
    {
     "name": "stdout",
     "output_type": "stream",
     "text": [
      "\n",
      "DataFrame booleano de nulos (df_sales.isnull()):\n",
      "   Producto  Ventas_Q1  Ventas_Q2  Calificacion\n",
      "0     False      False      False         False\n",
      "1     False      False       True         False\n",
      "2     False       True      False         False\n",
      "3     False      False      False          True\n",
      "4     False       True      False         False\n",
      "5     False      False       True         False\n"
     ]
    }
   ],
   "source": [
    "# Paso 1: Usar .isnull() para obtener el DataFrame booleano de nulos\n",
    "df_nulos_booleano = df_sales.isnull()\n",
    "print(\"\\nDataFrame booleano de nulos (df_sales.isnull()):\")\n",
    "print(df_nulos_booleano)\n"
   ]
  },
  {
   "cell_type": "code",
   "execution_count": 55,
   "id": "c9f890b6",
   "metadata": {},
   "outputs": [
    {
     "name": "stdout",
     "output_type": "stream",
     "text": [
      "\n",
      "Conteo de valores nulos por columna (df_sales.isnull().sum()):\n",
      "Producto        0\n",
      "Ventas_Q1       2\n",
      "Ventas_Q2       2\n",
      "Calificacion    1\n",
      "dtype: int64\n"
     ]
    }
   ],
   "source": [
    "# Paso 2: Aplicar .sum() al DataFrame booleano para contar los nulos por columna\n",
    "print(\"\\nConteo de valores nulos por columna (df_sales.isnull().sum()):\")\n",
    "print(df_nulos_booleano.sum())"
   ]
  },
  {
   "cell_type": "code",
   "execution_count": 56,
   "id": "ff68c03f",
   "metadata": {},
   "outputs": [
    {
     "name": "stdout",
     "output_type": "stream",
     "text": [
      "\n",
      "Conteo de valores no nulos por columna (df_sales.notnull().sum()):\n",
      "Producto        6\n",
      "Ventas_Q1       4\n",
      "Ventas_Q2       4\n",
      "Calificacion    5\n",
      "dtype: int64\n"
     ]
    }
   ],
   "source": [
    "# O directamente: print(df_sales.isnull().sum())\n",
    "#No nulos\n",
    "print(\"\\nConteo de valores no nulos por columna (df_sales.notnull().sum()):\")\n",
    "print(df_sales.notnull().sum()) # .notnull() es lo opuesto a .isnull()\n",
    "\n"
   ]
  },
  {
   "cell_type": "code",
   "execution_count": 57,
   "id": "83b8c4e6",
   "metadata": {},
   "outputs": [
    {
     "name": "stdout",
     "output_type": "stream",
     "text": [
      "\n",
      "Conteo total de nulos en todo el DataFrame (df_sales.isnull().sum().sum()):\n",
      "5\n"
     ]
    }
   ],
   "source": [
    "#nulos\n",
    "print(\"\\nConteo total de nulos en todo el DataFrame (df_sales.isnull().sum().sum()):\")\n",
    "print(df_sales.isnull().sum().sum())"
   ]
  },
  {
   "cell_type": "markdown",
   "id": "199fab56",
   "metadata": {},
   "source": [
    "### <span style=\"color:red;\">11- .isna( )</span>\n",
    "Qué hace?\n",
    "\n",
    "El método isna( ) es un alias directo de isnull(). \n",
    "\n",
    "Hacen exactamente lo mismo: detectan valores nulos o faltantes (NaN, None, NaT, u otros marcadores de valores ausentes) en tu DataFrame o Serie.\n",
    "\n",
    "Por cada celda, devuelve True si el valor es nulo y False si no lo es.\n",
    "\n",
    "El resultado es un DataFrame booleano con las mismas dimensiones que el original."
   ]
  },
  {
   "cell_type": "code",
   "execution_count": 38,
   "id": "9d3b4d9b",
   "metadata": {},
   "outputs": [
    {
     "data": {
      "application/vnd.microsoft.datawrangler.viewer.v0+json": {
       "columns": [
        {
         "name": "index",
         "rawType": "int64",
         "type": "integer"
        },
        {
         "name": "height(cm)",
         "rawType": "bool",
         "type": "boolean"
        },
        {
         "name": "order",
         "rawType": "bool",
         "type": "boolean"
        },
        {
         "name": "name",
         "rawType": "bool",
         "type": "boolean"
        }
       ],
       "ref": "6aab95fd-bd3c-4809-8c74-d51aa22b8d1f",
       "rows": [
        [
         "0",
         "False",
         "False",
         "False"
        ],
        [
         "1",
         "False",
         "False",
         "False"
        ],
        [
         "2",
         "False",
         "False",
         "False"
        ],
        [
         "3",
         "False",
         "False",
         "False"
        ],
        [
         "4",
         "False",
         "False",
         "False"
        ],
        [
         "5",
         "False",
         "False",
         "False"
        ],
        [
         "6",
         "False",
         "False",
         "False"
        ],
        [
         "7",
         "False",
         "False",
         "False"
        ],
        [
         "8",
         "False",
         "False",
         "False"
        ],
        [
         "9",
         "False",
         "False",
         "False"
        ],
        [
         "10",
         "False",
         "False",
         "False"
        ],
        [
         "11",
         "False",
         "False",
         "False"
        ],
        [
         "12",
         "False",
         "False",
         "False"
        ],
        [
         "13",
         "False",
         "False",
         "False"
        ],
        [
         "14",
         "False",
         "False",
         "False"
        ],
        [
         "15",
         "False",
         "False",
         "False"
        ],
        [
         "16",
         "False",
         "False",
         "False"
        ],
        [
         "17",
         "False",
         "False",
         "False"
        ],
        [
         "18",
         "False",
         "False",
         "False"
        ],
        [
         "19",
         "False",
         "False",
         "False"
        ],
        [
         "20",
         "False",
         "False",
         "False"
        ],
        [
         "21",
         "False",
         "False",
         "False"
        ],
        [
         "22",
         "False",
         "False",
         "False"
        ],
        [
         "23",
         "False",
         "False",
         "False"
        ],
        [
         "24",
         "False",
         "False",
         "False"
        ],
        [
         "25",
         "False",
         "False",
         "False"
        ],
        [
         "26",
         "False",
         "False",
         "False"
        ],
        [
         "27",
         "False",
         "False",
         "False"
        ],
        [
         "28",
         "False",
         "False",
         "False"
        ],
        [
         "29",
         "False",
         "False",
         "False"
        ],
        [
         "30",
         "False",
         "False",
         "False"
        ],
        [
         "31",
         "False",
         "False",
         "False"
        ],
        [
         "32",
         "False",
         "False",
         "False"
        ],
        [
         "33",
         "False",
         "False",
         "False"
        ],
        [
         "34",
         "False",
         "False",
         "False"
        ],
        [
         "35",
         "False",
         "False",
         "False"
        ],
        [
         "36",
         "False",
         "False",
         "False"
        ],
        [
         "37",
         "False",
         "False",
         "False"
        ],
        [
         "38",
         "False",
         "False",
         "False"
        ],
        [
         "39",
         "False",
         "False",
         "False"
        ],
        [
         "40",
         "False",
         "False",
         "False"
        ],
        [
         "41",
         "False",
         "False",
         "False"
        ]
       ],
       "shape": {
        "columns": 3,
        "rows": 42
       }
      },
      "text/html": [
       "<div>\n",
       "<style scoped>\n",
       "    .dataframe tbody tr th:only-of-type {\n",
       "        vertical-align: middle;\n",
       "    }\n",
       "\n",
       "    .dataframe tbody tr th {\n",
       "        vertical-align: top;\n",
       "    }\n",
       "\n",
       "    .dataframe thead th {\n",
       "        text-align: right;\n",
       "    }\n",
       "</style>\n",
       "<table border=\"1\" class=\"dataframe\">\n",
       "  <thead>\n",
       "    <tr style=\"text-align: right;\">\n",
       "      <th></th>\n",
       "      <th>height(cm)</th>\n",
       "      <th>order</th>\n",
       "      <th>name</th>\n",
       "    </tr>\n",
       "  </thead>\n",
       "  <tbody>\n",
       "    <tr>\n",
       "      <th>0</th>\n",
       "      <td>False</td>\n",
       "      <td>False</td>\n",
       "      <td>False</td>\n",
       "    </tr>\n",
       "    <tr>\n",
       "      <th>1</th>\n",
       "      <td>False</td>\n",
       "      <td>False</td>\n",
       "      <td>False</td>\n",
       "    </tr>\n",
       "    <tr>\n",
       "      <th>2</th>\n",
       "      <td>False</td>\n",
       "      <td>False</td>\n",
       "      <td>False</td>\n",
       "    </tr>\n",
       "    <tr>\n",
       "      <th>3</th>\n",
       "      <td>False</td>\n",
       "      <td>False</td>\n",
       "      <td>False</td>\n",
       "    </tr>\n",
       "    <tr>\n",
       "      <th>4</th>\n",
       "      <td>False</td>\n",
       "      <td>False</td>\n",
       "      <td>False</td>\n",
       "    </tr>\n",
       "    <tr>\n",
       "      <th>5</th>\n",
       "      <td>False</td>\n",
       "      <td>False</td>\n",
       "      <td>False</td>\n",
       "    </tr>\n",
       "    <tr>\n",
       "      <th>6</th>\n",
       "      <td>False</td>\n",
       "      <td>False</td>\n",
       "      <td>False</td>\n",
       "    </tr>\n",
       "    <tr>\n",
       "      <th>7</th>\n",
       "      <td>False</td>\n",
       "      <td>False</td>\n",
       "      <td>False</td>\n",
       "    </tr>\n",
       "    <tr>\n",
       "      <th>8</th>\n",
       "      <td>False</td>\n",
       "      <td>False</td>\n",
       "      <td>False</td>\n",
       "    </tr>\n",
       "    <tr>\n",
       "      <th>9</th>\n",
       "      <td>False</td>\n",
       "      <td>False</td>\n",
       "      <td>False</td>\n",
       "    </tr>\n",
       "    <tr>\n",
       "      <th>10</th>\n",
       "      <td>False</td>\n",
       "      <td>False</td>\n",
       "      <td>False</td>\n",
       "    </tr>\n",
       "    <tr>\n",
       "      <th>11</th>\n",
       "      <td>False</td>\n",
       "      <td>False</td>\n",
       "      <td>False</td>\n",
       "    </tr>\n",
       "    <tr>\n",
       "      <th>12</th>\n",
       "      <td>False</td>\n",
       "      <td>False</td>\n",
       "      <td>False</td>\n",
       "    </tr>\n",
       "    <tr>\n",
       "      <th>13</th>\n",
       "      <td>False</td>\n",
       "      <td>False</td>\n",
       "      <td>False</td>\n",
       "    </tr>\n",
       "    <tr>\n",
       "      <th>14</th>\n",
       "      <td>False</td>\n",
       "      <td>False</td>\n",
       "      <td>False</td>\n",
       "    </tr>\n",
       "    <tr>\n",
       "      <th>15</th>\n",
       "      <td>False</td>\n",
       "      <td>False</td>\n",
       "      <td>False</td>\n",
       "    </tr>\n",
       "    <tr>\n",
       "      <th>16</th>\n",
       "      <td>False</td>\n",
       "      <td>False</td>\n",
       "      <td>False</td>\n",
       "    </tr>\n",
       "    <tr>\n",
       "      <th>17</th>\n",
       "      <td>False</td>\n",
       "      <td>False</td>\n",
       "      <td>False</td>\n",
       "    </tr>\n",
       "    <tr>\n",
       "      <th>18</th>\n",
       "      <td>False</td>\n",
       "      <td>False</td>\n",
       "      <td>False</td>\n",
       "    </tr>\n",
       "    <tr>\n",
       "      <th>19</th>\n",
       "      <td>False</td>\n",
       "      <td>False</td>\n",
       "      <td>False</td>\n",
       "    </tr>\n",
       "    <tr>\n",
       "      <th>20</th>\n",
       "      <td>False</td>\n",
       "      <td>False</td>\n",
       "      <td>False</td>\n",
       "    </tr>\n",
       "    <tr>\n",
       "      <th>21</th>\n",
       "      <td>False</td>\n",
       "      <td>False</td>\n",
       "      <td>False</td>\n",
       "    </tr>\n",
       "    <tr>\n",
       "      <th>22</th>\n",
       "      <td>False</td>\n",
       "      <td>False</td>\n",
       "      <td>False</td>\n",
       "    </tr>\n",
       "    <tr>\n",
       "      <th>23</th>\n",
       "      <td>False</td>\n",
       "      <td>False</td>\n",
       "      <td>False</td>\n",
       "    </tr>\n",
       "    <tr>\n",
       "      <th>24</th>\n",
       "      <td>False</td>\n",
       "      <td>False</td>\n",
       "      <td>False</td>\n",
       "    </tr>\n",
       "    <tr>\n",
       "      <th>25</th>\n",
       "      <td>False</td>\n",
       "      <td>False</td>\n",
       "      <td>False</td>\n",
       "    </tr>\n",
       "    <tr>\n",
       "      <th>26</th>\n",
       "      <td>False</td>\n",
       "      <td>False</td>\n",
       "      <td>False</td>\n",
       "    </tr>\n",
       "    <tr>\n",
       "      <th>27</th>\n",
       "      <td>False</td>\n",
       "      <td>False</td>\n",
       "      <td>False</td>\n",
       "    </tr>\n",
       "    <tr>\n",
       "      <th>28</th>\n",
       "      <td>False</td>\n",
       "      <td>False</td>\n",
       "      <td>False</td>\n",
       "    </tr>\n",
       "    <tr>\n",
       "      <th>29</th>\n",
       "      <td>False</td>\n",
       "      <td>False</td>\n",
       "      <td>False</td>\n",
       "    </tr>\n",
       "    <tr>\n",
       "      <th>30</th>\n",
       "      <td>False</td>\n",
       "      <td>False</td>\n",
       "      <td>False</td>\n",
       "    </tr>\n",
       "    <tr>\n",
       "      <th>31</th>\n",
       "      <td>False</td>\n",
       "      <td>False</td>\n",
       "      <td>False</td>\n",
       "    </tr>\n",
       "    <tr>\n",
       "      <th>32</th>\n",
       "      <td>False</td>\n",
       "      <td>False</td>\n",
       "      <td>False</td>\n",
       "    </tr>\n",
       "    <tr>\n",
       "      <th>33</th>\n",
       "      <td>False</td>\n",
       "      <td>False</td>\n",
       "      <td>False</td>\n",
       "    </tr>\n",
       "    <tr>\n",
       "      <th>34</th>\n",
       "      <td>False</td>\n",
       "      <td>False</td>\n",
       "      <td>False</td>\n",
       "    </tr>\n",
       "    <tr>\n",
       "      <th>35</th>\n",
       "      <td>False</td>\n",
       "      <td>False</td>\n",
       "      <td>False</td>\n",
       "    </tr>\n",
       "    <tr>\n",
       "      <th>36</th>\n",
       "      <td>False</td>\n",
       "      <td>False</td>\n",
       "      <td>False</td>\n",
       "    </tr>\n",
       "    <tr>\n",
       "      <th>37</th>\n",
       "      <td>False</td>\n",
       "      <td>False</td>\n",
       "      <td>False</td>\n",
       "    </tr>\n",
       "    <tr>\n",
       "      <th>38</th>\n",
       "      <td>False</td>\n",
       "      <td>False</td>\n",
       "      <td>False</td>\n",
       "    </tr>\n",
       "    <tr>\n",
       "      <th>39</th>\n",
       "      <td>False</td>\n",
       "      <td>False</td>\n",
       "      <td>False</td>\n",
       "    </tr>\n",
       "    <tr>\n",
       "      <th>40</th>\n",
       "      <td>False</td>\n",
       "      <td>False</td>\n",
       "      <td>False</td>\n",
       "    </tr>\n",
       "    <tr>\n",
       "      <th>41</th>\n",
       "      <td>False</td>\n",
       "      <td>False</td>\n",
       "      <td>False</td>\n",
       "    </tr>\n",
       "  </tbody>\n",
       "</table>\n",
       "</div>"
      ],
      "text/plain": [
       "    height(cm)  order   name\n",
       "0        False  False  False\n",
       "1        False  False  False\n",
       "2        False  False  False\n",
       "3        False  False  False\n",
       "4        False  False  False\n",
       "5        False  False  False\n",
       "6        False  False  False\n",
       "7        False  False  False\n",
       "8        False  False  False\n",
       "9        False  False  False\n",
       "10       False  False  False\n",
       "11       False  False  False\n",
       "12       False  False  False\n",
       "13       False  False  False\n",
       "14       False  False  False\n",
       "15       False  False  False\n",
       "16       False  False  False\n",
       "17       False  False  False\n",
       "18       False  False  False\n",
       "19       False  False  False\n",
       "20       False  False  False\n",
       "21       False  False  False\n",
       "22       False  False  False\n",
       "23       False  False  False\n",
       "24       False  False  False\n",
       "25       False  False  False\n",
       "26       False  False  False\n",
       "27       False  False  False\n",
       "28       False  False  False\n",
       "29       False  False  False\n",
       "30       False  False  False\n",
       "31       False  False  False\n",
       "32       False  False  False\n",
       "33       False  False  False\n",
       "34       False  False  False\n",
       "35       False  False  False\n",
       "36       False  False  False\n",
       "37       False  False  False\n",
       "38       False  False  False\n",
       "39       False  False  False\n",
       "40       False  False  False\n",
       "41       False  False  False"
      ]
     },
     "execution_count": 38,
     "metadata": {},
     "output_type": "execute_result"
    }
   ],
   "source": [
    "df_presidents.isna()"
   ]
  },
  {
   "cell_type": "markdown",
   "id": "82802919",
   "metadata": {},
   "source": [
    "### <span style=\"color:red;\">11- .sum( ) (Aplicado a DataFrames Booleanos)</span>\n",
    "Qué hace?\n",
    "\n",
    "El método sum( ) en Pandas, cuando se aplica a un DataFrame o Serie de valores booleanos (como el que resulta de df.isnull() o df.isna()), cuenta el número de veces que aparece True en cada columna (por defecto, o fila si se especifica el eje).\n",
    "\n",
    "Esto es posible porque, en un contexto numérico, Pandas trata True como 1 y False como 0. \n",
    "\n",
    "Por lo tanto, sumar los valores booleanos es equivalente a contar las ocurrencias de True.\n",
    "\n",
    "Es excepcionalmente útil para obtener un recuento de valores nulos por columna."
   ]
  },
  {
   "cell_type": "code",
   "execution_count": 39,
   "id": "837af01a",
   "metadata": {},
   "outputs": [
    {
     "data": {
      "application/vnd.microsoft.datawrangler.viewer.v0+json": {
       "columns": [
        {
         "name": "index",
         "rawType": "object",
         "type": "string"
        },
        {
         "name": "0",
         "rawType": "int64",
         "type": "integer"
        }
       ],
       "ref": "61b928be-7b2e-47b6-90d6-f30a8e28c394",
       "rows": [
        [
         "height(cm)",
         "0"
        ],
        [
         "order",
         "0"
        ],
        [
         "name",
         "0"
        ]
       ],
       "shape": {
        "columns": 1,
        "rows": 3
       }
      },
      "text/plain": [
       "height(cm)    0\n",
       "order         0\n",
       "name          0\n",
       "dtype: int64"
      ]
     },
     "execution_count": 39,
     "metadata": {},
     "output_type": "execute_result"
    }
   ],
   "source": [
    "df_presidents.isnull().sum()\n"
   ]
  },
  {
   "cell_type": "markdown",
   "id": "5fe60585",
   "metadata": {},
   "source": [
    "### <span style=\"color:red;\">12- .duplicated( )</span>\n",
    "Qué hace?\n",
    "\n",
    "El método duplicated() en Pandas se utiliza para identificar filas duplicadas dentro de un DataFrame. \n",
    "\n",
    "Para cada fila, devuelve un valor booleano:\n",
    "\n",
    "True si la fila es un duplicado de una fila anterior (o posterior, dependiendo del argumento keep).\n",
    "\n",
    "False si la fila es única (no es un duplicado).\n",
    "\n",
    "El resultado de df.duplicated() es una Serie de Pandas booleana que tiene el mismo número de filas que tu DataFrame original."
   ]
  },
  {
   "cell_type": "code",
   "execution_count": 40,
   "id": "81209951",
   "metadata": {},
   "outputs": [
    {
     "data": {
      "application/vnd.microsoft.datawrangler.viewer.v0+json": {
       "columns": [
        {
         "name": "index",
         "rawType": "int64",
         "type": "integer"
        },
        {
         "name": "0",
         "rawType": "bool",
         "type": "boolean"
        }
       ],
       "ref": "e39db37c-369b-401b-a57a-1ef977fb0fda",
       "rows": [
        [
         "0",
         "False"
        ],
        [
         "1",
         "False"
        ],
        [
         "2",
         "False"
        ],
        [
         "3",
         "False"
        ],
        [
         "4",
         "False"
        ],
        [
         "5",
         "False"
        ],
        [
         "6",
         "False"
        ],
        [
         "7",
         "False"
        ],
        [
         "8",
         "False"
        ],
        [
         "9",
         "False"
        ],
        [
         "10",
         "False"
        ],
        [
         "11",
         "False"
        ],
        [
         "12",
         "False"
        ],
        [
         "13",
         "False"
        ],
        [
         "14",
         "False"
        ],
        [
         "15",
         "False"
        ],
        [
         "16",
         "False"
        ],
        [
         "17",
         "False"
        ],
        [
         "18",
         "False"
        ],
        [
         "19",
         "False"
        ],
        [
         "20",
         "False"
        ],
        [
         "21",
         "False"
        ],
        [
         "22",
         "False"
        ],
        [
         "23",
         "False"
        ],
        [
         "24",
         "False"
        ],
        [
         "25",
         "False"
        ],
        [
         "26",
         "False"
        ],
        [
         "27",
         "False"
        ],
        [
         "28",
         "False"
        ],
        [
         "29",
         "False"
        ],
        [
         "30",
         "False"
        ],
        [
         "31",
         "False"
        ],
        [
         "32",
         "False"
        ],
        [
         "33",
         "False"
        ],
        [
         "34",
         "False"
        ],
        [
         "35",
         "False"
        ],
        [
         "36",
         "False"
        ],
        [
         "37",
         "False"
        ],
        [
         "38",
         "False"
        ],
        [
         "39",
         "False"
        ],
        [
         "40",
         "False"
        ],
        [
         "41",
         "False"
        ]
       ],
       "shape": {
        "columns": 1,
        "rows": 42
       }
      },
      "text/plain": [
       "0     False\n",
       "1     False\n",
       "2     False\n",
       "3     False\n",
       "4     False\n",
       "5     False\n",
       "6     False\n",
       "7     False\n",
       "8     False\n",
       "9     False\n",
       "10    False\n",
       "11    False\n",
       "12    False\n",
       "13    False\n",
       "14    False\n",
       "15    False\n",
       "16    False\n",
       "17    False\n",
       "18    False\n",
       "19    False\n",
       "20    False\n",
       "21    False\n",
       "22    False\n",
       "23    False\n",
       "24    False\n",
       "25    False\n",
       "26    False\n",
       "27    False\n",
       "28    False\n",
       "29    False\n",
       "30    False\n",
       "31    False\n",
       "32    False\n",
       "33    False\n",
       "34    False\n",
       "35    False\n",
       "36    False\n",
       "37    False\n",
       "38    False\n",
       "39    False\n",
       "40    False\n",
       "41    False\n",
       "dtype: bool"
      ]
     },
     "execution_count": 40,
     "metadata": {},
     "output_type": "execute_result"
    }
   ],
   "source": [
    "df_presidents.duplicated()"
   ]
  },
  {
   "cell_type": "code",
   "execution_count": 41,
   "id": "88b27ab6",
   "metadata": {},
   "outputs": [
    {
     "data": {
      "text/plain": [
       "np.int64(0)"
      ]
     },
     "execution_count": 41,
     "metadata": {},
     "output_type": "execute_result"
    }
   ],
   "source": [
    "df_presidents.duplicated().sum()"
   ]
  },
  {
   "cell_type": "markdown",
   "id": "3c77a2f6",
   "metadata": {},
   "source": [
    "### veamos otro ejemplo:"
   ]
  },
  {
   "cell_type": "code",
   "execution_count": 45,
   "id": "b47f1635",
   "metadata": {},
   "outputs": [],
   "source": [
    "import pandas as pd\n",
    "import numpy as np\n",
    "\n",
    "# Crear un DataFrame de ejemplo con algunas filas duplicadas\n",
    "data = {'ID_Cliente': [1, 2, 3, 1, 4, 2, 5],\n",
    "        'Nombre': ['Ana', 'Luis', 'Pedro', 'Ana', 'María', 'Luis', 'Laura'],\n",
    "        'Ciudad': ['Madrid', 'Barcelona', 'Sevilla', 'Madrid', 'Valencia', 'Barcelona', 'Zaragoza'],\n",
    "        'Edad': [30, 25, 40, 30, 35, 25, 28]}\n",
    "df_sales = pd.DataFrame(data)"
   ]
  },
  {
   "cell_type": "code",
   "execution_count": 47,
   "id": "7d626be2",
   "metadata": {},
   "outputs": [
    {
     "name": "stdout",
     "output_type": "stream",
     "text": [
      "DataFrame original:\n",
      "   ID_Cliente Nombre     Ciudad  Edad\n",
      "0           1    Ana     Madrid    30\n",
      "1           2   Luis  Barcelona    25\n",
      "2           3  Pedro    Sevilla    40\n",
      "3           1    Ana     Madrid    30\n",
      "4           4  María   Valencia    35\n",
      "5           2   Luis  Barcelona    25\n",
      "6           5  Laura   Zaragoza    28\n"
     ]
    }
   ],
   "source": [
    "print(\"DataFrame original:\")\n",
    "print(df_sales)"
   ]
  },
  {
   "cell_type": "code",
   "execution_count": 48,
   "id": "e83f41e8",
   "metadata": {},
   "outputs": [
    {
     "name": "stdout",
     "output_type": "stream",
     "text": [
      "\n",
      "Serie booleana de duplicados (df_sales.duplicated()):\n",
      "0    False\n",
      "1    False\n",
      "2    False\n",
      "3     True\n",
      "4    False\n",
      "5     True\n",
      "6    False\n",
      "dtype: bool\n"
     ]
    }
   ],
   "source": [
    "# Uso básico: identificar filas duplicadas (considerando todas las columnas, keep='first' por defecto)\n",
    "print(\"\\nSerie booleana de duplicados (df_sales.duplicated()):\")\n",
    "print(df_sales.duplicated())"
   ]
  },
  {
   "cell_type": "code",
   "execution_count": 49,
   "id": "232e35db",
   "metadata": {},
   "outputs": [
    {
     "name": "stdout",
     "output_type": "stream",
     "text": [
      "\n",
      "Número total de filas duplicadas (df_sales.duplicated().sum()):\n",
      "2\n"
     ]
    }
   ],
   "source": [
    "# Contar el número total de filas duplicadas\n",
    "print(\"\\nNúmero total de filas duplicadas (df_sales.duplicated().sum()):\")\n",
    "print(df_sales.duplicated().sum())"
   ]
  },
  {
   "cell_type": "code",
   "execution_count": 50,
   "id": "d8a914f1",
   "metadata": {},
   "outputs": [
    {
     "name": "stdout",
     "output_type": "stream",
     "text": [
      "\n",
      "Filas que son duplicados (df_sales[df_sales.duplicated()]):\n",
      "   ID_Cliente Nombre     Ciudad  Edad\n",
      "3           1    Ana     Madrid    30\n",
      "5           2   Luis  Barcelona    25\n"
     ]
    }
   ],
   "source": [
    "# Mostrar solo las filas que son duplicados\n",
    "print(\"\\nFilas que son duplicados (df_sales[df_sales.duplicated()]):\")\n",
    "print(df_sales[df_sales.duplicated()])"
   ]
  },
  {
   "cell_type": "code",
   "execution_count": 52,
   "id": "65ab8209",
   "metadata": {},
   "outputs": [
    {
     "name": "stdout",
     "output_type": "stream",
     "text": [
      "\n",
      "DataFrame después de eliminar duplicados (usando .drop_duplicates()):\n",
      "   ID_Cliente Nombre     Ciudad  Edad\n",
      "0           1    Ana     Madrid    30\n",
      "1           2   Luis  Barcelona    25\n",
      "2           3  Pedro    Sevilla    40\n",
      "4           4  María   Valencia    35\n",
      "6           5  Laura   Zaragoza    28\n"
     ]
    }
   ],
   "source": [
    "# Es muy común usar .drop_duplicates() para eliminar duplicados\n",
    "print(\"\\nDataFrame después de eliminar duplicados (usando .drop_duplicates()):\")\n",
    "print(df_sales.drop_duplicates())"
   ]
  },
  {
   "cell_type": "markdown",
   "id": "72d0322a",
   "metadata": {},
   "source": [
    "### <span style=\"color:red;\">13- .describe( )</span>\n",
    "Qué hace?\n",
    "\n",
    "El método describe() genera estadísticas descriptivas de las columnas numéricas (y a veces de las no numéricas, si se especifica) de tu DataFrame.\n",
    "\n",
    "Proporciona un resumen rápido de la distribución central y la dispersión de tus datos.\n",
    "\n",
    "Para las columnas numéricas, las estadísticas que incluye son:\n",
    "\n",
    "- count: El número de valores no nulos en la columna.\n",
    "- mean: La media aritmética (promedio) de los valores.\n",
    "- std: La desviación estándar, que mide la dispersión de los datos alrededor de la media.\n",
    "- min: El valor mínimo en la columna.\n",
    "- 25% (primer cuartil): El valor por debajo del cual se encuentra el 25% de los datos.\n",
    "- 50% (mediana o segundo cuartil): El valor central de los datos cuando están ordenados.\n",
    "- 75% (tercer cuartil): El valor por debajo del cual se encuentra el 75% de los datos.\n",
    "- max: El valor máximo en la columna.\n",
    "\n",
    "Si se aplica a columnas no numéricas (con el argumento include='object' o include='all'), describe() proporciona un resumen diferente, incluyendo count, unique, top (valor más frecuente) y freq (frecuencia del valor más frecuente)."
   ]
  },
  {
   "cell_type": "markdown",
   "id": "b86b364b",
   "metadata": {},
   "source": [
    "¿Por qué es útil?\n",
    "\n",
    "- Exploración Inicial: Es una de las herramientas más valiosas para la primera exploración de tus datos. Te da una idea rápida de los rangos de valores, la presencia de valores atípicos (outliers), la dispersión y el número de valores no nulos.\n",
    "\n",
    "- Identificación de Problemas: Puedes detectar rápidamente si una columna numérica tiene un rango inesperado de valores (ej., edades negativas, ventas extremadamente altas o bajas) o si hay muchos valores faltantes (si count es mucho menor que df.shape[0]).\n",
    "\n",
    "- Comprender la Distribución: Los cuartiles (25%, 50%, 75%) te dan una idea de cómo se distribuyen los datos y si están sesgados.\n"
   ]
  },
  {
   "cell_type": "code",
   "execution_count": 58,
   "id": "454fc4a4",
   "metadata": {},
   "outputs": [
    {
     "data": {
      "application/vnd.microsoft.datawrangler.viewer.v0+json": {
       "columns": [
        {
         "name": "index",
         "rawType": "object",
         "type": "string"
        },
        {
         "name": "height(cm)",
         "rawType": "float64",
         "type": "float"
        },
        {
         "name": "order",
         "rawType": "float64",
         "type": "float"
        }
       ],
       "ref": "a9de0d10-c9b7-435b-a494-6112490498eb",
       "rows": [
        [
         "count",
         "42.0",
         "42.0"
        ],
        [
         "mean",
         "179.73809523809524",
         "22.476190476190474"
        ],
        [
         "std",
         "7.0158688553582955",
         "13.15246076435721"
        ],
        [
         "min",
         "163.0",
         "1.0"
        ],
        [
         "25%",
         "174.25",
         "11.25"
        ],
        [
         "50%",
         "182.0",
         "22.0"
        ],
        [
         "75%",
         "183.0",
         "33.75"
        ],
        [
         "max",
         "193.0",
         "44.0"
        ]
       ],
       "shape": {
        "columns": 2,
        "rows": 8
       }
      },
      "text/html": [
       "<div>\n",
       "<style scoped>\n",
       "    .dataframe tbody tr th:only-of-type {\n",
       "        vertical-align: middle;\n",
       "    }\n",
       "\n",
       "    .dataframe tbody tr th {\n",
       "        vertical-align: top;\n",
       "    }\n",
       "\n",
       "    .dataframe thead th {\n",
       "        text-align: right;\n",
       "    }\n",
       "</style>\n",
       "<table border=\"1\" class=\"dataframe\">\n",
       "  <thead>\n",
       "    <tr style=\"text-align: right;\">\n",
       "      <th></th>\n",
       "      <th>height(cm)</th>\n",
       "      <th>order</th>\n",
       "    </tr>\n",
       "  </thead>\n",
       "  <tbody>\n",
       "    <tr>\n",
       "      <th>count</th>\n",
       "      <td>42.000000</td>\n",
       "      <td>42.000000</td>\n",
       "    </tr>\n",
       "    <tr>\n",
       "      <th>mean</th>\n",
       "      <td>179.738095</td>\n",
       "      <td>22.476190</td>\n",
       "    </tr>\n",
       "    <tr>\n",
       "      <th>std</th>\n",
       "      <td>7.015869</td>\n",
       "      <td>13.152461</td>\n",
       "    </tr>\n",
       "    <tr>\n",
       "      <th>min</th>\n",
       "      <td>163.000000</td>\n",
       "      <td>1.000000</td>\n",
       "    </tr>\n",
       "    <tr>\n",
       "      <th>25%</th>\n",
       "      <td>174.250000</td>\n",
       "      <td>11.250000</td>\n",
       "    </tr>\n",
       "    <tr>\n",
       "      <th>50%</th>\n",
       "      <td>182.000000</td>\n",
       "      <td>22.000000</td>\n",
       "    </tr>\n",
       "    <tr>\n",
       "      <th>75%</th>\n",
       "      <td>183.000000</td>\n",
       "      <td>33.750000</td>\n",
       "    </tr>\n",
       "    <tr>\n",
       "      <th>max</th>\n",
       "      <td>193.000000</td>\n",
       "      <td>44.000000</td>\n",
       "    </tr>\n",
       "  </tbody>\n",
       "</table>\n",
       "</div>"
      ],
      "text/plain": [
       "       height(cm)      order\n",
       "count   42.000000  42.000000\n",
       "mean   179.738095  22.476190\n",
       "std      7.015869  13.152461\n",
       "min    163.000000   1.000000\n",
       "25%    174.250000  11.250000\n",
       "50%    182.000000  22.000000\n",
       "75%    183.000000  33.750000\n",
       "max    193.000000  44.000000"
      ]
     },
     "execution_count": 58,
     "metadata": {},
     "output_type": "execute_result"
    }
   ],
   "source": [
    "df_presidents.describe( )"
   ]
  },
  {
   "cell_type": "markdown",
   "id": "357236ed",
   "metadata": {},
   "source": [
    "df.describe( ).T: Transponer el resultado (.T) es una práctica muy común y recomendada porque hace que la salida sea mucho más legible, con los nombres de las columnas como filas y las estadísticas como columnas. Esto facilita la comparación de estadísticas entre diferentes variables."
   ]
  },
  {
   "cell_type": "code",
   "execution_count": 59,
   "id": "52598890",
   "metadata": {},
   "outputs": [
    {
     "data": {
      "application/vnd.microsoft.datawrangler.viewer.v0+json": {
       "columns": [
        {
         "name": "index",
         "rawType": "object",
         "type": "string"
        },
        {
         "name": "count",
         "rawType": "float64",
         "type": "float"
        },
        {
         "name": "mean",
         "rawType": "float64",
         "type": "float"
        },
        {
         "name": "std",
         "rawType": "float64",
         "type": "float"
        },
        {
         "name": "min",
         "rawType": "float64",
         "type": "float"
        },
        {
         "name": "25%",
         "rawType": "float64",
         "type": "float"
        },
        {
         "name": "50%",
         "rawType": "float64",
         "type": "float"
        },
        {
         "name": "75%",
         "rawType": "float64",
         "type": "float"
        },
        {
         "name": "max",
         "rawType": "float64",
         "type": "float"
        }
       ],
       "ref": "39b149f2-8245-4aa9-a11d-fe2afd586bd4",
       "rows": [
        [
         "height(cm)",
         "42.0",
         "179.73809523809524",
         "7.0158688553582955",
         "163.0",
         "174.25",
         "182.0",
         "183.0",
         "193.0"
        ],
        [
         "order",
         "42.0",
         "22.476190476190474",
         "13.15246076435721",
         "1.0",
         "11.25",
         "22.0",
         "33.75",
         "44.0"
        ]
       ],
       "shape": {
        "columns": 8,
        "rows": 2
       }
      },
      "text/html": [
       "<div>\n",
       "<style scoped>\n",
       "    .dataframe tbody tr th:only-of-type {\n",
       "        vertical-align: middle;\n",
       "    }\n",
       "\n",
       "    .dataframe tbody tr th {\n",
       "        vertical-align: top;\n",
       "    }\n",
       "\n",
       "    .dataframe thead th {\n",
       "        text-align: right;\n",
       "    }\n",
       "</style>\n",
       "<table border=\"1\" class=\"dataframe\">\n",
       "  <thead>\n",
       "    <tr style=\"text-align: right;\">\n",
       "      <th></th>\n",
       "      <th>count</th>\n",
       "      <th>mean</th>\n",
       "      <th>std</th>\n",
       "      <th>min</th>\n",
       "      <th>25%</th>\n",
       "      <th>50%</th>\n",
       "      <th>75%</th>\n",
       "      <th>max</th>\n",
       "    </tr>\n",
       "  </thead>\n",
       "  <tbody>\n",
       "    <tr>\n",
       "      <th>height(cm)</th>\n",
       "      <td>42.0</td>\n",
       "      <td>179.738095</td>\n",
       "      <td>7.015869</td>\n",
       "      <td>163.0</td>\n",
       "      <td>174.25</td>\n",
       "      <td>182.0</td>\n",
       "      <td>183.00</td>\n",
       "      <td>193.0</td>\n",
       "    </tr>\n",
       "    <tr>\n",
       "      <th>order</th>\n",
       "      <td>42.0</td>\n",
       "      <td>22.476190</td>\n",
       "      <td>13.152461</td>\n",
       "      <td>1.0</td>\n",
       "      <td>11.25</td>\n",
       "      <td>22.0</td>\n",
       "      <td>33.75</td>\n",
       "      <td>44.0</td>\n",
       "    </tr>\n",
       "  </tbody>\n",
       "</table>\n",
       "</div>"
      ],
      "text/plain": [
       "            count        mean        std    min     25%    50%     75%    max\n",
       "height(cm)   42.0  179.738095   7.015869  163.0  174.25  182.0  183.00  193.0\n",
       "order        42.0   22.476190  13.152461    1.0   11.25   22.0   33.75   44.0"
      ]
     },
     "execution_count": 59,
     "metadata": {},
     "output_type": "execute_result"
    }
   ],
   "source": [
    "df_presidents.describe( ).T"
   ]
  },
  {
   "cell_type": "markdown",
   "id": "e2c219a4",
   "metadata": {},
   "source": [
    "### Veamos ahora que hace para las variables no numericas , agregando include='object'"
   ]
  },
  {
   "cell_type": "markdown",
   "id": "e97148ec",
   "metadata": {},
   "source": [
    "¿Qué estadísticas ofrece describe() para variables no numéricas?\n",
    "\n",
    "Cuando se usa con include='object' o include='all', describe() para columnas no numéricas muestra:\n",
    "\n",
    "- count: El número de valores no nulos en la columna.\n",
    "\n",
    "- unique: El número de valores únicos distintos en la columna. Esto es muy útil para saber cuántas categorías diferentes hay.\n",
    "\n",
    "- top: El valor más frecuente (la categoría que más se repite).\n",
    "\n",
    "- freq: La frecuencia (cantidad de veces que aparece) del valor más frecuent"
   ]
  },
  {
   "cell_type": "code",
   "execution_count": 61,
   "id": "cafca0e4",
   "metadata": {},
   "outputs": [
    {
     "data": {
      "application/vnd.microsoft.datawrangler.viewer.v0+json": {
       "columns": [
        {
         "name": "index",
         "rawType": "object",
         "type": "string"
        },
        {
         "name": "name",
         "rawType": "object",
         "type": "unknown"
        }
       ],
       "ref": "2b1d5fe2-2248-4e2a-a766-c94c7dd23382",
       "rows": [
        [
         "count",
         "42"
        ],
        [
         "unique",
         "42"
        ],
        [
         "top",
         "George Washington"
        ],
        [
         "freq",
         "1"
        ]
       ],
       "shape": {
        "columns": 1,
        "rows": 4
       }
      },
      "text/html": [
       "<div>\n",
       "<style scoped>\n",
       "    .dataframe tbody tr th:only-of-type {\n",
       "        vertical-align: middle;\n",
       "    }\n",
       "\n",
       "    .dataframe tbody tr th {\n",
       "        vertical-align: top;\n",
       "    }\n",
       "\n",
       "    .dataframe thead th {\n",
       "        text-align: right;\n",
       "    }\n",
       "</style>\n",
       "<table border=\"1\" class=\"dataframe\">\n",
       "  <thead>\n",
       "    <tr style=\"text-align: right;\">\n",
       "      <th></th>\n",
       "      <th>name</th>\n",
       "    </tr>\n",
       "  </thead>\n",
       "  <tbody>\n",
       "    <tr>\n",
       "      <th>count</th>\n",
       "      <td>42</td>\n",
       "    </tr>\n",
       "    <tr>\n",
       "      <th>unique</th>\n",
       "      <td>42</td>\n",
       "    </tr>\n",
       "    <tr>\n",
       "      <th>top</th>\n",
       "      <td>George Washington</td>\n",
       "    </tr>\n",
       "    <tr>\n",
       "      <th>freq</th>\n",
       "      <td>1</td>\n",
       "    </tr>\n",
       "  </tbody>\n",
       "</table>\n",
       "</div>"
      ],
      "text/plain": [
       "                     name\n",
       "count                  42\n",
       "unique                 42\n",
       "top     George Washington\n",
       "freq                    1"
      ]
     },
     "execution_count": 61,
     "metadata": {},
     "output_type": "execute_result"
    }
   ],
   "source": [
    "df_presidents.describe(include='object' )"
   ]
  },
  {
   "cell_type": "markdown",
   "id": "9160d350",
   "metadata": {},
   "source": [
    "### Veamos ahora que hace si l epedimos que muestre las estadisticas de todo, agregando include='all'"
   ]
  },
  {
   "cell_type": "code",
   "execution_count": 63,
   "id": "c03b6966",
   "metadata": {},
   "outputs": [
    {
     "data": {
      "application/vnd.microsoft.datawrangler.viewer.v0+json": {
       "columns": [
        {
         "name": "index",
         "rawType": "object",
         "type": "string"
        },
        {
         "name": "height(cm)",
         "rawType": "float64",
         "type": "float"
        },
        {
         "name": "order",
         "rawType": "float64",
         "type": "float"
        },
        {
         "name": "name",
         "rawType": "object",
         "type": "unknown"
        }
       ],
       "ref": "1eb35464-49ca-4655-999d-e96902cc4fe6",
       "rows": [
        [
         "count",
         "42.0",
         "42.0",
         "42"
        ],
        [
         "unique",
         null,
         null,
         "42"
        ],
        [
         "top",
         null,
         null,
         "George Washington"
        ],
        [
         "freq",
         null,
         null,
         "1"
        ],
        [
         "mean",
         "179.73809523809524",
         "22.476190476190474",
         null
        ],
        [
         "std",
         "7.0158688553582955",
         "13.15246076435721",
         null
        ],
        [
         "min",
         "163.0",
         "1.0",
         null
        ],
        [
         "25%",
         "174.25",
         "11.25",
         null
        ],
        [
         "50%",
         "182.0",
         "22.0",
         null
        ],
        [
         "75%",
         "183.0",
         "33.75",
         null
        ],
        [
         "max",
         "193.0",
         "44.0",
         null
        ]
       ],
       "shape": {
        "columns": 3,
        "rows": 11
       }
      },
      "text/html": [
       "<div>\n",
       "<style scoped>\n",
       "    .dataframe tbody tr th:only-of-type {\n",
       "        vertical-align: middle;\n",
       "    }\n",
       "\n",
       "    .dataframe tbody tr th {\n",
       "        vertical-align: top;\n",
       "    }\n",
       "\n",
       "    .dataframe thead th {\n",
       "        text-align: right;\n",
       "    }\n",
       "</style>\n",
       "<table border=\"1\" class=\"dataframe\">\n",
       "  <thead>\n",
       "    <tr style=\"text-align: right;\">\n",
       "      <th></th>\n",
       "      <th>height(cm)</th>\n",
       "      <th>order</th>\n",
       "      <th>name</th>\n",
       "    </tr>\n",
       "  </thead>\n",
       "  <tbody>\n",
       "    <tr>\n",
       "      <th>count</th>\n",
       "      <td>42.000000</td>\n",
       "      <td>42.000000</td>\n",
       "      <td>42</td>\n",
       "    </tr>\n",
       "    <tr>\n",
       "      <th>unique</th>\n",
       "      <td>NaN</td>\n",
       "      <td>NaN</td>\n",
       "      <td>42</td>\n",
       "    </tr>\n",
       "    <tr>\n",
       "      <th>top</th>\n",
       "      <td>NaN</td>\n",
       "      <td>NaN</td>\n",
       "      <td>George Washington</td>\n",
       "    </tr>\n",
       "    <tr>\n",
       "      <th>freq</th>\n",
       "      <td>NaN</td>\n",
       "      <td>NaN</td>\n",
       "      <td>1</td>\n",
       "    </tr>\n",
       "    <tr>\n",
       "      <th>mean</th>\n",
       "      <td>179.738095</td>\n",
       "      <td>22.476190</td>\n",
       "      <td>NaN</td>\n",
       "    </tr>\n",
       "    <tr>\n",
       "      <th>std</th>\n",
       "      <td>7.015869</td>\n",
       "      <td>13.152461</td>\n",
       "      <td>NaN</td>\n",
       "    </tr>\n",
       "    <tr>\n",
       "      <th>min</th>\n",
       "      <td>163.000000</td>\n",
       "      <td>1.000000</td>\n",
       "      <td>NaN</td>\n",
       "    </tr>\n",
       "    <tr>\n",
       "      <th>25%</th>\n",
       "      <td>174.250000</td>\n",
       "      <td>11.250000</td>\n",
       "      <td>NaN</td>\n",
       "    </tr>\n",
       "    <tr>\n",
       "      <th>50%</th>\n",
       "      <td>182.000000</td>\n",
       "      <td>22.000000</td>\n",
       "      <td>NaN</td>\n",
       "    </tr>\n",
       "    <tr>\n",
       "      <th>75%</th>\n",
       "      <td>183.000000</td>\n",
       "      <td>33.750000</td>\n",
       "      <td>NaN</td>\n",
       "    </tr>\n",
       "    <tr>\n",
       "      <th>max</th>\n",
       "      <td>193.000000</td>\n",
       "      <td>44.000000</td>\n",
       "      <td>NaN</td>\n",
       "    </tr>\n",
       "  </tbody>\n",
       "</table>\n",
       "</div>"
      ],
      "text/plain": [
       "        height(cm)      order               name\n",
       "count    42.000000  42.000000                 42\n",
       "unique         NaN        NaN                 42\n",
       "top            NaN        NaN  George Washington\n",
       "freq           NaN        NaN                  1\n",
       "mean    179.738095  22.476190                NaN\n",
       "std       7.015869  13.152461                NaN\n",
       "min     163.000000   1.000000                NaN\n",
       "25%     174.250000  11.250000                NaN\n",
       "50%     182.000000  22.000000                NaN\n",
       "75%     183.000000  33.750000                NaN\n",
       "max     193.000000  44.000000                NaN"
      ]
     },
     "execution_count": 63,
     "metadata": {},
     "output_type": "execute_result"
    }
   ],
   "source": [
    "df_presidents.describe(include='all')"
   ]
  },
  {
   "cell_type": "markdown",
   "id": "a4399cb0",
   "metadata": {},
   "source": [
    "### <span style=\"color:red;\">14- .unique( )</span>\n",
    "Qué hace?\n",
    "\n",
    "El método unique( ) es una función de Series de Pandas que se utiliza para obtener todos los valores únicos y distintos que existen en una Serie (es decir, en una sola columna de tu DataFrame). \n",
    "\n",
    "Devuelve un array de NumPy con estos valores únicos, en el orden en que aparecen por primera vez. \n",
    "\n",
    "Es muy útil para entender la diversidad de los datos en una columna."
   ]
  },
  {
   "cell_type": "markdown",
   "id": "e1a422b7",
   "metadata": {},
   "source": [
    "¿Por qué es útil?\n",
    "\n",
    "- Exploración de Categorías: Te permite ver rápidamente todas las categorías o niveles distintos en una columna categórica (como países, tipos de producto, métodos de pago, etc.).\n",
    "\n",
    "- Detección de Errores: Ayuda a identificar inconsistencias o errores de tipeo en los datos. Por ejemplo, si esperas solo 'Sí' y 'No' en una columna, pero ves 'Si', 'No ', 'si', unique() te lo revelaría.\n",
    "\n",
    "- Preparación de Datos: Es el primer paso para la codificación de variables categóricas o para entender la cardinalidad (número de valores únicos) de una columna.\n",
    "\n",
    "- Contar valores únicos: A menudo se combina con nunique() (que veremos después) para obtener solo el conteo, pero unique() te da los valores en sí."
   ]
  },
  {
   "cell_type": "code",
   "execution_count": 64,
   "id": "0f25cd7b",
   "metadata": {},
   "outputs": [
    {
     "data": {
      "text/plain": [
       "array([189, 170, 163, 183, 171, 185, 168, 173, 175, 178, 193, 174, 182,\n",
       "       180, 188, 179, 177])"
      ]
     },
     "execution_count": 64,
     "metadata": {},
     "output_type": "execute_result"
    }
   ],
   "source": [
    "df_presidents['height(cm)'].unique()"
   ]
  },
  {
   "cell_type": "markdown",
   "id": "ba6a08bb",
   "metadata": {},
   "source": [
    "### <span style=\"color:red;\">15- .value_counts( )</span>\n",
    "Qué hace?\n",
    "\n",
    "El método value_counts() es una de las herramientas más potentes y utilizadas en Pandas para la exploración inicial de datos.\n",
    "\n",
    "Se aplica a una Serie (una sola columna de un DataFrame) y devuelve una Serie nueva que contiene el recuento de las ocurrencias únicas de cada valor. \n",
    "\n",
    "En otras palabras, te dice cuántas veces aparece cada valor distinto en esa columna. Los resultados se ordenan en orden descendente por defecto.\n",
    "\n",
    "\n",
    "Sintaxis:\n",
    "```python\n",
    "serie.value_counts(normalize=False, sort=True, ascending=False, bins=None, dropna=True)\n",
    "\n",
    "```\n",
    "Al igual que unique(), value_counts() debe aplicarse a una columna específica (una Serie), no a un DataFrame completo directamente.\n",
    "\n",
    "Argumentos Clave (para un uso más avanzado):\n",
    "\n",
    "- normalize (booleano, por defecto es False): Si se establece en True, el resultado se mostrará como frecuencias relativas (porcentajes) de las ocurrencias únicas en lugar de los recuentos absolutos.\n",
    "\n",
    "- sort (booleano, por defecto es True): Si se establece en False, los valores no se ordenarán por su frecuencia.\n",
    "\n",
    "- ascending (booleano, por defecto es False): Si se establece en True, los valores se ordenarán de forma ascendente.\n",
    "\n",
    "- dropna (booleano, por defecto es True): Si se establece en False, los valores NaN (nulos) también se incluirán en el conteo."
   ]
  },
  {
   "cell_type": "code",
   "execution_count": 65,
   "id": "76b908f5",
   "metadata": {},
   "outputs": [
    {
     "data": {
      "application/vnd.microsoft.datawrangler.viewer.v0+json": {
       "columns": [
        {
         "name": "height(cm)",
         "rawType": "int64",
         "type": "integer"
        },
        {
         "name": "count",
         "rawType": "int64",
         "type": "integer"
        }
       ],
       "ref": "71a9efaf-60af-40fb-a494-3d73814d94d7",
       "rows": [
        [
         "183",
         "8"
        ],
        [
         "182",
         "4"
        ],
        [
         "173",
         "4"
        ],
        [
         "178",
         "4"
        ],
        [
         "185",
         "3"
        ],
        [
         "188",
         "3"
        ],
        [
         "189",
         "2"
        ],
        [
         "168",
         "2"
        ],
        [
         "170",
         "2"
        ],
        [
         "175",
         "2"
        ],
        [
         "193",
         "2"
        ],
        [
         "163",
         "1"
        ],
        [
         "171",
         "1"
        ],
        [
         "174",
         "1"
        ],
        [
         "180",
         "1"
        ],
        [
         "179",
         "1"
        ],
        [
         "177",
         "1"
        ]
       ],
       "shape": {
        "columns": 1,
        "rows": 17
       }
      },
      "text/plain": [
       "height(cm)\n",
       "183    8\n",
       "182    4\n",
       "173    4\n",
       "178    4\n",
       "185    3\n",
       "188    3\n",
       "189    2\n",
       "168    2\n",
       "170    2\n",
       "175    2\n",
       "193    2\n",
       "163    1\n",
       "171    1\n",
       "174    1\n",
       "180    1\n",
       "179    1\n",
       "177    1\n",
       "Name: count, dtype: int64"
      ]
     },
     "execution_count": 65,
     "metadata": {},
     "output_type": "execute_result"
    }
   ],
   "source": [
    "df_presidents['height(cm)'].value_counts()"
   ]
  }
 ],
 "metadata": {
  "kernelspec": {
   "display_name": "Python 3",
   "language": "python",
   "name": "python3"
  },
  "language_info": {
   "codemirror_mode": {
    "name": "ipython",
    "version": 3
   },
   "file_extension": ".py",
   "mimetype": "text/x-python",
   "name": "python",
   "nbconvert_exporter": "python",
   "pygments_lexer": "ipython3",
   "version": "3.12.4"
  }
 },
 "nbformat": 4,
 "nbformat_minor": 5
}
