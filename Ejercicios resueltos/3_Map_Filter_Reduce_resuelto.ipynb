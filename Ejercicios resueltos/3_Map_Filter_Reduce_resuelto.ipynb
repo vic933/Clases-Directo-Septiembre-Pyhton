{
 "cells": [
  {
   "cell_type": "markdown",
   "id": "40eadeaa",
   "metadata": {},
   "source": [
    "### ¿Qué son map(), filter() y reduce()?\n",
    "\n",
    "Son funciones de orden superior que permiten aplicar lógica de transformación o filtrado sobre colecciones de datos (como listas, tuplas...).\n",
    "\n",
    "Todas reciben una función como primer argumento, y un iterable como segundo.\n",
    "\n",
    "- **`map(función, iterable)`**: Aplica una función a cada elemento de un iterable.\n",
    "\n",
    "- **`filter(función, iterable)`**: Filtra los elementos que cumplen una condición.\n",
    "\n",
    "- **`reduce(función, iterable)`**: Reduce un iterable a un solo valor.\n",
    "\n",
    "### map(función, iterable)\n",
    "📌 Aplica la función a cada elemento del iterable\n",
    "\n",
    "➡ Devuelve un nuevo iterable con los resultados\n",
    "\n",
    "Ejemplo de Sintaxis:\n",
    "\n",
    "```python\n",
    "\n",
    "map(lambda x: x * 2, [1, 2, 3]) \n",
    "\n",
    "```\n",
    "\n",
    "veamos un ejemplo de uso:\n"
   ]
  },
  {
   "cell_type": "code",
   "execution_count": 2,
   "id": "f9ef5693",
   "metadata": {},
   "outputs": [
    {
     "name": "stdout",
     "output_type": "stream",
     "text": [
      "['Francisco', 'Juan', 'Maria', 'Carlos']\n"
     ]
    }
   ],
   "source": [
    "nombres = [\"FRanCIsCo\", \"juAN\", \"MaRIa\", \"CARLOs\"]\n",
    "nombres_mayusculas = map(lambda nombre: nombre.title(), nombres)\n",
    "print(list(nombres_mayusculas))"
   ]
  },
  {
   "cell_type": "markdown",
   "id": "6484be76",
   "metadata": {},
   "source": [
    "### filter(función, iterable)\n",
    "\n",
    "📌 Filtra los elementos del iterable para los que la función devuelve True\n",
    "\n",
    "➡ Devuelve un nuevo iterable con los que pasan el filtro\n",
    "\n",
    "Ejemplo de Sintaxis:\n",
    "\n",
    "```python\n",
    "\n",
    "filter(lambda x: x > 10, [5, 12, 8, 20]) \n",
    "\n",
    "```\n",
    "\n",
    "veamos un ejemplo de uso:"
   ]
  },
  {
   "cell_type": "code",
   "execution_count": 6,
   "id": "9c1c2ebf",
   "metadata": {},
   "outputs": [
    {
     "name": "stdout",
     "output_type": "stream",
     "text": [
      "[-80, -10, 15, -20, -5]\n"
     ]
    }
   ],
   "source": [
    "numeros = [85, -80 ,-10, 15, -20, 30, -5, 50]\n",
    "numeros_filtrados = filter(lambda x: -250 < x < 25, numeros)\n",
    "print(list(numeros_filtrados))"
   ]
  },
  {
   "cell_type": "markdown",
   "id": "9ef1774a",
   "metadata": {},
   "source": [
    "### reduce(función, iterable)\n",
    "\n",
    "📌 Acumula los elementos del iterable aplicando la función de forma acumulativa\n",
    "\n",
    "➡ No está en el núcleo de Python: se importa desde functools\n",
    "\n",
    "```python\n",
    "from functools import reduce\n",
    "\n",
    "reduce(lambda x, y: x + y, [1, 2, 3, 4])\n",
    "```\n",
    "\n",
    "veamos un ejemplo de uso:\n",
    "\n"
   ]
  },
  {
   "cell_type": "code",
   "execution_count": 7,
   "id": "e24f9ce0",
   "metadata": {},
   "outputs": [
    {
     "name": "stdout",
     "output_type": "stream",
     "text": [
      "10\n"
     ]
    }
   ],
   "source": [
    "#Encontrar el número máximo con `reduce`\n",
    "from functools import reduce\n",
    "    \n",
    "numeros = [3, 7, 2, 10, 6]\n",
    "numero_maximo = reduce(lambda x, y: x if x > y else y, numeros)\n",
    "print(numero_maximo)"
   ]
  },
  {
   "cell_type": "markdown",
   "id": "48170a0e",
   "metadata": {},
   "source": [
    "Qué hace este código?\n",
    "\n",
    "Utiliza la función reduce() para recorrer la lista y comparar elementos de dos en dos, guardando siempre el mayor encontrado hasta el momento.\n",
    "\n",
    "| Paso | x (acumulado) | y (actual) | Resultado de lambda (mayor de ambos) |\n",
    "| ---- | ------------- | ---------- | ------------------------------------ |\n",
    "| 1    | 3             | 7          | 7                                    |\n",
    "| 2    | 7             | 2          | 7                                    |\n",
    "| 3    | 7             | 10         | 10                                   |\n",
    "| 4    | 10            | 6          | 10                                   |\n"
   ]
  },
  {
   "cell_type": "markdown",
   "id": "7b89df16",
   "metadata": {},
   "source": [
    "#### Resumiendo:\n",
    "\n",
    "| Función   | ¿Qué hace?                                    | Devuelve               | Requiere importación |\n",
    "|-----------|------------------------------------------------|------------------------|-----------------------|\n",
    "| `map()`   | Aplica una función a cada elemento             | map object (iterable)  | No                    |\n",
    "| `filter()`| Filtra elementos que cumplen una condición     | filter object          | No                    |\n",
    "| `reduce()`| Aplica una función acumulativa entre elementos | Resultado final único  | ✅ Sí (functools)      |\n"
   ]
  },
  {
   "cell_type": "markdown",
   "id": "304972ed",
   "metadata": {},
   "source": [
    "---\n",
    "### Ejercicios\n",
    "---"
   ]
  },
  {
   "cell_type": "markdown",
   "id": "c5541922",
   "metadata": {},
   "source": [
    "### Ejercicio 1: Doblar edades\n",
    "Tienes una lista de edades y necesitas duplicarlas usando `map`."
   ]
  },
  {
   "cell_type": "code",
   "execution_count": 9,
   "id": "edb499dc",
   "metadata": {},
   "outputs": [
    {
     "name": "stdout",
     "output_type": "stream",
     "text": [
      "[30, 44, 60, 90]\n"
     ]
    }
   ],
   "source": [
    "edades = [15, 22, 30, 45]\n",
    "edades_dobladas = list(map(lambda x: x * 2, edades))\n",
    "print(edades_dobladas)  "
   ]
  },
  {
   "cell_type": "markdown",
   "id": "4456f668",
   "metadata": {},
   "source": [
    "### Ejercicio 2: Filtrar palabras que empiezan con vocal\n",
    "Dada una lista de palabras, usa `filter` para quedarte solo con las que comienzan por vocal.\n"
   ]
  },
  {
   "cell_type": "code",
   "execution_count": 8,
   "id": "d573c6d3",
   "metadata": {},
   "outputs": [
    {
     "name": "stdout",
     "output_type": "stream",
     "text": [
      "['oso', 'universo', 'estrella', 'aurora']\n"
     ]
    }
   ],
   "source": [
    "palabras = [\"oso\", \"sol\", \"universo\", \"estrella\", \"luz\", \"aurora\"]\n",
    "\n",
    "empiezan_con_vocal = list(filter(lambda palabra: palabra[0].lower() in \"aeiou\", palabras))\n",
    "print(empiezan_con_vocal)  \n"
   ]
  },
  {
   "cell_type": "markdown",
   "id": "7514313d",
   "metadata": {},
   "source": [
    "### Ejercicio 3: Sumar todos los valores\n",
    "Usa `reduce` para sumar todos los valores de una lista de números.\n"
   ]
  },
  {
   "cell_type": "code",
   "execution_count": 10,
   "id": "09bd1fcb",
   "metadata": {},
   "outputs": [
    {
     "name": "stdout",
     "output_type": "stream",
     "text": [
      "20\n"
     ]
    }
   ],
   "source": [
    "from functools import reduce\n",
    "\n",
    "numeros = [10, 5, 3, 2]\n",
    "suma_total = reduce(lambda x, y: x + y, numeros)\n",
    "print(suma_total)"
   ]
  },
  {
   "cell_type": "markdown",
   "id": "9d2564dd",
   "metadata": {},
   "source": [
    "### Ejercicio 4: Longitudes de cada palabra\n",
    "Con `map`, crea una lista con la longitud de cada palabra en una frase.\n"
   ]
  },
  {
   "cell_type": "code",
   "execution_count": 12,
   "id": "d3f3f20f",
   "metadata": {},
   "outputs": [
    {
     "name": "stdout",
     "output_type": "stream",
     "text": [
      "['Python', 'es', 'genial', 'y', 'poderoso']\n",
      "[6, 2, 6, 1, 8]\n"
     ]
    }
   ],
   "source": [
    "frase = \"Python es genial y poderoso\"\n",
    "palabras = frase.split()\n",
    "print(palabras)\n",
    "\n",
    "longitudes = list(map(lambda palabra: len(palabra), palabras))\n",
    "print(longitudes) "
   ]
  },
  {
   "cell_type": "markdown",
   "id": "a466ba74",
   "metadata": {},
   "source": [
    "### Ejercicio 5 (reto): Producto de números pares\n",
    "Filtra los números pares de una lista y luego usa `reduce` para obtener el producto total.\n"
   ]
  },
  {
   "cell_type": "code",
   "execution_count": 13,
   "id": "aa96780f",
   "metadata": {},
   "outputs": [
    {
     "name": "stdout",
     "output_type": "stream",
     "text": [
      "48\n"
     ]
    }
   ],
   "source": [
    "from functools import reduce\n",
    "\n",
    "numeros = [2, 5, 4, 7, 6]\n",
    "pares = list(filter(lambda x: x % 2 == 0, numeros))\n",
    "producto = reduce(lambda x, y: x * y, pares)\n",
    "print(producto)"
   ]
  }
 ],
 "metadata": {
  "kernelspec": {
   "display_name": "Python 3",
   "language": "python",
   "name": "python3"
  },
  "language_info": {
   "codemirror_mode": {
    "name": "ipython",
    "version": 3
   },
   "file_extension": ".py",
   "mimetype": "text/x-python",
   "name": "python",
   "nbconvert_exporter": "python",
   "pygments_lexer": "ipython3",
   "version": "3.12.4"
  }
 },
 "nbformat": 4,
 "nbformat_minor": 5
}
