{
 "cells": [
  {
   "cell_type": "markdown",
   "id": "fe35afa0",
   "metadata": {},
   "source": [
    "# 🔢 *args y **kwargs \n",
    "\n",
    "## ¿Qué son *args y **kwargs?\n",
    "\n",
    "- `*args`: permite recibir múltiples argumentos posicionales (empaquetados en una tupla).\n",
    "- `**kwargs`: permite recibir múltiples argumentos nombrados (empaquetados en un diccionario).\n",
    "\n",
    "\n",
    "## 📋 Cuadro resumen\n",
    "\n",
    "| Elemento    | Tipo de datos  | Qué recoge                        | Acceso típico                    |\n",
    "|-------------|----------------|-----------------------------------|----------------------------------|\n",
    "| `*args`     | Tupla          | Argumentos posicionales           | `for valor in args`              |\n",
    "| `**kwargs`  | Diccionario    | Argumentos nombrados clave=valor  | `for clave, valor in kwargs.items()` |\n"
   ]
  },
  {
   "cell_type": "markdown",
   "id": "178d7c7d",
   "metadata": {},
   "source": [
    "---\n",
    "### Vamos a ver algunos Ejemplos\n",
    "---"
   ]
  },
  {
   "cell_type": "markdown",
   "id": "0a9aafc6",
   "metadata": {},
   "source": [
    "### Ejemplo 1: Sumar Numers usando *args"
   ]
  },
  {
   "cell_type": "code",
   "execution_count": null,
   "id": "90463713",
   "metadata": {},
   "outputs": [
    {
     "name": "stdout",
     "output_type": "stream",
     "text": [
      "10\n"
     ]
    }
   ],
   "source": [
    "def sumar_todo(*numeros):\n",
    "    total = 0\n",
    "    for n in numeros:\n",
    "        total += n\n",
    "    return total\n",
    "\n",
    "print(sumar_todo(1, 2, 3, 4)) "
   ]
  },
  {
   "cell_type": "markdown",
   "id": "b7b60f95",
   "metadata": {},
   "source": [
    "### Ejemplo 2: Diccionario a partir de claves y valores usando **kwargs"
   ]
  },
  {
   "cell_type": "code",
   "execution_count": 2,
   "id": "ccd456d7",
   "metadata": {},
   "outputs": [
    {
     "name": "stdout",
     "output_type": "stream",
     "text": [
      "nombre: Ana\n",
      "edad: 30\n",
      "ciudad: Madrid\n"
     ]
    }
   ],
   "source": [
    "def mostrar_info(**datos):\n",
    "    for clave, valor in datos.items():\n",
    "        print(f\"{clave}: {valor}\")\n",
    "\n",
    "mostrar_info(nombre=\"Ana\", edad=30, ciudad=\"Madrid\")"
   ]
  },
  {
   "cell_type": "markdown",
   "id": "4f28e3b0",
   "metadata": {},
   "source": [
    "### Ejemplo 3: Combinacion de *args y  **kwargs"
   ]
  },
  {
   "cell_type": "code",
   "execution_count": 3,
   "id": "7656f4ff",
   "metadata": {},
   "outputs": [
    {
     "name": "stdout",
     "output_type": "stream",
     "text": [
      "Posicionales: (1, 2, 3)\n",
      "Nombrados: {'nombre': 'Carlos', 'edad': 25}\n"
     ]
    }
   ],
   "source": [
    "def funcion_compleja(*args, **kwargs):\n",
    "    print(\"Posicionales:\", args)\n",
    "    print(\"Nombrados:\", kwargs)\n",
    "\n",
    "funcion_compleja(1, 2, 3, nombre=\"Carlos\", edad=25)"
   ]
  },
  {
   "cell_type": "markdown",
   "id": "2c839903",
   "metadata": {},
   "source": [
    "### Ejemplo 4: Uso de *args para desempaquetar una lista"
   ]
  },
  {
   "cell_type": "code",
   "execution_count": 4,
   "id": "6f95b846",
   "metadata": {},
   "outputs": [
    {
     "name": "stdout",
     "output_type": "stream",
     "text": [
      "60\n"
     ]
    }
   ],
   "source": [
    "valores = [10, 20, 30]\n",
    "\n",
    "def suma(a, b, c):\n",
    "    return a + b + c\n",
    "\n",
    "print(suma(*valores))"
   ]
  },
  {
   "cell_type": "markdown",
   "id": "a9881709",
   "metadata": {},
   "source": [
    "### Ejemplo 5: Uso de **kwargs para desempaquetar un diccionario"
   ]
  },
  {
   "cell_type": "code",
   "execution_count": 5,
   "id": "e98e3559",
   "metadata": {},
   "outputs": [
    {
     "name": "stdout",
     "output_type": "stream",
     "text": [
      "Luis tiene 40 años\n"
     ]
    }
   ],
   "source": [
    "persona = {\"nombre\": \"Luis\", \"edad\": 40}\n",
    "\n",
    "def presentar(nombre, edad):\n",
    "    print(f\"{nombre} tiene {edad} años\")\n",
    "\n",
    "presentar(**persona)"
   ]
  },
  {
   "cell_type": "markdown",
   "id": "88350081",
   "metadata": {},
   "source": [
    "## 🧪 Ejercicios resueltos"
   ]
  },
  {
   "cell_type": "markdown",
   "id": "ceb870b1",
   "metadata": {},
   "source": [
    "### Ejercicio 1: Multiplicar cualquier cantidad de números\n",
    "\n",
    "Crea una función llamada `multiplicar_todo` que reciba una cantidad variable de números usando `*args` y devuelva el **producto** de todos ellos.\n",
    "\n",
    "📌 Usa un bucle `for` para recorrer los argumentos y multiplicarlos uno a uno.\n",
    "\n"
   ]
  },
  {
   "cell_type": "code",
   "execution_count": null,
   "id": "43d8bffb",
   "metadata": {},
   "outputs": [],
   "source": [
    "def multiplicar_todo(*numeros):\n",
    "    producto = 1\n",
    "    for n in numeros:\n",
    "        producto *= n\n",
    "    return producto\n",
    "\n",
    "print(multiplicar_todo(2, 3, 4))  "
   ]
  },
  {
   "cell_type": "markdown",
   "id": "2181d1e7",
   "metadata": {},
   "source": [
    "\n",
    "### Ejercicio 2: Presentación personal con datos flexibles\n",
    "\n",
    "Crea una función llamada `presentacion_personal` que reciba cualquier cantidad de datos personales como argumentos nombrados (`**kwargs`) y los imprima de forma clara.\n",
    "\n",
    "📌 Usa un bucle `for` para recorrer el diccionario y mostrar los datos con formato.\n",
    "\n"
   ]
  },
  {
   "cell_type": "code",
   "execution_count": null,
   "id": "c3f90864",
   "metadata": {},
   "outputs": [],
   "source": [
    "def presentacion_personal(**kwargs):\n",
    "    for clave, valor in kwargs.items():\n",
    "        print(f\"{clave.capitalize()}: {valor}\")\n",
    "\n",
    "presentacion_personal(nombre=\"Lucía\", profesion=\"Ingeniera\", ciudad=\"Valencia\")"
   ]
  },
  {
   "cell_type": "markdown",
   "id": "05722008",
   "metadata": {},
   "source": [
    "##  Ejercicio 3: Filtrar palabras por longitud\n",
    "\n",
    "Crea una función llamada `filtrar_longitudes` que reciba:\n",
    "\n",
    "- Una lista de palabras (`*args`)\n",
    "- Un parámetro `longitud` (valor por defecto: 4)\n",
    "\n",
    "La función debe imprimir solo las palabras que tienen una longitud **mayor al valor indicado**."
   ]
  },
  {
   "cell_type": "code",
   "execution_count": null,
   "id": "45e0158a",
   "metadata": {},
   "outputs": [],
   "source": [
    "def filtrar_longitudes(*palabras, longitud=4):\n",
    "    for palabra in palabras:\n",
    "        if len(palabra) > longitud:\n",
    "            print(palabra)\n",
    "\n",
    "filtrar_longitudes(\"sol\", \"perro\", \"gato\", \"elefante\", longitud=4)"
   ]
  },
  {
   "cell_type": "markdown",
   "id": "22b5d88a",
   "metadata": {},
   "source": [
    "###  Ejercicio 4: Detalles de una factura simple\n",
    "\n",
    "Crea una función `detalles_factura` que reciba una lista de nombres de productos (`*args`) y un conjunto de precios como argumentos nombrados (`**kwargs`).\n",
    "\n",
    "La función debe mostrar el precio de cada producto si está en el diccionario, o un mensaje si no lo está."
   ]
  },
  {
   "cell_type": "code",
   "execution_count": null,
   "id": "2101b244",
   "metadata": {},
   "outputs": [],
   "source": [
    "def detalles_factura(*productos, **precios):\n",
    "    for producto in productos:\n",
    "        precio = precios.get(producto, \"Precio no disponible\")\n",
    "        print(f\"{producto}: {precio}\")\n",
    "\n",
    "detalles_factura(\"manzana\", \"pan\", \"queso\", manzana=1.5, pan=0.8)"
   ]
  },
  {
   "cell_type": "markdown",
   "id": "5c11ae4b",
   "metadata": {},
   "source": [
    "###  Ejercicio 5 (Reto): Registro de evento\n",
    "\n",
    "Crea una función `registrar_evento` que reciba:\n",
    "\n",
    "- Un string `tipo` indicando el tipo de evento\n",
    "- Una lista de asistentes usando `*args`\n",
    "- Información adicional como lugar, fecha, etc. usando `**kwargs`\n",
    "\n",
    "📌 La función debe imprimir todos los datos de forma ordenada y legible."
   ]
  },
  {
   "cell_type": "code",
   "execution_count": null,
   "id": "7e34c5a8",
   "metadata": {},
   "outputs": [],
   "source": [
    "def registrar_evento(tipo, *asistentes, **detalles):\n",
    "    print(f\"📌 Evento: {tipo}\")\n",
    "    print(\"👥 Asistentes:\")\n",
    "    for asistente in asistentes:\n",
    "        print(f\" - {asistente}\")\n",
    "    print(\"📋 Detalles:\")\n",
    "    for clave, valor in detalles.items():\n",
    "        print(f\"{clave.capitalize()}: {valor}\")\n",
    "\n",
    "registrar_evento(\"Conferencia\", \"Ana\", \"Luis\", \"Marta\", lugar=\"Madrid\", fecha=\"2025-06-15\")"
   ]
  }
 ],
 "metadata": {
  "kernelspec": {
   "display_name": "Python 3",
   "language": "python",
   "name": "python3"
  },
  "language_info": {
   "codemirror_mode": {
    "name": "ipython",
    "version": 3
   },
   "file_extension": ".py",
   "mimetype": "text/x-python",
   "name": "python",
   "nbconvert_exporter": "python",
   "pygments_lexer": "ipython3",
   "version": "3.12.4"
  }
 },
 "nbformat": 4,
 "nbformat_minor": 5
}
