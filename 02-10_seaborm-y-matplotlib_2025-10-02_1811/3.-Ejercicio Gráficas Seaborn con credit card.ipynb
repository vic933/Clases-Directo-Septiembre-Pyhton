{
  "cells": [
    {
      "cell_type": "markdown",
      "metadata": {
        "id": "r2V1yUc-pVqk"
      },
      "source": [
        "---\n",
        "# **Seaborn**\n",
        "---"
      ]
    },
    {
      "cell_type": "markdown",
      "metadata": {
        "id": "y2b-mfG5paXq"
      },
      "source": [
        "Seaborn es una biblioteca de visualización de datos en Python que se basa en Matplotlib, otra biblioteca de gráficos en Python. Seaborn proporciona una interfaz de alto nivel para crear gráficos estadísticos atractivos y informativos. Es especialmente útil para la visualización de datos complejos y la creación de gráficos estadísticos con facilidad.\n",
        "\n",
        "**Algunas de las características clave de Seaborn incluyen:**\n",
        "\n",
        "1. **Estilo mejorado:** Seaborn proporciona estilos predefinidos que hacen que los gráficos sean más atractivos visualmente. También es posible personalizar los estilos según tus preferencias.\n",
        "\n",
        "2. **Funciones de alto nivel:** Seaborn ofrece funciones de alto nivel para crear gráficos estadísticos comunes, como diagramas de barras, diagramas de dispersión, diagramas de caja, gráficos de regresión, entre otros. Estas funciones facilitan la creación de gráficos con una sola línea de código.\n",
        "\n",
        "3. **Integración con DataFrames de pandas:** Seaborn se integra bien con DataFrames de pandas, lo que facilita la visualización de datos almacenados en estos formatos.\n",
        "\n",
        "4. **Visualización de relaciones estadísticas:** Seaborn está diseñado para ayudar a explorar y visualizar relaciones estadísticas en los datos. Puedes crear fácilmente gráficos que muestren relaciones entre variables, como diagramas de dispersión con regresión lineal y matrices de correlación."
      ]
    },
    {
      "cell_type": "markdown",
      "metadata": {
        "id": "xXXTwSKcqB6s"
      },
      "source": [
        "# **Credit cards**"
      ]
    },
    {
      "cell_type": "markdown",
      "metadata": {
        "id": "VFQ-047MqFwF"
      },
      "source": [
        "Para mejorar nuestra comprensión de la biblioteca, vamos a trabajar con una base de datos llamada 'credit_cards'. Esto nos permitirá aprender cómo utilizar la biblioteca de manera más efectiva al crear gráficos y realizar mejoras en ciertos aspectos."
      ]
    },
    {
      "cell_type": "markdown",
      "metadata": {
        "id": "h3HNa9Q2pkct"
      },
      "source": [
        "**Importando nuestros datos**"
      ]
    },
    {
      "cell_type": "code",
      "execution_count": null,
      "metadata": {
        "colab": {
          "base_uri": "https://localhost:8080/"
        },
        "id": "1tGVfUQKmVDa",
        "outputId": "26d8b686-92ef-4e6a-c04b-4b0fe81a1064"
      },
      "outputs": [],
      "source": [
        "import pandas as pd\n",
        "\n"
      ]
    },
    {
      "cell_type": "markdown",
      "metadata": {
        "id": "xElURY6WqgVm"
      },
      "source": [
        "1. **import pandas as pd:** Importa la biblioteca Pandas y la renombra como 'pd' para facilitar su uso en el código. Pandas es una biblioteca muy útil para la manipulación y análisis de datos en Python.\n",
        "\n",
        "2. **datos = pd.read_csv('credit_card.csv'):** Utiliza la función read_csv() de Pandas para cargar los datos desde el archivo 'credit_card.csv' y los almacena en un DataFrame llamado 'datos'. Un DataFrame es una estructura de datos bidimensional de Pandas que se utiliza comúnmente para trabajar con datos tabulares.\n",
        "\n",
        "3. **datos:** Esto simplemente muestra el contenido del DataFrame 'datos' en la salida. Cuando ejecutas este código en tu entorno, verás una representación de la tabla de datos contenida en el archivo CSV."
      ]
    },
    {
      "cell_type": "markdown",
      "metadata": {
        "id": "5RI61tpvq6gY"
      },
      "source": [
        "La función **head()** muestra, por defecto, las primeras 5 filas del DataFrame. Puedes especificar un número diferente entre paréntesis si deseas ver un número específico de filas, por ejemplo, **datos.head(10)** mostrará las primeras 10 filas."
      ]
    },
    {
      "cell_type": "code",
      "execution_count": null,
      "metadata": {
        "colab": {
          "base_uri": "https://localhost:8080/"
        },
        "id": "iwIcxeUXoPJj",
        "outputId": "91875f86-fe3e-4ace-dec5-bd102d5d2cf2"
      },
      "outputs": [],
      "source": []
    },
    {
      "cell_type": "code",
      "execution_count": null,
      "metadata": {
        "colab": {
          "base_uri": "https://localhost:8080/"
        },
        "id": "PcypOB-yoWvO",
        "outputId": "15d18e10-7e7a-4765-ed5d-8a97f72a3231"
      },
      "outputs": [],
      "source": []
    },
    {
      "cell_type": "markdown",
      "metadata": {
        "id": "vF0bRhYcrF_Z"
      },
      "source": [
        "El método **datos.info()** proporciona información útil sobre el DataFrame 'datos'. Cuando ejecutas este código, obtendrás detalles sobre la estructura y la información general del DataFrame. La salida incluirá lo siguiente:\n",
        "\n",
        "1. **Resumen de información general:** Esto incluye el número total de filas y columnas en el DataFrame.\n",
        "\n",
        "2. **Nombre de las columnas:** Lista de todas las columnas en el DataFrame.\n",
        "\n",
        "3. **Cantidad de valores no nulos:** Para cada columna, te muestra cuántos valores no nulos contiene. Esto es útil para identificar valores faltantes en el conjunto de datos.\n",
        "\n",
        "4. **Tipo de datos:** Para cada columna, se muestra el tipo de datos (entero, flotante, objeto, etc.)."
      ]
    },
    {
      "cell_type": "markdown",
      "metadata": {
        "id": "pFq24w6gsdeu"
      },
      "source": [
        "En un primer análisis de nuestro DataFrame, podemos observar que contiene 1500 filas y 8 columnas. No se encuentran valores nulos en ninguna de las filas y columnas. Las columnas tienen los siguientes nombres y tipos de datos:\n",
        "\n"
      ]
    },
    {
      "cell_type": "markdown",
      "metadata": {},
      "source": [
        "1. LIMIT_BAL         1500 non-null   int64  \n",
        "2. CHECKING_ACCOUNT  1500 non-null   object\n",
        "3. EDUCATION         1500 non-null   object\n",
        "4. MARRIAGE          1500 non-null   object\n",
        "5. AGE               1500 non-null   int64  \n",
        "6. BILL_AMT          1500 non-null   float64\n",
        "7. PAY_AMT           1500 non-null   float64\n",
        "8. DEFAULT           1500 non-null   int64\n",
        "\n",
        "Esta información inicial es fundamental para comprender la estructura y los tipos de datos presentes en nuestro conjunto de datos, lo que nos permitirá realizar análisis posteriores y tomar decisiones informadas en función de la naturaleza de los datos."
      ]
    },
    {
      "cell_type": "markdown",
      "metadata": {
        "id": "x61wWHmFsy3o"
      },
      "source": [
        "# **Tratamiento de datos**"
      ]
    },
    {
      "cell_type": "markdown",
      "metadata": {
        "id": "lvsk06M4s9st"
      },
      "source": [
        "El tratamiento de datos, también conocido como procesamiento de datos, se refiere a todas las acciones y operaciones realizadas en un conjunto de datos para limpiarlo, transformarlo, estructurarlo y prepararlo para su análisis. El tratamiento de datos es un paso fundamental en el proceso de gestión de datos y análisis de datos. Su importancia radica en varios aspectos:\n",
        "\n",
        "1. **Limpieza de datos:** Los datos suelen contener errores, valores faltantes, duplicados o ruidos. El tratamiento de datos incluye la identificación y corrección de estos problemas para garantizar que los datos sean precisos y confiables. Esto es crucial para evitar que los análisis se basen en datos defectuosos, lo que podría llevar a conclusiones incorrectas.\n",
        "\n",
        "2. **Transformación de datos:** A menudo, es necesario cambiar la estructura o el formato de los datos para que sean compatibles con las herramientas de análisis que se utilizarán. Esto puede incluir la conversión de tipos de datos, la normalización de datos, la agregación y la creación de nuevas variables derivadas.\n",
        "\n",
        "3. **Reducción de dimensionalidad:** En conjuntos de datos grandes, puede haber muchas variables que no son relevantes para un análisis específico. El tratamiento de datos puede implicar la selección de las variables más importantes o la reducción de la dimensionalidad para facilitar el análisis.\n",
        "\n",
        "4. **Enriquecimiento de datos:** A veces, es beneficioso agregar datos externos o complementar los datos existentes con información adicional para obtener un panorama más completo.\n",
        "\n",
        "5. **Seguridad y privacidad:** El tratamiento de datos también se relaciona con la protección de la privacidad y la seguridad de los datos. Esto implica la anonimización de datos sensibles y la aplicación de prácticas adecuadas de seguridad de datos."
      ]
    },
    {
      "cell_type": "markdown",
      "metadata": {
        "id": "jnmT2M3Opdfa"
      },
      "source": [
        "En el caso de nuestro DataFrame, realizamos cambios en el nombre de algunas columnas con el objetivo de mejorar la interpretación de nuestros datos. Además, también llevamos a cabo la traducción de los datos para que sean más comprensibles y accesibles"
      ]
    },
    {
      "cell_type": "markdown",
      "metadata": {
        "id": "ZDc7f0hgpt4t"
      },
      "source": [
        "* Traduciendo las variables"
      ]
    },
    {
      "cell_type": "code",
      "execution_count": null,
      "metadata": {
        "colab": {
          "base_uri": "https://localhost:8080/"
        },
        "id": "sQE0veXgoWor",
        "outputId": "2ba776dd-b36d-4e9e-9548-5b03c6f81f80"
      },
      "outputs": [],
      "source": []
    },
    {
      "cell_type": "markdown",
      "metadata": {
        "id": "0_0nmOZHuATa"
      },
      "source": [
        "El código **datos.columns** se utiliza para obtener una lista de los nombres de las columnas en el DataFrame 'datos'."
      ]
    },
    {
      "cell_type": "code",
      "execution_count": null,
      "metadata": {
        "colab": {
          "base_uri": "https://localhost:8080/"
        },
        "id": "0uCx0cqkoWhn",
        "outputId": "60b2b65d-2ad6-45ae-f28c-53db72067419"
      },
      "outputs": [],
      "source": []
    },
    {
      "cell_type": "markdown",
      "metadata": {
        "id": "oQLrNPj7uZbb"
      },
      "source": [
        "Vamos a crear un diccionario llamado 'dic_columns' que contendrá los nuevos nombres de nuestras columnas."
      ]
    },
    {
      "cell_type": "code",
      "execution_count": null,
      "metadata": {
        "id": "WXCPkRxmoWaN"
      },
      "outputs": [],
      "source": []
    },
    {
      "cell_type": "markdown",
      "metadata": {
        "id": "b0ln3tkeuieB"
      },
      "source": [
        "Estos nuevos nombres de columna son más descriptivos y comprensibles, lo que facilitará la interpretación y el análisis de tus datos."
      ]
    },
    {
      "cell_type": "code",
      "execution_count": null,
      "metadata": {
        "colab": {
          "base_uri": "https://localhost:8080/"
        },
        "id": "Fn72xEzpq5QT",
        "outputId": "a1cd8531-8947-4518-b79d-463ce282619d"
      },
      "outputs": [],
      "source": []
    },
    {
      "cell_type": "markdown",
      "metadata": {
        "id": "0NTpIUf4vt-X"
      },
      "source": [
        "1. **tarjetas = datos.rename(columns=dic_columns):** Utiliza el método rename() de Pandas para cambiar los nombres de las columnas en el DataFrame 'datos'. El argumento columns se establece en el diccionario 'dic_columns', que contiene las asignaciones de nombres de columna que deseas aplicar.\n",
        "* **datos** es el DataFrame original con los nombres de columna originales.\n",
        "* **dic_columns** es el diccionario que contiene las asignaciones de nombres de columna, donde las claves son los nombres de columna originales y los valores son los nuevos nombres de columna que deseas.\n",
        "2. **tarjetas:** Almacena el nuevo DataFrame con los nombres de columna cambiados en la variable 'tarjetas'. Esto te permite acceder y trabajar con el DataFrame modificado que ahora tiene nombres de columna más descriptivos."
      ]
    },
    {
      "cell_type": "markdown",
      "metadata": {
        "id": "DGQSWnqVrICK"
      },
      "source": [
        "* Traduciendo los datos"
      ]
    },
    {
      "cell_type": "markdown",
      "metadata": {
        "id": "q8NlIABDwVH_"
      },
      "source": [
        "Vamos a proceder a modificar los valores en nuestros datos"
      ]
    },
    {
      "cell_type": "code",
      "execution_count": null,
      "metadata": {
        "colab": {
          "base_uri": "https://localhost:8080/"
        },
        "id": "rTWReh0lq5Lo",
        "outputId": "859f89e9-2b8c-4619-9550-a0e951974c03"
      },
      "outputs": [],
      "source": [
        "# Cuenta corriente\n"
      ]
    },
    {
      "cell_type": "markdown",
      "metadata": {
        "id": "UtXfXwK-wZt1"
      },
      "source": [
        "Obtendrás una lista de los valores únicos en la columna '**cuenta_corriente**'"
      ]
    },
    {
      "cell_type": "code",
      "execution_count": null,
      "metadata": {
        "id": "P_83PLIFq5Hj"
      },
      "outputs": [],
      "source": [
        "# Creando el diccionario con los viejos y nuevos valores\n"
      ]
    },
    {
      "cell_type": "code",
      "execution_count": null,
      "metadata": {
        "colab": {
          "base_uri": "https://localhost:8080/"
        },
        "id": "Uo8OZ8F2q5DL",
        "outputId": "2f56479f-1d84-43db-e869-93213635c955"
      },
      "outputs": [],
      "source": []
    },
    {
      "cell_type": "markdown",
      "metadata": {
        "id": "VPQFbh98wyl0"
      },
      "source": [
        "1. **tarjetas.cuenta_corriente = tarjetas.cuenta_corriente.map(dic_cuenta):** Estás utilizando la columna 'cuenta_corriente' del DataFrame 'tarjetas' y aplicando la función map() para cambiar los valores en esa columna según las asignaciones definidas en el diccionario 'dic_cuenta'.\n",
        "\n",
        "* **tarjetas.cuenta_corriente** se refiere a la columna 'cuenta_corriente' en el DataFrame 'tarjetas'.\n",
        "* **.map(dic_cuenta)** aplica el mapeo utilizando el diccionario 'dic_cuenta'. Esto reemplazará los valores actuales en la columna 'cuenta_corriente' por los valores correspondientes en el diccionario.\n",
        "2. **tarjetas:** Al no asignar el resultado nuevamente a una variable, estás simplemente visualizando el DataFrame 'tarjetas' después de realizar la operación de mapeo. Esto te permite verificar cómo se han actualizado los valores en la columna 'cuenta_corriente'."
      ]
    },
    {
      "cell_type": "code",
      "execution_count": null,
      "metadata": {
        "colab": {
          "base_uri": "https://localhost:8080/"
        },
        "id": "Y_fPnp4qsB7T",
        "outputId": "5a0884ce-360d-4d46-8abf-b8caf803640b"
      },
      "outputs": [],
      "source": [
        "# escolaridad\n"
      ]
    },
    {
      "cell_type": "code",
      "execution_count": null,
      "metadata": {
        "id": "blvZ3e4fsHqJ"
      },
      "outputs": [],
      "source": []
    },
    {
      "cell_type": "code",
      "execution_count": null,
      "metadata": {
        "colab": {
          "base_uri": "https://localhost:8080/"
        },
        "id": "HTjfnQtrsjpN",
        "outputId": "debf565b-8117-4fde-b986-364c11bf21c1"
      },
      "outputs": [],
      "source": []
    },
    {
      "cell_type": "code",
      "execution_count": null,
      "metadata": {
        "colab": {
          "base_uri": "https://localhost:8080/"
        },
        "id": "JIMKCT-YsuG4",
        "outputId": "e7d3c59a-dd7a-4e0c-b33f-80d3e385ecb2"
      },
      "outputs": [],
      "source": [
        "# Estado Civil\n"
      ]
    },
    {
      "cell_type": "code",
      "execution_count": null,
      "metadata": {
        "id": "SQsqoswRszx3"
      },
      "outputs": [],
      "source": []
    },
    {
      "cell_type": "code",
      "execution_count": null,
      "metadata": {
        "colab": {
          "base_uri": "https://localhost:8080/"
        },
        "id": "CT65x-9rs8pK",
        "outputId": "f3eed0fa-64ba-4d0c-8a16-bcad9f91536d"
      },
      "outputs": [],
      "source": []
    },
    {
      "cell_type": "markdown",
      "metadata": {
        "id": "lryx3qQYycda"
      },
      "source": [
        "**Creando una nueva variables numéricas**"
      ]
    },
    {
      "cell_type": "code",
      "execution_count": null,
      "metadata": {
        "colab": {
          "base_uri": "https://localhost:8080/"
        },
        "id": "AGv9d_SSwxA8",
        "outputId": "ee6b47dd-661e-48b5-bc98-6baabb320769"
      },
      "outputs": [],
      "source": []
    },
    {
      "cell_type": "markdown",
      "metadata": {
        "id": "IZ1xt3JPJEk4"
      },
      "source": [
        "Estamos creando una nueva columna llamada **'iu'** en el DataFrame **'tarjetas'**. El contenido de esta columna se calcula dividiendo el valor de la columna 'valor_factura' por el valor de la columna 'limite' y multiplicando el resultado por 100 para obtener un porcentaje. El método **.round(2)** se utiliza para redondear el resultado a dos decimales."
      ]
    },
    {
      "cell_type": "markdown",
      "metadata": {
        "id": "gQlaon1wxaon"
      },
      "source": [
        "Ahora procedamos a verificar nuestro nuevo DataFrame"
      ]
    },
    {
      "cell_type": "code",
      "execution_count": null,
      "metadata": {
        "colab": {
          "base_uri": "https://localhost:8080/"
        },
        "id": "aZThErgAtImP",
        "outputId": "3ac3f2e9-b4fb-4092-b60b-4805422d3de9"
      },
      "outputs": [],
      "source": []
    },
    {
      "cell_type": "markdown",
      "metadata": {
        "id": "ySEL_WRCyyB7"
      },
      "source": [
        "**Nota:** La **\"mora\"** se refiere al incumplimiento o retraso en el pago de una deuda o de una obligación financiera. Cuando alguien está en **\"mora\"**, significa que no ha realizado un pago en la fecha acordada o no ha pagado la cantidad debida en su totalidad. La mora generalmente se asocia con préstamos, tarjetas de crédito, facturas u otras obligaciones financieras."
      ]
    },
    {
      "cell_type": "markdown",
      "metadata": {
        "id": "bLJraIbGxl6h"
      },
      "source": [
        "1. **'limite' (limite):** Representa el límite de crédito asignado a cada titular de tarjeta de crédito. Indica la cantidad máxima de crédito disponible para gastar.\n",
        "\n",
        "2. **'cuenta_corriente' (cuenta_corriente):** Indica si el titular de la tarjeta de crédito tiene una cuenta corriente activa o no. Podría ser una variable binaria que muestra si el cliente tiene o no una cuenta corriente asociada a la tarjeta de crédito.\n",
        "\n",
        "3. **'escolaridad' (escolaridad):** Esta columna  representa el nivel de educación del titular de la tarjeta de crédito, lo que podría ser relevante para el análisis, ya que la educación puede estar relacionada con el comportamiento financiero.\n",
        "\n",
        "4. **'estado_civil' (estado_civil):** Indica el estado civil del titular de la tarjeta de crédito, como soltero o casado. Esto también es relevante para evaluar cómo el estado civil afecta las finanzas.\n",
        "\n",
        "5. **'edad' (edad):** La edad del titular de la tarjeta de crédito, que puede ser un factor importante en el análisis, ya que la edad puede estar relacionada con los patrones de gasto y la capacidad de pago.\n",
        "\n",
        "6. **'valor_factura' (valor_factura):** Podría representar el saldo pendiente en la tarjeta de crédito, es decir, la cantidad total que el titular debe pagar.\n",
        "\n",
        "7. **'valor_pago' (valor_pago):** Representar el monto de pago realizado en la tarjeta de crédito, lo que indica cuánto se ha pagado en relación con el saldo pendiente.\n",
        "\n",
        "8. **'moroso' (moroso):** Esta columna es una variable binaria que indica si el titular de la tarjeta de crédito está en mora o no. Por ejemplo, \"1\" podría representar que el titular está en mora y \"0\" podría indicar que no lo está.\n",
        "9. **'iu'** **(iu):**  La columna **'iu'** te proporciona el porcentaje de utilización del límite de crédito para cada tarjeta en el conjunto de datos. Esto puede ser útil para evaluar cuánto de su límite de crédito están utilizando los titulares de tarjetas y entender mejor su comportamiento crediticio. Un valor de 'iu' del 50%, por ejemplo, significa que el titular de la tarjeta ha utilizado la mitad de su límite de crédito."
      ]
    },
    {
      "cell_type": "markdown",
      "metadata": {
        "id": "r4SfrUiHwGko"
      },
      "source": [
        "# **Análisis de datos**"
      ]
    },
    {
      "cell_type": "code",
      "execution_count": null,
      "metadata": {
        "id": "r38LL8OztT3f"
      },
      "outputs": [],
      "source": [
        "import seaborn as sns"
      ]
    },
    {
      "cell_type": "markdown",
      "metadata": {
        "id": "vjSg13_TzOhi"
      },
      "source": [
        "* **import seaborn:** Esto carga la biblioteca Seaborn en tu entorno de Python. Seaborn es una biblioteca de visualización de datos que se basa en Matplotlib y que facilita la creación de gráficos estadísticos atractivos y efectivos.\n",
        "\n",
        "* **as sns**: Aquí estás utilizando la palabra clave as para asignar un alias a la biblioteca Seaborn. En este caso, has asignado el alias 'sns' a Seaborn. Esto es comúnmente utilizado para simplificar la escritura del código, ya que puedes acceder a las funciones de Seaborn utilizando 'sns' en lugar de tener que escribir 'seaborn' cada vez."
      ]
    },
    {
      "cell_type": "code",
      "execution_count": null,
      "metadata": {
        "colab": {
          "base_uri": "https://localhost:8080/"
        },
        "id": "pU58mgR1tTzk",
        "outputId": "89c4325f-9da5-4a98-8252-e86d5fe46982"
      },
      "outputs": [],
      "source": [
        "!pip show seaborn"
      ]
    },
    {
      "cell_type": "markdown",
      "metadata": {
        "id": "AcnPZmVnzZ2m"
      },
      "source": [
        " Sirve para obtener información detallada sobre la biblioteca Seaborn, incluyendo su versión, ubicación y otra información relevante. Esto te proporcionará información sobre la instalación actual de Seaborn en tu entorno.\n",
        "\n",
        "\n",
        "\n",
        "\n"
      ]
    },
    {
      "cell_type": "code",
      "execution_count": null,
      "metadata": {
        "colab": {
          "base_uri": "https://localhost:8080/"
        },
        "id": "zKpUqQi1tTqr",
        "outputId": "50a5f8d6-f0e3-4f49-ea05-8b13acd47a9f"
      },
      "outputs": [],
      "source": [
        "tarjetas"
      ]
    },
    {
      "cell_type": "markdown",
      "metadata": {
        "id": "76Zp0t4SwyCM"
      },
      "source": [
        "**Graficas de distribucion**"
      ]
    },
    {
      "cell_type": "markdown",
      "metadata": {
        "id": "-_jHbSdFHGJ3"
      },
      "source": [
        "Una gráfica de distribución, en el contexto de visualización de datos, es un tipo de gráfico que se utiliza para representar la distribución de un conjunto de datos, es decir, cómo se distribuyen los valores de una variable en un conjunto de observaciones. Estas gráficas muestran la frecuencia o la probabilidad de diferentes valores o rangos de valores en una variable específica.\n",
        "\n",
        "Las gráficas de distribución son útiles para comprender la forma de la distribución de datos, identificar tendencias, valores atípicos (outliers) y evaluar la simetría de los datos.\n"
      ]
    },
    {
      "cell_type": "markdown",
      "metadata": {
        "id": "zNj2jdsOHpbp"
      },
      "source": [
        "* **Histogramas:** Un histograma es una gráfica de distribución que representa la frecuencia de ocurrencia de los valores en una variable numérica dividiéndola en intervalos o \"bins\" y mostrando cuántos valores caen en cada intervalo. La altura de las barras en el histograma representa la cantidad de valores que entran en cada intervalo. La curva de densidad superpuesta es una estimación suave de la distribución de probabilidad de los datos. Proporciona una visualización más suave y continua de la distribución, lo que facilita la identificación de patrones y tendencias en los datos."
      ]
    },
    {
      "cell_type": "code",
      "execution_count": null,
      "metadata": {
        "colab": {
          "base_uri": "https://localhost:8080/"
        },
        "id": "egk5WYF2tTmA",
        "outputId": "7adf5150-e6b4-4357-b2a2-3279c6adea09"
      },
      "outputs": [],
      "source": []
    },
    {
      "cell_type": "markdown",
      "metadata": {
        "id": "ILXk6sPmIQ_x"
      },
      "source": [
        "Estamos creando un gráfico que muestra la distribución de la variable 'limite' en forma de histograma con una curva de densidad. Este tipo de gráfico es útil para comprender cómo se distribuyen los límites de crédito en el conjunto de datos y para identificar características de la distribución, como tendencias o picos."
      ]
    },
    {
      "cell_type": "code",
      "execution_count": null,
      "metadata": {
        "colab": {
          "base_uri": "https://localhost:8080/"
        },
        "id": "A7I6ZEaCIyds",
        "outputId": "adc89014-21e5-4a75-f58e-dfdf7f27fe61"
      },
      "outputs": [],
      "source": []
    },
    {
      "cell_type": "markdown",
      "metadata": {
        "id": "JryUPcMgJ3_Z"
      },
      "source": [
        "El gráfico nos permite visualizar y comparar cómo los límites de crédito varían según el nivel de escolaridad de los titulares de tarjetas de crédito en los datos. Esto puede ser útil para identificar posibles relaciones o diferencias en el comportamiento crediticio en función de la educación."
      ]
    },
    {
      "cell_type": "code",
      "execution_count": null,
      "metadata": {
        "colab": {
          "base_uri": "https://localhost:8080/"
        },
        "id": "zUS_5os7ww8U",
        "outputId": "d0b917f0-61d6-4004-e2b1-5c1ec4ec80c1"
      },
      "outputs": [],
      "source": []
    },
    {
      "cell_type": "markdown",
      "metadata": {
        "id": "nxacPTJxztUl"
      },
      "source": [
        "El análisis indica que en los datos hay un grupo de personas que están utilizando muy poco su límite de crédito, lo que puede ser un hallazgo interesante y relevante para futuros análisis o investigaciones."
      ]
    },
    {
      "cell_type": "markdown",
      "metadata": {
        "id": "fKvXvShN0Tm7"
      },
      "source": [
        "# **Parámetros para los gráficos**"
      ]
    },
    {
      "cell_type": "markdown",
      "metadata": {
        "id": "DYWa2BDaK1sg"
      },
      "source": [
        "Los parámetros son configuraciones específicas que puedes ajustar al crear gráficos con bibliotecas de visualización como Seaborn. Estos parámetros te permiten personalizar la apariencia y el comportamiento de tus gráficos. Algunos de los parámetros más comunes para personalizar gráficos en Seaborn incluyen:\n",
        "\n",
        "1. **data:** El conjunto de datos que se utilizará para crear el gráfico. Puedes especificar un DataFrame de Pandas u otra fuente de datos.\n",
        "\n",
        "2. **x** y **y:** Estos parámetros indican qué variables se representarán en los ejes x e y del gráfico.\n",
        "\n",
        "3. **hue:** Si deseas distinguir datos por categoría o variable, puedes usar hue para asignar colores diferentes a cada categoría. Por ejemplo, puedes usar hue para colorear barras o puntos en un gráfico de dispersión según una categoría.\n",
        "\n",
        "4. **kind (en sns.catplot o sns.relplot):** Este parámetro determina el tipo de gráfico que se creará, como \"scatter\" (gráfico de dispersión), \"bar\" (gráfico de barras), \"box\" (gráfico de caja), \"line\" (gráfico de líneas), etc.\n",
        "\n",
        "5. **size y aspect (en sns.relplot):** Estos parámetros permiten ajustar el tamaño y la proporción del gráfico de dispersión.\n",
        "\n",
        "6. **col y row (en sns.catplot o sns.relplot):** Puedes utilizar estos parámetros para crear múltiples subgráficos (facetas) en función de una o dos variables categóricas.\n",
        "\n",
        "7. **col_wrap (en sns.catplot o sns.relplot):** Determina cuántas columnas de gráficos de facetas se mostrarán en una sola fila.\n",
        "\n",
        "8. **palette:** Define la paleta de colores a utilizar en el gráfico. Puedes seleccionar una paleta predefinida o personalizarla.\n",
        "\n",
        "9. **linewidth y edgecolor:** Controlan el grosor de las líneas y el color del borde de elementos gráficos como barras.\n",
        "\n",
        "10. **legend:** Permite controlar si se muestra o no una leyenda en el gráfico.\n",
        "\n",
        "11. **title:** Define el título del gráfico.\n",
        "\n",
        "12. **xlabel y ylabel:** Personalizan las etiquetas de los ejes x e y.\n",
        "\n",
        "13. **xlim y ylim:** Establecen los límites de los ejes x e y.\n",
        "\n",
        "14. **xticks y yticks:** Controlan la ubicación de las marcas en los ejes x e y."
      ]
    },
    {
      "cell_type": "markdown",
      "metadata": {
        "id": "ZbJAzq5y0f_m"
      },
      "source": [
        "* Fondo"
      ]
    },
    {
      "cell_type": "markdown",
      "metadata": {
        "id": "gjH5JWQ8MNwk"
      },
      "source": [
        " La siguinte linea de codigo se utiliza para establecer el estilo de fondo de los gráficos. En este caso, se estás configurando el estilo en 'whitegrid'. Seaborn proporciona varios estilos predefinidos que pueden aplicarse a tus gráficos para cambiar su apariencia visual. El estilo 'whitegrid' es uno de los estilos predefinidos y se caracteriza por un fondo blanco con líneas de cuadrícula grises, lo que facilita la lectura de los gráficos."
      ]
    },
    {
      "cell_type": "code",
      "execution_count": null,
      "metadata": {
        "id": "Jadxh2y80j_7"
      },
      "outputs": [],
      "source": []
    },
    {
      "cell_type": "code",
      "execution_count": null,
      "metadata": {
        "colab": {
          "base_uri": "https://localhost:8080/"
        },
        "id": "EB9L6k4HzlJ3",
        "outputId": "f7f46d42-170d-4b53-8699-181db0c638d9"
      },
      "outputs": [],
      "source": []
    },
    {
      "cell_type": "code",
      "execution_count": null,
      "metadata": {
        "colab": {
          "base_uri": "https://localhost:8080/"
        },
        "id": "2_3NOcmv0tai",
        "outputId": "d4a5b061-f075-4807-d54c-b52fcf342949"
      },
      "outputs": [],
      "source": [
        "sns.set_style('darkgrid')\n",
        "sns.displot(data=tarjetas, x='limite', hue='escolaridad')"
      ]
    },
    {
      "cell_type": "markdown",
      "metadata": {
        "id": "V0rF0eJy1kqQ"
      },
      "source": [
        "* Paleta de colores"
      ]
    },
    {
      "cell_type": "markdown",
      "metadata": {
        "id": "-2_PxzWTMlCA"
      },
      "source": [
        "Se utiliza para especificar la paleta de colores que se aplicará a los elementos gráficos de un gráfico creado con Seaborn. En este caso, estás utilizando la paleta de colores llamada 'inferno'."
      ]
    },
    {
      "cell_type": "code",
      "execution_count": null,
      "metadata": {
        "colab": {
          "base_uri": "https://localhost:8080/"
        },
        "id": "GUHfJMUdzlFI",
        "outputId": "1d612c5c-ab11-4f98-ef6b-d992f12c75aa"
      },
      "outputs": [],
      "source": [
        "sns.displot(data=tarjetas, x='limite', hue='escolaridad', palette='inferno')"
      ]
    },
    {
      "cell_type": "markdown",
      "metadata": {
        "id": "Ki5tZSQ9Muix"
      },
      "source": [
        "Se utiliza para especificar la paleta de colores 'inferno_r' en un gráfico creado con Seaborn. La adición de \"_r\" al nombre de la paleta indica que es una versión inversa (invertida) de la paleta 'inferno' original."
      ]
    },
    {
      "cell_type": "code",
      "execution_count": null,
      "metadata": {
        "colab": {
          "base_uri": "https://localhost:8080/"
        },
        "id": "2PGQnvSkzk_x",
        "outputId": "39bbf504-47a8-4357-83de-1ffa1b73d31e"
      },
      "outputs": [],
      "source": []
    },
    {
      "cell_type": "markdown",
      "metadata": {
        "id": "w3h98EkjM5y1"
      },
      "source": [
        "# **Countplot, catplot y swatmplot**"
      ]
    },
    {
      "cell_type": "markdown",
      "metadata": {
        "id": "OrnDDaOQ14nt"
      },
      "source": [
        "Las funciones **countplot**, **catplot** y **swarmplot** son parte de la biblioteca Seaborn y se utilizan para crear diferentes tipos de gráficos de categorías y relaciones en los datos."
      ]
    },
    {
      "cell_type": "markdown",
      "metadata": {
        "id": "5UPvoVk_2DfU"
      },
      "source": [
        "1. **countplot:**\n",
        "* Un **countplot** es un tipo de gráfico que se utiliza para contar y mostrar la frecuencia de observaciones en diferentes categorías o niveles de una variable categórica.\n",
        "* Se representa como un gráfico de barras verticales o de conteo en el que el eje x muestra las categorías y el eje y muestra el recuento de observaciones en cada categoría.\n",
        "* Es útil para visualizar la distribución de categorías y para comparar la frecuencia de diferentes categorías."
      ]
    },
    {
      "cell_type": "code",
      "execution_count": null,
      "metadata": {
        "colab": {
          "base_uri": "https://localhost:8080/"
        },
        "id": "yEgzuWMw1_i_",
        "outputId": "b2098f12-3fce-40f6-f67b-87b8c6c7a28d"
      },
      "outputs": [],
      "source": [
        "# Recordemos nuestro DataFrame\n"
      ]
    },
    {
      "cell_type": "code",
      "execution_count": null,
      "metadata": {
        "colab": {
          "base_uri": "https://localhost:8080/"
        },
        "id": "vKwO-92N2QJD",
        "outputId": "4bb49832-2327-4b0c-da51-eb4328fd1529"
      },
      "outputs": [],
      "source": []
    },
    {
      "cell_type": "markdown",
      "metadata": {
        "id": "0nurLaHdOSQO"
      },
      "source": [
        "El gráfico muestra cuántas personas en el conjunto de datos tienen una cuenta corriente ('si') y cuántas no la tienen ('no')."
      ]
    },
    {
      "cell_type": "code",
      "execution_count": null,
      "metadata": {
        "colab": {
          "base_uri": "https://localhost:8080/"
        },
        "id": "q9-NW3aX2gCD",
        "outputId": "668f9314-dc92-44d9-d1f7-fd2fa1be4d0e"
      },
      "outputs": [],
      "source": []
    },
    {
      "cell_type": "markdown",
      "metadata": {
        "id": "8LqbIUXZOiZA"
      },
      "source": [
        "El resultado es un gráfico de barras en el que las barras se dividen en dos partes para cada categoría de 'cuenta_corriente' (Sí o No), una parte representando a los morosos y la otra a los no morosos. Esto permite visualizar cómo se distribuyen los morosos y no morosos en función de si tienen o no una cuenta corriente."
      ]
    },
    {
      "cell_type": "code",
      "execution_count": null,
      "metadata": {
        "colab": {
          "base_uri": "https://localhost:8080/"
        },
        "id": "y8TAHuOh2f4S",
        "outputId": "7876564c-244c-4227-c69d-6e6b10221457"
      },
      "outputs": [],
      "source": []
    },
    {
      "cell_type": "markdown",
      "metadata": {
        "id": "eCEIBpGcO2sC"
      },
      "source": [
        "Esta gráfica es similar a la que se mostró anteriormente, pero se diferencia en la paleta de colores utilizada, que en este caso se ha cambiado a '**coolwarm**'"
      ]
    },
    {
      "cell_type": "markdown",
      "metadata": {
        "id": "_oKrvXJa2F0n"
      },
      "source": [
        "2. **catplot:**\n",
        "* **catplot** es una función versátil que se utiliza para crear varios tipos de gráficos categóricos. Puede generar gráficos de barras, gráficos de caja, gráficos de puntos y otros tipos de gráficos categóricos, según el valor del parámetro kind.\n",
        "* Es útil para visualizar relaciones entre variables categóricas y numéricas, y para crear gráficos de categorías facetas (subgráficos) para analizar datos en función de múltiples variables categóricas."
      ]
    },
    {
      "cell_type": "code",
      "execution_count": null,
      "metadata": {
        "colab": {
          "base_uri": "https://localhost:8080/"
        },
        "id": "YU5ICMQI2GQh",
        "outputId": "4126d3d5-b14f-4218-a0ce-ba46e0e4607a"
      },
      "outputs": [],
      "source": [
        "# Recordemos nuestro DataFrame\n"
      ]
    },
    {
      "cell_type": "code",
      "execution_count": null,
      "metadata": {
        "colab": {
          "base_uri": "https://localhost:8080/"
        },
        "id": "IJYr5U-q3NwN",
        "outputId": "d9cf26c5-4656-4c5d-f827-c6468c9b2855"
      },
      "outputs": [],
      "source": []
    },
    {
      "cell_type": "markdown",
      "metadata": {
        "id": "LAn7lL3kPivV"
      },
      "source": [
        "Nos muestra un gráfico categórico que muestra cómo se distribuyen los límites de crédito entre las diferentes categorías de estado civil. Cada barra en el gráfico representa una categoría de estado civil, y la altura de la barra indica el valor promedio de los límites de crédito para esa categoría. El gráfico te ayuda a visualizar si existen diferencias significativas en los límites de crédito asignados a personas con diferentes estados civiles y si hay alguna tendencia observada en los datos."
      ]
    },
    {
      "cell_type": "code",
      "execution_count": null,
      "metadata": {
        "colab": {
          "base_uri": "https://localhost:8080/"
        },
        "id": "P-TosgkK3NpI",
        "outputId": "a3957ea2-f50c-47f5-fe8b-b9418e35581e"
      },
      "outputs": [],
      "source": []
    },
    {
      "cell_type": "markdown",
      "metadata": {
        "id": "cljtIslkP4oj"
      },
      "source": [
        " Nos muestra un gráfico categórico en el que las barras se dividen en dos partes para cada categoría de 'estado_civil', una parte para los morosos y la otra para los no morosos. Esto permite visualizar cómo se distribuyen los límites de crédito para personas con diferentes estados civiles y, al mismo tiempo, observar la proporción de morosos y no morosos en cada categoría de estado civil."
      ]
    },
    {
      "cell_type": "code",
      "execution_count": null,
      "metadata": {
        "colab": {
          "base_uri": "https://localhost:8080/"
        },
        "id": "WUBRXpNn3Ni4",
        "outputId": "ece9d938-51d1-4f45-ee7f-36af7a592396"
      },
      "outputs": [],
      "source": []
    },
    {
      "cell_type": "markdown",
      "metadata": {
        "id": "yP-sliPyQK6l"
      },
      "source": [
        "* **dodge=True:** El parámetro dodge se utiliza para separar (segregar) las barras de morosos y no morosos para cada categoría de 'estado_civil'. Esto significa que las barras para morosos y no morosos se representarán de manera separada en lugar de superponerse.\n"
      ]
    },
    {
      "cell_type": "markdown",
      "metadata": {
        "id": "FgzUCXC52Gqt"
      },
      "source": [
        "3. **swarmplot:**\n",
        "* Un **swarmplot** es un tipo de gráfico de dispersión que se utiliza para representar datos en función de dos variables categóricas y mostrar la distribución de puntos a lo largo de las categorías.\n",
        "* Crea un gráfico de puntos para cada categoría categórica, lo que permite visualizar cómo los valores de una variable numérica están distribuidos en cada categoría.\n",
        "* Es útil para identificar tendencias y patrones en datos categóricos y numéricos."
      ]
    },
    {
      "cell_type": "code",
      "execution_count": null,
      "metadata": {
        "colab": {
          "base_uri": "https://localhost:8080/"
        },
        "id": "hS6ybyeH2HN8",
        "outputId": "bb82a3af-136a-435c-a468-d193c77b9073"
      },
      "outputs": [],
      "source": [
        "# Recordemos nuestro DataFrame\n"
      ]
    },
    {
      "cell_type": "code",
      "execution_count": null,
      "metadata": {
        "colab": {
          "base_uri": "https://localhost:8080/"
        },
        "id": "bTO6Qdoa4Niv",
        "outputId": "72967dd1-b9b7-46c6-c771-b30876e16990"
      },
      "outputs": [],
      "source": []
    },
    {
      "cell_type": "markdown",
      "metadata": {
        "id": "_RMvTPvFRUgC"
      },
      "source": [
        "El resultado es un gráfico de dispersión en el que cada punto representa una observación individual en los datos. Los puntos se distribuyen a lo largo del eje x, agrupados en las categorías de 'escolaridad', y se muestran en función de sus valores de 'iu'. Este tipo de gráfico te permite visualizar cómo se distribuye el índice de utilización en diferentes niveles de educación y si existen patrones o tendencias en los datos."
      ]
    },
    {
      "cell_type": "code",
      "execution_count": null,
      "metadata": {
        "colab": {
          "base_uri": "https://localhost:8080/"
        },
        "id": "4wK8a2Ju4PSc",
        "outputId": "e6f4a9c9-cdf5-40eb-a4f0-ce8978f4ef0f"
      },
      "outputs": [],
      "source": []
    },
    {
      "cell_type": "markdown",
      "metadata": {
        "id": "wJwUHcjTRPcl"
      },
      "source": [
        "Esta gráfica es similar a la que se mostró anteriormente, pero se diferencia en la paleta de colores utilizada, que en este caso se ha cambiado a 'inferno'"
      ]
    },
    {
      "cell_type": "markdown",
      "metadata": {
        "id": "CfIyry5T4z3d"
      },
      "source": [
        "# **Boxplot y Violinplot**"
      ]
    },
    {
      "cell_type": "markdown",
      "metadata": {
        "id": "Ve399JMCR_5z"
      },
      "source": [
        "El **boxplot** y el **violinplot** son dos tipos de gráficos utilizados en estadísticas y visualización de datos para representar la distribución y estadísticas clave de una variable numérica o numérica en función de una o más variables categóricas."
      ]
    },
    {
      "cell_type": "markdown",
      "metadata": {
        "id": "q1W6sL2d5Iys"
      },
      "source": [
        "**Boxplot (Diagrama de Caja):**\n",
        "\n",
        "* El boxplot es un gráfico que muestra la distribución de una variable numérica y resalta medidas estadísticas clave, como la mediana, los cuartiles y los valores atípicos.\n",
        "* Se representa como un rectángulo (la \"caja\") que se extiende desde el primer cuartil (Q1) hasta el tercer cuartil (Q3). Dentro de la caja, una línea vertical representa la mediana (Q2).\n",
        "* Los \"bigotes\" del boxplot se extienden desde los cuartiles hasta un rango intercuartílico (IQR) y pueden mostrar valores atípicos.\n",
        "* Los valores atípicos se representan como puntos individuales más allá de los bigotes.\n",
        "\n",
        "El boxplot es útil para identificar la dispersión, tendencia central y valores atípicos en una variable numérica, y para comparar estas estadísticas entre diferentes categorías."
      ]
    },
    {
      "cell_type": "code",
      "execution_count": null,
      "metadata": {
        "colab": {
          "base_uri": "https://localhost:8080/"
        },
        "id": "S9db-E605IH-",
        "outputId": "fc3db56d-b1f5-4c4a-a074-2b70a69b835a"
      },
      "outputs": [],
      "source": []
    },
    {
      "cell_type": "markdown",
      "metadata": {
        "id": "RxMhXSg7THy0"
      },
      "source": [
        "El resultado es un gráfico de caja para cada categoría de 'escolaridad', que muestra la distribución de los valores del índice de utilización en cada nivel educativo. Cada caja representa la distribución de los valores en un nivel educativo específico, incluyendo la mediana (línea central de la caja), los cuartiles (caja) y los valores atípicos (si los hay)."
      ]
    },
    {
      "cell_type": "code",
      "execution_count": null,
      "metadata": {
        "colab": {
          "base_uri": "https://localhost:8080/"
        },
        "id": "hJTiEsnI59Xg",
        "outputId": "81bc4592-1bd5-48c4-a334-22f813a30f52"
      },
      "outputs": [],
      "source": []
    },
    {
      "cell_type": "markdown",
      "metadata": {
        "id": "Lc_5aPguTWPI"
      },
      "source": [
        "El resultado es un gráfico de caja en el que se comparan las distribuciones de los valores del índice de utilización en función del nivel educativo ('escolaridad') y se distinguen por morosos y no morosos. Cada conjunto de cajas representa una categoría de 'escolaridad' y muestra la distribución de valores para ambas clases (morosos y no morosos) en esa categoría."
      ]
    },
    {
      "cell_type": "code",
      "execution_count": null,
      "metadata": {
        "colab": {
          "base_uri": "https://localhost:8080/"
        },
        "id": "ASxZTSuV59Tr",
        "outputId": "21cf903e-b603-4976-ba58-ac1725ef45f9"
      },
      "outputs": [],
      "source": []
    },
    {
      "cell_type": "markdown",
      "metadata": {
        "id": "8uHL5mR_So_Q"
      },
      "source": [
        "Esta gráfica es similar a la que se mostró anteriormente, pero se diferencia en la paleta de colores utilizada, que en este caso se ha cambiado a '**bone**'"
      ]
    },
    {
      "cell_type": "markdown",
      "metadata": {
        "id": "qjXsRfa15Jal"
      },
      "source": [
        "**Violinplot (Diagrama de Violín):**\n",
        "\n",
        "* El **violinplot** es un gráfico que combina un diagrama de caja con una representación de densidad de la variable numérica en función de una variable categórica.\n",
        "* Se parece a dos espejos reflejados de un diagrama de caja, donde el ancho de cada \"violín\" en el gráfico representa la densidad de la variable numérica en esa categoría.\n",
        "* Los puntos negros en el centro de cada violín representan la mediana de la variable numérica.\n",
        "\n",
        "El violinplot es útil para visualizar la forma de la distribución de la variable numérica en diferentes categorías, lo que puede ayudar a identificar la simetría, bimodalidad y otros patrones en los datos"
      ]
    },
    {
      "cell_type": "code",
      "execution_count": null,
      "metadata": {
        "colab": {
          "base_uri": "https://localhost:8080/"
        },
        "id": "eDc0geR35J2U",
        "outputId": "5af479fc-b39d-485b-a6fe-d4a82d4bfda0"
      },
      "outputs": [],
      "source": []
    },
    {
      "cell_type": "markdown",
      "metadata": {
        "id": "Vfgc5hAmT-Bq"
      },
      "source": [
        "El resultado es un gráfico de violín para cada categoría de 'escolaridad', que muestra la forma de la distribución de los valores del índice de utilización en cada nivel educativo. Cada violín representa la densidad de valores en una categoría de 'escolaridad' y muestra una representación simétrica de la distribución de los datos."
      ]
    },
    {
      "cell_type": "code",
      "execution_count": null,
      "metadata": {
        "colab": {
          "base_uri": "https://localhost:8080/"
        },
        "id": "2jGUL0l-6p4R",
        "outputId": "c5589463-2925-44ef-e98f-f600002265e2"
      },
      "outputs": [],
      "source": []
    },
    {
      "cell_type": "markdown",
      "metadata": {
        "id": "Qdug7snCUCso"
      },
      "source": [
        "El resultado es un gráfico de violín que muestra la forma de la distribución de los valores del índice de utilización en función del nivel educativo ('escolaridad') y distingue los datos por morosos y no morosos. Cada conjunto de violines representa una categoría de 'escolaridad' y muestra la densidad de valores en esa categoría.\n",
        "\n",
        "El cambio de paleta a 'bone' modifica los colores utilizados en el gráfico, lo que puede hacer que sea más adecuado para ciertos propósitos de visualización o proporcionar una apariencia estilística diferente."
      ]
    },
    {
      "cell_type": "markdown",
      "metadata": {
        "id": "l7IQbHdr7BSo"
      },
      "source": [
        "# **Variables categóricas**"
      ]
    },
    {
      "cell_type": "markdown",
      "metadata": {
        "id": "BqcGd5GYUOSb"
      },
      "source": [
        "Una variable categórica, también conocida como variable cualitativa o discreta, es un tipo de variable en estadísticas que representa categorías o grupos en lugar de valores numéricos. Estas categorías suelen representar características, cualidades o atributos que no tienen un valor numérico inherente. Las variables categóricas se utilizan para clasificar datos en grupos o categorías discretas, lo que permite la organización y análisis de datos en función de estas categorías.\n",
        "\n",
        "**Ejemplos comunes de variables categóricas incluyen:**\n",
        "\n",
        "1. **Categorías de género:** Por ejemplo, \"masculino,\" \"femenino,\" \"no binario.\"\n",
        "\n",
        "2. **Estado civil:** Como \"soltero,\" \"casado,\" \"divorciado,\" \"viudo.\"\n",
        "\n",
        "3. **Nivel educativo:** Tales como \"bachillerato,\" \"licenciatura,\" \"maestría,\" \"doctorado.\"\n",
        "\n",
        "4. **Categorías de productos:** Como \"electrónica,\" \"ropa,\" \"alimentos,\" \"automóviles.\"\n",
        "\n",
        "5. **Colores:** Por ejemplo, \"rojo,\" \"azul,\" \"verde,\" \"amarillo.\"\n",
        "\n",
        "Las variables categóricas son esenciales para comprender y analizar datos que no se pueden cuantificar de manera numérica. Se utilizan en análisis estadísticos, visualización de datos y modelado predictivo para clasificar y segmentar datos en grupos que comparten características comunes. Estas variables se pueden representar gráficamente mediante gráficos de barras, gráficos de pastel, tablas de frecuencia y otros métodos de visualización de datos categóricos.\n",
        "\n",
        "En contraste, las variables numéricas representan valores cuantitativos y se pueden someter a operaciones matemáticas como suma, resta, multiplicación y división, mientras que las variables categóricas se utilizan principalmente para clasificar y etiquetar datos en categorías específicas."
      ]
    },
    {
      "cell_type": "code",
      "execution_count": null,
      "metadata": {
        "colab": {
          "base_uri": "https://localhost:8080/"
        },
        "id": "Q0bWLtci6pyS",
        "outputId": "a259aaa0-7bf9-454b-e98c-334acdccf16c"
      },
      "outputs": [],
      "source": [
        "# Recordando nuestro DataFrame\n"
      ]
    },
    {
      "cell_type": "code",
      "execution_count": null,
      "metadata": {
        "colab": {
          "base_uri": "https://localhost:8080/"
        },
        "id": "atv5UoVE6pqQ",
        "outputId": "5e5565fe-418a-4825-b390-aa40e2715ece"
      },
      "outputs": [],
      "source": [
        "# Identificando nuestros valores unicos en nuestra variable edad\n"
      ]
    },
    {
      "cell_type": "code",
      "execution_count": null,
      "metadata": {
        "colab": {
          "base_uri": "https://localhost:8080/"
        },
        "id": "qauomKV46pgy",
        "outputId": "aaef3773-8e48-467e-e1c1-9a8cfc9731e7"
      },
      "outputs": [],
      "source": [
        "# Creando 2 listas para contruir nuestras variables categoricas\n",
        "\n",
        "\n",
        "# Creando una nueva variable\n"
      ]
    },
    {
      "cell_type": "code",
      "execution_count": null,
      "metadata": {
        "colab": {
          "base_uri": "https://localhost:8080/"
        },
        "id": "XOwIGwCM7QXN",
        "outputId": "b8beb66c-adff-4003-85bc-8f60f053e5d0"
      },
      "outputs": [],
      "source": []
    },
    {
      "cell_type": "markdown",
      "metadata": {
        "id": "82iQPF-MVhFO"
      },
      "source": [
        "El resultado es un gráfico de caja que muestra la distribución de los límites de crédito en cada categoría de 'rango_edad'. Cada caja representa un intervalo de edad y muestra la mediana, los cuartiles y los valores atípicos en ese intervalo."
      ]
    },
    {
      "cell_type": "markdown",
      "metadata": {
        "id": "Z-smmYTR9NfN"
      },
      "source": [
        "# **Variables numéricas**"
      ]
    },
    {
      "cell_type": "markdown",
      "metadata": {
        "id": "KNi5f9X59XM0"
      },
      "source": [
        "Las variables numéricas son tipos de variables en estadísticas y matemáticas que representan valores cuantitativos o numéricos. Estas variables contienen números que se pueden utilizar en cálculos matemáticos y operaciones aritméticas. Las variables numéricas se dividen comúnmente en dos subtipos:\n",
        "\n",
        "1. **Variables numéricas continuas:** Estas variables pueden tomar cualquier valor dentro de un rango determinado y se pueden medir con cualquier nivel de precisión. Ejemplos incluyen la edad de una persona, el peso de un objeto o la temperatura en grados Celsius.\n",
        "\n",
        "2. **Variables numéricas discretas:** Estas variables solo pueden tomar valores específicos y a menudo se representan como números enteros. Ejemplos incluyen el número de hijos en una familia, la cantidad de productos vendidos en una tienda en un día o el número de accidentes de tráfico en un mes.\n",
        "\n",
        "Las variables numéricas se utilizan en una amplia variedad de aplicaciones en estadísticas, ciencia de datos, investigación científica, análisis financiero y muchas otras disciplinas. Estas variables permiten realizar cálculos matemáticos, estadísticos y análisis de datos para extraer información y tomar decisiones basadas en evidencia numérica.\n",
        "\n",
        "Es importante distinguir entre variables numéricas y variables categóricas. Mientras que las variables numéricas representan cantidades cuantitativas, las variables categóricas representan categorías o grupos discretos y no tienen un valor numérico inherente. Ambos tipos de variables desempeñan un papel fundamental en el análisis de datos y la modelización estadística."
      ]
    },
    {
      "cell_type": "code",
      "execution_count": null,
      "metadata": {
        "colab": {
          "base_uri": "https://localhost:8080/"
        },
        "id": "UQtjyUaS7QQI",
        "outputId": "3380a0c7-fd02-4ccf-9489-4de38b0a6e54"
      },
      "outputs": [],
      "source": [
        "# Recordando nuestro DataFrame\n"
      ]
    },
    {
      "cell_type": "code",
      "execution_count": null,
      "metadata": {
        "colab": {
          "base_uri": "https://localhost:8080/"
        },
        "id": "Aw2HQ1839hDD",
        "outputId": "a36c0f8f-b98b-480f-b1c3-7c7f8fc7c5ed"
      },
      "outputs": [],
      "source": []
    },
    {
      "cell_type": "markdown",
      "metadata": {
        "id": "AUAbjp3IWsCI"
      },
      "source": [
        "El resultado es un gráfico de distribución que muestra cómo se distribuyen los valores de 'limite' en el conjunto de datos. Este tipo de gráfico es útil para visualizar la forma de la distribución de una variable numérica, lo que puede ayudarte a identificar si los datos siguen una distribución normal, si hay valores atípicos y cómo se distribuyen los valores en general.\n",
        "\n",
        "En el gráfico de distribución, verás un histograma que muestra la densidad de valores a lo largo del rango de 'limite', así como una línea que representa la estimación de la densidad de probabilidad. También se pueden mostrar estadísticas descriptivas clave, como la media y la desviación estándar, para resumir la distribución de la variable."
      ]
    },
    {
      "cell_type": "code",
      "execution_count": null,
      "metadata": {
        "colab": {
          "base_uri": "https://localhost:8080/"
        },
        "id": "HOWimCgH9gx3",
        "outputId": "e318c82f-ad38-40c2-8448-2ce7f64dd558"
      },
      "outputs": [],
      "source": []
    },
    {
      "cell_type": "markdown",
      "metadata": {
        "id": "Jhd9NqrIWzEp"
      },
      "source": [
        "* **col='escolaridad':** El parámetro col se utiliza para dividir los gráficos en columnas distintas para cada categoría de 'escolaridad'. Esto significa que se generarán múltiples gráficos, uno para cada nivel de educación en la variable 'escolaridad'.\n",
        "\n",
        "El resultado es un conjunto de gráficos de distribución, donde cada gráfico muestra la distribución de los límites de crédito ('limite') para un nivel de educación específico ('escolaridad'). Esto te permite comparar la forma de la distribución de los límites de crédito entre diferentes niveles de educación. Puedes observar cómo varía la distribución de 'limite' en función de la escolaridad."
      ]
    },
    {
      "cell_type": "code",
      "execution_count": null,
      "metadata": {
        "colab": {
          "base_uri": "https://localhost:8080/"
        },
        "id": "b08Kl_nI9grb",
        "outputId": "7c18cab5-47f7-4a17-ddc1-d3714eb049ab"
      },
      "outputs": [],
      "source": []
    },
    {
      "cell_type": "markdown",
      "metadata": {
        "id": "0NY7udqFW79w"
      },
      "source": [
        "* **kind='kde':** El parámetro kind se establece en 'kde', lo que indica que se utilizará una representación gráfica de densidad kernel en lugar de un histograma.\n",
        "\n",
        "El resultado es un conjunto de gráficos de densidad kernel, donde cada gráfico muestra la distribución de los límites de crédito ('limite') para un nivel de educación específico ('escolaridad'). Los gráficos de densidad kernel proporcionan una representación suave de la distribución de los datos, lo que permite ver la forma de la distribución de manera más continua"
      ]
    },
    {
      "cell_type": "code",
      "execution_count": null,
      "metadata": {
        "colab": {
          "base_uri": "https://localhost:8080/"
        },
        "id": "BRRVJZeJ9gii",
        "outputId": "30df20cc-f30c-4185-8ab9-996ff11fa078"
      },
      "outputs": [],
      "source": []
    },
    {
      "cell_type": "markdown",
      "metadata": {
        "id": "r0N3va4dW8_r"
      },
      "source": [
        "* **hue='moroso':** El parámetro hue se utiliza para distinguir los datos por la variable categórica 'moroso', lo que significa que el gráfico mostrará dos conjuntos de gráficos de densidad kernel para cada nivel de educación en función de si los titulares de tarjetas son morosos o no. Los colores se utilizan para diferenciarlos.\n",
        "\n",
        "El resultado es un conjunto de gráficos de densidad kernel condicionales que muestran cómo se distribuyen los límites de crédito ('limite') para diferentes niveles de educación ('escolaridad') y distingue los datos por morosos y no morosos."
      ]
    },
    {
      "cell_type": "code",
      "execution_count": null,
      "metadata": {
        "colab": {
          "base_uri": "https://localhost:8080/"
        },
        "id": "n3riDvLj_eVe",
        "outputId": "bea4573a-6322-4b07-c433-8522bf936be0"
      },
      "outputs": [],
      "source": []
    },
    {
      "cell_type": "markdown",
      "metadata": {
        "id": "yYJSFfolW9vB"
      },
      "source": [
        "* **hue='rango_edad':** El parámetro hue se utiliza para distinguir los datos por la variable categórica 'rango_edad', lo que significa que el gráfico mostrará diferentes conjuntos de gráficos de densidad kernel para cada nivel de educación en función del rango de edad al que pertenece el titular de la tarjeta.\n",
        "\n",
        "El resultado es un conjunto de gráficos de densidad kernel condicionales que muestran cómo se distribuyen los límites de crédito ('limite') para diferentes niveles de educación ('escolaridad') y diferentes rangos de edad ('rango_edad'). Estos gráficos permiten observar las diferencias en las distribuciones de los límites de crédito en función de la educación y el rango de edad."
      ]
    },
    {
      "cell_type": "markdown",
      "metadata": {
        "id": "SKriH5fS9Sz-"
      },
      "source": [
        "# **Scatterplot y Implot**"
      ]
    },
    {
      "cell_type": "markdown",
      "metadata": {
        "id": "4YM0ULNZ_6j1"
      },
      "source": [
        "Un **scatterplot** y un **lmplot** son tipos de gráficos que se utilizan en análisis de datos y estadísticas para visualizar y analizar la relación entre dos variables, especialmente cuando se trata de datos bivariados (dos variables)."
      ]
    },
    {
      "cell_type": "code",
      "execution_count": null,
      "metadata": {
        "colab": {
          "base_uri": "https://localhost:8080/"
        },
        "id": "pVIEGM7I7QJi",
        "outputId": "e7dd25c9-47b2-4ddc-8b1f-0a88bc2066f5"
      },
      "outputs": [],
      "source": [
        "#Recordando nuestro DataFrame\n"
      ]
    },
    {
      "cell_type": "markdown",
      "metadata": {
        "id": "so4fZrl0__rK"
      },
      "source": [
        "**Scatterplot (Gráfico de dispersión):**\n",
        "\n",
        "* Un **scatterplot** es un gráfico bidimensional que muestra la relación entre dos variables numéricas al representar cada par de datos como un punto en un plano cartesiano. Cada eje del gráfico representa una de las dos variables, y los puntos se dispersan en el plano según los valores de las dos variables.\n",
        "\n",
        "* Los scatterplots son útiles para visualizar patrones, tendencias y relaciones entre variables. Pueden ayudar a identificar si existe una correlación entre las dos variables (positiva, negativa o ninguna), así como la presencia de valores atípicos.\n",
        "\n",
        "* Se pueden personalizar los scatterplots mediante colores, marcadores y etiquetas para resaltar características específicas de los datos."
      ]
    },
    {
      "cell_type": "code",
      "execution_count": null,
      "metadata": {
        "colab": {
          "base_uri": "https://localhost:8080/"
        },
        "id": "glOMC6-h7QDg",
        "outputId": "ebe4c3ae-d026-4eab-b7b1-78240537ec9f"
      },
      "outputs": [],
      "source": [
        "# Nota el ; es parque que desaparescan los AXES en este caso no se los pongo\n"
      ]
    },
    {
      "cell_type": "code",
      "execution_count": null,
      "metadata": {
        "colab": {
          "base_uri": "https://localhost:8080/"
        },
        "id": "CP83DirAANKS",
        "outputId": "a37c9838-1765-43f6-e130-2b6241b76339"
      },
      "outputs": [],
      "source": [
        "# Nota el ; es parq que desaparescan los AXES\n"
      ]
    },
    {
      "cell_type": "markdown",
      "metadata": {
        "id": "v1Cy2YaTYmbk"
      },
      "source": [
        "El resultado es un gráfico de dispersión que muestra cómo se relacionan las dos variables 'iu' y 'valor_factura'. Cada punto en el gráfico representa una observación en el DataFrame y muestra la relación entre el uso del límite de crédito ('iu') y el valor de la factura ('valor_factura')."
      ]
    },
    {
      "cell_type": "code",
      "execution_count": null,
      "metadata": {
        "colab": {
          "base_uri": "https://localhost:8080/"
        },
        "id": "nWWF5t4zAVZg",
        "outputId": "87a9ab1f-0fa2-4bc3-f958-b48b7d9fbe1b"
      },
      "outputs": [],
      "source": []
    },
    {
      "cell_type": "markdown",
      "metadata": {
        "id": "S6dlgBBTYyxv"
      },
      "source": [
        "* **hue='cuenta_corriente':** El parámetro hue se utiliza para distinguir los datos por la variable categórica 'cuenta_corriente'. Esto significa que los puntos en el gráfico se colorearán de acuerdo con las categorías de 'cuenta_corriente' (por ejemplo, \"Yes\" o \"No\").\n",
        "\n",
        "El resultado es un gráfico de dispersión que muestra cómo se relacionan las dos variables 'iu' y 'valor_factura', y al mismo tiempo, distingue los datos por la categoría de 'cuenta_corriente'. Cada punto en el gráfico representa una observación en el DataFrame y se colorea según la categoría de 'cuenta_corriente'."
      ]
    },
    {
      "cell_type": "markdown",
      "metadata": {
        "id": "s0IIXHXnAuND"
      },
      "source": [
        "**lmplot (Gráfico de regresión lineal):**\n",
        "\n",
        "* Un **lmplot** es un tipo de gráfico que utiliza Seaborn, una biblioteca de visualización de datos en Python, para representar la relación entre dos variables numéricas y ajustar una línea de regresión lineal a los datos.\n",
        "\n",
        "* Además de mostrar los puntos de datos en un scatterplot, un lmplot incluye una línea de regresión lineal que representa la tendencia general de los datos. Esta línea puede ayudar a identificar si existe una relación lineal entre las dos variables y proporcionar información sobre la pendiente y la interceptación de la regresión.\n",
        "\n",
        "* Los lmplots son útiles para visualizar y cuantificar relaciones lineales entre variables. También pueden incluir intervalos de confianza alrededor de la línea de regresión."
      ]
    },
    {
      "cell_type": "code",
      "execution_count": null,
      "metadata": {
        "colab": {
          "base_uri": "https://localhost:8080/"
        },
        "id": "nedA9RPmAVR5",
        "outputId": "96b16166-1cb2-4612-e844-d6294c84d01f"
      },
      "outputs": [],
      "source": []
    },
    {
      "cell_type": "markdown",
      "metadata": {
        "id": "hj841DeYZuit"
      },
      "source": [
        "El resultado es un gráfico de dispersión que muestra cómo se relacionan las dos variables 'iu' y 'valor_factura'. Además, se ajusta una línea de regresión lineal a los datos para representar la tendencia general de la relación entre estas variables. La línea de regresión es útil para evaluar si existe una relación lineal entre las dos variables y para proporcionar información sobre la pendiente y la interceptación de la regresión."
      ]
    },
    {
      "cell_type": "markdown",
      "metadata": {
        "id": "dBSMpvTeBRT9"
      },
      "source": [
        "# **Test de hipótesis**"
      ]
    },
    {
      "cell_type": "markdown",
      "metadata": {
        "id": "DHJ6n3JiZ-Hz"
      },
      "source": [
        "Un test de hipótesis, también conocido como prueba de hipótesis, es una metodología estadística utilizada para tomar decisiones basadas en datos y evidencia empírica en el contexto de la investigación o análisis de datos. Su objetivo principal es evaluar afirmaciones o suposiciones sobre una población o un conjunto de datos.\n",
        "\n",
        "**El proceso de un test de hipótesis generalmente sigue estos pasos:**\n",
        "\n",
        "1. **Formulación de hipótesis:** El primer paso implica establecer una hipótesis nula (H0) y una hipótesis alternativa (H1). La hipótesis nula representa una afirmación que se supone es verdadera y la hipótesis alternativa representa lo contrario.\n",
        "\n",
        "2. **Recopilación de datos:** Se recopilan datos relevantes de una muestra o población para evaluar las hipótesis.\n",
        "\n",
        "3. **Evaluación de evidencia:** Se utiliza una prueba estadística específica para analizar los datos y calcular un valor estadístico, como un valor-p.\n",
        "\n",
        "4. **Toma de decisión:** Se compara el valor estadístico con un umbral predefinido llamado nivel de significancia (alfa). Si el valor estadístico es menor que alfa, se rechaza la hipótesis nula. Si es mayor que alfa, no se rechaza la hipótesis nula.\n",
        "\n",
        "5. **Conclusiones:** Se llega a una conclusión basada en la toma de decisión. Si se rechaza la hipótesis nula, se acepta la hipótesis alternativa. Si no se rechaza la hipótesis nula, se mantiene la afirmación original.\n",
        "\n",
        "Los tests de hipótesis son ampliamente utilizados en investigación científica, estadística, análisis de datos y en muchas otras disciplinas. Pueden ayudar a determinar si los resultados observados son estadísticamente significativos y permiten a los investigadores tomar decisiones basadas en la evidencia recopilada."
      ]
    },
    {
      "cell_type": "markdown",
      "metadata": {
        "id": "SCg_nfAiB5if"
      },
      "source": [
        "En este caso, hemos establecido dos hipótesis relacionadas con la distribución de grupos morosos y no morosos en nuestro estudio. Estas hipótesis se presentan de la siguiente manera:\n",
        "\n",
        "* **Hipótesis Nula (H0):** La distribución de los grupos morosos y no morosos es la misma.\n",
        "\n",
        "* **Hipótesis Alternativa (H1):** La distribución de los grupos morosos y no morosos no es la misma.\n",
        "\n",
        "En un test de hipótesis, estas afirmaciones se utilizan como base para tomar decisiones basadas en datos observados. El objetivo del análisis es determinar si existe evidencia estadística suficiente para rechazar la hipótesis nula (H0) en favor de la hipótesis alternativa (H1). En otras palabras, queremos determinar si los datos respaldan la idea de que la distribución de grupos morosos y no morosos difiere significativamente o si no hay suficiente evidencia para llegar a esa conclusión."
      ]
    },
    {
      "cell_type": "code",
      "execution_count": null,
      "metadata": {
        "colab": {
          "base_uri": "https://localhost:8080/"
        },
        "id": "pWwATsYkAVCR",
        "outputId": "6f9adc0e-15d5-43fa-c500-d8416cfe79d6"
      },
      "outputs": [],
      "source": []
    },
    {
      "cell_type": "code",
      "execution_count": null,
      "metadata": {
        "id": "arLUFwyPAU7f"
      },
      "outputs": [],
      "source": [
        "from scipy.stats import ranksums"
      ]
    },
    {
      "cell_type": "markdown",
      "metadata": {
        "id": "p00tSrRPbnTd"
      },
      "source": [
        "Importa una función de la biblioteca SciPy que se utiliza para realizar un test de suma de rangos de Wilcoxon, también conocido como el test U de Mann-Whitney.\n",
        "\n",
        "El test U de Mann-Whitney es una prueba no paramétrica que se utiliza para comparar las distribuciones de dos grupos independientes y determinar si existe una diferencia significativa entre ellos. Es especialmente útil cuando los datos no cumplen con los supuestos de normalidad requeridos por las pruebas paramétricas."
      ]
    },
    {
      "cell_type": "markdown",
      "metadata": {
        "id": "FuYCONJHCEAm"
      },
      "source": [
        "* **Hipótesis Nula (H0):** La distribución de los grupos morosos y no morosos es la misma."
      ]
    },
    {
      "cell_type": "code",
      "execution_count": null,
      "metadata": {
        "colab": {
          "base_uri": "https://localhost:8080/"
        },
        "id": "9RFrlZqPCW60",
        "outputId": "ba0c04ca-a87a-4fa0-90f9-64b7646b5718"
      },
      "outputs": [],
      "source": []
    },
    {
      "cell_type": "markdown",
      "metadata": {
        "id": "a06vYTqIb_Rn"
      },
      "source": [
        "Filtramos en el DataFrame para seleccionar solo las observaciones donde los titulares de tarjetas no son morosos (moroso == 0) y recopila los valores de 'valor_factura' de esas observaciones en la variable no_moroso."
      ]
    },
    {
      "cell_type": "markdown",
      "metadata": {
        "id": "YxFOCV8xbWMk"
      },
      "source": [
        "* **Hipótesis Alternativa (H1):** La distribución de los grupos morosos y no morosos no es la misma."
      ]
    },
    {
      "cell_type": "code",
      "execution_count": null,
      "metadata": {
        "colab": {
          "base_uri": "https://localhost:8080/"
        },
        "id": "dYhU76YkBv1Q",
        "outputId": "8bd8a841-c09d-47bb-fe82-56e690126b33"
      },
      "outputs": [],
      "source": []
    },
    {
      "cell_type": "markdown",
      "metadata": {
        "id": "uBbw03KBcIvB"
      },
      "source": [
        " Filtramos el DataFrame para seleccionar solo las observaciones donde los titulares de tarjetas son morosos (moroso == 1) y recopila los valores de 'valor_factura' de esas observaciones en la variable moroso."
      ]
    },
    {
      "cell_type": "markdown",
      "metadata": {
        "id": "sFHPy_MTcUjN"
      },
      "source": [
        "Ahora comparamos dos conjuntos de datos: 'moroso' y 'no_moroso'. La prueba se utiliza para determinar si hay una diferencia significativa entre las distribuciones de estos dos conjuntos de datos."
      ]
    },
    {
      "cell_type": "code",
      "execution_count": null,
      "metadata": {
        "colab": {
          "base_uri": "https://localhost:8080/"
        },
        "id": "6GelKHh5Bvsy",
        "outputId": "01f6113e-f388-4132-95fa-514605874796"
      },
      "outputs": [],
      "source": [
        "\n",
        "# La hipotesis H1 es correcta"
      ]
    },
    {
      "cell_type": "code",
      "execution_count": null,
      "metadata": {
        "colab": {
          "base_uri": "https://localhost:8080/"
        },
        "id": "uIRkruE8Bvir",
        "outputId": "7af1c28e-50d5-4c48-8572-9c0eac99df3a"
      },
      "outputs": [],
      "source": []
    },
    {
      "cell_type": "markdown",
      "metadata": {
        "id": "Dcko4HlP-X3h"
      },
      "source": [
        "# **Jointplot**"
      ]
    },
    {
      "cell_type": "markdown",
      "metadata": {
        "id": "Loge7Y98cpS8"
      },
      "source": [
        "Un \"**jointplot**\" generalmente consta de los siguientes componentes:\n",
        "\n",
        "1. **Gráfico de dispersión (scatter plot):** En el centro del gráfico se muestra un gráfico de dispersión que representa la relación entre las dos variables. Cada punto en el gráfico de dispersión representa una observación en el conjunto de datos, y la posición de cada punto en el eje x e y corresponde a los valores de las dos variables en esa observación.\n",
        "\n",
        "2. **Histogramas marginales:** A lo largo de los márgenes superior e izquierdo del gráfico, se incluyen histogramas que muestran la distribución de cada variable por separado. Esto te permite ver cómo están distribuidas individualmente las dos variables.\n",
        "\n",
        "3. **Estimación de densidad de núcleo (KDE):** Algunos \"jointplots\" también incluyen estimaciones de la densidad de núcleo que representan visualmente la densidad de puntos en el gráfico de dispersión."
      ]
    },
    {
      "cell_type": "code",
      "execution_count": null,
      "metadata": {
        "colab": {
          "base_uri": "https://localhost:8080/"
        },
        "id": "AZJZDbG0BvXB",
        "outputId": "b332013a-2214-486b-d841-f66acbafa8b3"
      },
      "outputs": [],
      "source": [
        "# Recordando nuestro DataFrame\n"
      ]
    },
    {
      "cell_type": "code",
      "execution_count": null,
      "metadata": {
        "colab": {
          "base_uri": "https://localhost:8080/"
        },
        "id": "8Xx1Dyd9-lbB",
        "outputId": "92ee7664-96f0-4c00-fce6-8e4a3083bf47"
      },
      "outputs": [],
      "source": []
    },
    {
      "cell_type": "markdown",
      "metadata": {
        "id": "didPgPLkdJnT"
      },
      "source": [
        " Estamos visualizando la relación entre la edad y el límite de crédito en el conjunto de datos de tarjetas de crédito, así como obtener información sobre la distribución de ambas variables."
      ]
    },
    {
      "cell_type": "code",
      "execution_count": null,
      "metadata": {
        "colab": {
          "base_uri": "https://localhost:8080/"
        },
        "id": "sIU9K-Cb-lUR",
        "outputId": "373527e6-5861-400b-db7d-ca55a355f9ca"
      },
      "outputs": [],
      "source": []
    },
    {
      "cell_type": "markdown",
      "metadata": {
        "id": "4JuaqXVxdKe1"
      },
      "source": [
        "**Gráfico de Densidad de Núcleo (KDE):** En el centro del gráfico, en lugar de un gráfico de dispersión, se muestra un gráfico de densidad de núcleo (KDE). El KDE representa la densidad de probabilidad conjunta de las dos variables, 'edad' y 'límite'. En lugar de puntos individuales, el KDE proporciona una representación suave y continua de cómo se distribuyen las observaciones a lo largo de estas dos variables. Las áreas de alta densidad se representan con tonos más oscuros, mientras que las áreas de baja densidad se representan con tonos más claros."
      ]
    },
    {
      "cell_type": "code",
      "execution_count": null,
      "metadata": {
        "colab": {
          "base_uri": "https://localhost:8080/"
        },
        "id": "vGG5Exqz-lGq",
        "outputId": "f4ed476c-688c-408e-ef01-09a174d49694"
      },
      "outputs": [],
      "source": []
    },
    {
      "cell_type": "markdown",
      "metadata": {
        "id": "xyI5K8JGdMgl"
      },
      "source": [
        "**Gráfico de Hexágonos:** En el centro del gráfico, en lugar de un gráfico de dispersión, se muestra un gráfico de hexágonos. Este tipo de gráfico se utiliza para representar la densidad de observaciones en el espacio bidimensional formado por las variables 'edad' y 'límite'. Los hexágonos se superponen en el espacio y se sombrean de acuerdo con la densidad de observaciones. Los hexágonos más oscuros representan áreas de alta densidad, mientras que los más claros indican áreas de baja densidad."
      ]
    },
    {
      "cell_type": "code",
      "execution_count": null,
      "metadata": {
        "colab": {
          "base_uri": "https://localhost:8080/"
        },
        "id": "DI-iAQvo-k_N",
        "outputId": "101c3cc2-e446-483a-e4e8-7077d40550c4"
      },
      "outputs": [],
      "source": []
    },
    {
      "cell_type": "markdown",
      "metadata": {
        "id": "tIGy1qzSdNmy"
      },
      "source": [
        "La adición del argumento hue='moroso' agrega una dimensión de color al gráfico. Esto significa que las observaciones se colorean de acuerdo a su estado de morosidad ('moroso' o no 'moroso'). Esto permite distinguir visualmente las observaciones en el gráfico en función de su estado de morosidad. Por ejemplo, las observaciones morosas pueden colorearse de un color, mientras que las no morosas se colorearán de otro."
      ]
    },
    {
      "cell_type": "markdown",
      "metadata": {
        "id": "SZZ5Uwtl_k6S"
      },
      "source": [
        "# **Pairtplot**"
      ]
    },
    {
      "cell_type": "markdown",
      "metadata": {
        "id": "Xc7ZSf77eU1l"
      },
      "source": [
        "Un **pairplot** es una función en Seaborn que se utiliza para crear una matriz de gráficos de dispersión (scatter plots) y diagramas de densidad (KDE) para visualizar la relación entre múltiples variables en un conjunto de datos. Esta función es útil para explorar la relación entre pares de variables en un DataFrame y también para observar las distribuciones marginales de cada variable en la diagonal de la matriz.\n",
        "\n",
        "Las características clave de **pairplot** son las siguientes:\n",
        "\n",
        "1. **Matriz de Gráficos de Dispersión:** En la parte inferior izquierda de la matriz, se generan gráficos de dispersión que muestran la relación entre pares de variables. Cada celda en la matriz representa una combinación de dos variables, y el gráfico de dispersión muestra cómo se relacionan entre sí.\n",
        "\n",
        "2. **Matriz de Diagramas de Densidad (KDE):** En la parte superior derecha de la matriz, se generan diagramas de densidad de las variables. Estos diagramas de densidad muestran la distribución de cada variable por separado.\n",
        "\n",
        "3. **Distinguible por Color (Hue):** Al igual que en otras funciones de Seaborn, puedes usar el argumento hue para distinguir las observaciones por color en función de una variable categórica. Esto permite observar cómo se distribuyen las observaciones en los gráficos de dispersión en función de la categoría.\n",
        "\n",
        "4. **Opciones de Personalización:** pairplot ofrece diversas opciones de personalización para adaptar la visualización a tus necesidades, como activar regresiones lineales, usar colores personalizados y más.\n",
        "\n",
        "Un uso común de **pairplot** es explorar la relación entre múltiples variables numéricas en un conjunto de datos y buscar patrones, tendencias o correlaciones entre ellas. La matriz de gráficos de dispersión proporciona una visión general de cómo las variables se relacionan entre sí, mientras que los diagramas de densidad permiten examinar sus distribuciones individuales. Esto es útil en análisis exploratorios de datos y en la identificación de variables que puedan estar relacionadas en un estudio estadístico más profundo."
      ]
    },
    {
      "cell_type": "code",
      "execution_count": null,
      "metadata": {
        "colab": {
          "base_uri": "https://localhost:8080/",
          "height": 206
        },
        "id": "YZS5yqi8-k20",
        "outputId": "b1ebe36f-8137-44a1-b43a-a1eda9f8499c"
      },
      "outputs": [],
      "source": [
        "#Recordando nuestro DataFrame\n"
      ]
    },
    {
      "cell_type": "code",
      "execution_count": null,
      "metadata": {
        "colab": {
          "base_uri": "https://localhost:8080/",
          "height": 300
        },
        "id": "pqdVzsudABQ5",
        "outputId": "4036cdb6-f80d-44cc-f62e-f318f745a6a9"
      },
      "outputs": [],
      "source": [
        "# Analizando nuestro DataFrame\n"
      ]
    },
    {
      "cell_type": "code",
      "execution_count": null,
      "metadata": {
        "colab": {
          "base_uri": "https://localhost:8080/",
          "height": 1000
        },
        "id": "lIW_c70x_2tm",
        "outputId": "297ec9b5-e01c-46f5-d400-e7d2be3309a8"
      },
      "outputs": [],
      "source": []
    },
    {
      "cell_type": "markdown",
      "metadata": {
        "id": "Y3AqH7Hhe4wG"
      },
      "source": [
        "Nos muestra una matriz de gráficos de dispersión y diagramas de densidad que muestra la relación entre todas las variables numéricas en el DataFrame 'tarjetas'. Cada celda de la matriz contiene un gráfico de dispersión que muestra cómo se relacionan dos variables entre sí, y la diagonal de la matriz contiene diagramas de densidad que muestran la distribución de cada variable por separado.\n",
        "\n",
        "Este tipo de visualización es útil para explorar la relación entre todas las variables numéricas en tu conjunto de datos y detectar patrones o correlaciones que puedan ser relevantes para tu análisis."
      ]
    },
    {
      "cell_type": "code",
      "execution_count": null,
      "metadata": {
        "colab": {
          "base_uri": "https://localhost:8080/",
          "height": 1000
        },
        "id": "dISNtndf_2l6",
        "outputId": "4c278e32-b1ab-4503-ef43-d2b5db8568b5"
      },
      "outputs": [],
      "source": []
    },
    {
      "cell_type": "markdown",
      "metadata": {
        "id": "Ta4G9wrofFds"
      },
      "source": [
        "Las características clave de este gráfico son similares a las mencionadas anteriormente, pero con algunas adiciones:\n",
        "\n",
        "1. **Matriz de Gráficos de Dispersión:** La matriz de gráficos de dispersión muestra cómo se relacionan pares de variables numéricas. Cada celda de la matriz contiene un gráfico de dispersión que representa la relación entre dos variables. En este caso, las observaciones se distinguen por color según su 'escolaridad'.\n",
        "\n",
        "2. **Diagramas de Densidad (KDE):** En la diagonal de la matriz, se presentan diagramas de densidad que muestran la distribución de cada variable numérica. Los diagramas de densidad permiten observar la forma de la distribución de cada variable.\n",
        "\n",
        "3. **Distinguir por Color (Hue):** El argumento hue='escolaridad' permite distinguir las observaciones por color en función de la variable 'escolaridad'. Cada nivel de 'escolaridad' se representa con un color distinto en los gráficos de dispersión, lo que facilita la identificación de cómo se relacionan las variables en función del nivel educativo.\n",
        "\n",
        "4. **Paleta de Colores Personalizada:** El argumento palette='cividis' personaliza la paleta de colores utilizada en la visualización. La paleta 'cividis' es una paleta de colores perceptualmente uniforme que se utiliza para garantizar una representación precisa de los datos.\n",
        "\n",
        "En resumen, este \"pairplot\" te proporciona una matriz de gráficos de dispersión y diagramas de densidad que muestran la relación entre variables numéricas en tu conjunto de datos, mientras que el uso de 'escolaridad' como variable categórica permite diferenciar visualmente las observaciones por nivel educativo. La paleta de colores 'cividis' se utiliza para mejorar la percepción de los datos. Este tipo de visualización es valioso para explorar la relación entre variables y cómo se relacionan con la escolaridad de los titulares de tarjetas de crédito."
      ]
    }
  ],
  "metadata": {
    "colab": {
      "collapsed_sections": [
        "r2V1yUc-pVqk",
        "xXXTwSKcqB6s",
        "x61wWHmFsy3o",
        "r4SfrUiHwGko",
        "fKvXvShN0Tm7",
        "w3h98EkjM5y1",
        "CfIyry5T4z3d",
        "l7IQbHdr7BSo",
        "Z-smmYTR9NfN",
        "SKriH5fS9Sz-",
        "dBSMpvTeBRT9",
        "Dcko4HlP-X3h"
      ],
      "provenance": []
    },
    "kernelspec": {
      "display_name": "Python 3",
      "name": "python3"
    },
    "language_info": {
      "codemirror_mode": {
        "name": "ipython",
        "version": 3
      },
      "file_extension": ".py",
      "mimetype": "text/x-python",
      "name": "python",
      "nbconvert_exporter": "python",
      "pygments_lexer": "ipython3",
      "version": "3.12.4"
    }
  },
  "nbformat": 4,
  "nbformat_minor": 0
}
