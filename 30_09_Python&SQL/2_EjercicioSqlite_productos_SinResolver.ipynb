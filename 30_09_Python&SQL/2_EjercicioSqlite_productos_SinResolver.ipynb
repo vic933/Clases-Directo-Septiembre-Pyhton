{
 "cells": [
  {
   "cell_type": "code",
   "execution_count": 13,
   "metadata": {},
   "outputs": [],
   "source": [
    "import sqlite3\n",
    "from datetime import date "
   ]
  },
  {
   "cell_type": "markdown",
   "metadata": {},
   "source": [
    "---\n",
    "## Paso 1: Crear la Base de Datos y Tablas\n",
    "---\n",
    "#### Conexión a nuestra base de datos:"
   ]
  },
  {
   "cell_type": "code",
   "execution_count": 17,
   "metadata": {},
   "outputs": [],
   "source": [
    "# Crear y conectar a la base de datos SQLite\n",
    "conn =sqlite3.connect('PRODUCTOS.db')\n"
   ]
  },
  {
   "cell_type": "code",
   "execution_count": 18,
   "metadata": {},
   "outputs": [],
   "source": [
    "cursor = conn.cursor()"
   ]
  },
  {
   "cell_type": "code",
   "execution_count": null,
   "metadata": {},
   "outputs": [],
   "source": [
    "#conn.close()"
   ]
  },
  {
   "cell_type": "markdown",
   "metadata": {},
   "source": [
    "#### Creación de tablas en nuestra base de datos:\n",
    "- **fabricantes:** con información sobre los fabricantes. id_fabricante es clave primaria, nombre, y pais\n",
    "- **categorias:** con las categorías de productos. id_categoria es clave primaria, nombre\n",
    "- **productos:** con detalles de productos. id_productos es clave primaria, nombre,precio,fecha_lanzamiento,fabricante_id,categoria_id\n",
    "- **reseñas:** con las reseñas de clientes. id_reseña es clave primaria,producto_id,puntuacion,comentario,fecha\n",
    "\n",
    "#### **Creación de tablas en nuestra base de datos:** ####\n",
    "- **fabricantes:** con información sobre los fabricantes.\n",
    "- **categorias:** con las categorías de productos.\n",
    "- **productos:** con detalles de productos.\n",
    "- **reseñas:** con las reseñas de clientes.\n",
    "\n",
    "## 📂 Estructura de las Tablas\n",
    "\n",
    "### **1️⃣ Tabla `fabricantes`**\n",
    "Guarda la información de los fabricantes de los productos.\n",
    "\n",
    "| Columna | Tipo de Dato | Descripción y Restricciones |\n",
    "|---------|-------------|----------------------------|\n",
    "| `id` | `INTEGER` | Identificador único del fabricante (`PRIMARY KEY`). |\n",
    "| `nombre` | `TEXT` | Nombre del fabricante (`NOT NULL`). |\n",
    "| `pais` | `TEXT` | País de origen del fabricante (`NOT NULL`). |\n",
    "\n",
    "---\n",
    "\n",
    "### **2️⃣ Tabla `categorias`**\n",
    "Almacena las diferentes categorías en las que se pueden clasificar los productos.\n",
    "\n",
    "| Columna | Tipo de Dato | Descripción y Restricciones |\n",
    "|---------|-------------|----------------------------|\n",
    "| `id` | `INTEGER` | Identificador único de la categoría (`PRIMARY KEY`). |\n",
    "| `nombre` | `TEXT` | Nombre de la categoría (`NOT NULL`). |\n",
    "\n",
    "---\n",
    "\n",
    "### **3️⃣ Tabla `productos`**\n",
    "Guarda información detallada sobre los productos.\n",
    "\n",
    "| Columna | Tipo de Dato | Descripción y Restricciones |\n",
    "|---------|-------------|----------------------------|\n",
    "| `id` | `INTEGER` | Identificador único del producto (`PRIMARY KEY`). |\n",
    "| `nombre` | `TEXT` | Nombre del producto (`NOT NULL`). |\n",
    "| `precio` | `REAL` | Precio del producto en moneda local (`NOT NULL`, **no puede ser negativo**). |\n",
    "| `fecha_lanzamiento` | `DATE` | Fecha de lanzamiento del producto (`NOT NULL`, formato `YYYY-MM-DD`). |\n",
    "| `fabricante_id` | `INTEGER` | Identificador del fabricante (**clave foránea** que referencia `fabricantes.id`). |\n",
    "| `categoria_id` | `INTEGER` | Identificador de la categoría (**clave foránea** que referencia `categorias.id`). |\n",
    "\n",
    "---\n",
    "\n",
    "### **4️⃣ Tabla `reseñas`**\n",
    "Registra las reseñas que los clientes dejan sobre los productos.\n",
    "\n",
    "| Columna | Tipo de Dato | Descripción y Restricciones |\n",
    "|---------|-------------|----------------------------|\n",
    "| `id` | `INTEGER` | Identificador único de la reseña (`PRIMARY KEY`). |\n",
    "| `producto_id` | `INTEGER` | Identificador del producto reseñado (`NOT NULL`, **clave foránea** que referencia `productos.id`). |\n",
    "| `puntuacion` | `INTEGER` | Puntuación dada por el cliente (`NOT NULL`, valores entre **1 y 5**). |\n",
    "| `comentario` | `TEXT` | Comentario opcional del cliente (puede ser `NULL`). |\n",
    "| `fecha` | `DATE` | Fecha de la reseña (`NOT NULL`, formato `YYYY-MM-DD`). |\n"
   ]
  },
  {
   "cell_type": "code",
   "execution_count": 23,
   "metadata": {},
   "outputs": [
    {
     "data": {
      "text/plain": [
       "<sqlite3.Cursor at 0x1e4665bf540>"
      ]
     },
     "execution_count": 23,
     "metadata": {},
     "output_type": "execute_result"
    }
   ],
   "source": [
    "# Creación de la tabla de fabricantes\n",
    "cursor.execute(\n",
    "    '''CREATE TABLE IF NOT EXISTS fabricantes(\n",
    "        id INTEGER PRIMARY KEY,\n",
    "        nombre TEXT NOT NULL,\n",
    "        pais TEXT NOT NULL\n",
    "    )\n",
    "'''\n",
    ")\n"
   ]
  },
  {
   "cell_type": "code",
   "execution_count": 24,
   "metadata": {},
   "outputs": [
    {
     "data": {
      "text/plain": [
       "<sqlite3.Cursor at 0x1e4665bf540>"
      ]
     },
     "execution_count": 24,
     "metadata": {},
     "output_type": "execute_result"
    }
   ],
   "source": [
    "# Creación de la tabla de categorías\n",
    "cursor.execute(\n",
    "    '''CREATE TABLE IF NOT EXISTS categorias(\n",
    "        id INTEGER PRIMARY KEY,\n",
    "        nombre TEXT NOT NULL,\n",
    "        pais TEXT NOT NULL\n",
    "    )\n",
    "'''\n",
    ")\n"
   ]
  },
  {
   "cell_type": "code",
   "execution_count": 22,
   "metadata": {},
   "outputs": [
    {
     "data": {
      "text/plain": [
       "<sqlite3.Cursor at 0x1e4665bf540>"
      ]
     },
     "execution_count": 22,
     "metadata": {},
     "output_type": "execute_result"
    }
   ],
   "source": [
    "#cursor.execute('''DROP TABLE fabricantes''')"
   ]
  },
  {
   "cell_type": "code",
   "execution_count": 25,
   "metadata": {},
   "outputs": [
    {
     "data": {
      "text/plain": [
       "<sqlite3.Cursor at 0x1e4665bf540>"
      ]
     },
     "execution_count": 25,
     "metadata": {},
     "output_type": "execute_result"
    }
   ],
   "source": [
    "# Creación de la tabla de productos\n",
    "cursor.execute(\n",
    "    '''CREATE TABLE IF NOT EXISTS productos(\n",
    "        id INTEGER PRIMARY KEY,\n",
    "        nombre TEXT NOT NULL,\n",
    "        precio REAL NOT NULL,\n",
    "        fecha_lanzamiento DATE NOT NULL,\n",
    "        fabricante_id INTEGER,\n",
    "        categoria_id INTEGER,\n",
    "        FOREIGN KEY(fabricante_id) REFERENCES fabricantes (id)\n",
    "        FOREIGN KEY(categoria_id) REFERENCES categorias (id)\n",
    "    )\n",
    "'''\n",
    ")"
   ]
  },
  {
   "cell_type": "code",
   "execution_count": 26,
   "metadata": {},
   "outputs": [
    {
     "data": {
      "text/plain": [
       "<sqlite3.Cursor at 0x1e4665bf540>"
      ]
     },
     "execution_count": 26,
     "metadata": {},
     "output_type": "execute_result"
    }
   ],
   "source": [
    "# Creación de la tabla de reseñas\n",
    "cursor.execute(\n",
    "    '''CREATE TABLE IF NOT EXISTS reseñas(\n",
    "        id INTEGER PRIMARY KEY,\n",
    "        producto_id INTEGER NOT NULL,\n",
    "        puntuacion INTEGER NOT NULL,\n",
    "        comentario TEXT,\n",
    "        fecha DATE NOT NULL,\n",
    "        FOREIGN KEY (producto_id) REFERENCES producto(id)\n",
    "    )\n",
    "'''\n",
    ")"
   ]
  },
  {
   "cell_type": "code",
   "execution_count": null,
   "metadata": {},
   "outputs": [],
   "source": [
    "# cursor.execute('''DROP TABLE productos''')\n",
    "# cursor.execute('''DROP TABLE categorias''')\n",
    "# cursor.execute('''DROP TABLE fabricante''')\n",
    "# cursor.execute('''DROP TABLE reseñas''')"
   ]
  },
  {
   "cell_type": "code",
   "execution_count": null,
   "metadata": {},
   "outputs": [],
   "source": [
    "#cursor.execute('''ALTER TABLE reseñas DROP COLUMN categoria_id''')"
   ]
  },
  {
   "cell_type": "code",
   "execution_count": null,
   "metadata": {},
   "outputs": [],
   "source": [
    "#conn.close()"
   ]
  },
  {
   "cell_type": "markdown",
   "metadata": {},
   "source": [
    "---\n",
    "## Paso 2: Añadir información en la Base de Datos\n",
    "---"
   ]
  },
  {
   "cell_type": "markdown",
   "metadata": {},
   "source": [
    "#### Insertar datos en las tablas en nuestra base de datos:"
   ]
  },
  {
   "cell_type": "code",
   "execution_count": 27,
   "metadata": {},
   "outputs": [],
   "source": [
    "# Insertar datos en la tabla fabricantes\n",
    "fabricantes = [\n",
    "    (1, \"AI Corp\", \"EE.UU.\"),\n",
    "    (2, \"Tech Innovators\", \"Japón\"),\n",
    "    (3, \"Home Robotics\", \"Alemania\"),\n",
    "    (4, \"Smart Solutions\", \"Francia\"),\n",
    "    (5, \"Voice Masters\", \"Corea del Sur\")\n",
    "]"
   ]
  },
  {
   "cell_type": "code",
   "execution_count": 28,
   "metadata": {},
   "outputs": [
    {
     "data": {
      "text/plain": [
       "<sqlite3.Cursor at 0x1e4665bf540>"
      ]
     },
     "execution_count": 28,
     "metadata": {},
     "output_type": "execute_result"
    }
   ],
   "source": [
    "# Insertar datos en la tabla fabricantes\n",
    "\n",
    "cursor.executemany('INSERT INTO fabricantes VALUES (?,?,?)',fabricantes)"
   ]
  },
  {
   "cell_type": "code",
   "execution_count": null,
   "metadata": {},
   "outputs": [],
   "source": [
    "#confirmar los cambios\n",
    "conn.commit()"
   ]
  },
  {
   "cell_type": "code",
   "execution_count": null,
   "metadata": {},
   "outputs": [
    {
     "data": {
      "text/plain": [
       "<sqlite3.Cursor at 0x1e4665bf540>"
      ]
     },
     "execution_count": 32,
     "metadata": {},
     "output_type": "execute_result"
    }
   ],
   "source": [
    "cursor.execute('''ALTER TABLE categorias DROP COLUMN pais''')\n",
    "conn.commit()"
   ]
  },
  {
   "cell_type": "code",
   "execution_count": 34,
   "metadata": {},
   "outputs": [],
   "source": [
    "# Insertar datos en la tabla categorias\n",
    "categorias = [\n",
    "    (1, \"Asistentes de Voz\"),\n",
    "    (2, \"Robots de Limpieza\"),\n",
    "    (3, \"Seguridad Inteligente\")\n",
    "]\n",
    "cursor.executemany('INSERT INTO categorias VALUES (?,?)',categorias)\n",
    "#confirmar los cambios\n",
    "conn.commit()"
   ]
  },
  {
   "cell_type": "code",
   "execution_count": 35,
   "metadata": {},
   "outputs": [],
   "source": [
    "# Insertar datos en la tabla productos\n",
    "productos = [\n",
    "    (1, \"Echo Dot\", 49.99, \"2022-07-20\", 1, 1),\n",
    "    (2, \"Google Home\", 89.99, \"2021-09-10\", 2, 1),\n",
    "    (3, \"Roomba S9\", 999.99, \"2020-03-15\", 3, 2),\n",
    "    (4, \"Nest Cam\", 199.99, \"2022-01-10\", 4, 3),\n",
    "    (5, \"Samsung Bot\", 1299.99, \"2021-11-05\", 5, 2)\n",
    "]\n",
    "cursor.executemany('INSERT INTO productos VALUES (?,?,?,?,?,?)',productos)\n",
    "#confirmar los cambios\n",
    "conn.commit()"
   ]
  },
  {
   "cell_type": "code",
   "execution_count": 36,
   "metadata": {},
   "outputs": [],
   "source": [
    "# Insertar datos en la tabla reseñas\n",
    "\n",
    "reseñas = [\n",
    "    (1, 1,5 ,\"Muy útil\", \"2023-02-05\"),\n",
    "    (2, 1, 4, \"Buena calidad\", \"2023-03-20\"),\n",
    "    (3, 2, 3, \"Funciona bien\", \"2023-05-17\"),\n",
    "    (4, 3, 5, \"Excelente para limpiar\", \"2023-06-02\"),\n",
    "    (5, 4, 2, \"No muy confiable\", \"2023-07-01\")\n",
    "]\n",
    "cursor.executemany(\"INSERT INTO reseñas VALUES (?, ?, ?, ?, ?)\", reseñas)\n",
    "#confirmar los cambios\n",
    "conn.commit()"
   ]
  },
  {
   "cell_type": "code",
   "execution_count": 37,
   "metadata": {},
   "outputs": [],
   "source": [
    "# Guardar los cambios y cerrar la conexión\n",
    "conn.close()"
   ]
  },
  {
   "cell_type": "markdown",
   "metadata": {},
   "source": [
    "---\n",
    "# EJERCICIOS Y CONSULTAS EN SQL\n",
    "---"
   ]
  },
  {
   "cell_type": "code",
   "execution_count": 38,
   "metadata": {},
   "outputs": [],
   "source": [
    "#conectar a la base de datos SQLite\n",
    "conn = sqlite3.connect('productos.db')\n",
    "cursor = conn.cursor()"
   ]
  },
  {
   "cell_type": "markdown",
   "metadata": {},
   "source": [
    "1. Obtener todos los productos."
   ]
  },
  {
   "cell_type": "code",
   "execution_count": 42,
   "metadata": {},
   "outputs": [
    {
     "data": {
      "text/plain": [
       "<sqlite3.Cursor at 0x1e4668427c0>"
      ]
     },
     "execution_count": 42,
     "metadata": {},
     "output_type": "execute_result"
    }
   ],
   "source": [
    "# Ejecutar la consulta\n",
    "cursor.execute(\n",
    "    ''' SELECT * FROM productos'''\n",
    ")\n",
    "\n"
   ]
  },
  {
   "cell_type": "code",
   "execution_count": 43,
   "metadata": {},
   "outputs": [
    {
     "data": {
      "text/plain": [
       "[(1, 'Echo Dot', 49.99, '2022-07-20', 1, 1),\n",
       " (2, 'Google Home', 89.99, '2021-09-10', 2, 1),\n",
       " (3, 'Roomba S9', 999.99, '2020-03-15', 3, 2),\n",
       " (4, 'Nest Cam', 199.99, '2022-01-10', 4, 3),\n",
       " (5, 'Samsung Bot', 1299.99, '2021-11-05', 5, 2)]"
      ]
     },
     "execution_count": 43,
     "metadata": {},
     "output_type": "execute_result"
    }
   ],
   "source": [
    "# Obtener y mostrar los resultados\n",
    "consutla_producto = cursor.fetchall()\n",
    "consutla_producto"
   ]
  },
  {
   "cell_type": "code",
   "execution_count": 45,
   "metadata": {},
   "outputs": [
    {
     "data": {
      "text/plain": [
       "(5, 'Samsung Bot', 1299.99, '2021-11-05', 5, 2)"
      ]
     },
     "execution_count": 45,
     "metadata": {},
     "output_type": "execute_result"
    }
   ],
   "source": [
    "consutla_producto[4]"
   ]
  },
  {
   "cell_type": "code",
   "execution_count": 49,
   "metadata": {},
   "outputs": [
    {
     "name": "stdout",
     "output_type": "stream",
     "text": [
      "(1, 'Echo Dot', 49.99, '2022-07-20', 1, 1)\n",
      "(2, 'Google Home', 89.99, '2021-09-10', 2, 1)\n",
      "(3, 'Roomba S9', 999.99, '2020-03-15', 3, 2)\n",
      "(4, 'Nest Cam', 199.99, '2022-01-10', 4, 3)\n",
      "(5, 'Samsung Bot', 1299.99, '2021-11-05', 5, 2)\n"
     ]
    }
   ],
   "source": [
    "for i in consutla_producto:\n",
    "    print(i)"
   ]
  },
  {
   "cell_type": "markdown",
   "metadata": {},
   "source": [
    "2. Obtener todos los productos que tienen un precio mayor a 100."
   ]
  },
  {
   "cell_type": "code",
   "execution_count": null,
   "metadata": {},
   "outputs": [
    {
     "data": {
      "text/plain": [
       "[(3, 'Roomba S9', 999.99, '2020-03-15', 3, 2),\n",
       " (4, 'Nest Cam', 199.99, '2022-01-10', 4, 3),\n",
       " (5, 'Samsung Bot', 1299.99, '2021-11-05', 5, 2)]"
      ]
     },
     "execution_count": 50,
     "metadata": {},
     "output_type": "execute_result"
    }
   ],
   "source": [
    "# Ejecutar la consulta\n",
    "cursor.execute('''  SELECT * \n",
    "                    FROM \n",
    "                        productos \n",
    "                    WHERE precio > 100;\n",
    "               ''')\n",
    "\n",
    "# Obtener y mostrar los resultados\n",
    "cursor.fetchall()"
   ]
  },
  {
   "cell_type": "markdown",
   "metadata": {},
   "source": [
    "3. Contar cuántos productos hay en la base de datos."
   ]
  },
  {
   "cell_type": "code",
   "execution_count": 51,
   "metadata": {},
   "outputs": [
    {
     "data": {
      "text/plain": [
       "[(5,)]"
      ]
     },
     "execution_count": 51,
     "metadata": {},
     "output_type": "execute_result"
    }
   ],
   "source": [
    "# Obtener y mostrar los resultados\n",
    "cursor.execute('''  SELECT COUNT(*) \n",
    "                    FROM \n",
    "                        productos;\n",
    "               ''')\n",
    "\n",
    "# Obtener y mostrar los resultados\n",
    "cursor.fetchall()\n"
   ]
  },
  {
   "cell_type": "markdown",
   "metadata": {},
   "source": [
    "4. Listar los productos lanzados en el año 2022."
   ]
  },
  {
   "cell_type": "code",
   "execution_count": 55,
   "metadata": {},
   "outputs": [
    {
     "data": {
      "text/plain": [
       "[(1, 'Echo Dot', 49.99, '2022-07-20', 1, 1),\n",
       " (4, 'Nest Cam', 199.99, '2022-01-10', 4, 3)]"
      ]
     },
     "execution_count": 55,
     "metadata": {},
     "output_type": "execute_result"
    }
   ],
   "source": [
    "# Obtener y mostrar los resultados\n",
    "cursor.execute('''  SELECT *\n",
    "                    FROM \n",
    "                        productos\n",
    "                    WHERE \n",
    "                        strftime('%Y' , fecha_lanzamiento) = '2022'\n",
    "               ''')\n",
    "\n",
    "# Obtener y mostrar los resultados\n",
    "cursor.fetchall()\n"
   ]
  },
  {
   "cell_type": "code",
   "execution_count": 56,
   "metadata": {},
   "outputs": [
    {
     "data": {
      "text/plain": [
       "[(1, 'Echo Dot', 49.99, '2022-07-20', 1, 1),\n",
       " (4, 'Nest Cam', 199.99, '2022-01-10', 4, 3)]"
      ]
     },
     "execution_count": 56,
     "metadata": {},
     "output_type": "execute_result"
    }
   ],
   "source": [
    "# Ejecutar la consulta\n",
    "cursor.execute('''  SELECT * \n",
    "                    FROM \n",
    "                        productos\n",
    "                    WHERE \n",
    "                        Date(fecha_lanzamiento) >= '2022-01-01';\n",
    "               ''')\n",
    "\n",
    "# Obtener y mostrar los resultados\n",
    "cursor.fetchall()"
   ]
  },
  {
   "cell_type": "markdown",
   "metadata": {},
   "source": [
    "5. Obtener el producto más caro."
   ]
  },
  {
   "cell_type": "code",
   "execution_count": 57,
   "metadata": {},
   "outputs": [
    {
     "data": {
      "text/plain": [
       "[(5, 'Samsung Bot', 1299.99, '2021-11-05', 5, 2)]"
      ]
     },
     "execution_count": 57,
     "metadata": {},
     "output_type": "execute_result"
    }
   ],
   "source": [
    "# Ejecutar la consulta\n",
    "cursor.execute('''  SELECT * \n",
    "                    FROM \n",
    "                        productos\n",
    "                    ORDER BY precio DESC LIMIT 1;\n",
    "               ''')\n",
    "\n",
    "# Obtener y mostrar los resultados\n",
    "cursor.fetchall()\n"
   ]
  },
  {
   "cell_type": "code",
   "execution_count": 59,
   "metadata": {},
   "outputs": [
    {
     "data": {
      "text/plain": [
       "[('Samsung Bot', 1299.99)]"
      ]
     },
     "execution_count": 59,
     "metadata": {},
     "output_type": "execute_result"
    }
   ],
   "source": [
    "# Ejecutar la consulta\n",
    "cursor.execute('''  SELECT \n",
    "                        nombre,\n",
    "                        MAX(precio) as PrecioMaximo \n",
    "                    FROM \n",
    "                        productos;\n",
    "               ''')\n",
    "\n",
    "# Obtener y mostrar los resultados\n",
    "cursor.fetchall()"
   ]
  },
  {
   "cell_type": "markdown",
   "metadata": {},
   "source": [
    "6. Calcular el precio promedio de todos los productos."
   ]
  },
  {
   "cell_type": "code",
   "execution_count": 60,
   "metadata": {},
   "outputs": [
    {
     "data": {
      "text/plain": [
       "[(527.99,)]"
      ]
     },
     "execution_count": 60,
     "metadata": {},
     "output_type": "execute_result"
    }
   ],
   "source": [
    "# Ejecutar la consulta\n",
    "cursor.execute('''  SELECT                         \n",
    "                        AVG(precio) as PrecioPromedio \n",
    "                    FROM \n",
    "                        productos;\n",
    "               ''')\n",
    "\n",
    "# Obtener y mostrar los resultados\n",
    "cursor.fetchall()"
   ]
  },
  {
   "cell_type": "markdown",
   "metadata": {},
   "source": [
    "7. Obtener los productos de la categoría \"Asistentes de Voz\"."
   ]
  },
  {
   "cell_type": "code",
   "execution_count": 62,
   "metadata": {},
   "outputs": [
    {
     "data": {
      "text/plain": [
       "[(1, 'Echo Dot', 49.99, '2022-07-20', 1, 1),\n",
       " (2, 'Google Home', 89.99, '2021-09-10', 2, 1)]"
      ]
     },
     "execution_count": 62,
     "metadata": {},
     "output_type": "execute_result"
    }
   ],
   "source": [
    "# Ejecutar la consulta\n",
    "cursor.execute('''  SELECT                         \n",
    "                        productos.*\n",
    "                    FROM \n",
    "                        productos\n",
    "                    JOIN categorias ON productos.categoria_id = categorias.id\n",
    "                    WHERE categorias.nombre = 'Asistentes de Voz'\n",
    "               \n",
    "               ''')\n",
    "\n",
    "# Obtener y mostrar los resultados\n",
    "cursor.fetchall()\n",
    "\n"
   ]
  },
  {
   "cell_type": "code",
   "execution_count": 63,
   "metadata": {},
   "outputs": [
    {
     "data": {
      "text/plain": [
       "[(1, 'Echo Dot', 49.99, '2022-07-20', 1, 1),\n",
       " (2, 'Google Home', 89.99, '2021-09-10', 2, 1)]"
      ]
     },
     "execution_count": 63,
     "metadata": {},
     "output_type": "execute_result"
    }
   ],
   "source": [
    "# Ejecutar la consulta\n",
    "cursor.execute('''  SELECT                         \n",
    "                        productos.*\n",
    "                    FROM \n",
    "                        productos\n",
    "                    JOIN categorias ON productos.categoria_id = categorias.id\n",
    "                    WHERE categorias.id = '1'\n",
    "               \n",
    "               ''')\n",
    "\n",
    "# Obtener y mostrar los resultados\n",
    "cursor.fetchall()\n"
   ]
  },
  {
   "cell_type": "markdown",
   "metadata": {},
   "source": [
    "8. Contar cuántos productos tiene cada fabricante."
   ]
  },
  {
   "cell_type": "code",
   "execution_count": 66,
   "metadata": {},
   "outputs": [
    {
     "data": {
      "text/plain": [
       "[(1, 'AI Corp', 'EE.UU.', 1, 'Echo Dot', 49.99, '2022-07-20', 1, 1),\n",
       " (2, 'Tech Innovators', 'Japón', 2, 'Google Home', 89.99, '2021-09-10', 2, 1),\n",
       " (3, 'Home Robotics', 'Alemania', 3, 'Roomba S9', 999.99, '2020-03-15', 3, 2),\n",
       " (4, 'Smart Solutions', 'Francia', 4, 'Nest Cam', 199.99, '2022-01-10', 4, 3),\n",
       " (5,\n",
       "  'Voice Masters',\n",
       "  'Corea del Sur',\n",
       "  5,\n",
       "  'Samsung Bot',\n",
       "  1299.99,\n",
       "  '2021-11-05',\n",
       "  5,\n",
       "  2)]"
      ]
     },
     "execution_count": 66,
     "metadata": {},
     "output_type": "execute_result"
    }
   ],
   "source": [
    "# Ejecutar la consulta\n",
    "cursor.execute('''  SELECT                         \n",
    "                      *\n",
    "                    FROM \n",
    "                        fabricantes\n",
    "                    LEFT JOIN productos ON fabricantes.id = productos.fabricante_id\n",
    "\n",
    "               \n",
    "               ''')\n",
    "\n",
    "# Obtener y mostrar los resultados\n",
    "cursor.fetchall()\n"
   ]
  },
  {
   "cell_type": "code",
   "execution_count": 68,
   "metadata": {},
   "outputs": [
    {
     "data": {
      "text/html": [
       "<div>\n",
       "<style scoped>\n",
       "    .dataframe tbody tr th:only-of-type {\n",
       "        vertical-align: middle;\n",
       "    }\n",
       "\n",
       "    .dataframe tbody tr th {\n",
       "        vertical-align: top;\n",
       "    }\n",
       "\n",
       "    .dataframe thead th {\n",
       "        text-align: right;\n",
       "    }\n",
       "</style>\n",
       "<table border=\"1\" class=\"dataframe\">\n",
       "  <thead>\n",
       "    <tr style=\"text-align: right;\">\n",
       "      <th></th>\n",
       "      <th>0</th>\n",
       "      <th>1</th>\n",
       "    </tr>\n",
       "  </thead>\n",
       "  <tbody>\n",
       "    <tr>\n",
       "      <th>0</th>\n",
       "      <td>AI Corp</td>\n",
       "      <td>1</td>\n",
       "    </tr>\n",
       "    <tr>\n",
       "      <th>1</th>\n",
       "      <td>Home Robotics</td>\n",
       "      <td>1</td>\n",
       "    </tr>\n",
       "    <tr>\n",
       "      <th>2</th>\n",
       "      <td>Smart Solutions</td>\n",
       "      <td>1</td>\n",
       "    </tr>\n",
       "    <tr>\n",
       "      <th>3</th>\n",
       "      <td>Tech Innovators</td>\n",
       "      <td>1</td>\n",
       "    </tr>\n",
       "    <tr>\n",
       "      <th>4</th>\n",
       "      <td>Voice Masters</td>\n",
       "      <td>1</td>\n",
       "    </tr>\n",
       "  </tbody>\n",
       "</table>\n",
       "</div>"
      ],
      "text/plain": [
       "                 0  1\n",
       "0          AI Corp  1\n",
       "1    Home Robotics  1\n",
       "2  Smart Solutions  1\n",
       "3  Tech Innovators  1\n",
       "4    Voice Masters  1"
      ]
     },
     "execution_count": 68,
     "metadata": {},
     "output_type": "execute_result"
    }
   ],
   "source": [
    "import pandas as pd\n",
    "# Ejecutar la consulta\n",
    "cursor.execute('''  SELECT                         \n",
    "                      fabricantes.nombre,\n",
    "                      COUNT(productos.id) as num_productos\n",
    "                    FROM \n",
    "                        fabricantes\n",
    "                    LEFT JOIN productos ON fabricantes.id = productos.fabricante_id       \n",
    "                    GROUP BY fabricantes.nombre;        \n",
    "               ''')\n",
    "\n",
    "# Obtener y mostrar los resultados\n",
    "df =pd.DataFrame(cursor.fetchall())\n",
    "df"
   ]
  },
  {
   "cell_type": "markdown",
   "metadata": {},
   "source": [
    "9. Obtener las reseñas del producto \"Echo Dot\"."
   ]
  },
  {
   "cell_type": "code",
   "execution_count": null,
   "metadata": {},
   "outputs": [],
   "source": [
    "# Ejecutar la consulta\n",
    "\n",
    "\n",
    "# Obtener y mostrar los resultados\n",
    "\n",
    "\n"
   ]
  },
  {
   "cell_type": "markdown",
   "metadata": {},
   "source": [
    "10. Obtener la puntuación promedio de cada producto."
   ]
  },
  {
   "cell_type": "code",
   "execution_count": null,
   "metadata": {},
   "outputs": [],
   "source": [
    "# Ejecutar la consulta\n",
    "\n",
    "\n",
    "# Obtener y mostrar los resultados\n"
   ]
  },
  {
   "cell_type": "markdown",
   "metadata": {},
   "source": [
    "11. Listar los fabricantes y el precio promedio de sus productos."
   ]
  },
  {
   "cell_type": "code",
   "execution_count": null,
   "metadata": {},
   "outputs": [],
   "source": [
    "# Ejecutar la consulta\n",
    "\n",
    "\n",
    "\n",
    "\n",
    "# Obtener y mostrar los resultados\n"
   ]
  },
  {
   "cell_type": "markdown",
   "metadata": {},
   "source": [
    "12. Listar todas las categorías con al menos un producto."
   ]
  },
  {
   "cell_type": "code",
   "execution_count": null,
   "metadata": {},
   "outputs": [],
   "source": [
    "# Ejecutar la consulta\n",
    "\n",
    "\n",
    "# Obtener y mostrar los resultados\n",
    "\n",
    "\n"
   ]
  },
  {
   "cell_type": "markdown",
   "metadata": {},
   "source": [
    "13. Obtener el producto con la menor puntuación en reseñas."
   ]
  },
  {
   "cell_type": "code",
   "execution_count": null,
   "metadata": {},
   "outputs": [],
   "source": [
    "# Ejecutar la consulta\n",
    "\n",
    "\n",
    "# Obtener y mostrar los resultados\n",
    "\n",
    "\n"
   ]
  },
  {
   "cell_type": "markdown",
   "metadata": {},
   "source": [
    "14. Listar las reseñas de productos lanzados en 2021 o después."
   ]
  },
  {
   "cell_type": "code",
   "execution_count": null,
   "metadata": {},
   "outputs": [],
   "source": [
    "# Ejecutar la consulta\n",
    "\n",
    "\n",
    "# Obtener y mostrar los resultados\n"
   ]
  },
  {
   "cell_type": "markdown",
   "metadata": {},
   "source": [
    "15. Contar el total de reseñas por cada producto."
   ]
  },
  {
   "cell_type": "code",
   "execution_count": null,
   "metadata": {},
   "outputs": [],
   "source": [
    "# Ejecutar la consulta\n",
    "\n",
    "\n",
    "# Obtener y mostrar los resultados\n"
   ]
  },
  {
   "cell_type": "markdown",
   "metadata": {},
   "source": [
    "16. Listar los productos que no tienen ninguna reseña."
   ]
  },
  {
   "cell_type": "code",
   "execution_count": null,
   "metadata": {},
   "outputs": [],
   "source": [
    "# Ejecutar la consulta\n",
    "\n",
    "\n",
    "# Obtener y mostrar los resultados\n"
   ]
  },
  {
   "cell_type": "markdown",
   "metadata": {},
   "source": [
    "17. Obtener los productos con una puntuación promedio mayor o igual a 4."
   ]
  },
  {
   "cell_type": "code",
   "execution_count": null,
   "metadata": {},
   "outputs": [],
   "source": [
    "# Ejecutar la consulta\n",
    "\n",
    "# Obtener y mostrar los resultados\n"
   ]
  },
  {
   "cell_type": "markdown",
   "metadata": {},
   "source": [
    "18. Listar todos los productos junto con el país de su fabricante."
   ]
  },
  {
   "cell_type": "code",
   "execution_count": null,
   "metadata": {},
   "outputs": [],
   "source": [
    "# Ejecutar la consulta\n",
    "\n",
    "\n",
    "\n",
    "# Obtener y mostrar los resultados\n"
   ]
  },
  {
   "cell_type": "markdown",
   "metadata": {},
   "source": [
    "19. Obtener la fecha de la última reseña para cada producto."
   ]
  },
  {
   "cell_type": "code",
   "execution_count": null,
   "metadata": {},
   "outputs": [],
   "source": [
    "# Ejecutar la consulta\n",
    "\n",
    "\n",
    "# Obtener y mostrar los resultados\n"
   ]
  },
  {
   "cell_type": "markdown",
   "metadata": {},
   "source": [
    "20. Obtener el número de reseñas por mes para cada producto."
   ]
  },
  {
   "cell_type": "code",
   "execution_count": null,
   "metadata": {},
   "outputs": [],
   "source": [
    "# Ejecutar la consulta\n",
    "\n",
    "# Obtener y mostrar los resultados\n"
   ]
  }
 ],
 "metadata": {
  "kernelspec": {
   "display_name": "Python 3",
   "language": "python",
   "name": "python3"
  },
  "language_info": {
   "codemirror_mode": {
    "name": "ipython",
    "version": 3
   },
   "file_extension": ".py",
   "mimetype": "text/x-python",
   "name": "python",
   "nbconvert_exporter": "python",
   "pygments_lexer": "ipython3",
   "version": "3.12.0"
  }
 },
 "nbformat": 4,
 "nbformat_minor": 2
}
