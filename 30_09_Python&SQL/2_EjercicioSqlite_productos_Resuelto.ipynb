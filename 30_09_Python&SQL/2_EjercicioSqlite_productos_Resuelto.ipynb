{
 "cells": [
  {
   "cell_type": "code",
   "execution_count": null,
   "metadata": {},
   "outputs": [],
   "source": [
    "import sqlite3\n",
    "from datetime import date"
   ]
  },
  {
   "cell_type": "markdown",
   "metadata": {},
   "source": [
    "---\n",
    "## Paso 1: Crear la Base de Datos y Tablas\n",
    "---\n",
    "#### Conexión a nuestra base de datos:"
   ]
  },
  {
   "cell_type": "code",
   "execution_count": null,
   "metadata": {},
   "outputs": [],
   "source": [
    "# Crear y conectar a la base de datos SQLite\n",
    "conn = sqlite3.connect('PRODUCTOS.db')\n",
    "cursor = conn.cursor()\n"
   ]
  },
  {
   "cell_type": "code",
   "execution_count": null,
   "metadata": {},
   "outputs": [],
   "source": [
    "# conn.close()#cerrar conexion BD"
   ]
  },
  {
   "cell_type": "markdown",
   "metadata": {},
   "source": [
    "#### **Creación de tablas en nuestra base de datos:** ####\n",
    "- **fabricantes:** con información sobre los fabricantes.\n",
    "- **categorias:** con las categorías de productos.\n",
    "- **productos:** con detalles de productos.\n",
    "- **reseñas:** con las reseñas de clientes.\n",
    "\n",
    "## 📂 Estructura de las Tablas\n",
    "\n",
    "### **1️⃣ Tabla `fabricantes`**\n",
    "Guarda la información de los fabricantes de los productos.\n",
    "\n",
    "| Columna | Tipo de Dato | Descripción y Restricciones |\n",
    "|---------|-------------|----------------------------|\n",
    "| `id` | `INTEGER` | Identificador único del fabricante (`PRIMARY KEY`). |\n",
    "| `nombre` | `TEXT` | Nombre del fabricante (`NOT NULL`). |\n",
    "| `pais` | `TEXT` | País de origen del fabricante (`NOT NULL`). |\n",
    "\n",
    "---\n",
    "\n",
    "### **2️⃣ Tabla `categorias`**\n",
    "Almacena las diferentes categorías en las que se pueden clasificar los productos.\n",
    "\n",
    "| Columna | Tipo de Dato | Descripción y Restricciones |\n",
    "|---------|-------------|----------------------------|\n",
    "| `id` | `INTEGER` | Identificador único de la categoría (`PRIMARY KEY`). |\n",
    "| `nombre` | `TEXT` | Nombre de la categoría (`NOT NULL`). |\n",
    "\n",
    "---\n",
    "\n",
    "### **3️⃣ Tabla `productos`**\n",
    "Guarda información detallada sobre los productos.\n",
    "\n",
    "| Columna | Tipo de Dato | Descripción y Restricciones |\n",
    "|---------|-------------|----------------------------|\n",
    "| `id` | `INTEGER` | Identificador único del producto (`PRIMARY KEY`). |\n",
    "| `nombre` | `TEXT` | Nombre del producto (`NOT NULL`). |\n",
    "| `precio` | `REAL` | Precio del producto en moneda local (`NOT NULL`, **no puede ser negativo**). |\n",
    "| `fecha_lanzamiento` | `DATE` | Fecha de lanzamiento del producto (`NOT NULL`, formato `YYYY-MM-DD`). |\n",
    "| `fabricante_id` | `INTEGER` | Identificador del fabricante (**clave foránea** que referencia `fabricantes.id`). |\n",
    "| `categoria_id` | `INTEGER` | Identificador de la categoría (**clave foránea** que referencia `categorias.id`). |\n",
    "\n",
    "---\n",
    "\n",
    "### **4️⃣ Tabla `reseñas`**\n",
    "Registra las reseñas que los clientes dejan sobre los productos.\n",
    "\n",
    "| Columna | Tipo de Dato | Descripción y Restricciones |\n",
    "|---------|-------------|----------------------------|\n",
    "| `id` | `INTEGER` | Identificador único de la reseña (`PRIMARY KEY`). |\n",
    "| `producto_id` | `INTEGER` | Identificador del producto reseñado (`NOT NULL`, **clave foránea** que referencia `productos.id`). |\n",
    "| `puntuacion` | `INTEGER` | Puntuación dada por el cliente (`NOT NULL`, valores entre **1 y 5**). |\n",
    "| `comentario` | `TEXT` | Comentario opcional del cliente (puede ser `NULL`). |\n",
    "| `fecha` | `DATE` | Fecha de la reseña (`NOT NULL`, formato `YYYY-MM-DD`). |\n"
   ]
  },
  {
   "cell_type": "code",
   "execution_count": null,
   "metadata": {},
   "outputs": [],
   "source": [
    "# Creación de la tabla de fabricantes\n",
    "\n",
    "cursor.execute('''CREATE TABLE IF NOT EXISTS fabricantes (\n",
    "                    id INTEGER PRIMARY KEY,\n",
    "                    nombre TEXT NOT NULL,\n",
    "                    pais TEXT NOT NULL\n",
    "                )''')"
   ]
  },
  {
   "cell_type": "code",
   "execution_count": null,
   "metadata": {},
   "outputs": [],
   "source": [
    "# Creación de la tabla de categorías\n",
    "\n",
    "cursor.execute('''CREATE TABLE IF NOT EXISTS categorias (\n",
    "                    id INTEGER PRIMARY KEY,\n",
    "                    nombre TEXT NOT NULL\n",
    "                )''')"
   ]
  },
  {
   "cell_type": "code",
   "execution_count": null,
   "metadata": {},
   "outputs": [],
   "source": [
    "# Creación de la tabla de productos\n",
    "\n",
    "cursor.execute('''CREATE TABLE IF NOT EXISTS productos (\n",
    "                    id INTEGER PRIMARY KEY,\n",
    "                    nombre TEXT NOT NULL,\n",
    "                    precio REAL NOT NULL,\n",
    "                    fecha_lanzamiento DATE NOT NULL,\n",
    "                    fabricante_id INTEGER,\n",
    "                    categoria_id INTEGER,\n",
    "                    FOREIGN KEY(fabricante_id) REFERENCES fabricantes(id),\n",
    "                    FOREIGN KEY(categoria_id) REFERENCES categorias(id)\n",
    "                )''')"
   ]
  },
  {
   "cell_type": "code",
   "execution_count": null,
   "metadata": {},
   "outputs": [],
   "source": [
    "# Creación de la tabla de reseñas\n",
    "\n",
    "cursor.execute('''CREATE TABLE IF NOT EXISTS reseñas (\n",
    "                    id INTEGER PRIMARY KEY,\n",
    "                    producto_id INTEGER NOT NULL,\n",
    "                    puntuacion INTEGER NOT NULL,\n",
    "                    comentario TEXT,\n",
    "                    fecha DATE NOT NULL,\n",
    "                    FOREIGN KEY(producto_id) REFERENCES productos(id)\n",
    "                )''')"
   ]
  },
  {
   "cell_type": "code",
   "execution_count": null,
   "metadata": {},
   "outputs": [],
   "source": [
    "# # # Si sólo queremos eliminar una tabla porque nos hemos equivocado, el código es así\n",
    "# cursor.execute(''' DROP TABLE reseñas;''')  # Ponemos nombre de la tabla \n",
    "\n",
    "# Si queremos eliminar una columna de una tabla el código es el siguiente:\n",
    "# cursor.execute(''' ALTER TABLE reseñas DROP COLUMN fecha;''')  # después del alter table nombre tabla y luego columna a eliminar"
   ]
  },
  {
   "cell_type": "markdown",
   "metadata": {},
   "source": [
    "---\n",
    "## Paso 2: Añadir información en la Base de Datos\n",
    "---"
   ]
  },
  {
   "cell_type": "markdown",
   "metadata": {},
   "source": [
    "#### Insertar datos en las tablas en nuestra base de datos:"
   ]
  },
  {
   "cell_type": "code",
   "execution_count": null,
   "metadata": {},
   "outputs": [],
   "source": [
    "# Insertar datos en la tabla fabricantes\n",
    "fabricantes = [\n",
    "    (1, \"AI Corp\", \"EE.UU.\"),\n",
    "    (2, \"Tech Innovators\", \"Japón\"),\n",
    "    (3, \"Home Robotics\", \"Alemania\"),\n",
    "    (4, \"Smart Solutions\", \"Francia\"),\n",
    "    (5, \"Voice Masters\", \"Corea del Sur\")\n",
    "]\n",
    "cursor.executemany(\"INSERT INTO fabricantes VALUES (?, ?, ?)\", fabricantes)\n",
    "#"
   ]
  },
  {
   "cell_type": "code",
   "execution_count": null,
   "metadata": {},
   "outputs": [],
   "source": [
    "conn.commit()"
   ]
  },
  {
   "cell_type": "code",
   "execution_count": null,
   "metadata": {},
   "outputs": [],
   "source": [
    "# Insertar datos en la tabla categorias\n",
    "categorias = [\n",
    "    (1, \"Asistentes de Voz\"),\n",
    "    (2, \"Robots de Limpieza\"),\n",
    "    (3, \"Seguridad Inteligente\")\n",
    "]\n",
    "cursor.executemany(\"INSERT INTO categorias VALUES (?, ?)\", categorias)"
   ]
  },
  {
   "cell_type": "code",
   "execution_count": null,
   "metadata": {},
   "outputs": [],
   "source": [
    "# Insertar datos en la tabla productos\n",
    "productos = [\n",
    "    (1, \"Echo Dot\", 49.99, \"2022-07-20\", 1, 1),\n",
    "    (2, \"Google Home\", 89.99, \"2021-09-10\", 2, 1),\n",
    "    (3, \"Roomba S9\", 999.99, \"2020-03-15\", 3, 2),\n",
    "    (4, \"Nest Cam\", 199.99, \"2022-01-10\", 4, 3),\n",
    "    (5, \"Samsung Bot\", 1299.99, \"2021-11-05\", 5, 2)\n",
    "]\n",
    "cursor.executemany(\"INSERT INTO productos VALUES (?, ?, ?, ?, ?, ?)\", productos)"
   ]
  },
  {
   "cell_type": "code",
   "execution_count": null,
   "metadata": {},
   "outputs": [],
   "source": [
    "# Insertar datos en la tabla reseñas\n",
    "reseñas = [\n",
    "    (1, 1,5 ,\"Muy útil\", \"2023-02-05\"),\n",
    "    (2, 1, 4, \"Buena calidad\", \"2023-03-20\"),\n",
    "    (3, 2, 3, \"Funciona bien\", \"2023-05-17\"),\n",
    "    (4, 3, 5, \"Excelente para limpiar\", \"2023-06-02\"),\n",
    "    (5, 4, 2, \"No muy confiable\", \"2023-07-01\")\n",
    "]\n",
    "cursor.executemany(\"INSERT INTO reseñas VALUES (?, ?, ?, ?, ?)\", reseñas)"
   ]
  },
  {
   "cell_type": "code",
   "execution_count": null,
   "metadata": {},
   "outputs": [],
   "source": [
    "# Insertar datos en la tabla reseñas, uno de ellos lo hacemos nulo para comprobar que no me deja incluirlo\n",
    "# porque he aplicado un not null al crear la tabla\n",
    "'''\n",
    "reseñas = [\n",
    "    (6, 1,None,\"Muy útil\", \"2023-02-05\"),\n",
    "]\n",
    "cursor.executemany(\"INSERT INTO reseñas VALUES (?, ?, ?, ?, ?)\", reseñas)\n",
    "'''"
   ]
  },
  {
   "cell_type": "code",
   "execution_count": null,
   "metadata": {},
   "outputs": [],
   "source": [
    "# Guardar los cambios y cerrar la conexión\n",
    "conn.commit()\n",
    "conn.close()"
   ]
  },
  {
   "cell_type": "markdown",
   "metadata": {},
   "source": [
    "---\n",
    "# EJERCICIOS Y CONSULTAS EN SQL\n",
    "---"
   ]
  },
  {
   "cell_type": "code",
   "execution_count": null,
   "metadata": {},
   "outputs": [],
   "source": [
    "#conectar a la base de datos SQLite\n",
    "conn = sqlite3.connect('productos.db')\n",
    "cursor = conn.cursor()"
   ]
  },
  {
   "cell_type": "markdown",
   "metadata": {},
   "source": [
    "1. Obtener todos los productos."
   ]
  },
  {
   "cell_type": "code",
   "execution_count": null,
   "metadata": {},
   "outputs": [],
   "source": [
    "# Ejecutar la consulta\n",
    "cursor.execute('''  SELECT * \n",
    "                    FROM \n",
    "                        productos;\n",
    "               ''')\n",
    "\n",
    "# Obtener y mostrar los resultados\n",
    "cursor.fetchall()"
   ]
  },
  {
   "cell_type": "code",
   "execution_count": null,
   "metadata": {},
   "outputs": [],
   "source": [
    "datos = cursor.fetchall()\n",
    "for i in datos:\n",
    "    print(i)"
   ]
  },
  {
   "cell_type": "markdown",
   "metadata": {},
   "source": [
    "2. Obtener todos los productos que tienen un precio mayor a 100."
   ]
  },
  {
   "cell_type": "code",
   "execution_count": null,
   "metadata": {},
   "outputs": [],
   "source": [
    "# Ejecutar la consulta\n",
    "cursor.execute('''  SELECT * \n",
    "                    FROM \n",
    "                        productos \n",
    "                    WHERE precio > 100;\n",
    "               ''')\n",
    "\n",
    "# Obtener y mostrar los resultados\n",
    "cursor.fetchall()"
   ]
  },
  {
   "cell_type": "markdown",
   "metadata": {},
   "source": [
    "3. Contar cuántos productos hay en la base de datos."
   ]
  },
  {
   "cell_type": "code",
   "execution_count": null,
   "metadata": {},
   "outputs": [],
   "source": [
    "# Ejecutar la consulta\n",
    "cursor.execute('''  SELECT COUNT(*) \n",
    "                    FROM \n",
    "                        productos;\n",
    "               ''')\n",
    "\n",
    "# Obtener y mostrar los resultados\n",
    "cursor.fetchall()"
   ]
  },
  {
   "cell_type": "markdown",
   "metadata": {},
   "source": [
    "4. Listar los productos lanzados en el año 2022."
   ]
  },
  {
   "cell_type": "code",
   "execution_count": null,
   "metadata": {},
   "outputs": [],
   "source": [
    "# Ejecutar la consulta\n",
    "cursor.execute('''  SELECT * \n",
    "                    FROM \n",
    "                        productos\n",
    "                    WHERE \n",
    "                        strftime('%Y', fecha_lanzamiento) = '2022';\n",
    "               ''')\n",
    "\n",
    "# Obtener y mostrar los resultados\n",
    "cursor.fetchall()"
   ]
  },
  {
   "cell_type": "code",
   "execution_count": null,
   "metadata": {},
   "outputs": [],
   "source": [
    "# Ejecutar la consulta\n",
    "cursor.execute('''  SELECT * \n",
    "                    FROM \n",
    "                        productos\n",
    "                    WHERE \n",
    "                        Date(fecha_lanzamiento) >= '2022-01-01';\n",
    "               ''')\n",
    "\n",
    "# Obtener y mostrar los resultados\n",
    "cursor.fetchall()"
   ]
  },
  {
   "cell_type": "code",
   "execution_count": null,
   "metadata": {},
   "outputs": [],
   "source": [
    "# Otra forma:\n",
    "def itemLanzamiento():\n",
    "    cursor.execute(\"SELECT * FROM PRODUCTOS WHERE SUBSTR (fecha_lanzamiento,1,4) ='2022'\") #OSCAR - SUBSTR!!!!!\n",
    "    datos = cursor.fetchall()\n",
    "    for i in datos:\n",
    "        print(i)\n",
    "\n",
    "# Obtener y mostrar los resultados\n",
    "itemLanzamiento()"
   ]
  },
  {
   "cell_type": "markdown",
   "metadata": {},
   "source": [
    "5. Obtener el producto más caro."
   ]
  },
  {
   "cell_type": "code",
   "execution_count": null,
   "metadata": {},
   "outputs": [],
   "source": [
    "# Ejecutar la consulta\n",
    "cursor.execute('''  SELECT * \n",
    "                    FROM \n",
    "                        productos \n",
    "                    ORDER BY precio DESC LIMIT 1;\n",
    "               ''')\n",
    "\n",
    "# Obtener y mostrar los resultados\n",
    "cursor.fetchall()"
   ]
  },
  {
   "cell_type": "code",
   "execution_count": null,
   "metadata": {},
   "outputs": [],
   "source": [
    "# Otra forma\n",
    "# Ejecutar la consulta\n",
    "cursor.execute('''  SELECT \n",
    "                        *,\n",
    "                        max(Precio)     as MaximoPrecio\n",
    "                    FROM \n",
    "                        productos;\n",
    "               ''')\n",
    "\n",
    "# Obtener y mostrar los resultados\n",
    "cursor.fetchall()"
   ]
  },
  {
   "cell_type": "markdown",
   "metadata": {},
   "source": [
    "6. Calcular el precio promedio de todos los productos."
   ]
  },
  {
   "cell_type": "code",
   "execution_count": null,
   "metadata": {},
   "outputs": [],
   "source": [
    "# Ejecutar la consulta\n",
    "cursor.execute('''  SELECT \n",
    "                        AVG(precio) AS precio_promedio \n",
    "                    FROM \n",
    "                        productos;\n",
    "               ''')\n",
    "\n",
    "# Obtener y mostrar los resultados\n",
    "cursor.fetchall()"
   ]
  },
  {
   "cell_type": "markdown",
   "metadata": {},
   "source": [
    "7. Obtener los productos de la categoría \"Asistentes de Voz\"."
   ]
  },
  {
   "cell_type": "code",
   "execution_count": null,
   "metadata": {},
   "outputs": [],
   "source": [
    "# Ejecutar la consulta\n",
    "cursor.execute('''  SELECT \n",
    "                        productos.* \n",
    "                    FROM \n",
    "                        productos\n",
    "                    JOIN categorias ON productos.categoria_id = categorias.id\n",
    "                    WHERE categorias.nombre = 'Asistentes de Voz';     ''')\n",
    "\n",
    "# Obtener y mostrar los resultados\n",
    "cursor.fetchall()\n"
   ]
  },
  {
   "cell_type": "code",
   "execution_count": null,
   "metadata": {},
   "outputs": [],
   "source": [
    "# Ejecutar la consulta\n",
    "cursor.execute('''  SELECT \n",
    "                        productos.nombre,\n",
    "                        categorias.nombre\n",
    "                    FROM \n",
    "                        productos\n",
    "                    JOIN categorias ON productos.categoria_id = categorias.id\n",
    "                    WHERE categorias.nombre = 'Asistentes de Voz';     ''')\n",
    "\n",
    "# Obtener y mostrar los resultados\n",
    "datos =cursor.fetchall()\n",
    "for i in datos:\n",
    "    print(i)"
   ]
  },
  {
   "cell_type": "code",
   "execution_count": null,
   "metadata": {},
   "outputs": [],
   "source": [
    "cursor.execute(\"\"\"SELECT \n",
    "                    c.NOMBRE AS categoria_nombre,\n",
    "                    p.NOMBRE AS producto_nombre    \n",
    "                FROM \n",
    "                    categorias AS c\n",
    "                INNER JOIN \n",
    "                    productos AS p\n",
    "                ON c.id = p.categoria_id\n",
    "                WHERE \n",
    "                    p.categoria_id = 1 ;\n",
    "                \"\"\")\n",
    "\n",
    "datos = cursor.fetchall()\n",
    "for i in datos:\n",
    "    print(i)\n",
    "\n"
   ]
  },
  {
   "cell_type": "markdown",
   "metadata": {},
   "source": [
    "8. Contar cuántos productos tiene cada fabricante."
   ]
  },
  {
   "cell_type": "code",
   "execution_count": null,
   "metadata": {},
   "outputs": [],
   "source": [
    "# Ejecutar la consulta\n",
    "cursor.execute('''  SELECT \n",
    "                        fabricantes.nombre, \n",
    "                        COUNT(productos.id) AS num_productos\n",
    "                    FROM \n",
    "                        fabricantes\n",
    "                    LEFT JOIN productos ON fabricantes.id = productos.fabricante_id\n",
    "                    GROUP BY fabricantes.nombre;    \n",
    "               ''')\n",
    "\n",
    "# Obtener y mostrar los resultados\n",
    "cursor.fetchall()\n"
   ]
  },
  {
   "cell_type": "markdown",
   "metadata": {},
   "source": [
    "9. Obtener las reseñas del producto \"Echo Dot\"."
   ]
  },
  {
   "cell_type": "code",
   "execution_count": null,
   "metadata": {},
   "outputs": [],
   "source": [
    "# Ejecutar la consulta\n",
    "cursor.execute('''  SELECT \n",
    "                        productos.nombre,\n",
    "                        reseñas.puntuacion,\n",
    "                        reseñas.comentario,\n",
    "                        reseñas.fecha                       \n",
    "                        \n",
    "                    FROM \n",
    "                        reseñas\n",
    "                    JOIN productos ON reseñas.producto_id = productos.id\n",
    "                    WHERE productos.nombre = 'Echo Dot';     \n",
    "               ''')\n",
    "\n",
    "# Obtener y mostrar los resultados\n",
    "datos = cursor.fetchall()\n",
    "for i in datos:\n",
    "    print(i)\n"
   ]
  },
  {
   "cell_type": "markdown",
   "metadata": {},
   "source": [
    "10. Obtener la puntuación promedio de cada producto."
   ]
  },
  {
   "cell_type": "code",
   "execution_count": null,
   "metadata": {},
   "outputs": [],
   "source": [
    "# Ejecutar la consulta\n",
    "cursor.execute('''  SELECT \n",
    "                        productos.nombre, \n",
    "                        AVG(reseñas.puntuacion)     AS puntuacion_promedio\n",
    "                    FROM \n",
    "                        productos\n",
    "                    LEFT JOIN \n",
    "                        reseñas \n",
    "                    ON productos.id = reseñas.producto_id\n",
    "                    GROUP BY productos.id;    \n",
    "               ''')\n",
    "\n",
    "# Obtener y mostrar los resultados\n",
    "cursor.fetchall()"
   ]
  },
  {
   "cell_type": "markdown",
   "metadata": {},
   "source": [
    "11. Listar los fabricantes y el precio promedio de sus productos."
   ]
  },
  {
   "cell_type": "code",
   "execution_count": null,
   "metadata": {},
   "outputs": [],
   "source": [
    "# Ejecutar la consulta\n",
    "cursor.execute('''   SELECT \n",
    "                        fabricantes.nombre, \n",
    "                        AVG(productos.precio)   AS precio_promedio\n",
    "                    FROM \n",
    "                        fabricantes \n",
    "                    JOIN productos \n",
    "                    ON fabricantes.id = productos.fabricante_id\n",
    "                    GROUP BY fabricantes.id;   ''')\n",
    "\n",
    "# Obtener y mostrar los resultados\n",
    "cursor.fetchall()\n"
   ]
  },
  {
   "cell_type": "markdown",
   "metadata": {},
   "source": [
    "12. Listar todas las categorías con al menos un producto."
   ]
  },
  {
   "cell_type": "code",
   "execution_count": null,
   "metadata": {},
   "outputs": [],
   "source": [
    "# Ejecutar la consulta\n",
    "cursor.execute('''  SELECT \n",
    "                        categorias.nombre\n",
    "                    FROM \n",
    "                        categorias\n",
    "                    JOIN productos \n",
    "                    ON categorias.id = productos.categoria_id\n",
    "                    GROUP BY categorias.id;    \n",
    "               ''')\n",
    "\n",
    "# Obtener y mostrar los resultados\n",
    "cursor.fetchall()\n"
   ]
  },
  {
   "cell_type": "markdown",
   "metadata": {},
   "source": [
    "13. Obtener el producto con la menor puntuación en reseñas."
   ]
  },
  {
   "cell_type": "code",
   "execution_count": null,
   "metadata": {},
   "outputs": [],
   "source": [
    "# Ejecutar la consulta\n",
    "cursor.execute('''   SELECT \n",
    "                        productos.nombre, \n",
    "                        MIN(reseñas.puntuacion) AS menor_puntuacion\n",
    "                    FROM \n",
    "                        productos\n",
    "                    JOIN reseñas \n",
    "                    ON productos.id = reseñas.producto_id\n",
    "                    GROUP BY productos.id\n",
    "                    ORDER BY menor_puntuacion ASC\n",
    "                    LIMIT 1;   \n",
    "               ''')\n",
    "\n",
    "# Obtener y mostrar los resultados\n",
    "cursor.fetchall()\n"
   ]
  },
  {
   "cell_type": "markdown",
   "metadata": {},
   "source": [
    "14. Listar las reseñas de productos lanzados en 2021 o después."
   ]
  },
  {
   "cell_type": "code",
   "execution_count": null,
   "metadata": {},
   "outputs": [],
   "source": [
    "# Ejecutar la consulta\n",
    "cursor.execute('''  SELECT \n",
    "                         reseñas.*\n",
    "                    FROM \n",
    "                         reseñas\n",
    "                    JOIN productos \n",
    "                    ON reseñas.producto_id = productos.id\n",
    "                    WHERE productos.fecha_lanzamiento >= '2021-01-01';    \n",
    "               ''')\n",
    "\n",
    "# Obtener y mostrar los resultados\n",
    "cursor.fetchall()"
   ]
  },
  {
   "cell_type": "markdown",
   "metadata": {},
   "source": [
    "15. Contar el total de reseñas por cada producto."
   ]
  },
  {
   "cell_type": "code",
   "execution_count": null,
   "metadata": {},
   "outputs": [],
   "source": [
    "# Ejecutar la consulta\n",
    "cursor.execute('''  SELECT \n",
    "                        productos.nombre, \n",
    "                        COUNT(reseñas.id)   AS total_reseñas\n",
    "                    FROM \n",
    "                        productos\n",
    "                    LEFT JOIN reseñas \n",
    "                    ON productos.id = reseñas.producto_id\n",
    "                    GROUP BY productos.id;\n",
    "               ''')\n",
    "\n",
    "# Obtener y mostrar los resultados\n",
    "cursor.fetchall()"
   ]
  },
  {
   "cell_type": "markdown",
   "metadata": {},
   "source": [
    "16. Listar los productos que no tienen ninguna reseña."
   ]
  },
  {
   "cell_type": "code",
   "execution_count": null,
   "metadata": {},
   "outputs": [],
   "source": [
    "# Ejecutar la consulta\n",
    "cursor.execute('''  SELECT \n",
    "                        productos.nombre\n",
    "                    FROM \n",
    "                        productos\n",
    "                    LEFT JOIN reseñas \n",
    "                        ON productos.id = reseñas.producto_id\n",
    "                    WHERE reseñas.id IS NULL;\n",
    "               ''')\n",
    "\n",
    "# Obtener y mostrar los resultados\n",
    "cursor.fetchall()"
   ]
  },
  {
   "cell_type": "markdown",
   "metadata": {},
   "source": [
    "17. Obtener los productos con una puntuación promedio mayor o igual a 4."
   ]
  },
  {
   "cell_type": "code",
   "execution_count": null,
   "metadata": {},
   "outputs": [],
   "source": [
    "# Ejecutar la consulta\n",
    "cursor.execute('''  SELECT \n",
    "                        productos.nombre, \n",
    "                        AVG(reseñas.puntuacion) AS puntuacion_promedio\n",
    "                    FROM \n",
    "                        productos\n",
    "                    JOIN reseñas \n",
    "                    ON productos.id = reseñas.producto_id\n",
    "                    GROUP BY productos.id\n",
    "                    HAVING puntuacion_promedio >= 4;\n",
    "               ''')\n",
    "\n",
    "# Obtener y mostrar los resultados\n",
    "cursor.fetchall()"
   ]
  },
  {
   "cell_type": "markdown",
   "metadata": {},
   "source": [
    "18. Listar todos los productos junto con el país de su fabricante."
   ]
  },
  {
   "cell_type": "code",
   "execution_count": null,
   "metadata": {},
   "outputs": [],
   "source": [
    "# Ejecutar la consulta\n",
    "cursor.execute('''  SELECT  \n",
    "                        productos.nombre, \n",
    "                        fabricantes.pais\n",
    "                    FROM \n",
    "                        productos\n",
    "                    JOIN fabricantes \n",
    "                    ON productos.fabricante_id = fabricantes.id;\n",
    "               ''')\n",
    "\n",
    "# Obtener y mostrar los resultados\n",
    "cursor.fetchall()"
   ]
  },
  {
   "cell_type": "markdown",
   "metadata": {},
   "source": [
    "19. Obtener la fecha de la última reseña para cada producto."
   ]
  },
  {
   "cell_type": "code",
   "execution_count": null,
   "metadata": {},
   "outputs": [],
   "source": [
    "# Ejecutar la consulta\n",
    "cursor.execute('''  SELECT \n",
    "                        productos.nombre, \n",
    "                        MAX(reseñas.fecha) AS ultima_reseña\n",
    "                    FROM \n",
    "                        productos\n",
    "                    LEFT JOIN reseñas \n",
    "                    ON productos.id = reseñas.producto_id\n",
    "                    GROUP BY productos.id;\n",
    "               ''')\n",
    "\n",
    "# Obtener y mostrar los resultados\n",
    "cursor.fetchall()"
   ]
  },
  {
   "cell_type": "markdown",
   "metadata": {},
   "source": [
    "20. Obtener el número de reseñas por mes para cada producto."
   ]
  },
  {
   "cell_type": "code",
   "execution_count": null,
   "metadata": {},
   "outputs": [],
   "source": [
    "# Ejecutar la consulta\n",
    "cursor.execute('''  SELECT \n",
    "                        strftime('%Y-%m', reseñas.fecha)        AS mes, \n",
    "                        productos.nombre, COUNT(reseñas.id)     AS num_reseñas\n",
    "                    FROM \n",
    "                        productos\n",
    "                    JOIN reseñas \n",
    "                    ON productos.id = reseñas.producto_id\n",
    "                    GROUP BY mes, productos.nombre;\n",
    "                              ''')\n",
    "\n",
    "# Obtener y mostrar los resultados\n",
    "cursor.fetchall()"
   ]
  }
 ],
 "metadata": {
  "kernelspec": {
   "display_name": "Python 3",
   "language": "python",
   "name": "python3"
  },
  "language_info": {
   "codemirror_mode": {
    "name": "ipython",
    "version": 3
   },
   "file_extension": ".py",
   "mimetype": "text/x-python",
   "name": "python",
   "nbconvert_exporter": "python",
   "pygments_lexer": "ipython3",
   "version": "3.12.0"
  }
 },
 "nbformat": 4,
 "nbformat_minor": 2
}
