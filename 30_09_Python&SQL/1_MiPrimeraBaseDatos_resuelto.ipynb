{
 "cells": [
  {
   "cell_type": "code",
   "execution_count": 1,
   "metadata": {},
   "outputs": [],
   "source": [
    "import sqlite3"
   ]
  },
  {
   "cell_type": "code",
   "execution_count": 15,
   "metadata": {},
   "outputs": [
    {
     "name": "stdout",
     "output_type": "stream",
     "text": [
      "Hemos creado nuestra base de datos\n"
     ]
    }
   ],
   "source": [
    "# Conexión a base de datos. Si la base de datos no está la crea\n",
    "conn = sqlite3.connect(\"MiPrimeraBaseDatos.db\")\n",
    "print(\"Hemos creado nuestra base de datos\")"
   ]
  },
  {
   "cell_type": "code",
   "execution_count": 16,
   "metadata": {},
   "outputs": [],
   "source": [
    "# Creamos el cursor de la base de datos. conexión de la base de datos de ese momento\n",
    "# Nos va a ayudar a desplazarnos dentro de bs y ralizar acciones\n",
    "# Seleccionar, insertar, actualizar o borrar.\n",
    "cursorBD = conn.cursor()"
   ]
  },
  {
   "cell_type": "code",
   "execution_count": null,
   "metadata": {},
   "outputs": [],
   "source": [
    "##########################\n",
    "# CREACIÓN DE UNA TABLA  #\n",
    "##########################\n",
    "# Función de si existe la tabla, sino hay que crearla\n",
    "def ExisteTabla(nombreTabla):\n",
    "    cursorBD.execute('''\n",
    "                     SELECT COUNT(name) FROM SQLITE_MASTER WHERE TYPE = 'table' AND name = '{}' '''.format(nombreTabla))\n",
    "    if cursorBD.fetchone()[0] == 1: # Comprobamos si exite la tabla creada\n",
    "        return print(\"La tabla ya existe\")\n",
    "    else:\n",
    "        cursorBD.execute(''' \n",
    "                         CREATE TABLE PRODUCTO (\n",
    "                         CODIGO INTEGER PRIMARY KEY AUTOINCREMENT, \n",
    "                         NOMBRE TEXT, \n",
    "                         PRECIO REAL) \n",
    "                         ''')\n",
    "        return print(\"La tabla no existe y se ha creado satisfactoriamente\") \n"
   ]
  },
  {
   "cell_type": "code",
   "execution_count": 9,
   "metadata": {},
   "outputs": [
    {
     "name": "stdout",
     "output_type": "stream",
     "text": [
      "La tabla ya existe\n"
     ]
    }
   ],
   "source": [
    "# Obtenemos el resultado de la ejecución de nuestra función, si ha creado la tabla en la base de datos o ya existía   \n",
    "ExisteTabla('PRODUCTO')"
   ]
  },
  {
   "cell_type": "code",
   "execution_count": 13,
   "metadata": {},
   "outputs": [],
   "source": [
    "###############################\n",
    "# INSERTAR DATOS A UNA TABLA  #\n",
    "###############################\n",
    "\n",
    "#C CREATE = insertar\n",
    "\n",
    "def insertarProducto(nombre, precio):\n",
    "    cursorBD.execute('''INSERT INTO PRODUCTO (NOMBRE, PRECIO) VALUES (?,?) ''', (nombre,precio))\n",
    "    conn.commit()"
   ]
  },
  {
   "cell_type": "code",
   "execution_count": 14,
   "metadata": {},
   "outputs": [],
   "source": [
    "# Insertamos todos los productos que queremos en nuestra tabla\n",
    "insertarProducto('Blusa',25)\n",
    "insertarProducto('Falda',30)\n",
    "insertarProducto('Abrigo',100)"
   ]
  },
  {
   "cell_type": "code",
   "execution_count": 15,
   "metadata": {},
   "outputs": [],
   "source": [
    "# Podemos también insertar una lista con valores dentro de nuestra tabla\n",
    "\n",
    "def insertarFilaProducto(listaProducto):\n",
    "    instruccion = ''' INSERT INTO PRODUCTO (NOMBRE, PRECIO) VALUES (?,?) '''\n",
    "    cursorBD.executemany(instruccion, listaProducto)\n",
    "    conn.commit()"
   ]
  },
  {
   "cell_type": "code",
   "execution_count": 16,
   "metadata": {},
   "outputs": [],
   "source": [
    "productos = [\n",
    "    (\"Bañador\",30),\n",
    "    (\"Sueter\",15),\n",
    "    (\"Falda Larga\",35)\n",
    "]\n",
    "insertarFilaProducto(productos)"
   ]
  },
  {
   "cell_type": "code",
   "execution_count": null,
   "metadata": {},
   "outputs": [],
   "source": [
    "########################################\n",
    "# LEER/SELECCIONAR DATOS DE UNA TABLA  #\n",
    "########################################\n",
    "\n",
    "#R READ SELECT\n",
    "def seleccionarItems(): \n",
    "    cursorBD.execute('''SELECT * FROM PRODUCTO''') \n",
    "    datos = cursorBD.fetchall()\n",
    "   \n",
    "    #print(datos)\n",
    "    ''' \n",
    "    lista = [] \n",
    "    for fila in cursorBD.fetchall():   # Fetchall nos devuelve todos los valores de la tabla\n",
    "        lista.append(fila) \n",
    "    return lista\n",
    "    '''\n",
    "\n",
    "    for i in datos:\n",
    "        print(i)"
   ]
  },
  {
   "cell_type": "code",
   "execution_count": 25,
   "metadata": {},
   "outputs": [
    {
     "name": "stdout",
     "output_type": "stream",
     "text": [
      "(1, 'Blusa', 25.0)\n",
      "(2, 'Falda', 30.0)\n",
      "(3, 'Abrigo', 100.0)\n",
      "(4, 'Bañador', 30.0)\n",
      "(5, 'Sueter', 15.0)\n",
      "(6, 'Falda Larga', 35.0)\n",
      "None\n"
     ]
    }
   ],
   "source": [
    "print(seleccionarItems())"
   ]
  },
  {
   "cell_type": "code",
   "execution_count": 26,
   "metadata": {},
   "outputs": [],
   "source": [
    "################################\n",
    "# ORDENAR DATOS DE UNA TABLA  #\n",
    "################################\n",
    "\n",
    "def ordenarDatos(field):\n",
    "    cursorBD.execute(f'''SELECT * FROM PRODUCTO ORDER BY {field}''')\n",
    "    datos = cursorBD.fetchall()\n",
    "    # print(datos)  # Ponemos el print para que nos lo muestre por pantalla\n",
    "    for i in datos:\n",
    "        print(i)"
   ]
  },
  {
   "cell_type": "code",
   "execution_count": 27,
   "metadata": {},
   "outputs": [
    {
     "name": "stdout",
     "output_type": "stream",
     "text": [
      "(3, 'Abrigo', 100.0)\n",
      "(4, 'Bañador', 30.0)\n",
      "(1, 'Blusa', 25.0)\n",
      "(2, 'Falda', 30.0)\n",
      "(6, 'Falda Larga', 35.0)\n",
      "(5, 'Sueter', 15.0)\n"
     ]
    }
   ],
   "source": [
    "ordenarDatos('NOMBRE')"
   ]
  },
  {
   "cell_type": "code",
   "execution_count": null,
   "metadata": {},
   "outputs": [],
   "source": [
    "# Función simplificada para actualizar datos \n",
    "def actualizarValor(columna, valor):\n",
    "    cursorBD.execute(f\"\"\" update PRODUCTO SET  PRECIO = {valor} where   CODIGO = {columna};\n",
    "\n",
    "    \"\"\")\n",
    "    conn.commit()\n",
    "    "
   ]
  },
  {
   "cell_type": "code",
   "execution_count": null,
   "metadata": {},
   "outputs": [],
   "source": [
    "# LLamamos a la función para modificar los datos que queremos\n",
    "actualizarValor(3,80)"
   ]
  },
  {
   "cell_type": "code",
   "execution_count": 56,
   "metadata": {},
   "outputs": [],
   "source": [
    "########################################\n",
    "# LEER/SELECCIONAR DATOS DE UNA TABLA  #\n",
    "########################################\n",
    "\n",
    "#U UPDATE\n",
    "def actualizarProducto(codigo, diccionario): \n",
    "    valoresValidos = ['NOMBRE', 'PRECIO'] \n",
    "    for key in diccionario.keys():  \n",
    "        if key not in valoresValidos: \n",
    "            raise Exception('Esa columna no existe, revise la sintaxis') \n",
    "        else:\n",
    "            query = '''UPDATE PRODUCTO SET {} = '{}' WHERE CODIGO = {}'''.format(key, diccionario[key], codigo) \n",
    "            cursorBD.execute(query) \n",
    "    conn.commit()"
   ]
  },
  {
   "cell_type": "code",
   "execution_count": 88,
   "metadata": {},
   "outputs": [
    {
     "name": "stdout",
     "output_type": "stream",
     "text": [
      "[(1, 'Blusa', 25.0), (3, 'Abrigo', 100.0), (10, 'Bañador', 30.0), (11, 'Sueter', 15.0), (12, 'Falda Larga', 35.0)]\n",
      "Nuestra tabla antes de hacer el update es: None\n",
      "Actualizamos producto\n",
      "[(1, 'Blusa', 25.0), (3, 'Abrigo', 100.0), (10, 'Bañador', 30.0), (11, 'Sueter', 15.0), (12, 'Falda Larga', 35.0)]\n",
      "Nuestra tabla después de hacer el update es: None\n"
     ]
    }
   ],
   "source": [
    "print(f\"Nuestra tabla antes de hacer el update es: {seleccionarItems()}\")\n",
    "print('Actualizamos producto')\n",
    "actualizarProducto(2, {'NOMBRE':'Chaqueta','PRECIO':20})\n",
    "print(f\"Nuestra tabla después de hacer el update es: {seleccionarItems()}\")"
   ]
  },
  {
   "cell_type": "code",
   "execution_count": 90,
   "metadata": {},
   "outputs": [
    {
     "name": "stdout",
     "output_type": "stream",
     "text": [
      "[]\n"
     ]
    }
   ],
   "source": [
    "# Sin aplicar una función podemos también actualizar el valor dentro de una tabla\n",
    "cursorBD.execute(f\"UPDATE PRODUCTO SET CODIGO = 3 WHERE NOMBRE='Abrigo' \")\n",
    "datos= cursorBD.fetchall()\n",
    "conn.commit()\n",
    "print(datos)"
   ]
  },
  {
   "cell_type": "code",
   "execution_count": 11,
   "metadata": {},
   "outputs": [],
   "source": [
    "\n",
    "def actualizar_datos(id_producto, nuevo_precio):\n",
    "\n",
    "    # Conectarse a la base de datos\n",
    "    conn = sqlite3.connect('MiPrimeraBaseDatos.db')\n",
    "\n",
    "    # Creamos el cursor\n",
    "    cursorBD = conn.cursor()\n",
    "\n",
    "    # Ejecutar la consulta SQL para actualizar\n",
    "    cursorBD.execute(\"UPDATE PRODUCTO SET precio = ? WHERE CODIGO = ?\", (nuevo_precio,id_producto))\n",
    "\n",
    "    # Guardar los cambios en la base de datos\n",
    "    conn.commit()\n",
    "\n",
    "    # Cerrar la conexión de la base de datos\n",
    "    conn.close()\n",
    "\n",
    "actualizar_datos(6,30)\n"
   ]
  },
  {
   "cell_type": "code",
   "execution_count": 58,
   "metadata": {},
   "outputs": [],
   "source": [
    "################################\n",
    "# ELIMINAR DATOS DE UNA TABLA  #\n",
    "################################\n",
    "\n",
    "#D DELETE (ELIMINAR)\n",
    "\n",
    "def borrarProducto(codigo):\n",
    "    cursorBD.execute(''' DELETE FROM PRODUCTO WHERE CODIGO = {}'''.format(codigo))\n",
    "    conn.commit()    "
   ]
  },
  {
   "cell_type": "code",
   "execution_count": 59,
   "metadata": {},
   "outputs": [
    {
     "name": "stdout",
     "output_type": "stream",
     "text": [
      "[(1, 'Blusa', 25.0), (2, 'Chaqueta', 20.0), (3, 'Abrigo', 100.0), (10, 'Bañador', 30.0), (11, 'Sueter', 15.0), (12, 'Falda Larga', 35.0)]\n",
      "Nuestra tabla antes de hacer el deleted es: None\n",
      "Actualizamos producto\n",
      "[(1, 'Blusa', 25.0), (3, 'Abrigo', 100.0), (10, 'Bañador', 30.0), (11, 'Sueter', 15.0), (12, 'Falda Larga', 35.0)]\n",
      "Nuestra tabla después de hacer el deleted es: None\n"
     ]
    }
   ],
   "source": [
    "print(f\"Nuestra tabla antes de hacer el deleted es: {seleccionarItems()}\")\n",
    "print('Actualizamos producto')\n",
    "borrarProducto(2)  \n",
    "print(f\"Nuestra tabla después de hacer el deleted es: {seleccionarItems()}\")"
   ]
  },
  {
   "cell_type": "code",
   "execution_count": 17,
   "metadata": {},
   "outputs": [],
   "source": [
    "# Sin aplicar función eliminar registros de nuestra tabla.\n",
    "cursorBD.execute(''' DELETE FROM PRODUCTO WHERE CODIGO = 6''')\n",
    "conn.commit()    "
   ]
  },
  {
   "cell_type": "code",
   "execution_count": null,
   "metadata": {},
   "outputs": [
    {
     "name": "stdout",
     "output_type": "stream",
     "text": [
      "[(1, 'Blusa', 25.0)]\n"
     ]
    }
   ],
   "source": [
    "################################\n",
    "# BUSCAR DATOS DE UNA TABLA    #\n",
    "################################\n",
    "# No hace falta meter el código siempre en una función. Sólo cuando el código se vaya a reutilizar\n",
    "cursorBD.execute(f\"SELECT * FROM PRODUCTO WHERE NOMBRE = 'Blusa'\")\n",
    "datos= cursorBD.fetchall()\n",
    "print(datos)\n"
   ]
  },
  {
   "cell_type": "code",
   "execution_count": 18,
   "metadata": {},
   "outputs": [
    {
     "name": "stdout",
     "output_type": "stream",
     "text": [
      "(4, 'Bañador', 30.0)\n",
      "(5, 'Sueter', 15.0)\n"
     ]
    }
   ],
   "source": [
    "cursorBD.execute(f\"SELECT * FROM PRODUCTO WHERE CODIGO > 3\")\n",
    "datos= cursorBD.fetchall()\n",
    "conn.commit()\n",
    "for i in datos:\n",
    "    print(i)"
   ]
  },
  {
   "cell_type": "code",
   "execution_count": 19,
   "metadata": {},
   "outputs": [
    {
     "name": "stdout",
     "output_type": "stream",
     "text": [
      "(5, 'Sueter', 15.0)\n",
      "(2, 'Falda', 30.0)\n",
      "(4, 'Bañador', 30.0)\n"
     ]
    }
   ],
   "source": [
    "cursorBD.execute(f\"SELECT * FROM PRODUCTO WHERE CODIGO > 1 AND CODIGO < 11 ORDER BY NOMBRE DESC\")\n",
    "datos= cursorBD.fetchall()\n",
    "conn.commit()\n",
    "for i in datos:\n",
    "    print(i)"
   ]
  },
  {
   "cell_type": "code",
   "execution_count": 61,
   "metadata": {},
   "outputs": [],
   "source": [
    "## IMPORTANTE: SIEMPRE HAY QUE CERRAR LA CONEXIÓN\n",
    "\n",
    "conn.close()"
   ]
  },
  {
   "cell_type": "code",
   "execution_count": null,
   "metadata": {},
   "outputs": [
    {
     "name": "stdout",
     "output_type": "stream",
     "text": [
      "La conexión está establecida y las consultas se ejecutaron correctamente.\n"
     ]
    }
   ],
   "source": [
    "# Forma de verificar la conexión sin aplicar una función\n",
    "try:\n",
    "    # Código para conectar a la base de datos y ejecutar consultas\n",
    "    cursorBD.execute('''SELECT * FROM sqlite_master ''')\n",
    "except sqlite3.Error as error:\n",
    "    print(\"Error al conectar o ejecutar la consulta:\", error)\n",
    "else:\n",
    "    print(\"La conexión está establecida y las consultas se ejecutaron correctamente.\")\n",
    "#finally:\n",
    "    # Cerrar la conexión\n",
    "    # conn.close()"
   ]
  },
  {
   "cell_type": "code",
   "execution_count": null,
   "metadata": {},
   "outputs": [],
   "source": [
    "# Otra forma de Verificar la conexión a la BBDD dentro de una función\n",
    "\n",
    "def verificar_estado_db(db_file):\n",
    "\n",
    "    try:\n",
    "        # Consulta simple para verificar la conexión\n",
    "        cursorBD.execute(\"SELECT * FROM sqlite_master\")\n",
    "        resultados = cursorBD.fetchall()\n",
    "\n",
    "        if resultados:\n",
    "            print(\"La base de datos está conectada y parece estar en buen estado.\")\n",
    "        else:\n",
    "            print(\"No se encontraron tablas en la base de datos.\")\n",
    "\n",
    "    except sqlite3.Error as e:\n",
    "        print(f\"Error al conectar a la base de datos:{e}\")\n",
    "\n"
   ]
  },
  {
   "cell_type": "code",
   "execution_count": null,
   "metadata": {},
   "outputs": [
    {
     "name": "stdout",
     "output_type": "stream",
     "text": [
      "La base de datos está conectada y parece estar en buen estado.\n"
     ]
    }
   ],
   "source": [
    "# LLamamos a la función y tenemos que introducir el nombre de nuestra función.\n",
    "verificar_estado_db('MiPrimeraBaseDatos.db')"
   ]
  }
 ],
 "metadata": {
  "kernelspec": {
   "display_name": "Python 3",
   "language": "python",
   "name": "python3"
  },
  "language_info": {
   "codemirror_mode": {
    "name": "ipython",
    "version": 3
   },
   "file_extension": ".py",
   "mimetype": "text/x-python",
   "name": "python",
   "nbconvert_exporter": "python",
   "pygments_lexer": "ipython3",
   "version": "3.12.5"
  }
 },
 "nbformat": 4,
 "nbformat_minor": 2
}
