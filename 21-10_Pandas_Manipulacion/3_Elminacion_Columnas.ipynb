{
 "cells": [
  {
   "cell_type": "markdown",
   "id": "9a80b0a9",
   "metadata": {},
   "source": [
    "### <span style=\"color:darksalmon;\"> En Pandas, podemos eliminar columnas (o filas) usando el método .drop(). </span>"
   ]
  },
  {
   "cell_type": "markdown",
   "id": "ff60c70c",
   "metadata": {},
   "source": [
    "---\n",
    "###  Eliminación de Columnas:\n",
    "---\n",
    "\n",
    "Este método permite remover una o varias columnas especificando su nombre y el eje correspondiente (axis=1 para columnas).\n",
    "\n",
    "También se puede usar del o asignar None/np.nan si solo se quiere \"vaciar\" la columna, pero .drop() es el método más limpio y flexible.\n",
    "\n",
    "```python\n",
    "df.drop(labels, axis=1, inplace=False)\n",
    "\n",
    "```\n",
    "\n",
    "Parámetros clave:\n",
    "\n",
    "| Parámetro | Uso                                                                          |\n",
    "| --------- | ---------------------------------------------------------------------------- |\n",
    "| `labels`  | Nombre de la(s) columna(s) a eliminar                                        |\n",
    "| `axis`    | `1` para columnas, `0` para filas                                            |\n",
    "| `inplace` | `True` para modificar el DataFrame original, `False` para devolver una copia |\n"
   ]
  },
  {
   "cell_type": "markdown",
   "id": "44821a21",
   "metadata": {},
   "source": [
    "| Ejemplo                                         | Descripción                                     |\n",
    "| ----------------------------------------------- | ----------------------------------------------- |\n",
    "| `df.drop(\"Region\", axis=1)`                     | Elimina la columna \"Region\"                     |\n",
    "| `df.drop([\"Units Sold\", \"Unit Price\"], axis=1)` | Elimina varias columnas                         |\n",
    "| `df.drop(columns=\"Payment Method\")`             | Alternativa simplificada para eliminar columnas |\n",
    "| `del df[\"ColumnName\"]`                          | Elimina directamente, sin usar `.drop()`        |\n"
   ]
  },
  {
   "cell_type": "markdown",
   "id": "1750b958",
   "metadata": {},
   "source": [
    "Ejemplo 1: Eliminar una columna (\"Unidades Futuras\") del csv que guadaste en el ejercicio anterior"
   ]
  },
  {
   "cell_type": "code",
   "execution_count": null,
   "id": "dd7cfb76",
   "metadata": {},
   "outputs": [],
   "source": [
    "import pandas as pd\n",
    "# Cargar archivo CSV en un DataFrame\n",
    "df = pd.read_csv('Online_Sales_modificado.csv')\n",
    "df.head(5)"
   ]
  },
  {
   "cell_type": "code",
   "execution_count": null,
   "id": "54e97eeb",
   "metadata": {},
   "outputs": [],
   "source": [
    "df_unidades_futuras = df.drop(\"Unidades futuras\", axis=1)\n",
    "df_unidades_futuras.head()"
   ]
  },
  {
   "cell_type": "markdown",
   "id": "4dd32a0d",
   "metadata": {},
   "source": [
    "Ejemplo 2: Eliminar varias columnas a la vez , elimina las columnas Ingreso por unidad y Precio con IVA\n"
   ]
  },
  {
   "cell_type": "code",
   "execution_count": null,
   "id": "e649cc09",
   "metadata": {},
   "outputs": [],
   "source": [
    "df_sin_vars = df.drop([\"Ingreso por unidad\", \"Precio con IVA\"], axis=1)\n",
    "df_sin_vars"
   ]
  },
  {
   "cell_type": "markdown",
   "id": "27299d85",
   "metadata": {},
   "source": [
    "Ejemplo 3: Eliminar una columna y modificar el DataFrame original elimina definitivamente en el Dataframe la columna unidades futuras"
   ]
  },
  {
   "cell_type": "code",
   "execution_count": null,
   "id": "c38fc095",
   "metadata": {},
   "outputs": [],
   "source": [
    "df.drop(\"Unidades futuras\", axis=1, inplace=True) #trabajamos sobre el df original\n",
    "df.head()"
   ]
  },
  {
   "cell_type": "markdown",
   "id": "dae1a536",
   "metadata": {},
   "source": [
    "Ejemplo 4: Eliminar columnas usando el parámetro columns= , elimina Precio con IVA e Ingreso por unidad"
   ]
  },
  {
   "cell_type": "code",
   "execution_count": null,
   "id": "18e55f21",
   "metadata": {},
   "outputs": [],
   "source": [
    "df.drop(columns=[\"Ingreso por unidad\", \"Precio con IVA\"] , inplace=True)\n",
    "df"
   ]
  },
  {
   "cell_type": "markdown",
   "id": "f75bf658",
   "metadata": {},
   "source": [
    "Ejemplo 5: Eliminar una columna con del (menos recomendado)"
   ]
  },
  {
   "cell_type": "code",
   "execution_count": null,
   "id": "ef8b0e33",
   "metadata": {},
   "outputs": [],
   "source": [
    "del df[\"Dif_Revenue\"]\n",
    "df"
   ]
  },
  {
   "cell_type": "markdown",
   "id": "c499aaca",
   "metadata": {},
   "source": [
    "---\n",
    "### Eliminación de Filas:\n",
    "---\n",
    "\n",
    "Pandas tambien permite eliminar filas de un DataFrame utilizando el método .drop( ), especificando el índice o índices de las filas que se desean remover y estableciendo axis=0 (que es el valor por defecto).\n",
    "\n",
    "También se puede usar lógica booleana para eliminar filas condicionalmente (por ejemplo, con filtros).\n",
    "\n",
    "```python\n",
    "df.drop(labels, axis=0, inplace=False)\n",
    "\n",
    "```\n",
    "\n",
    "Parámetros clave:\n",
    "\n",
    "| Forma                                  | Ejemplo                      | Descripción                                  |\n",
    "| -------------------------------------- | ---------------------------- | -------------------------------------------- |\n",
    "| Por índice                             | `df.drop(2)`                 | Elimina la fila con índice 2                 |\n",
    "| Lista de índices                       | `df.drop([0, 3])`            | Elimina múltiples filas                      |\n",
    "| Condicional (booleano)                 | `df[df[\"Region\"] != \"Asia\"]` | Mantiene solo filas que cumplen la condición |\n",
    "| Por nombre si hay índice con etiquetas | `df.drop(\"fila1\", axis=0)`   | Si el índice no es numérico                  |\n"
   ]
  },
  {
   "cell_type": "markdown",
   "id": "53f58e84",
   "metadata": {},
   "source": [
    "Ejemplo 1: Eliminar la primera fila por posición\n",
    "\n"
   ]
  },
  {
   "cell_type": "code",
   "execution_count": null,
   "id": "ffc32fbc",
   "metadata": {},
   "outputs": [],
   "source": [
    "df.head(1)"
   ]
  },
  {
   "cell_type": "code",
   "execution_count": null,
   "id": "337a918f",
   "metadata": {},
   "outputs": [],
   "source": [
    "df_sin_fila0 = df.drop(0)\n",
    "df_sin_fila0"
   ]
  },
  {
   "cell_type": "markdown",
   "id": "5c2d89d5",
   "metadata": {},
   "source": [
    "Ejemplo 2: Eliminar varias filas (por ejemplo, posiciones 1 y 4)"
   ]
  },
  {
   "cell_type": "code",
   "execution_count": null,
   "id": "8725ce57",
   "metadata": {},
   "outputs": [],
   "source": [
    "df_sin_varias = df.drop([1, 4])\n",
    "df_sin_varias"
   ]
  },
  {
   "cell_type": "markdown",
   "id": "c1aaa441",
   "metadata": {},
   "source": [
    "Ejemplo 3: Eliminar todas las transacciones de la región \"Asia\""
   ]
  },
  {
   "cell_type": "code",
   "execution_count": null,
   "id": "78bd7f8f",
   "metadata": {},
   "outputs": [],
   "source": [
    "df_sin_asia = df[df[\"Region\"] != \"Asia\"]  # En realidad no estamos eliminando Mantiene solo las que NO son Asia\n",
    "df_sin_asia"
   ]
  },
  {
   "cell_type": "markdown",
   "id": "9a45599b",
   "metadata": {},
   "source": [
    "Ejemplo 4: Eliminar filas por condición compuesta (por ejemplo, Region = Asia y Product Category = Clothing)"
   ]
  },
  {
   "cell_type": "code",
   "execution_count": null,
   "id": "9a31b91e",
   "metadata": {},
   "outputs": [],
   "source": [
    "condicion = ~((df[\"Region\"] == \"Asia\") & (df[\"Product Category\"] == \"Clothing\")) # En realidad no estamos eliminando Mantiene solo las que NO son Asia y no son Clothing\n",
    "df_filtrado = df[condicion]\n",
    "df_filtrado"
   ]
  }
 ],
 "metadata": {
  "kernelspec": {
   "display_name": "Python 3",
   "language": "python",
   "name": "python3"
  },
  "language_info": {
   "codemirror_mode": {
    "name": "ipython",
    "version": 3
   },
   "file_extension": ".py",
   "mimetype": "text/x-python",
   "name": "python",
   "nbconvert_exporter": "python",
   "pygments_lexer": "ipython3",
   "version": "3.12.0"
  }
 },
 "nbformat": 4,
 "nbformat_minor": 5
}
