{
 "cells": [
  {
   "cell_type": "markdown",
   "id": "a4ddb335",
   "metadata": {},
   "source": [
    "### Filtrado de Datos:"
   ]
  },
  {
   "cell_type": "markdown",
   "id": "f5e68462",
   "metadata": {},
   "source": [
    "---\n",
    "### Uso de .loc[ ] y .iloc[ ]\n",
    "---\n",
    "En Pandas, el filtrado o selección de datos es esencial para explorar y manipular DataFrames.\n",
    "\n",
    "Los métodos principales para seleccionar datos concretos de un DataFrame y poder manipularlos son loc e iloc .\n",
    "\n",
    ".loc[ ] y .iloc[ ]\n",
    "Ambos métodos se usan para acceder a subconjuntos de datos, pero con diferentes lógicas:\n",
    "\n",
    "### <span style=\"color:darksalmon;\">.loc[ ]: Selección basada en etiquetas (nombres) de filas y columnas.</span>\n",
    "\n",
    "```python\n",
    "#Sintaxis general\n",
    "df.loc[etiqueta_filas,etiqueta_columnas]\n",
    "\n",
    "Uso típico de .loc[]:\n",
    "\n",
    "df.loc[fila, columna]\n",
    "```\n",
    "Si no se especifica columna, se seleccionan todas.\n",
    "\n",
    "Permite condiciones booleanas para filtrar filas.\n"
   ]
  },
  {
   "cell_type": "markdown",
   "id": "42effcd7",
   "metadata": {},
   "source": [
    "### <span style=\"color:darksalmon;\">.iloc[ ]: Selección basada en índices numéricos (enteros) de filas y columnas.</span>\n",
    "\n",
    "```python\n",
    "#Sintaxis general\n",
    "df.iloc[índice_filas,índice_columnas]\n",
    "\n",
    "Uso típico de .iloc[]:\n",
    "\n",
    "df.iloc[fila, columna]\n",
    "```\n",
    "Funciona por posición: el índice 0 es la primera fila/columna.\n",
    "\n",
    "No admite etiquetas o condiciones lógicas directamente."
   ]
  },
  {
   "cell_type": "markdown",
   "id": "18794e18",
   "metadata": {},
   "source": [
    "### Cuadro explicativo\n",
    "\n",
    "| Método    | Basado en       | Sintaxis             | Permite condiciones | Ejemplo                   |\n",
    "| --------- | --------------- | -------------------- | ------------------- | ------------------------- |\n",
    "| `.loc[]`  | Etiquetas       | `df.loc[\"a\", \"col\"]` | ✅ Sí                | `df.loc[df[\"edad\"] > 30]` |\n",
    "| `.iloc[]` | Índices enteros | `df.iloc[0, 1]`      | ❌ No                | `df.iloc[0:3, :]`         |\n"
   ]
  },
  {
   "cell_type": "markdown",
   "id": "e5b52b72",
   "metadata": {},
   "source": [
    "### <span style=\"color:darksalmon;\"> Veamos un ejemplo con un  DataFrame:</span>\n",
    "\n"
   ]
  },
  {
   "cell_type": "code",
   "execution_count": null,
   "id": "cdac0018",
   "metadata": {},
   "outputs": [],
   "source": [
    "import pandas as pd\n",
    "# Cargar archivo CSV en un DataFrame\n",
    "df = pd.read_csv('Online Sales Data.csv')\n"
   ]
  },
  {
   "cell_type": "code",
   "execution_count": null,
   "id": "b7ebdb46",
   "metadata": {},
   "outputs": [],
   "source": [
    "df.sample(5)"
   ]
  },
  {
   "cell_type": "markdown",
   "id": "7e4dc6b9",
   "metadata": {},
   "source": [
    "- Selecciona todas las ventas y muestra las columnas `Date`, `Product Category` y `Unit Price` usando `loc[ ]`"
   ]
  },
  {
   "cell_type": "code",
   "execution_count": null,
   "id": "289a51f6",
   "metadata": {},
   "outputs": [],
   "source": [
    "df.loc[:,['Date', 'Product Category', 'Units Sold']]"
   ]
  },
  {
   "cell_type": "code",
   "execution_count": null,
   "id": "e291be44",
   "metadata": {},
   "outputs": [],
   "source": [
    "df.loc[20:30:3,['Date', 'Product Category', 'Units Sold']]"
   ]
  },
  {
   "cell_type": "markdown",
   "id": "2ba43516",
   "metadata": {},
   "source": [
    "- Utiliza `iloc [ ]` para seleccionar las primeras 10 filas del DataFrame y muestra las columnas `Product Category` , `Product Name` y `Unit Price`"
   ]
  },
  {
   "cell_type": "code",
   "execution_count": null,
   "id": "6ec86911",
   "metadata": {},
   "outputs": [],
   "source": [
    "df.iloc[:10,[2,3,5]]"
   ]
  },
  {
   "cell_type": "markdown",
   "id": "5fc2646f",
   "metadata": {},
   "source": [
    "### En Pandas existen varios métodos para poder filtrar los datos de un DataFrame. Los más comunes son:\n",
    "\n",
    "- **Operadores de comparación**: Son básicamente los mismos que vimos en el módulo de Python. Es una forma de filtrado muy útil para seleccionar filas basadas en condiciones. Los pasos a seguir serían:\n",
    "\n",
    "    - **Creamos la condición:** Para ello usaremos los operadores de comparación de Python (>, <, >=, <=, ==, !=)\n",
    "\n",
    "    - **Aplicar la condición de filtrado:** Una vez creada la condición es momento de aplicarla con [ ] al DataFrame. Esto nos devolverá las filas que cumplen la condición.\n",
    "\n",
    "    - **Combinar condiciones:** Es posible combinar varias condiciones utilizando los operadores **&** (*and*) y **|** (*or*).\n",
    "\n",
    "    ```python\n",
    "    unit_price = df['Unit Price'] > 1000\n",
    "    unit_sold = df['Units Sold'] > 5\n",
    "    \n",
    "    df[unit_price & unit_sold].loc[:,['Product Name', 'Product Category', 'Unit Price', 'Units Sold']]\n",
    "    ```\n",
    "\n",
    "### Veámoslo con un ejemplo:"
   ]
  },
  {
   "cell_type": "code",
   "execution_count": null,
   "id": "f133e695",
   "metadata": {},
   "outputs": [],
   "source": [
    "unit_price = df['Unit Price'] > 100\n",
    "unit_sold = df['Units Sold'] > 2"
   ]
  },
  {
   "cell_type": "code",
   "execution_count": null,
   "id": "aae0fffd",
   "metadata": {},
   "outputs": [],
   "source": [
    "df[unit_price & unit_sold].loc[:,['Product Name', 'Product Category', 'Unit Price', 'Units Sold']]"
   ]
  },
  {
   "cell_type": "markdown",
   "id": "60ec85f1",
   "metadata": {},
   "source": [
    "### Veamos algunas otras posibilidades de Filtrado:"
   ]
  },
  {
   "cell_type": "markdown",
   "id": "a231eccd",
   "metadata": {},
   "source": [
    "1. Filtrar todas las transacciones hechas con PayPal:"
   ]
  },
  {
   "cell_type": "code",
   "execution_count": null,
   "id": "5a204436",
   "metadata": {},
   "outputs": [],
   "source": [
    "paypal_df = df[df[\"Payment Method\"] == \"Credit Card\"]\n",
    "paypal_df"
   ]
  },
  {
   "cell_type": "markdown",
   "id": "a78c0bce",
   "metadata": {},
   "source": [
    "2. Filtrar productos vendidos en la región Asia\n"
   ]
  },
  {
   "cell_type": "code",
   "execution_count": null,
   "id": "edb13275",
   "metadata": {},
   "outputs": [],
   "source": [
    "asia_df = df[df[\"Region\"] == \"Asia\"]\n",
    "asia_df"
   ]
  },
  {
   "cell_type": "markdown",
   "id": "26a8fba9",
   "metadata": {},
   "source": [
    "3. Filtrar productos vendidos en la región Asia , pero solo mostrar las columnas Product Category y Product Name"
   ]
  },
  {
   "cell_type": "code",
   "execution_count": null,
   "id": "6dc41a7e",
   "metadata": {},
   "outputs": [],
   "source": [
    "resultado = df.loc[df[\"Region\"] == \"Asia\", [\"Product Category\", \"Product Name\"]]\n",
    "resultado"
   ]
  },
  {
   "cell_type": "markdown",
   "id": "43eb8e75",
   "metadata": {},
   "source": [
    "---\n",
    "###  Filtrado con .isin() \n",
    "---"
   ]
  },
  {
   "cell_type": "markdown",
   "id": "1d417de3",
   "metadata": {},
   "source": [
    "El método .isin( ) se utiliza para filtrar filas que contienen uno o varios valores específicos dentro de una columna. \n",
    "\n",
    "Es muy útil cuando queremos comprobar si un valor pertenece a una lista de opciones.\n",
    "\n",
    "### Pasos:\n",
    "\n",
    "- Crear una lista de valores de interés\n",
    "\n",
    "- Aplicar .isin(lista) a una columna específica\n",
    "\n",
    "- Combinar con un filtro booleano y seleccionar columnas si se desea\n",
    "\n"
   ]
  },
  {
   "cell_type": "markdown",
   "id": "01dbd7fb",
   "metadata": {},
   "source": [
    "Ejemplo 1: Transacciones en la región \"Asia\" o \"Europe\""
   ]
  },
  {
   "cell_type": "code",
   "execution_count": null,
   "id": "f4334580",
   "metadata": {},
   "outputs": [],
   "source": [
    "regiones = [\"Asia\", \"Europe\"]\n",
    "filtro = df[df[\"Region\"].isin(regiones)]\n",
    "filtro\n"
   ]
  },
  {
   "cell_type": "code",
   "execution_count": null,
   "id": "968a3062",
   "metadata": {},
   "outputs": [],
   "source": [
    "filtro[[\"Transaction ID\", \"Region\", \"Product Name\"]]"
   ]
  },
  {
   "cell_type": "markdown",
   "id": "9f04a282",
   "metadata": {},
   "source": [
    "Ejemplo 2: Productos específicos – \"Gap High Rise Skinny Jeans\" o \"Hanes ComfortSoft T-Shirt\""
   ]
  },
  {
   "cell_type": "code",
   "execution_count": null,
   "id": "a1cd6042",
   "metadata": {},
   "outputs": [],
   "source": [
    "productos = [\"Gap High Rise Skinny Jeans\", \"Hanes ComfortSoft T-Shirt\"]\n",
    "filtro = df[df[\"Product Name\"].isin(productos)]\n",
    "filtro[[\"Product Name\", \"Units Sold\", \"Region\"]]"
   ]
  },
  {
   "cell_type": "markdown",
   "id": "6ee685e6",
   "metadata": {},
   "source": [
    "Ejemplo 3: Productos vendidos en Asia que estén en una lista específica\n",
    "\n"
   ]
  },
  {
   "cell_type": "code",
   "execution_count": null,
   "id": "db60249d",
   "metadata": {},
   "outputs": [],
   "source": [
    "productos = [\"Gap High Rise Skinny Jeans\", \"Gap 1969 Original Fit Jeans\"]\n",
    "filtro = df[df[\"Region\"].isin([\"Asia\"]) & df[\"Product Name\"].isin(productos)]\n",
    "filtro[[\"Product Category\", \"Product Name\", \"Units Sold\"]]\n"
   ]
  },
  {
   "cell_type": "markdown",
   "id": "6080ce15",
   "metadata": {},
   "source": [
    "Ejemplo 4: Producto \"Gap 1969 Original Fit Jeans\" vendido en \"Asia\""
   ]
  },
  {
   "cell_type": "code",
   "execution_count": null,
   "id": "92181996",
   "metadata": {},
   "outputs": [],
   "source": [
    "producto = [\"Gap 1969 Original Fit Jeans\"]\n",
    "region = [\"Asia\"]\n",
    "\n",
    "filtro = df[df[\"Product Name\"].isin(producto) & df[\"Region\"].isin(region)]\n",
    "filtro[[\"Transaction ID\", \"Product Name\", \"Units Sold\", \"Total Revenue\"]]"
   ]
  },
  {
   "cell_type": "markdown",
   "id": "d4c412d4",
   "metadata": {},
   "source": [
    "---\n",
    "###  Filtrado con .between( )\n",
    "---"
   ]
  },
  {
   "cell_type": "markdown",
   "id": "03974c52",
   "metadata": {},
   "source": [
    "El método .between() se usa para filtrar filas en un DataFrame que tengan valores dentro de un rango numérico o de fechas.\n",
    "\n",
    "La estructura general de este método es:\n",
    "\n",
    "```python\n",
    "\n",
    "df[columna].between(inicio, fin, inclusive = both)\n",
    "\n",
    "'''Donde:\n",
    "\n",
    "- df: Nombre del DataFrame que vamos a utilizar.\n",
    "- columna: Columna específica donde vamos a filtrar.\n",
    "- inicio y fin: Indica el intervalo de valores que queremos filtrar.\n",
    "- inclusive (opcional): Delimita si los valores del rango están incluidos o no.\n",
    "    - left: Incluye sólo el inicio.\n",
    "    - right: Incluye sólo el final.\n",
    "    - both: Incluye ambos.\n",
    "    - neither: No incluye ninguno.'''\n",
    "```"
   ]
  },
  {
   "cell_type": "markdown",
   "id": "c51b33a8",
   "metadata": {},
   "source": [
    "| Parámetro   | Descripción                                                                             |\n",
    "| ----------- | --------------------------------------------------------------------------------------- |\n",
    "| `columna`   | Columna sobre la que se aplica el filtro.                                               |\n",
    "| `inicio`    | Valor mínimo del rango.                                                                 |\n",
    "| `fin`       | Valor máximo del rango.                                                                 |\n",
    "| `inclusive` | Define si se incluyen los límites. Valores: `'both'`, `'left'`, `'right'`, `'neither'`. |\n"
   ]
  },
  {
   "cell_type": "markdown",
   "id": "0ddae89e",
   "metadata": {},
   "source": [
    "Ejemplo 1: Unit Price entre 10 y 50 (inclusive ambos)"
   ]
  },
  {
   "cell_type": "code",
   "execution_count": null,
   "id": "b8c881a0",
   "metadata": {},
   "outputs": [],
   "source": [
    "df[df[\"Unit Price\"].between(10, 50, inclusive=\"both\")][[\"Transaction ID\", \"Product Name\", \"Unit Price\", \"Units Sold\"]]\n"
   ]
  },
  {
   "cell_type": "markdown",
   "id": "6d812868",
   "metadata": {},
   "source": [
    "Ejemplo 2: Total Revenue entre 100 y 180 (solo extremos)"
   ]
  },
  {
   "cell_type": "code",
   "execution_count": null,
   "id": "bb3bf13c",
   "metadata": {},
   "outputs": [],
   "source": [
    "df[df[\"Total Revenue\"].between(100, 180, inclusive=\"both\")][[\"Transaction ID\", \"Product Name\", \"Total Revenue\"]]\n"
   ]
  },
  {
   "cell_type": "markdown",
   "id": "3ddccc4a",
   "metadata": {},
   "source": [
    "Ejemplo 3: Units Sold entre 2 y 5 (excluyendo ambos límites)"
   ]
  },
  {
   "cell_type": "code",
   "execution_count": null,
   "id": "aa984cb1",
   "metadata": {},
   "outputs": [],
   "source": [
    "df[df[\"Units Sold\"].between(2, 5, inclusive=\"neither\")][[\"Product Name\", \"Units Sold\"]]\n"
   ]
  },
  {
   "cell_type": "markdown",
   "id": "dfe4f47d",
   "metadata": {},
   "source": [
    " Ejemplo 4: Filtrar por fecha entre \"2024-03-01\" y \"2024-06-30\""
   ]
  },
  {
   "cell_type": "code",
   "execution_count": null,
   "id": "5753d79a",
   "metadata": {},
   "outputs": [],
   "source": [
    "df.info()"
   ]
  },
  {
   "cell_type": "code",
   "execution_count": null,
   "id": "8c9c5998",
   "metadata": {},
   "outputs": [],
   "source": [
    "df[\"Date\"] = pd.to_datetime(df[\"Date\"])#para transformar a Fecha\n",
    "\n",
    "df[df[\"Date\"].between(\"2024-03-01\", \"2024-06-30\" , inclusive='neither')][[\"Transaction ID\", \"Date\", \"Product Name\"]]\n"
   ]
  },
  {
   "cell_type": "markdown",
   "id": "9e1b10e2",
   "metadata": {},
   "source": [
    "---\n",
    "###  Filtrado con .str.contains( )\n",
    "---"
   ]
  },
  {
   "cell_type": "markdown",
   "id": "e2f9b148",
   "metadata": {},
   "source": [
    "El método `.str.contains()` permite verificar si una cadena de texto contiene un patrón específico (palabra, fragmento, regex). \n",
    "\n",
    "Muy útil cuando buscamos por nombre de producto, descripción o categoría.\n",
    "\n",
    "```Python \n",
    "#sintaxis\n",
    "df[\"columna\"].str.contains(pat, case=True, na=False, regex=True)\n",
    "\n",
    "```\n",
    "\n",
    " Parámetros clave:\n",
    "\n",
    "| Parámetro | Significado                                                      |\n",
    "| --------- | ---------------------------------------------------------------- |\n",
    "| `pat`     | Texto o patrón a buscar. Puede ser string o regex.               |\n",
    "| `case`    | `True` → sensible a mayúsculas/minúsculas; `False` → insensible. |\n",
    "| `na`      | Cómo tratar los valores nulos (`True`, `False`, o `np.nan`).     |\n",
    "| `regex`   | Si se trata como expresión regular (por defecto `True`).         |\n",
    "\n",
    "\n",
    "\n",
    "\n"
   ]
  },
  {
   "cell_type": "markdown",
   "id": "15e85838",
   "metadata": {},
   "source": [
    "| Ejemplo                                                  | Significado                                        |\n",
    "| -------------------------------------------------------- | -------------------------------------------------- |\n",
    "| `df[\"col\"].str.contains(\"Mug\")`                          | Contiene exactamente \"Mug\" (sensible a mayúsculas) |\n",
    "| `df[\"col\"].str.contains(\"mug\", case=False)`              | Contiene \"mug\", sin importar mayúsculas            |\n",
    "| `df[\"col\"].str.contains(\"^Gap\", case=False, regex=True)` | Comienza con \"Gap\" (regex)                         |\n"
   ]
  },
  {
   "cell_type": "markdown",
   "id": "6f2a89c5",
   "metadata": {},
   "source": [
    " Ejemplo 1: Productos cuyo nombre contiene \"Jeans\""
   ]
  },
  {
   "cell_type": "code",
   "execution_count": null,
   "id": "26f0e3d5",
   "metadata": {},
   "outputs": [],
   "source": [
    "df[df[\"Product Name\"].str.contains(\"Jeans\", case=True, na=False)] \n"
   ]
  },
  {
   "cell_type": "markdown",
   "id": "cb574dd2",
   "metadata": {},
   "source": [
    "Ejemplo 2: Productos que contienen la palabra \"gap\" (sin importar mayúsculas)"
   ]
  },
  {
   "cell_type": "code",
   "execution_count": null,
   "id": "dd7c4f8a",
   "metadata": {},
   "outputs": [],
   "source": [
    "df[df[\"Product Name\"].str.contains(\"gap\", case=False, na=False)][[\"Product Name\", \"Product Category\"]]\n"
   ]
  },
  {
   "cell_type": "markdown",
   "id": "4bae7356",
   "metadata": {},
   "source": [
    "Ejemplo 3: Productos cuyo nombre empieza con “Hanes”"
   ]
  },
  {
   "cell_type": "code",
   "execution_count": null,
   "id": "da179d03",
   "metadata": {},
   "outputs": [],
   "source": [
    "df[df[\"Product Name\"].str.contains(\"^Hanes\", case=False, na=False, regex=True)][[\"Product Name\", \"Region\" ,\"Unit Price\"]]\n"
   ]
  },
  {
   "cell_type": "markdown",
   "id": "3019b791",
   "metadata": {},
   "source": [
    "Ejemplo 4: Filtrar productos que contengan la palabra “water” (insensible a mayúsculas)"
   ]
  },
  {
   "cell_type": "code",
   "execution_count": null,
   "id": "8afd6741",
   "metadata": {},
   "outputs": [],
   "source": [
    "df[df[\"Product Name\"].str.contains(\"water\", case=False, na=False)][[\"Product Name\", \"Total Revenue\"]]\n"
   ]
  },
  {
   "cell_type": "markdown",
   "id": "4f87d844",
   "metadata": {},
   "source": [
    "---\n",
    "###  Filtrado con .filter( )\n",
    "---"
   ]
  },
  {
   "cell_type": "markdown",
   "id": "60faa189",
   "metadata": {},
   "source": [
    "El método .filter() se utiliza para filtrar columnas o filas basándose en sus etiquetas (nombres). No filtra por contenido, sino por coincidencia del nombre de columnas o índices.\n",
    "\n",
    "```python\n",
    "df.filter(items = None, like = None, regex = None,axis = None)\n",
    "\n",
    "'''\n",
    "Donde:\n",
    "\n",
    "- df: Nombre del DataFrame que vamos a utilizar.\n",
    "- items (opcional): Lista con las etiquetas que queremos filtrar.\n",
    "- like (opcional): Patrón de texto que debe tener la etiqueta a filtrar.\n",
    "- regex (opcional): La etiqueta debe tener la expresión regular especificada.\n",
    "- axis: 0 para ver las filas que cumplen la condición. 1 para ver las columnas.\n",
    "'''\n",
    "```\n",
    "Parámetros clave:\n",
    "\n",
    "| Parámetro | Uso                                                                           |\n",
    "| --------- | ----------------------------------------------------------------------------- |\n",
    "| `items`   | Lista exacta de nombres de columnas o filas que se quieren mantener.          |\n",
    "| `like`    | Texto que debe estar incluido en el nombre (como `contains` pero en nombres). |\n",
    "| `regex`   | Expresión regular aplicada a los nombres de las columnas o filas.             |\n",
    "| `axis`    | `0` para filas (índices), `1` para columnas.                                  |\n"
   ]
  },
  {
   "cell_type": "markdown",
   "id": "e6a72f41",
   "metadata": {},
   "source": [
    "\n",
    "\n",
    "| Ejemplo                                       | Resultado                                       |\n",
    "| --------------------------------------------- | ----------------------------------------------- |\n",
    "| `df.filter(like=\"Price\", axis=1)`             | Selecciona columnas que contengan “Price”       |\n",
    "| `df.filter(items=[\"Product Name\", \"Region\"])` | Selecciona solo esas columnas exactas           |\n",
    "| `df.filter(regex=\"^P.*e$\", axis=1)`           | Columnas que empiezan con “P” y terminan en “e” |\n"
   ]
  },
  {
   "cell_type": "markdown",
   "id": "01cd45d2",
   "metadata": {},
   "source": [
    "Ejemplo 1: Seleccionar todas las columnas que contienen la palabra \"Product\""
   ]
  },
  {
   "cell_type": "code",
   "execution_count": null,
   "id": "d75697fd",
   "metadata": {},
   "outputs": [],
   "source": [
    "df.filter(like=\"Product\", axis=1)"
   ]
  },
  {
   "cell_type": "markdown",
   "id": "4248060b",
   "metadata": {},
   "source": [
    "Ejemplo 2: Seleccionar las columnas \"Product Name\" y \"Region\" usando items"
   ]
  },
  {
   "cell_type": "code",
   "execution_count": null,
   "id": "74b5ea2d",
   "metadata": {},
   "outputs": [],
   "source": [
    "df.filter(items=[\"Product Name\", \"Region\"], axis=1)\n"
   ]
  },
  {
   "cell_type": "markdown",
   "id": "997878f9",
   "metadata": {},
   "source": [
    "Ejemplo 3: Seleccionar columnas que empiezan con la letra \"P\" y terminan en \"e\""
   ]
  },
  {
   "cell_type": "code",
   "execution_count": null,
   "id": "7d7c5880",
   "metadata": {},
   "outputs": [],
   "source": [
    "df.filter(regex=\"^P.*e$\", axis=1)\n"
   ]
  },
  {
   "cell_type": "markdown",
   "id": "47546a48",
   "metadata": {},
   "source": [
    "Ejemplo 4: Seleccionar columnas que contengan la palabra \"Revenue\""
   ]
  },
  {
   "cell_type": "code",
   "execution_count": null,
   "id": "781255fc",
   "metadata": {},
   "outputs": [],
   "source": [
    "df.filter(like=\"Revenue\", axis=1)\n"
   ]
  },
  {
   "cell_type": "markdown",
   "id": "51e12bcd",
   "metadata": {},
   "source": [
    "Ejemplo 5: Seleccionar filas que tengan un índice específico (si el DataFrame tuviera un índice por ID)\n",
    "\n",
    "Esto solo aplica si has hecho algo como df.set_index(\"Transaction ID\")"
   ]
  },
  {
   "cell_type": "code",
   "execution_count": null,
   "id": "382523eb",
   "metadata": {},
   "outputs": [],
   "source": [
    "df.set_index(\"Transaction ID\").filter(items=[10020, 10201], axis=0)"
   ]
  }
 ],
 "metadata": {
  "kernelspec": {
   "display_name": "Python 3",
   "language": "python",
   "name": "python3"
  },
  "language_info": {
   "codemirror_mode": {
    "name": "ipython",
    "version": 3
   },
   "file_extension": ".py",
   "mimetype": "text/x-python",
   "name": "python",
   "nbconvert_exporter": "python",
   "pygments_lexer": "ipython3",
   "version": "3.12.0"
  }
 },
 "nbformat": 4,
 "nbformat_minor": 5
}
