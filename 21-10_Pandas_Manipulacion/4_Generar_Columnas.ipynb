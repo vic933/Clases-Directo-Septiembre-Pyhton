{
 "cells": [
  {
   "cell_type": "markdown",
   "id": "8a3968d5",
   "metadata": {},
   "source": [
    "### <span style=\"color:darksalmon;\"> En Pandas, tambien podemos generar columnas </span>"
   ]
  },
  {
   "cell_type": "markdown",
   "id": "80fcaaae",
   "metadata": {},
   "source": [
    "Crear columnas en Pandas es una de las tareas más frecuentes. Podemos hacerlo de varias maneras, dependiendo de si queremos modificar el DataFrame original o crear una copia. \n",
    "\n",
    "Estas columnas pueden generarse a partir de cálculos, condiciones, funciones o valores constantes.\n",
    "\n",
    "Métodos principales\n",
    "\n",
    "- Asignación directa:\n",
    "\n",
    "        Se utiliza para crear columnas directamente con una operación, lista, constante o condición.\n",
    "\n",
    "- Método .assign( ):\n",
    "\n",
    "        Crea una copia del DataFrame original con nuevas columnas, sin modificar el original.\n",
    "\n",
    "- Método .insert( ):\n",
    "\n",
    "        Inserta una nueva columna en una posición específica del DataFrame.\n",
    "\n",
    "\n",
    "Cuadro explicativo:\n",
    "\n",
    "| Método                         | Modifica el original | Devuelve copia | Uso típico                      |\n",
    "| ------------------------------ | -------------------- | -------------- | ------------------------------- |\n",
    "| Asignación `df[\"nueva\"] = ...` | ✅                    | ❌              | Rápido y directo                |\n",
    "| `.assign()`                    | ❌                    | ✅              | Múltiples columnas, más control |\n",
    "| `.insert()`                    | ✅                    | ❌              | Control total de la posición    |\n"
   ]
  },
  {
   "cell_type": "markdown",
   "id": "8e5443ef",
   "metadata": {},
   "source": [
    "Ejemplo 1: Asignación directa , Crear una columna Discount con valores aleatorios entre 0% y 20% (como decimales)\n"
   ]
  },
  {
   "cell_type": "code",
   "execution_count": null,
   "id": "63cb6065",
   "metadata": {},
   "outputs": [],
   "source": [
    "import pandas as pd\n",
    "import numpy as np\n",
    "# Cargar archivo CSV en un DataFrame\n",
    "df = pd.read_csv('Online_Sales_modificado.csv')\n",
    "df.head(5)"
   ]
  },
  {
   "cell_type": "code",
   "execution_count": null,
   "id": "b6eefda7",
   "metadata": {},
   "outputs": [],
   "source": [
    "len(df)"
   ]
  },
  {
   "cell_type": "code",
   "execution_count": null,
   "id": "d0da1366",
   "metadata": {},
   "outputs": [],
   "source": [
    "df[\"Discount\"] = np.random.randint(0, 21, size=len(df)) / 100\n",
    "df.head()"
   ]
  },
  {
   "cell_type": "markdown",
   "id": "908d5273",
   "metadata": {},
   "source": [
    "Ejemplo 2: Calcular el descuento aplicado (descuento sobre ingreso total)"
   ]
  },
  {
   "cell_type": "code",
   "execution_count": null,
   "id": "9e811a53",
   "metadata": {},
   "outputs": [],
   "source": [
    "df[\"DescuentoAplicado\"] = df[\"Total Revenue\"] * df[\"Discount\"]\n",
    "df.head()"
   ]
  },
  {
   "cell_type": "markdown",
   "id": "6c49ff46",
   "metadata": {},
   "source": [
    "Ejemplo 3: Crear la misma columna con .assign() (sin tocar el original)"
   ]
  },
  {
   "cell_type": "code",
   "execution_count": null,
   "id": "ac255ec8",
   "metadata": {},
   "outputs": [],
   "source": [
    "df_nuevo = df.assign(DescuentoAplicado_assign = df[\"Units Sold\"] * df[\"Unit Price\"] * df[\"Discount\"])\n",
    "df_nuevo.head()\n"
   ]
  },
  {
   "cell_type": "markdown",
   "id": "4ef05049",
   "metadata": {},
   "source": [
    "Ejemplo 4: Insertar la nueva columna al inicio con .insert()"
   ]
  },
  {
   "cell_type": "code",
   "execution_count": null,
   "id": "21b45aea",
   "metadata": {},
   "outputs": [],
   "source": [
    "descuento = df[\"Units Sold\"] * df[\"Unit Price\"] * df[\"Discount\"]\n",
    "df.insert(5, \"DescuentoAplicado_insert\", descuento)\n",
    "\n",
    "\n"
   ]
  },
  {
   "cell_type": "code",
   "execution_count": null,
   "id": "88e122fa",
   "metadata": {},
   "outputs": [],
   "source": [
    "df= df[df['Date','Product']]"
   ]
  },
  {
   "cell_type": "code",
   "execution_count": null,
   "id": "ae5ee813",
   "metadata": {},
   "outputs": [],
   "source": [
    "df.columns"
   ]
  },
  {
   "cell_type": "code",
   "execution_count": null,
   "id": "8471165c",
   "metadata": {},
   "outputs": [],
   "source": [
    "df=df['Date','Transaction ID', 'Product Name', 'Product Category','Units Sold', 'DescuentoAplicado_insert', 'Unit Price', 'Total Revenue','Region', 'Payment Method', 'Total_Revenue_recal', 'Dif_Revenue','Precio con IVA', 'Ingreso por unidad', 'Precio con descuento','Unidades futuras', 'Discount', 'DescuentoAplicado']"
   ]
  }
 ],
 "metadata": {
  "kernelspec": {
   "display_name": "Python 3",
   "language": "python",
   "name": "python3"
  },
  "language_info": {
   "codemirror_mode": {
    "name": "ipython",
    "version": 3
   },
   "file_extension": ".py",
   "mimetype": "text/x-python",
   "name": "python",
   "nbconvert_exporter": "python",
   "pygments_lexer": "ipython3",
   "version": "3.12.0"
  }
 },
 "nbformat": 4,
 "nbformat_minor": 5
}
