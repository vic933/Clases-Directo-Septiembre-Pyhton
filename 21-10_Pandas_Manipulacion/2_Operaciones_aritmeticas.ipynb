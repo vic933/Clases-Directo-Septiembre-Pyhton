{
 "cells": [
  {
   "cell_type": "markdown",
   "id": "ab742869",
   "metadata": {},
   "source": [
    "### Operaciones Aritmeticas:"
   ]
  },
  {
   "cell_type": "markdown",
   "id": "948d8101",
   "metadata": {},
   "source": [
    "Pandas permite realizar operaciones aritméticas directamente sobre columnas de un DataFrame. Esto es muy útil para calcular métricas como precios totales, aplicar descuentos, normalizar datos, entre otros.\n",
    "\n",
    "Estas operaciones se aplican elemento a elemento, es decir, de forma vectorizada, lo cual es muy eficiente.\n",
    "\n",
    "Operaciones comunes\n",
    "\n",
    "| Operación               | Símbolo / Método | Ejemplo             |\n",
    "| ----------------------- | ---------------- | ------------------- |\n",
    "| Suma                    | `+`              | `df[\"A\"] + df[\"B\"]` |\n",
    "| Resta                   | `-`              | `df[\"A\"] - df[\"B\"]` |\n",
    "| Multiplicación          | `*`              | `df[\"A\"] * df[\"B\"]` |\n",
    "| División                | `/`              | `df[\"A\"] / df[\"B\"]` |\n",
    "| Potencia                | `**`             | `df[\"A\"] ** 2`      |\n",
    "| Módulo                  | `%`              | `df[\"A\"] % 3`       |\n",
    "| Operaciones con escalar | `+`, `*`, etc.   | `df[\"A\"] * 10`      |\n"
   ]
  },
  {
   "cell_type": "markdown",
   "id": "28d2b555",
   "metadata": {},
   "source": [
    "| Ejemplo en código                                           | Descripción                                 |\n",
    "| ----------------------------------------------------------- | ------------------------------------------- |\n",
    "| `df[\"Total Revenue\"] = df[\"Units Sold\"] * df[\"Unit Price\"]` | Calcula ingreso total por fila.             |\n",
    "| `df[\"Unit Price\"] * 1.21`                                   | Aplica un 21% de IVA al precio unitario.    |\n",
    "| `df[\"Units Sold\"] - 1`                                      | Resta una unidad a cada fila.               |\n",
    "| `df[\"Unit Price\"] / df[\"Units Sold\"]`                       | Calcula precio unitario por unidad vendida. |\n"
   ]
  },
  {
   "cell_type": "markdown",
   "id": "937fcbb2",
   "metadata": {},
   "source": [
    "Ejemplo 1: Calcular nuevamente la columna Total Revenue (para chequear que esta bien calcualda)"
   ]
  },
  {
   "cell_type": "code",
   "execution_count": null,
   "id": "816d6ee2",
   "metadata": {},
   "outputs": [],
   "source": [
    "import pandas as pd\n",
    "# Cargar archivo CSV en un DataFrame\n",
    "df = pd.read_csv('Online Sales Data.csv')"
   ]
  },
  {
   "cell_type": "code",
   "execution_count": null,
   "id": "bc1f49b9",
   "metadata": {},
   "outputs": [],
   "source": [
    "df.info()"
   ]
  },
  {
   "cell_type": "code",
   "execution_count": null,
   "id": "683fb855",
   "metadata": {},
   "outputs": [],
   "source": [
    "df[\"Total_Revenue_recal\"] = round(df[\"Units Sold\"] * df[\"Unit Price\"],2)\n",
    "df"
   ]
  },
  {
   "cell_type": "markdown",
   "id": "4e670006",
   "metadata": {},
   "source": [
    "Ejemplo 2 : Verificar su hay diferencias entre la columna Revenue original y la calculada"
   ]
  },
  {
   "cell_type": "code",
   "execution_count": null,
   "id": "33f0b283",
   "metadata": {},
   "outputs": [],
   "source": [
    "df[\"Dif_Revenue\"] = df[\"Total Revenue\"] - df[\"Total_Revenue_recal\"]\n"
   ]
  },
  {
   "cell_type": "code",
   "execution_count": null,
   "id": "0f227190",
   "metadata": {},
   "outputs": [],
   "source": [
    "#mostramos si existen diferencias\n",
    "df[[\"Total Revenue\", \"Total_Revenue_recal\",\"Dif_Revenue\",]]"
   ]
  },
  {
   "cell_type": "markdown",
   "id": "45ed7843",
   "metadata": {},
   "source": [
    "Ejemplo 3: Crear una nueva columna con el precio con IVA (21%)"
   ]
  },
  {
   "cell_type": "code",
   "execution_count": null,
   "id": "038334c3",
   "metadata": {},
   "outputs": [],
   "source": [
    "df[\"Precio con IVA\"] = df[\"Unit Price\"] * 1.21\n",
    "df"
   ]
  },
  {
   "cell_type": "markdown",
   "id": "a89ed7df",
   "metadata": {},
   "source": [
    "Ejemplo 4: Calcular el promedio de ingreso por unidad vendida\n",
    "\n"
   ]
  },
  {
   "cell_type": "code",
   "execution_count": null,
   "id": "37f4afa7",
   "metadata": {},
   "outputs": [],
   "source": [
    "df[\"Ingreso por unidad\"] = df[\"Total Revenue\"] / df[\"Units Sold\"]\n",
    "df"
   ]
  },
  {
   "cell_type": "markdown",
   "id": "93fcc6dc",
   "metadata": {},
   "source": [
    "Ejemplo 4: Aplicar un descuento del 10% al Unit Price y guardar en nueva columna"
   ]
  },
  {
   "cell_type": "code",
   "execution_count": null,
   "id": "f377ce7d",
   "metadata": {},
   "outputs": [],
   "source": [
    "df[\"Precio con descuento\"] = df[\"Unit Price\"] * 0.90\n",
    "df\n"
   ]
  },
  {
   "cell_type": "markdown",
   "id": "937f5048",
   "metadata": {},
   "source": [
    "Ejemplo 5: Añadir una columna que indique cuántas unidades extra se venderían si se suman 2"
   ]
  },
  {
   "cell_type": "code",
   "execution_count": null,
   "id": "76b2c301",
   "metadata": {},
   "outputs": [],
   "source": [
    "df[\"Unidades futuras\"] = df[\"Units Sold\"] + 2\n",
    "df"
   ]
  },
  {
   "cell_type": "markdown",
   "id": "2a9e09f5",
   "metadata": {},
   "source": [
    "### 💾 Guardar tu DataFrame en un archivo que se llame Online_Sales_modificado.csv , lo vamos a necesitar luego"
   ]
  },
  {
   "cell_type": "code",
   "execution_count": null,
   "id": "677adf6d",
   "metadata": {},
   "outputs": [],
   "source": [
    "df.to_csv(\"Online_Sales_modificado.csv\", index=False)"
   ]
  }
 ],
 "metadata": {
  "kernelspec": {
   "display_name": "Python 3",
   "language": "python",
   "name": "python3"
  },
  "language_info": {
   "codemirror_mode": {
    "name": "ipython",
    "version": 3
   },
   "file_extension": ".py",
   "mimetype": "text/x-python",
   "name": "python",
   "nbconvert_exporter": "python",
   "pygments_lexer": "ipython3",
   "version": "3.12.0"
  }
 },
 "nbformat": 4,
 "nbformat_minor": 5
}
