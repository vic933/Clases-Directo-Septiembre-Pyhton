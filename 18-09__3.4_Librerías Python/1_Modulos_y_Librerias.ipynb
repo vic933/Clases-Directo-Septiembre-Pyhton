{
 "cells": [
  {
   "cell_type": "markdown",
   "metadata": {},
   "source": [
    "# Librerías Python:\n",
    "## ¿ Qué es una librería o módulo?\n",
    "Una librería o módulo en Python es un conjunto de  variables, funciones y clases que se almacenan en archivos a los que podemos acceder e importar en nuestros programas para utilizar ese código sin necesidad de desarrollarlo nosotros.\n",
    "\n",
    "# Librerias:\n",
    "## Internas\n",
    "- functools\n",
    "- Math/ statistics(explicar alias)--> medidas estadístics básicas\n",
    "- Random---> generar datos random para practicar\n",
    "- Collections----> contar aparición de elementos\n",
    "- Datetime---> aquí meto chicha\n",
    "## Externas\n",
    "- Workalendar----> trabajar con datetime a la vez\n",
    "- Numpy(solo instalacion)\n",
    "- Pandas(solo instalacion)\n",
    "\n",
    "### **Ventajas de las librerías:**\n",
    "\n",
    "- **Reutilización de código:** Las librerías nos proporcionan funciones y clases que podemos usar en diferentes proyectos sin necesidad de volver a escribir el código desde cero. Esto ahorra tiempo y esfuerzo en el desarrollo de software.\n",
    "- **Facilidad de desarrollo:** Las librerías encapsulan funcionalidades complejas en funciones simples de usar, lo que facilita la implementación de tareas específicas. Esto permite a los desarrolladores concentrarse en la lógica de negocio de su aplicación en lugar de preocuparse por detalles de implementación.\n",
    "- **Eficiencia y rendimiento:** Las librerías están escritas y optimizadas, lo que mejora el  rendimiento (es más óptimo y eficiente en comparación con implementaciones personalizadas).\n",
    "- **Mantenimiento simplificado:** Al utilizar librerías bien mantenidas y ampliamente utilizadas, nos beneficiamos de actualizaciones regulares, correcciones de errores y mejoras de rendimiento proporcionadas por la comunidad de código abierto.\n",
    "- **Escalabilidad y extensibilidad:** Las librerías nos permiten escalar nuestro código fácilmente agregando nuevas funcionalidades o integrando tecnologías adicionales.\n",
    "- **Documentación y soporte:** Las librerías populares suelen estar bien documentadas, lo que nos facilita su aprendizaje y uso.\n",
    "### **Sintaxis básica**\n",
    "\n",
    "La sintaxis básica de las librerías es sencilla. Vamos a ver dos formas:\n",
    "\n",
    "- Importando la librería al completo: nos permite acceder a todas sus funcionalidades como si fueran métodos.\n",
    "    - Primero importamos la librería usando **`import`**\n",
    "    - Usamos los métodos contenidos con la siguiente sintaxis\n",
    "- Importando la funcionalidad o funcionalidades concretas que vayamos a usar. Recordemos que hay que conocer la librería a través de la documentación para saber que funcionalidades podemos necesitar.\n",
    "    - Primero desde la librería elegida importamos la funcionalidad que queremos usar con la siguiente sintaxis.\n",
    "    - Usamos la funcionalidad sin necesidad de nombrar la librería usando la siguiente sintaxis.\n",
    "\n",
    "```python\n",
    "#1. Importar una librería completa\n",
    "import nombre_libreria\n",
    "#Uso:\n",
    "nombre_libreria.funcionalidad()\n",
    "```\n"
   ]
  },
  {
   "cell_type": "code",
   "execution_count": null,
   "metadata": {},
   "outputs": [],
   "source": [
    "import math\n",
    "raiz = math.sqrt(16)\n",
    "print(raiz) "
   ]
  },
  {
   "cell_type": "markdown",
   "metadata": {},
   "source": [
    "```python\n",
    "#2.Importar con un alias\n",
    "import nombre_libreria as alias\n",
    "#Uso\n",
    "alias.funcionalidad()\n",
    "```"
   ]
  },
  {
   "cell_type": "code",
   "execution_count": null,
   "metadata": {},
   "outputs": [],
   "source": [
    "import pandas as pd\n",
    "df = pd.DataFrame()"
   ]
  },
  {
   "cell_type": "markdown",
   "metadata": {},
   "source": [
    "```python\n",
    "#3. Importar una funcionalidad específica\n",
    "from nombre_libreria import nombre_funcionalidad\n",
    "#Uso:\n",
    "nombre_funcionalidad()\n",
    "```"
   ]
  },
  {
   "cell_type": "code",
   "execution_count": null,
   "metadata": {},
   "outputs": [],
   "source": [
    "from random import randint\n",
    "numero = randint(1, 800)\n",
    "numero"
   ]
  },
  {
   "cell_type": "markdown",
   "metadata": {},
   "source": [
    "```python\n",
    "# 4. Importar múltiples funcionalidades\n",
    "from nombre_libreria import func1, func2\n",
    "```"
   ]
  },
  {
   "cell_type": "code",
   "execution_count": null,
   "metadata": {},
   "outputs": [],
   "source": [
    "from math import sqrt, pi\n",
    "print(sqrt(25), pi)"
   ]
  },
  {
   "cell_type": "markdown",
   "metadata": {},
   "source": [
    "¿ Hemos usado alguna librería a lo largo de las clases? recordamos el reduce que recibe una función y un iterable"
   ]
  },
  {
   "cell_type": "code",
   "execution_count": null,
   "metadata": {},
   "outputs": [],
   "source": [
    "from functools import reduce"
   ]
  },
  {
   "cell_type": "code",
   "execution_count": null,
   "metadata": {},
   "outputs": [],
   "source": [
    "numeros = [2, 3, 4, 5]\n",
    "# Calcula el producto de todos los elementos usando reduce\n",
    "producto_total = reduce(lambda x, y: x * y, numeros, 1)\n",
    "print(\"El producto de todos los elementos es:\", producto_total)"
   ]
  },
  {
   "cell_type": "markdown",
   "metadata": {},
   "source": [
    "# Libreria statistics"
   ]
  },
  {
   "cell_type": "code",
   "execution_count": null,
   "metadata": {},
   "outputs": [],
   "source": [
    "def calcular_media_iterable(iterable_numeros):\n",
    "    return sum(iterable_numeros)/ len(iterable_numeros)"
   ]
  },
  {
   "cell_type": "code",
   "execution_count": null,
   "metadata": {},
   "outputs": [],
   "source": [
    "lista_ingresos_trimestre = [17000, 23000, 60300, 12000]\n",
    "media_ingresos_trimestre = calcular_media_iterable(lista_ingresos_trimestre)\n",
    "media_ingresos_trimestre"
   ]
  },
  {
   "cell_type": "code",
   "execution_count": null,
   "metadata": {},
   "outputs": [],
   "source": [
    "from statistics import mean"
   ]
  },
  {
   "cell_type": "code",
   "execution_count": null,
   "metadata": {},
   "outputs": [],
   "source": [
    "media_ingresos_trimestre2 = mean(lista_ingresos_trimestre)\n",
    "media_ingresos_trimestre2"
   ]
  },
  {
   "cell_type": "code",
   "execution_count": null,
   "metadata": {},
   "outputs": [],
   "source": [
    "import statistics as st"
   ]
  },
  {
   "cell_type": "code",
   "execution_count": null,
   "metadata": {},
   "outputs": [],
   "source": [
    "media_ingresos_trimestre3 = st.mean(lista_ingresos_trimestre)\n",
    "media_ingresos_trimestre3"
   ]
  },
  {
   "cell_type": "code",
   "execution_count": null,
   "metadata": {},
   "outputs": [],
   "source": [
    "mediana_ingresos_trimestre = st.median(lista_ingresos_trimestre)\n",
    "mediana_ingresos_trimestre"
   ]
  },
  {
   "cell_type": "code",
   "execution_count": 19,
   "metadata": {},
   "outputs": [],
   "source": [
    "from datetime import datetime"
   ]
  },
  {
   "cell_type": "code",
   "execution_count": 20,
   "metadata": {},
   "outputs": [
    {
     "data": {
      "text/plain": [
       "datetime.datetime(2023, 5, 11, 0, 0)"
      ]
     },
     "execution_count": 20,
     "metadata": {},
     "output_type": "execute_result"
    }
   ],
   "source": [
    "fechas_str = ['15-1-2023', '03-12-2023', '11-05-2023']\n",
    "fechas_datetime = [datetime.strptime(fecha, '%d-%m-%Y') for fecha in fechas_str]\n",
    "fechas_datetime[2]"
   ]
  },
  {
   "cell_type": "code",
   "execution_count": 21,
   "metadata": {},
   "outputs": [
    {
     "name": "stdout",
     "output_type": "stream",
     "text": [
      "[datetime.datetime(2023, 1, 15, 0, 0), datetime.datetime(2023, 12, 3, 0, 0), datetime.datetime(2023, 5, 11, 0, 0)]\n"
     ]
    }
   ],
   "source": [
    "print(fechas_datetime)"
   ]
  },
  {
   "cell_type": "code",
   "execution_count": 22,
   "metadata": {},
   "outputs": [
    {
     "name": "stdout",
     "output_type": "stream",
     "text": [
      "La fecha más antigua es: 2023-01-15\n"
     ]
    }
   ],
   "source": [
    "fecha_mas_antigua = min(fechas_datetime)\n",
    "print(\"La fecha más antigua es:\", fecha_mas_antigua.strftime('%Y-%m-%d'))"
   ]
  },
  {
   "cell_type": "code",
   "execution_count": 23,
   "metadata": {},
   "outputs": [
    {
     "data": {
      "text/plain": [
       "'03-12-2023'"
      ]
     },
     "execution_count": 23,
     "metadata": {},
     "output_type": "execute_result"
    }
   ],
   "source": [
    "fecha_str_mas_antigua = min(fechas_str)\n",
    "fecha_str_mas_antigua"
   ]
  },
  {
   "cell_type": "code",
   "execution_count": 24,
   "metadata": {},
   "outputs": [
    {
     "data": {
      "text/plain": [
       "datetime.datetime(2023, 5, 11, 0, 0)"
      ]
     },
     "execution_count": 24,
     "metadata": {},
     "output_type": "execute_result"
    }
   ],
   "source": [
    "fecha1 = fechas_datetime[2]\n",
    "fecha1"
   ]
  },
  {
   "cell_type": "code",
   "execution_count": 25,
   "metadata": {},
   "outputs": [
    {
     "data": {
      "text/plain": [
       "datetime.datetime(2023, 12, 3, 0, 0)"
      ]
     },
     "execution_count": 25,
     "metadata": {},
     "output_type": "execute_result"
    }
   ],
   "source": [
    "fecha2 = fechas_datetime[1]\n",
    "fecha2"
   ]
  },
  {
   "cell_type": "code",
   "execution_count": 26,
   "metadata": {},
   "outputs": [
    {
     "data": {
      "text/plain": [
       "datetime.datetime"
      ]
     },
     "execution_count": 26,
     "metadata": {},
     "output_type": "execute_result"
    }
   ],
   "source": [
    "type(fecha2)"
   ]
  },
  {
   "cell_type": "code",
   "execution_count": 29,
   "metadata": {},
   "outputs": [
    {
     "name": "stdout",
     "output_type": "stream",
     "text": [
      "La diferencia entre las fechas seleccionadas es de 206 días\n"
     ]
    }
   ],
   "source": [
    "# Calcula la diferencia en días\n",
    "diferencia_dias = abs((fecha2 - fecha1).days)\n",
    "print(f\"La diferencia entre las fechas seleccionadas es de {diferencia_dias} días\")"
   ]
  },
  {
   "cell_type": "code",
   "execution_count": 30,
   "metadata": {},
   "outputs": [
    {
     "name": "stdout",
     "output_type": "stream",
     "text": [
      "['Sun 15 Jan 2023', 'Sun 03 Dec 2023', 'Thu 11 May 2023']\n"
     ]
    }
   ],
   "source": [
    "fechas_formateadas = [fecha.strftime('%a %d %b %Y') for fecha in fechas_datetime]\n",
    "print(fechas_formateadas)"
   ]
  },
  {
   "cell_type": "code",
   "execution_count": 31,
   "metadata": {},
   "outputs": [],
   "source": [
    "def horas_desde_fecha(fecha_str):\n",
    "    # Convierte la fecha de entrada a un objeto datetime\n",
    "    fecha = datetime.strptime(fecha_str, '%Y-%m-%d %H:%M:%S')\n",
    "    \n",
    "    # Obtiene la fecha y hora actual\n",
    "    ahora = datetime.now()\n",
    "    \n",
    "    # Calcula la diferencia en horas\n",
    "    diferencia_horas = (ahora - fecha).total_seconds() / 3600\n",
    "    diferencia_dias = (ahora - fecha).days\n",
    "    return diferencia_horas, diferencia_dias"
   ]
  },
  {
   "cell_type": "code",
   "execution_count": 34,
   "metadata": {},
   "outputs": [
    {
     "name": "stdout",
     "output_type": "stream",
     "text": [
      "Han pasado 408.01 horas desde 2025-09-01 20:31:00 hasta ahora. En dias son 17\n"
     ]
    }
   ],
   "source": [
    "# Prueba de la función con una fecha específica\n",
    "fecha_ejemplo = '2025-09-01 20:31:00'\n",
    "horas = horas_desde_fecha(fecha_ejemplo)\n",
    "print(f\"Han pasado {horas[0]:.2f} horas desde {fecha_ejemplo} hasta ahora. En dias son {horas[1]}\")\n"
   ]
  },
  {
   "cell_type": "markdown",
   "metadata": {},
   "source": [
    "En caso que no tengas esta libreria ejecuta el comando deste la terminar de visual estudio code (control + ñ)\n",
    "\n",
    "```python\n",
    "pip install workalendar\n",
    "py -m pip install workalendar\n",
    "```\n"
   ]
  },
  {
   "cell_type": "code",
   "execution_count": 35,
   "metadata": {},
   "outputs": [],
   "source": [
    "from workalendar.europe import Spain, Andalusia"
   ]
  },
  {
   "cell_type": "code",
   "execution_count": 38,
   "metadata": {},
   "outputs": [
    {
     "data": {
      "text/plain": [
       "[(datetime.date(2025, 1, 1), 'New year'),\n",
       " (datetime.date(2025, 1, 6), 'Epiphany'),\n",
       " (datetime.date(2025, 4, 18), 'Good Friday'),\n",
       " (datetime.date(2025, 5, 1), 'Día del trabajador'),\n",
       " (datetime.date(2025, 8, 15), 'Assumption of Mary to Heaven'),\n",
       " (datetime.date(2025, 10, 12), 'Fiesta nacional de España'),\n",
       " (datetime.date(2025, 11, 1), 'All Saints Day'),\n",
       " (datetime.date(2025, 12, 6), 'Día de la Constitución Española'),\n",
       " (datetime.date(2025, 12, 8), 'Immaculate Conception'),\n",
       " (datetime.date(2025, 12, 25), 'Christmas Day')]"
      ]
     },
     "execution_count": 38,
     "metadata": {},
     "output_type": "execute_result"
    }
   ],
   "source": [
    "calendario_españa = Spain()\n",
    "calendario_españa.holidays()\n"
   ]
  },
  {
   "cell_type": "code",
   "execution_count": 39,
   "metadata": {},
   "outputs": [
    {
     "data": {
      "text/plain": [
       "[(datetime.date(2025, 1, 1), 'New year'),\n",
       " (datetime.date(2025, 1, 6), 'Epiphany'),\n",
       " (datetime.date(2025, 2, 28), 'Andalusian National Day'),\n",
       " (datetime.date(2025, 4, 17), 'Holy Thursday'),\n",
       " (datetime.date(2025, 4, 18), 'Good Friday'),\n",
       " (datetime.date(2025, 5, 1), 'Día del trabajador'),\n",
       " (datetime.date(2025, 8, 15), 'Assumption of Mary to Heaven'),\n",
       " (datetime.date(2025, 10, 12), 'Fiesta nacional de España'),\n",
       " (datetime.date(2025, 11, 1), 'All Saints Day'),\n",
       " (datetime.date(2025, 12, 6), 'Día de la Constitución Española'),\n",
       " (datetime.date(2025, 12, 8), 'Immaculate Conception'),\n",
       " (datetime.date(2025, 12, 25), 'Christmas Day')]"
      ]
     },
     "execution_count": 39,
     "metadata": {},
     "output_type": "execute_result"
    }
   ],
   "source": [
    "calendario_andalucia = Andalusia()\n",
    "calendario_andalucia.holidays()"
   ]
  },
  {
   "cell_type": "code",
   "execution_count": 40,
   "metadata": {},
   "outputs": [
    {
     "data": {
      "text/plain": [
       "datetime.date(2025, 1, 25)"
      ]
     },
     "execution_count": 40,
     "metadata": {},
     "output_type": "execute_result"
    }
   ],
   "source": [
    "calendario_españa.get_last_weekday_in_month(2025, 1, 5)"
   ]
  },
  {
   "cell_type": "code",
   "execution_count": 41,
   "metadata": {},
   "outputs": [],
   "source": [
    "from datetime import datetime\n",
    "from workalendar.europe import Spain  # Puedes cambiar el país si es necesario\n",
    "\n",
    "def dias_festivos_restantes(fecha_str):\n",
    "    # Convierte la fecha de entrada en un objeto datetime\n",
    "    fecha = datetime.strptime(fecha_str, '%Y-%m-%d').date()    \n",
    "    # Crea una instancia del calendario para el país deseado (en este caso, España)\n",
    "    cal = Spain()    \n",
    "    # Obtiene los días festivos del año de la fecha proporcionada\n",
    "    festivos = cal.holidays(fecha.year)    \n",
    "    # Filtra los festivos que ocurren después de la fecha dada\n",
    "    festivos_restantes = [(nombre, dia) for dia, nombre in festivos if dia >= fecha]    \n",
    "    # Devuelve el número de días festivos restantes y la lista de festivos\n",
    "    return len(festivos_restantes), festivos_restantes\n",
    "\n",
    "\n"
   ]
  },
  {
   "cell_type": "code",
   "execution_count": 43,
   "metadata": {},
   "outputs": [
    {
     "name": "stdout",
     "output_type": "stream",
     "text": [
      "Quedan 5 días festivos en el año a partir de 2025-09-18.\n",
      "Días festivos restantes:\n",
      "Fiesta nacional de España - 2025-10-12\n",
      "All Saints Day - 2025-11-01\n",
      "Día de la Constitución Española - 2025-12-06\n",
      "Immaculate Conception - 2025-12-08\n",
      "Christmas Day - 2025-12-25\n"
     ]
    }
   ],
   "source": [
    "# Prueba de la función con una fecha específica\n",
    "fecha_ejemplo = '2025-09-18'\n",
    "num_dias, lista_festivos = dias_festivos_restantes(fecha_ejemplo)\n",
    "print(f\"Quedan {num_dias} días festivos en el año a partir de {fecha_ejemplo}.\")\n",
    "print(\"Días festivos restantes:\")\n",
    "for nombre, fecha in lista_festivos:\n",
    "    print(f\"{nombre} - {fecha.strftime('%Y-%m-%d')}\")"
   ]
  }
 ],
 "metadata": {
  "kernelspec": {
   "display_name": "Python 3",
   "language": "python",
   "name": "python3"
  },
  "language_info": {
   "codemirror_mode": {
    "name": "ipython",
    "version": 3
   },
   "file_extension": ".py",
   "mimetype": "text/x-python",
   "name": "python",
   "nbconvert_exporter": "python",
   "pygments_lexer": "ipython3",
   "version": "3.12.0"
  }
 },
 "nbformat": 4,
 "nbformat_minor": 2
}
