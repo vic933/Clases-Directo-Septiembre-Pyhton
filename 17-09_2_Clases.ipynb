{
 "cells": [
  {
   "cell_type": "markdown",
   "metadata": {},
   "source": [
    "# CLASES\n",
    "En Python, una clase es una plantilla o blueprint que define un conjunto de atributos (variables) y métodos (funciones) para crear objetos. Las clases permiten organizar el código en una forma estructurada y reutilizable mediante la programación orientada a objetos (POO).\n",
    "\n",
    "#### Su sintaxis sería la siguiente:\n",
    "```Python\n",
    "class NombreDeLaClase:\n",
    "    def __init__(self, atributos):\n",
    "        # Código para inicializar los atributos\n",
    "    \n",
    "    def metodo1(self):\n",
    "        # Código del método 1\n",
    "    \n",
    "    def metodo2(self):\n",
    "        # Código del método 2\n",
    "```\n",
    "* Clase:  Es una plantilla que define las características (atributos) y comportamientos (métodos) de los objetos que se crean a partir de ella.\n",
    "* Objeto: Es una instancia de una clase. Es decir, cuando creas un objeto, estás creando una \"copia\" de la clase, con sus propios atributos y métodos.\n",
    "##### --> Atributos: \n",
    "Son las características o propiedades de los objetos. Se definen dentro de la clase y pueden cambiar de objeto a objeto.\n",
    "##### --> Métodos: \n",
    "Son las acciones o comportamientos que los objetos pueden realizar. Son funciones definidas dentro de la clase.\n",
    "\n",
    "``self:`` Es una referencia al objeto actual. Se usa para acceder a los atributos y métodos de la instancia dentro de la clase.\n",
    "Cómo crear una clase\n",
    "Para definir una clase en Python, usamos la palabra clave class. Dentro de la clase podemos definir los atributos y métodos. Vamos a ver un ejemplo paso a paso.\n",
    "\n",
    "Ejemplo básico:"
   ]
  },
  {
   "cell_type": "code",
   "execution_count": 1,
   "metadata": {},
   "outputs": [],
   "source": [
    "# class: Definición de una clase\n",
    "class Persona:\n",
    "    # __init__ Método inicializador (constructor) de la clase, \n",
    "    # Se ejecuta automáticamente cada vez que se crea un objeto de esta clase. \n",
    "    def __init__(self, nombre, edad):  # nombre y edad son los parámetros\n",
    "        # Los parámetros los asigna a los atributos de la clase\n",
    "        self.nombre = nombre\n",
    "        self.edad = edad\n",
    "\n",
    "    # Método para saludar\n",
    "    def saludar(self):\n",
    "        print(f\"Hola, me llamo {self.nombre} y tengo {self.edad} años.\")\n"
   ]
  },
  {
   "cell_type": "markdown",
   "metadata": {},
   "source": [
    "Explicación:\n",
    "1. Definición de la clase: \n",
    "*   class Persona: define una nueva clase llamada Persona.\n",
    "\n",
    "*   Método __init__: Es el constructor de la clase. Se ejecuta automáticamente cada vez que se crea un objeto de esta clase. \n",
    "    En este caso, recibe nombre y edad como parámetros y los asigna a los atributos self.nombre y self.edad.\n",
    "    \n",
    "*   Método saludar: Es un método que permite a los objetos de la clase Persona saludar usando su nombre y edad.\n",
    "2. Crear objetos (instancias)\n",
    "Una vez que tenemos la clase definida, podemos crear objetos (instancias) de esa clase:"
   ]
  },
  {
   "cell_type": "code",
   "execution_count": 2,
   "metadata": {},
   "outputs": [
    {
     "data": {
      "text/plain": [
       "<__main__.Persona at 0x1f595b44d70>"
      ]
     },
     "execution_count": 2,
     "metadata": {},
     "output_type": "execute_result"
    }
   ],
   "source": [
    "# Crear un objeto de la clase Persona\n",
    "persona1 = Persona(\"Juan\", 30)\n",
    "persona1"
   ]
  },
  {
   "cell_type": "code",
   "execution_count": 3,
   "metadata": {},
   "outputs": [
    {
     "name": "stdout",
     "output_type": "stream",
     "text": [
      "Hola, me llamo Juan y tengo 30 años.\n"
     ]
    }
   ],
   "source": [
    "# Acceder al método saludar del objeto\n",
    "persona1.saludar()"
   ]
  },
  {
   "cell_type": "code",
   "execution_count": 4,
   "metadata": {},
   "outputs": [
    {
     "name": "stdout",
     "output_type": "stream",
     "text": [
      "Hola, me llamo Juan y tengo 30 años.\n"
     ]
    }
   ],
   "source": [
    "# Podemos llamar a la clase (dar los parámetos). llamar al método() todo sin incluirlo en una variable\n",
    "Persona(\"Juan\", 30).saludar() "
   ]
  },
  {
   "cell_type": "code",
   "execution_count": 5,
   "metadata": {},
   "outputs": [
    {
     "name": "stdout",
     "output_type": "stream",
     "text": [
      "Hola, me llamo Ana y tengo 25 años.\n"
     ]
    }
   ],
   "source": [
    "# Crear otro objeto de la clase Persona\n",
    "persona2 = Persona(\"Ana\", 25)\n",
    "persona2.saludar()"
   ]
  },
  {
   "cell_type": "markdown",
   "metadata": {},
   "source": [
    "\n",
    "#### Explicación de objetos:\n",
    "- persona1 = Persona(\"Juan\", 30) crea un objeto llamado persona1 de la clase Persona, pasando \"Juan\" y 30 al constructor (__init__).\n",
    "- persona1.saludar() llama al método saludar() para el objeto persona1, y muestra el saludo personalizado.\n",
    "Del mismo modo, persona2 es otro objeto independiente de la clase Persona.\n",
    "\n",
    "#### Atributos y métodos\n",
    "- Los atributos como nombre y edad se asocian a cada instancia del objeto.\n",
    "- Los métodos como saludar() definen el comportamiento del objeto.\n",
    "\n",
    "\n",
    "En resumen:\n",
    "* Clase: Una plantilla que define las características y comportamientos de los objetos.\n",
    "* Objeto: Una instancia concreta de una clase.\n",
    "* `__init__()`: El constructor que inicializa el objeto cuando se crea.\n",
    "* `self`: Referencia al propio objeto, utilizada dentro de la clase para acceder a los atributos y métodos.\n",
    "\n",
    "Este es un concepto clave en la Programación Orientada a Objetos (POO) en Python, que permite crear código más modular, reutilizable y organizado."
   ]
  },
  {
   "cell_type": "markdown",
   "metadata": {},
   "source": [
    "##### Otro ejemplo\n",
    "En el siguiente ejemplo vamos a generar una clase llamada perro con parametros de nombre, raza y edad\n",
    "dentro de la clase tendrá dos método:\n",
    "* ladrar() que su función consiste en imprimir \"¡Mi perro ladra mucho!\"\n",
    "* comer() que su función consiste en imprimir \"¡Mi perro come mucho!\""
   ]
  },
  {
   "cell_type": "code",
   "execution_count": 6,
   "metadata": {},
   "outputs": [],
   "source": [
    "class Perro:\n",
    "    def __init__(self, nombre, raza, edad):\n",
    "        self.nombre = nombre\n",
    "        self.raza = raza\n",
    "        self.edad = edad\n",
    "    \n",
    "    def ladrar(self):\n",
    "        print(\"¡Mi perro ladra mucho!\")\n",
    "    \n",
    "    def comer(self):\n",
    "        print(\"¡Mi perro come mucho!\")"
   ]
  },
  {
   "cell_type": "code",
   "execution_count": 7,
   "metadata": {},
   "outputs": [
    {
     "name": "stdout",
     "output_type": "stream",
     "text": [
      "Mi perro Nala, su raza Beagle y su edad 9\n"
     ]
    }
   ],
   "source": [
    "# Definimos una variable donde estamos llamando a la clase Perro y le damos los parámetros a la función (Nala, Beagle, 9)\n",
    "mi_perro = Perro(\"Nala\", \"Beagle\", 9)\n",
    "print(f\"Mi perro {mi_perro.nombre}, su raza {mi_perro.raza} y su edad {mi_perro.edad}\")  # Imprime \"Nala\""
   ]
  },
  {
   "cell_type": "code",
   "execution_count": 8,
   "metadata": {},
   "outputs": [
    {
     "name": "stdout",
     "output_type": "stream",
     "text": [
      "¡Mi perro ladra mucho!\n"
     ]
    }
   ],
   "source": [
    "# A la variable antes declarada le pasamos el método ladrad\n",
    "mi_perro.ladrar()  # Imprime \"¡Mi perro ladra mucho!\""
   ]
  },
  {
   "cell_type": "markdown",
   "metadata": {},
   "source": [
    "## Herencia:\n",
    "\n",
    "* Queremos representar un grupo de animales. \n",
    "* Cada animal tiene una especie y puede emitir un sonido. Los perros, como clase específica de animales, tienen un nombre y una raza, y emiten un sonido característico (\"¡Guau!\"). \n",
    "* Además, añadiremos un nuevo tipo de animal: el Gato, que dice \"¡Miau!\".\n",
    "\n"
   ]
  },
  {
   "cell_type": "code",
   "execution_count": 9,
   "metadata": {},
   "outputs": [],
   "source": [
    "# Clase Padre: Animal\n",
    "class Animal:\n",
    "    def __init__(self, especie):\n",
    "        self.especie = especie\n",
    "\n",
    "    def hablar(self):\n",
    "        print(f\"El {self.especie} emite un sonido genérico.\")    \n",
    "\n",
    "\n",
    "# Clase Hija: Perro\n",
    "class Perro(Animal):\n",
    "    def __init__(self, nombre, raza):\n",
    "        super().__init__(\"Perro\")  # Llamar al constructor de la clase padre\n",
    "        self.nombre = nombre\n",
    "        self.raza = raza\n",
    "\n",
    "    def hablar(self):\n",
    "        print(f\"{self.nombre}, un {self.raza}, dice: ¡Guau!\")# si comentamos esta linea hereda la clase hablar, y mostrar el mensaje generico\n",
    "        \n",
    "\n",
    "# Clase Hija: Gato\n",
    "class Gato(Animal):\n",
    "    def __init__(self, nombre, color):\n",
    "        super().__init__(\"Gato\")  # Llamar al constructor de la clase padre\n",
    "        self.nombre = nombre\n",
    "        self.color = color\n",
    "\n",
    "    def hablar(self):\n",
    "        print(f\"{self.nombre}, un gato de color {self.color}, dice: ¡Miau!\")\n",
    "\n"
   ]
  },
  {
   "cell_type": "code",
   "execution_count": 2,
   "metadata": {},
   "outputs": [
    {
     "name": "stdout",
     "output_type": "stream",
     "text": [
      "El Animal emite un sonido genérico.\n"
     ]
    }
   ],
   "source": [
    "# Crear instancias y probar\n",
    "animal_generico = Animal(\"Animal\")\n",
    "animal_generico.hablar()  # El Animal emite un sonido genérico."
   ]
  },
  {
   "cell_type": "code",
   "execution_count": 3,
   "metadata": {},
   "outputs": [
    {
     "name": "stdout",
     "output_type": "stream",
     "text": [
      "Rex, un Pastor Alemán, dice: ¡Guau!\n"
     ]
    }
   ],
   "source": [
    "mi_perro = Perro(\"Rex\", \"Pastor Alemán\")\n",
    "mi_perro.hablar()  # Rex, un Pastor Alemán, dice: ¡Guau!\n",
    "\n"
   ]
  },
  {
   "cell_type": "code",
   "execution_count": null,
   "metadata": {},
   "outputs": [],
   "source": []
  },
  {
   "cell_type": "code",
   "execution_count": 4,
   "metadata": {},
   "outputs": [
    {
     "name": "stdout",
     "output_type": "stream",
     "text": [
      "Luna, un gato de color gris, dice: ¡Miau!\n"
     ]
    }
   ],
   "source": [
    "mi_gato = Gato(\"Luna\", \"gris\")\n",
    "mi_gato.hablar()  # Luna, un gato de color gris, dice: ¡Miau!"
   ]
  },
  {
   "cell_type": "markdown",
   "metadata": {},
   "source": [
    "## Atributos Públicos, Protegidos y Privados en Python\n",
    "\n",
    "En Python, los atributos de clase e instancia pueden clasificarse como públicos, protegidos o privados, dependiendo de cómo se pueden acceder o modificar. Esto ayuda a definir la encapsulación, una de las bases de la Programación Orientada a Objetos."
   ]
  },
  {
   "cell_type": "markdown",
   "metadata": {},
   "source": [
    "## 1. Atributos Públicos:\n",
    "\n",
    "Definición:\n",
    "Son los atributos que se pueden acceder desde cualquier lugar: \n",
    "* dentro de la clase, en clases hijas y desde fuera de la clase.\n",
    "* No tienen ninguna restricción.\n",
    "* Sintaxis: Se definen normalmente, sin ningún prefijo especial.\n",
    "\n",
    "```Python\n",
    "self.atributo_publico = valor\n",
    "```"
   ]
  },
  {
   "cell_type": "code",
   "execution_count": 5,
   "metadata": {},
   "outputs": [],
   "source": [
    "class Persona:\n",
    "    def __init__(self, nombre):\n",
    "        self.nombre = nombre  # Atributo público"
   ]
  },
  {
   "cell_type": "code",
   "execution_count": 6,
   "metadata": {},
   "outputs": [
    {
     "name": "stdout",
     "output_type": "stream",
     "text": [
      "Ana\n"
     ]
    }
   ],
   "source": [
    "# Crear instancia\n",
    "persona = Persona(\"Ana\")\n",
    "print(persona.nombre)  # Acceso directo: Ana"
   ]
  },
  {
   "cell_type": "code",
   "execution_count": 7,
   "metadata": {},
   "outputs": [
    {
     "name": "stdout",
     "output_type": "stream",
     "text": [
      "María\n"
     ]
    }
   ],
   "source": [
    "persona.nombre = \"María\"  # Modificación directa\n",
    "print(persona.nombre)  # María\n"
   ]
  },
  {
   "cell_type": "markdown",
   "metadata": {},
   "source": [
    "## 2. Atributos Protegidos:\n",
    "\n",
    "Definición:\n",
    "* Son los atributos que se recomienda no acceder directamente desde fuera de la clase.\n",
    "* Convención: Se prefijan con un guion bajo (_) para indicar que son protegidos, aunque técnicamente aún se pueden acceder.\n",
    "* Propósito: Sirven para indicar a los desarrolladores que estos atributos están pensados para uso interno de la clase y sus hijas.\n",
    "\n",
    "```Python\n",
    "self._atributo_protegido = valor\n",
    "```"
   ]
  },
  {
   "cell_type": "code",
   "execution_count": 8,
   "metadata": {},
   "outputs": [],
   "source": [
    "class Persona:\n",
    "    def __init__(self, nombre, edad):\n",
    "        self._nombre = nombre  # Atributo protegido\n",
    "        self._edad = edad\n",
    "\n",
    "    def mostrar_info(self):\n",
    "        return f\"Nombre: {self._nombre}, Edad: {self._edad}\""
   ]
  },
  {
   "cell_type": "code",
   "execution_count": 9,
   "metadata": {},
   "outputs": [],
   "source": [
    "# Crear instancia\n",
    "persona = Persona(\"Ana\", 30)"
   ]
  },
  {
   "cell_type": "code",
   "execution_count": 10,
   "metadata": {},
   "outputs": [
    {
     "name": "stdout",
     "output_type": "stream",
     "text": [
      "Nombre: Ana, Edad: 30\n"
     ]
    }
   ],
   "source": [
    "print(persona.mostrar_info())  # Nombre: Ana, Edad: 30"
   ]
  },
  {
   "cell_type": "code",
   "execution_count": 11,
   "metadata": {},
   "outputs": [
    {
     "name": "stdout",
     "output_type": "stream",
     "text": [
      "Ana\n"
     ]
    }
   ],
   "source": [
    "print(persona._nombre)  # Se puede acceder, pero no es recomendable solo uso interno"
   ]
  },
  {
   "cell_type": "markdown",
   "metadata": {},
   "source": [
    "## 3. Atributos Privados\n",
    "\n",
    "Definición:\n",
    "\n",
    "* Son atributos que no se pueden acceder directamente desde fuera de la clase.\n",
    "* Prefijo: Se usan dos guiones bajos (__) al definir el atributo.\n",
    "* Cómo funcionan:Python aplica un proceso llamado name mangling, que modifica internamente el nombre del atributo para hacerlo inaccesible directamente.\n",
    "* Acceso:No se pueden acceder directamente con objeto.__atributo.\n",
    "* Se puede acceder a través de métodos públicos o usando una convención específica (_Clase__atributo).\n",
    "\n",
    "```Python\n",
    "self.__atributo_privado = valor\n",
    "```"
   ]
  },
  {
   "cell_type": "code",
   "execution_count": 12,
   "metadata": {},
   "outputs": [],
   "source": [
    "class Persona:\n",
    "    def __init__(self, nombre, edad):\n",
    "        self.__nombre = nombre  # Atributo privado\n",
    "        self.__edad = edad\n",
    "\n",
    "    def mostrar_info(self):\n",
    "        return f\"Nombre: {self.__nombre}, Edad: {self.__edad}\"\n"
   ]
  },
  {
   "cell_type": "code",
   "execution_count": null,
   "metadata": {},
   "outputs": [],
   "source": [
    "# Crear instancia\n",
    "persona = Persona(\"Ana\", 30)"
   ]
  },
  {
   "cell_type": "code",
   "execution_count": 13,
   "metadata": {},
   "outputs": [
    {
     "name": "stdout",
     "output_type": "stream",
     "text": [
      "Nombre: Ana, Edad: 30\n"
     ]
    }
   ],
   "source": [
    "print(persona.mostrar_info())  # Nombre: Ana, Edad: 30"
   ]
  },
  {
   "cell_type": "code",
   "execution_count": 14,
   "metadata": {},
   "outputs": [
    {
     "ename": "AttributeError",
     "evalue": "'Persona' object has no attribute '__nombre'",
     "output_type": "error",
     "traceback": [
      "\u001b[1;31m---------------------------------------------------------------------------\u001b[0m",
      "\u001b[1;31mAttributeError\u001b[0m                            Traceback (most recent call last)",
      "Cell \u001b[1;32mIn[14], line 1\u001b[0m\n\u001b[1;32m----> 1\u001b[0m \u001b[38;5;28mprint\u001b[39m(\u001b[43mpersona\u001b[49m\u001b[38;5;241;43m.\u001b[39;49m\u001b[43m__nombre\u001b[49m)  \u001b[38;5;66;03m# Error: AttributeError\u001b[39;00m\n",
      "\u001b[1;31mAttributeError\u001b[0m: 'Persona' object has no attribute '__nombre'"
     ]
    }
   ],
   "source": [
    "print(persona.__nombre)  # Error: AttributeError\n"
   ]
  },
  {
   "cell_type": "markdown",
   "metadata": {},
   "source": [
    "## 4. Ejemplo Comparativo: Público, Protegido y Privado\n",
    "\n",
    "Enunciado:Crea una clase CuentaBancaria que tenga:\n",
    "\n",
    "* Un atributo público banco.\n",
    "* Un atributo protegido _balance.\n",
    "* Un atributo privado __numero_cuenta."
   ]
  },
  {
   "cell_type": "code",
   "execution_count": 15,
   "metadata": {},
   "outputs": [],
   "source": [
    "class CuentaBancaria:\n",
    "    def __init__(self, banco, numero_cuenta, balance):\n",
    "        self.banco = banco  # Público\n",
    "        self._balance = balance  # Protegido\n",
    "        self.__numero_cuenta = numero_cuenta  # Privado\n",
    "\n",
    "    def mostrar_info(self):\n",
    "        return f\"Banco: {self.banco}, Balance: {self._balance}\"\n",
    "\n",
    "    def mostrar_numero_cuenta(self):\n",
    "        return f\"Número de cuenta: {self.__numero_cuenta}\""
   ]
  },
  {
   "cell_type": "code",
   "execution_count": 16,
   "metadata": {},
   "outputs": [],
   "source": [
    "# Crear instancia\n",
    "cuenta = CuentaBancaria(\"Banco Central\",\"123456789\",1000)"
   ]
  },
  {
   "cell_type": "markdown",
   "metadata": {},
   "source": [
    "### --> Accedemos al Banco un atributo que debe ser publico:"
   ]
  },
  {
   "cell_type": "code",
   "execution_count": 17,
   "metadata": {},
   "outputs": [
    {
     "name": "stdout",
     "output_type": "stream",
     "text": [
      "Banco Central\n"
     ]
    }
   ],
   "source": [
    "# Atributo público: Acceso directo\n",
    "print(cuenta.banco)  # Banco Central\n",
    "\n"
   ]
  },
  {
   "cell_type": "markdown",
   "metadata": {},
   "source": [
    "### --> Accedemos al Balance un atributo que solo debe poder ver el usuario o personas autorizadas:"
   ]
  },
  {
   "cell_type": "code",
   "execution_count": 18,
   "metadata": {},
   "outputs": [
    {
     "name": "stdout",
     "output_type": "stream",
     "text": [
      "1000\n"
     ]
    }
   ],
   "source": [
    "# Atributo protegido: Acceso permitido pero no recomendado\n",
    "print(cuenta._balance)  # 1000\n",
    "\n"
   ]
  },
  {
   "cell_type": "markdown",
   "metadata": {},
   "source": [
    "### --> Accedemos al numero de cuenta, que es privado, por lo cual deberiamos acceder solo por un metodo no de forma directa, y cuyo metoso debe sor conocido por usuarios o personas autorizadas:"
   ]
  },
  {
   "cell_type": "code",
   "execution_count": 19,
   "metadata": {},
   "outputs": [
    {
     "name": "stdout",
     "output_type": "stream",
     "text": [
      "Número de cuenta: 123456789\n"
     ]
    }
   ],
   "source": [
    "# Atributo privado: Acceso solo mediante método público\n",
    "print(cuenta.mostrar_numero_cuenta())\n",
    "\n"
   ]
  },
  {
   "cell_type": "markdown",
   "metadata": {},
   "source": [
    "### --> Si intentamos acceder al numero de cuenta de manera directa nos arroja un Error:"
   ]
  },
  {
   "cell_type": "code",
   "execution_count": 20,
   "metadata": {},
   "outputs": [
    {
     "ename": "AttributeError",
     "evalue": "'CuentaBancaria' object has no attribute '__numero_cuenta'",
     "output_type": "error",
     "traceback": [
      "\u001b[1;31m---------------------------------------------------------------------------\u001b[0m",
      "\u001b[1;31mAttributeError\u001b[0m                            Traceback (most recent call last)",
      "Cell \u001b[1;32mIn[20], line 2\u001b[0m\n\u001b[0;32m      1\u001b[0m \u001b[38;5;66;03m# Acceso directo al atributo privado genera error\u001b[39;00m\n\u001b[1;32m----> 2\u001b[0m \u001b[38;5;28mprint\u001b[39m(\u001b[43mcuenta\u001b[49m\u001b[38;5;241;43m.\u001b[39;49m\u001b[43m__numero_cuenta\u001b[49m)  \n",
      "\u001b[1;31mAttributeError\u001b[0m: 'CuentaBancaria' object has no attribute '__numero_cuenta'"
     ]
    }
   ],
   "source": [
    "# Acceso directo al atributo privado genera error\n",
    "print(cuenta.__numero_cuenta)  "
   ]
  }
 ],
 "metadata": {
  "kernelspec": {
   "display_name": "Python 3",
   "language": "python",
   "name": "python3"
  },
  "language_info": {
   "codemirror_mode": {
    "name": "ipython",
    "version": 3
   },
   "file_extension": ".py",
   "mimetype": "text/x-python",
   "name": "python",
   "nbconvert_exporter": "python",
   "pygments_lexer": "ipython3",
   "version": "3.13.1"
  }
 },
 "nbformat": 4,
 "nbformat_minor": 2
}
